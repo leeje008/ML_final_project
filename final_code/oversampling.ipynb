{
 "cells": [
  {
   "cell_type": "markdown",
   "metadata": {},
   "source": [
    "# modeling"
   ]
  },
  {
   "cell_type": "code",
   "execution_count": 1,
   "metadata": {},
   "outputs": [
    {
     "name": "stderr",
     "output_type": "stream",
     "text": [
      "C:\\ProgramData\\Anaconda3\\lib\\site-packages\\pandas\\compat\\_optional.py:138: UserWarning: Pandas requires version '2.7.0' or newer of 'numexpr' (version '2.6.9' currently installed).\n",
      "  warnings.warn(msg, UserWarning)\n",
      "C:\\ProgramData\\Anaconda3\\lib\\site-packages\\sklearn\\utils\\deprecation.py:144: FutureWarning: The sklearn.neighbors.base module is  deprecated in version 0.22 and will be removed in version 0.24. The corresponding classes / functions should instead be imported from sklearn.neighbors. Anything that cannot be imported from sklearn.neighbors is now part of the private API.\n",
      "  warnings.warn(message, FutureWarning)\n",
      "C:\\ProgramData\\Anaconda3\\lib\\site-packages\\sklearn\\utils\\deprecation.py:144: FutureWarning: The sklearn.ensemble.bagging module is  deprecated in version 0.22 and will be removed in version 0.24. The corresponding classes / functions should instead be imported from sklearn.ensemble. Anything that cannot be imported from sklearn.ensemble is now part of the private API.\n",
      "  warnings.warn(message, FutureWarning)\n",
      "C:\\ProgramData\\Anaconda3\\lib\\site-packages\\sklearn\\utils\\deprecation.py:144: FutureWarning: The sklearn.ensemble.base module is  deprecated in version 0.22 and will be removed in version 0.24. The corresponding classes / functions should instead be imported from sklearn.ensemble. Anything that cannot be imported from sklearn.ensemble is now part of the private API.\n",
      "  warnings.warn(message, FutureWarning)\n",
      "C:\\ProgramData\\Anaconda3\\lib\\site-packages\\sklearn\\utils\\deprecation.py:144: FutureWarning: The sklearn.ensemble.forest module is  deprecated in version 0.22 and will be removed in version 0.24. The corresponding classes / functions should instead be imported from sklearn.ensemble. Anything that cannot be imported from sklearn.ensemble is now part of the private API.\n",
      "  warnings.warn(message, FutureWarning)\n",
      "Using TensorFlow backend.\n",
      "C:\\ProgramData\\Anaconda3\\lib\\site-packages\\sklearn\\utils\\deprecation.py:144: FutureWarning: The sklearn.utils.testing module is  deprecated in version 0.22 and will be removed in version 0.24. The corresponding classes / functions should instead be imported from sklearn.utils. Anything that cannot be imported from sklearn.utils is now part of the private API.\n",
      "  warnings.warn(message, FutureWarning)\n",
      "C:\\ProgramData\\Anaconda3\\lib\\site-packages\\sklearn\\utils\\deprecation.py:144: FutureWarning: The sklearn.metrics.classification module is  deprecated in version 0.22 and will be removed in version 0.24. The corresponding classes / functions should instead be imported from sklearn.metrics. Anything that cannot be imported from sklearn.metrics is now part of the private API.\n",
      "  warnings.warn(message, FutureWarning)\n"
     ]
    }
   ],
   "source": [
    "import numpy as np\n",
    "import pandas as pd\n",
    "from pandas import DataFrame as df \n",
    "from sklearn.model_selection import train_test_split\n",
    "from sklearn import svm\n",
    "from sklearn.model_selection import KFold\n",
    "from sklearn.model_selection import StratifiedKFold\n",
    "from sklearn.metrics import fbeta_score, make_scorer\n",
    "from sklearn.metrics import roc_auc_score \n",
    "from sklearn.metrics import roc_curve\n",
    "from sklearn.linear_model import LogisticRegression\n",
    "from sklearn.metrics import  confusion_matrix,recall_score,precision_score,accuracy_score\n",
    "from sklearn.utils import resample\n",
    "from sklearn.feature_selection import SelectFromModel \n",
    "from sklearn.model_selection import GridSearchCV \n",
    "from sklearn.naive_bayes import GaussianNB\n",
    "from sklearn.tree import DecisionTreeClassifier\n",
    "from sklearn.ensemble import RandomForestClassifier  \n",
    "\n",
    "from imblearn.over_sampling import SMOTE\n",
    "\n",
    "from sklearn.linear_model import LogisticRegression\n",
    "from sklearn.model_selection import train_test_split\n",
    "from sklearn.metrics import classification_report\n",
    "\n",
    "\n",
    "from imblearn.over_sampling import SVMSMOTE\n",
    "from imblearn.over_sampling import ADASYN\n",
    "import time\n",
    "from imblearn.metrics import geometric_mean_score\n",
    "\n",
    "import warnings\n",
    "warnings.filterwarnings(action='ignore')"
   ]
  },
  {
   "cell_type": "code",
   "execution_count": 2,
   "metadata": {},
   "outputs": [],
   "source": [
    "def get_clf_eval(y_test,pred):\n",
    "    confusion = confusion_matrix(y_test, pred)\n",
    "    accuracy = accuracy_score(y_test, pred)\n",
    "    precision = precision_score(y_test, pred)\n",
    "    recall = recall_score(y_test, pred)\n",
    "    roc = roc_auc_score(y_test, pred)\n",
    "    g_mean = geometric_mean_score(y_test, pred)\n",
    "    print('오차행렬')\n",
    "    print(confusion)\n",
    "    print('정확도: {0:4f}, 정밀도 {1:4f}, 재현율 {2:4f}, AUC {3:4f},G_MEAN {4:4f}'.format(accuracy , precision , recall,roc,g_mean))\n",
    "    \n",
    "\n",
    "def get_model_train_eval(model,ftr_train = None, ftr_test = None, tgt_train = None, tgt_test = None):\n",
    "    model.fit(ftr_train, tgt_train)\n",
    "    pred = model.predict(ftr_test)\n",
    "    get_clf_eval(tgt_test, pred)"
   ]
  },
  {
   "cell_type": "code",
   "execution_count": 3,
   "metadata": {},
   "outputs": [],
   "source": [
    "df =pd.read_csv('C:/Users/koyounghun/Desktop/찌르레기/Loan_data/Loan_train.csv')\n",
    "df = df.drop('Id',axis = 1)\n",
    "\n",
    "\n",
    "from sklearn.preprocessing import LabelEncoder\n",
    "\n",
    "labelEncoder = LabelEncoder()\n",
    "\n",
    "data = df\n",
    "\n",
    "\n",
    "for e in data.columns:\n",
    "    if data[e].dtype == 'object':\n",
    "        labelEncoder.fit(list(data[e].values))\n",
    "        data[e] = labelEncoder.transform(data[e].values)\n",
    "        \n",
    "        # Accommodate the data that has been changed\n",
    "        df = data\n",
    "        \n",
    "y = df.Risk_Flag\n",
    "X = df.drop('Risk_Flag', axis=1)"
   ]
  },
  {
   "cell_type": "code",
   "execution_count": 5,
   "metadata": {},
   "outputs": [],
   "source": [
    "X_train, X_test, y_train, y_test = train_test_split(X, y, test_size=0.3, random_state=101)"
   ]
  },
  {
   "cell_type": "markdown",
   "metadata": {},
   "source": [
    "# smote"
   ]
  },
  {
   "cell_type": "code",
   "execution_count": 6,
   "metadata": {},
   "outputs": [
    {
     "name": "stdout",
     "output_type": "stream",
     "text": [
      "1.10499 sec\n"
     ]
    }
   ],
   "source": [
    "start = time.time()\n",
    "\n",
    "\n",
    "smote = SMOTE(random_state = 101)\n",
    "\n",
    "X_smote, y_smote = smote.fit_resample(X_train, y_train)\n",
    "end = time.time()\n",
    "\n",
    "print(f\"{end - start:.5f} sec\")"
   ]
  },
  {
   "cell_type": "markdown",
   "metadata": {},
   "source": [
    "a , b = X_smote, y_smote\n",
    "a = pd.DataFrame(a)\n",
    "b = pd.DataFrame(b)\n",
    "\n",
    "a.to_csv('C:/Users/koyounghun/Desktop/찌르레기/Loan_data/x_smote.csv')\n",
    "b.to_csv('C:/Users/koyounghun/Desktop/찌르레기/Loan_data/y_smote.csv')"
   ]
  },
  {
   "cell_type": "markdown",
   "metadata": {},
   "source": [
    "# ADASYN"
   ]
  },
  {
   "cell_type": "code",
   "execution_count": 7,
   "metadata": {},
   "outputs": [
    {
     "name": "stdout",
     "output_type": "stream",
     "text": [
      "3.30800 sec\n"
     ]
    }
   ],
   "source": [
    "start = time.time()\n",
    "\n",
    "adasyn = ADASYN(random_state = 101)\n",
    "\n",
    "X_over_ada, y_over_ada = adasyn.fit_resample(X_train, y_train)\n",
    "\n",
    "\n",
    "end = time.time()\n",
    "\n",
    "\n",
    "print(f\"{end - start:.5f} sec\")"
   ]
  },
  {
   "cell_type": "markdown",
   "metadata": {},
   "source": [
    "a , b = X_over_ada, y_over_ada\n",
    "\n",
    "\n",
    "a = pd.DataFrame(a)\n",
    "b = pd.DataFrame(b)\n",
    "\n",
    "a.to_csv('C:/Users/koyounghun/Desktop/찌르레기/Loan_data/x_adasyn.csv')\n",
    "b.to_csv('C:/Users/koyounghun/Desktop/찌르레기/Loan_data/y_adasyn.csv')"
   ]
  },
  {
   "cell_type": "markdown",
   "metadata": {},
   "source": [
    "# distribution smote generate using colab enviroment"
   ]
  },
  {
   "cell_type": "markdown",
   "metadata": {},
   "source": [
    "# modeling with random over sampling\n",
    "# logit"
   ]
  },
  {
   "cell_type": "code",
   "execution_count": 115,
   "metadata": {},
   "outputs": [
    {
     "name": "stdout",
     "output_type": "stream",
     "text": [
      "오차행렬\n",
      "[[39758 26534]\n",
      " [ 5281  4027]]\n",
      "정확도: 0.579167, 정밀도 0.131769, 재현율 0.432639, AUC 0.516190,G_MEAN 0.509383\n",
      "2.58000 sec\n"
     ]
    }
   ],
   "source": [
    "from sklearn.linear_model import LogisticRegression\n",
    "\n",
    "start = time.time()\n",
    "\n",
    "lr_clf = LogisticRegression()\n",
    "get_model_train_eval(lr_clf , ftr_train = X_ros, ftr_test = X_test, tgt_train = y_ros, tgt_test = y_val )\n",
    "\n",
    "end = time.time()\n",
    "\n",
    "\n",
    "print(f\"{end - start:.5f} sec\")"
   ]
  },
  {
   "cell_type": "markdown",
   "metadata": {},
   "source": [
    "# Decision Tree"
   ]
  },
  {
   "cell_type": "code",
   "execution_count": 114,
   "metadata": {},
   "outputs": [
    {
     "name": "stdout",
     "output_type": "stream",
     "text": [
      "오차행렬\n",
      "[[58854  7438]\n",
      " [ 1732  7576]]\n",
      "정확도: 0.878704, 정밀도 0.504596, 재현율 0.813924, AUC 0.850861,G_MEAN 0.850059\n",
      "141.32800 sec\n"
     ]
    }
   ],
   "source": [
    "start = time.time()\n",
    "\n",
    "tree = DecisionTreeClassifier()\n",
    "\n",
    "\n",
    "get_model_train_eval(tree , ftr_train = X_ros, ftr_test = X_val, tgt_train = y_ros, tgt_test = y_val )\n",
    "\n",
    "\n",
    "end = time.time()\n",
    "\n",
    "\n",
    "print(f\"{end - start:.5f} sec\")"
   ]
  },
  {
   "cell_type": "markdown",
   "metadata": {},
   "source": [
    "# random forest"
   ]
  },
  {
   "cell_type": "code",
   "execution_count": 116,
   "metadata": {},
   "outputs": [
    {
     "name": "stdout",
     "output_type": "stream",
     "text": [
      "오차행렬\n",
      "[[60459  5833]\n",
      " [ 2120  7188]]\n",
      "정확도: 0.894802, 정밀도 0.552031, 재현율 0.772239, AUC 0.842125,G_MEAN 0.839220\n",
      "32.81000 sec\n"
     ]
    }
   ],
   "source": [
    "start = time.time()\n",
    "\n",
    "rlf =RandomForestClassifier(n_estimators=100, \n",
    "                               random_state=101, \n",
    "                               min_samples_leaf=2, \n",
    "                               criterion='entropy',\n",
    "                           n_jobs = -1)\n",
    "\n",
    "get_model_train_eval(rlf , ftr_train = X_ros, ftr_test = X_val, tgt_train = y_ros, tgt_test = y_val)\n",
    "\n",
    "end = time.time()\n",
    "\n",
    "\n",
    "print(f\"{end - start:.5f} sec\")"
   ]
  },
  {
   "cell_type": "markdown",
   "metadata": {},
   "source": [
    "# XGB"
   ]
  },
  {
   "cell_type": "code",
   "execution_count": 122,
   "metadata": {},
   "outputs": [
    {
     "name": "stdout",
     "output_type": "stream",
     "text": [
      "오차행렬\n",
      "[[51655 14637]\n",
      " [ 2220  7088]]\n",
      "정확도: 0.777024, 정밀도 0.326260, 재현율 0.761495, AUC 0.770350,G_MEAN 0.770299\n",
      "263.78959 sec\n"
     ]
    }
   ],
   "source": [
    "from xgboost import XGBClassifier\n",
    "\n",
    "start = time.time()\n",
    "\n",
    "xgb = XGBClassifier(learning_rate=0.1,\n",
    "                    n_estimators=1000,\n",
    "                    use_label_encoder=False,\n",
    "                    random_state=2021)\n",
    "\n",
    "get_model_train_eval(xgb , ftr_train = X_ros, ftr_test = X_val.values, tgt_train = y_ros, tgt_test = y_val.values )\n",
    "\n",
    "end = time.time()\n",
    "\n",
    "print(f\"{end - start:.5f} sec\")"
   ]
  },
  {
   "cell_type": "markdown",
   "metadata": {},
   "source": [
    "# LGB"
   ]
  },
  {
   "cell_type": "code",
   "execution_count": 117,
   "metadata": {},
   "outputs": [
    {
     "name": "stdout",
     "output_type": "stream",
     "text": [
      "오차행렬\n",
      "[[58268  8024]\n",
      " [ 1775  7533]]\n",
      "정확도: 0.870384, 정밀도 0.484219, 재현율 0.809304, AUC 0.844132,G_MEAN 0.843413\n",
      "The time of execution of above program is : 12.880002737045288\n"
     ]
    }
   ],
   "source": [
    "import lightgbm as lgb\n",
    "from lightgbm import LGBMClassifier\n",
    "\n",
    "start = time.time()\n",
    "\n",
    "lgb = LGBMClassifier(n_estimators= 400)\n",
    "get_model_train_eval(lgb , ftr_train = X_ros, ftr_test = X_val, tgt_train = y_ros, tgt_test = y_val )\n",
    "\n",
    "\n",
    "end = time.time()\n",
    "\n",
    "print(f\"{end - start:.5f} sec\")"
   ]
  },
  {
   "cell_type": "markdown",
   "metadata": {},
   "source": [
    "# LDA"
   ]
  },
  {
   "cell_type": "code",
   "execution_count": 118,
   "metadata": {},
   "outputs": [
    {
     "name": "stdout",
     "output_type": "stream",
     "text": [
      "오차행렬\n",
      "[[33796 32496]\n",
      " [ 4259  5049]]\n",
      "정확도: 0.513823, 정밀도 0.134479, 재현율 0.542437, AUC 0.526121,G_MEAN 0.525868\n",
      "time : 0.8100001811981201\n"
     ]
    }
   ],
   "source": [
    "from sklearn.discriminant_analysis import LinearDiscriminantAnalysis\n",
    "import time\n",
    "\n",
    "start = time.time()\n",
    "\n",
    "lda = LinearDiscriminantAnalysis()\n",
    "get_model_train_eval(lda , ftr_train = X_smote, ftr_test = X_val, tgt_train = y_smote, tgt_test = y_val )\n",
    "\n",
    "\n",
    "end = time.time()\n",
    "\n",
    "print(f\"{end - start:.5f} sec\")"
   ]
  },
  {
   "cell_type": "markdown",
   "metadata": {},
   "source": [
    "# QDA"
   ]
  },
  {
   "cell_type": "code",
   "execution_count": 119,
   "metadata": {},
   "outputs": [
    {
     "name": "stdout",
     "output_type": "stream",
     "text": [
      "오차행렬\n",
      "[[29605 36687]\n",
      " [ 3409  5899]]\n",
      "정확도: 0.469630, 정밀도 0.138520, 재현율 0.633756, AUC 0.540170,G_MEAN 0.532002\n",
      "time : 0.3469994068145752\n"
     ]
    }
   ],
   "source": [
    "from sklearn.discriminant_analysis import QuadraticDiscriminantAnalysis\n",
    "\n",
    "start = time.time()\n",
    "\n",
    "qda = QuadraticDiscriminantAnalysis()\n",
    "get_model_train_eval(qda , ftr_train = X_smote, ftr_test = X_val, tgt_train = y_smote, tgt_test = y_val )\n",
    "\n",
    "end = time.time()\n",
    "\n",
    "print(f\"{end - start:.5f} sec\")"
   ]
  },
  {
   "cell_type": "markdown",
   "metadata": {},
   "source": [
    "# MLP"
   ]
  },
  {
   "cell_type": "code",
   "execution_count": 120,
   "metadata": {},
   "outputs": [
    {
     "name": "stdout",
     "output_type": "stream",
     "text": [
      "오차행렬\n",
      "[[66292     0]\n",
      " [ 9308     0]]\n",
      "정확도: 0.876878, 정밀도 0.000000, 재현율 0.000000, AUC 0.500000,G_MEAN 0.000000\n",
      "time : 710.8001878261566\n"
     ]
    }
   ],
   "source": [
    "from sklearn.neural_network import MLPClassifier\n",
    "\n",
    "start = time.time()\n",
    "\n",
    "nn = MLPClassifier()\n",
    "get_model_train_eval(nn , ftr_train = X_smote, ftr_test = X_val, tgt_train = y_smote, tgt_test = y_val )\n",
    "\n",
    "\n",
    "end = time.time()\n",
    "\n",
    "print(f\"{end - start:.5f} sec\")"
   ]
  },
  {
   "cell_type": "markdown",
   "metadata": {},
   "source": [
    "# SVM"
   ]
  },
  {
   "cell_type": "code",
   "execution_count": null,
   "metadata": {},
   "outputs": [],
   "source": [
    "from sklearn import svm\n",
    "\n",
    "start = time.time()\n",
    "\n",
    "svm = svm.SVC()\n",
    "\n",
    "get_model_train_eval(svm , ftr_train = X_ros, ftr_test = X_val, tgt_train = y_ros, tgt_test = y_val )\n",
    "\n",
    "end = time.time()\n",
    "\n",
    "print(f\"{end - start:.5f} sec\")"
   ]
  },
  {
   "cell_type": "markdown",
   "metadata": {},
   "source": [
    "# KNN"
   ]
  },
  {
   "cell_type": "code",
   "execution_count": null,
   "metadata": {},
   "outputs": [],
   "source": [
    "from sklearn.neighbors import KNeighborsClassifier\n",
    "\n",
    "knn = KNeighborsClassifier(n_neighbors = 3)\n",
    "\n",
    "start = time.time()\n",
    "\n",
    "\n",
    "\n",
    "get_model_train_eval(knn , ftr_train = X_ros, ftr_test = X_val, tgt_train = y_ros, tgt_test = y_val )\n",
    "\n",
    "end = time.time()\n",
    "\n",
    "print(f\"{end - start:.5f} sec\")\n"
   ]
  },
  {
   "cell_type": "markdown",
   "metadata": {},
   "source": [
    "# modeling with no oversampling"
   ]
  },
  {
   "cell_type": "code",
   "execution_count": null,
   "metadata": {},
   "outputs": [],
   "source": [
    "start = time.time()\n",
    "\n",
    "print('logit')\n",
    "\n",
    "get_model_train_eval(lr_clf , ftr_train = X_train, ftr_test = X_val, tgt_train = y_train, tgt_test = y_val )\n",
    "\n",
    "end = time.time()\n",
    "\n",
    "\n",
    "start = time.time()\n",
    "\n",
    "print('decision tree')\n",
    "\n",
    "get_model_train_eval(tree , ftr_train = X_train, ftr_test = X_val, tgt_train = y_train, tgt_test = y_val )\n",
    "\n",
    "end = time.time()\n",
    "\n",
    "start = time.time()\n",
    "\n",
    "print('random forest')\n",
    "\n",
    "\n",
    "get_model_train_eval(rlf , ftr_train = X_train, ftr_test = X_val, tgt_train = y_train, tgt_test = y_val )\n",
    "\n",
    "end = time.time()\n",
    "\n"
   ]
  },
  {
   "cell_type": "code",
   "execution_count": null,
   "metadata": {},
   "outputs": [],
   "source": [
    "start = time.time()\n",
    "\n",
    "print('xgb')\n",
    "\n",
    "get_model_train_eval(xgb , ftr_train = X_train, ftr_test = X_val, tgt_train = y_train, tgt_test = y_val )\n",
    "\n",
    "end = time.time()\n",
    "\n",
    "\n",
    "start = time.time()\n",
    "\n",
    "print('lgb')\n",
    "\n",
    "get_model_train_eval(lgb , ftr_train = X_train, ftr_test = X_val, tgt_train = y_train, tgt_test = y_val )\n",
    "\n",
    "end = time.time()\n",
    "\n",
    "start = time.time()\n",
    "\n",
    "print('lda')\n",
    "\n",
    "\n",
    "get_model_train_eval(lda , ftr_train = X_train, ftr_test = X_val, tgt_train = y_train, tgt_test = y_val )\n",
    "\n",
    "end = time.time()"
   ]
  },
  {
   "cell_type": "code",
   "execution_count": null,
   "metadata": {},
   "outputs": [],
   "source": [
    "start = time.time()\n",
    "\n",
    "print('qda')\n",
    "\n",
    "get_model_train_eval(qda , ftr_train = X_train, ftr_test = X_val, tgt_train = y_train, tgt_test = y_val )\n",
    "\n",
    "end = time.time()\n",
    "\n",
    "\n",
    "start = time.time()\n",
    "\n",
    "print('nn')\n",
    "\n",
    "get_model_train_eval(nn , ftr_train = X_train, ftr_test = X_val, tgt_train = y_train, tgt_test = y_val )\n",
    "\n",
    "end = time.time()\n",
    "\n",
    "start = time.time()\n",
    "\n",
    "print('svm')\n",
    "\n",
    "\n",
    "get_model_train_eval(svm , ftr_train = X_train, ftr_test = X_val, tgt_train = y_train, tgt_test = y_val )\n",
    "\n",
    "end = time.time()\n",
    "\n",
    "\n",
    "start = time.time()\n",
    "\n",
    "print('knn')\n",
    "\n",
    "\n",
    "get_model_train_eval(knn , ftr_train = X_train, ftr_test = X_val, tgt_train = y_train, tgt_test = y_val )\n",
    "\n",
    "end = time.time()"
   ]
  },
  {
   "cell_type": "markdown",
   "metadata": {},
   "source": [
    "# modeling with adasyn"
   ]
  },
  {
   "cell_type": "code",
   "execution_count": null,
   "metadata": {},
   "outputs": [],
   "source": [
    "start = time.time()\n",
    "\n",
    "print('logit')\n",
    "\n",
    "get_model_train_eval(lr_clf , ftr_train = X_train, ftr_test = X_val, tgt_train = y_train, tgt_test = y_val )\n",
    "\n",
    "end = time.time()\n",
    "\n",
    "\n",
    "start = time.time()\n",
    "\n",
    "print('decision tree')\n",
    "\n",
    "get_model_train_eval(tree , ftr_train = X_train, ftr_test = X_val, tgt_train = y_train, tgt_test = y_val )\n",
    "\n",
    "end = time.time()\n",
    "\n",
    "start = time.time()\n",
    "\n",
    "print('random forest')\n",
    "\n",
    "\n",
    "get_model_train_eval(rlf , ftr_train = X_train, ftr_test = X_val, tgt_train = y_train, tgt_test = y_val )\n",
    "\n",
    "end = time.time()\n",
    "\n"
   ]
  },
  {
   "cell_type": "code",
   "execution_count": null,
   "metadata": {},
   "outputs": [],
   "source": [
    "start = time.time()\n",
    "\n",
    "print('xgb')\n",
    "\n",
    "get_model_train_eval(xgb , ftr_train = X_train, ftr_test = X_val, tgt_train = y_train, tgt_test = y_val )\n",
    "\n",
    "end = time.time()\n",
    "\n",
    "\n",
    "start = time.time()\n",
    "\n",
    "print('lgb')\n",
    "\n",
    "get_model_train_eval(lgb , ftr_train = X_train, ftr_test = X_val, tgt_train = y_train, tgt_test = y_val )\n",
    "\n",
    "end = time.time()\n",
    "\n",
    "start = time.time()\n",
    "\n",
    "print('lda')\n",
    "\n",
    "\n",
    "get_model_train_eval(lda , ftr_train = X_train, ftr_test = X_val, tgt_train = y_train, tgt_test = y_val )\n",
    "\n",
    "end = time.time()"
   ]
  },
  {
   "cell_type": "code",
   "execution_count": null,
   "metadata": {},
   "outputs": [],
   "source": [
    "start = time.time()\n",
    "\n",
    "print('qda')\n",
    "\n",
    "get_model_train_eval(qda , ftr_train = X_train, ftr_test = X_val, tgt_train = y_train, tgt_test = y_val )\n",
    "\n",
    "end = time.time()\n",
    "\n",
    "\n",
    "start = time.time()\n",
    "\n",
    "print('nn')\n",
    "\n",
    "get_model_train_eval(nn , ftr_train = X_train, ftr_test = X_val, tgt_train = y_train, tgt_test = y_val )\n",
    "\n",
    "end = time.time()\n",
    "\n",
    "start = time.time()\n",
    "\n",
    "print('svm')\n",
    "\n",
    "\n",
    "get_model_train_eval(svm , ftr_train = X_train, ftr_test = X_val, tgt_train = y_train, tgt_test = y_val )\n",
    "\n",
    "end = time.time()\n",
    "\n",
    "\n",
    "start = time.time()\n",
    "\n",
    "print('knn')\n",
    "\n",
    "\n",
    "get_model_train_eval(knn , ftr_train = X_train, ftr_test = X_val, tgt_train = y_train, tgt_test = y_val )\n",
    "\n",
    "end = time.time()"
   ]
  }
 ],
 "metadata": {
  "kernelspec": {
   "display_name": "Python 3",
   "language": "python",
   "name": "python3"
  },
  "language_info": {
   "codemirror_mode": {
    "name": "ipython",
    "version": 3
   },
   "file_extension": ".py",
   "mimetype": "text/x-python",
   "name": "python",
   "nbconvert_exporter": "python",
   "pygments_lexer": "ipython3",
   "version": "3.7.3"
  }
 },
 "nbformat": 4,
 "nbformat_minor": 2
}
