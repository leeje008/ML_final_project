{
  "nbformat": 4,
  "nbformat_minor": 0,
  "metadata": {
    "colab": {
      "name": "Tunning.ipynb",
      "provenance": [],
      "authorship_tag": "ABX9TyPul6J+jL6tWzVf/HPVcOiz",
      "include_colab_link": true
    },
    "kernelspec": {
      "name": "python3",
      "display_name": "Python 3"
    },
    "language_info": {
      "name": "python"
    },
    "accelerator": "GPU"
  },
  "cells": [
    {
      "cell_type": "markdown",
      "metadata": {
        "id": "view-in-github",
        "colab_type": "text"
      },
      "source": [
        "<a href=\"https://colab.research.google.com/github/leeje008/ML_final_project/blob/main/Tunning.ipynb\" target=\"_parent\"><img src=\"https://colab.research.google.com/assets/colab-badge.svg\" alt=\"Open In Colab\"/></a>"
      ]
    },
    {
      "cell_type": "code",
      "metadata": {
        "colab": {
          "base_uri": "https://localhost:8080/"
        },
        "id": "GxG8f5YSe3kF",
        "outputId": "bd633a1a-a3a4-4d92-e5ce-a08f573f7689"
      },
      "source": [
        "from google.colab import drive\n",
        "drive.mount('/content/drive')"
      ],
      "execution_count": 2,
      "outputs": [
        {
          "output_type": "stream",
          "name": "stdout",
          "text": [
            "Mounted at /content/drive\n"
          ]
        }
      ]
    },
    {
      "cell_type": "markdown",
      "metadata": {
        "id": "JylcQiZYfGBy"
      },
      "source": [
        ""
      ]
    },
    {
      "cell_type": "code",
      "metadata": {
        "id": "5Rln1Roee6pK"
      },
      "source": [
        "import time\n",
        "import numpy as np\n",
        "import pandas as pd\n",
        "from sklearn.model_selection import train_test_split\n",
        "from sklearn.model_selection import KFold\n",
        "from sklearn.model_selection import StratifiedKFold\n",
        "from sklearn.model_selection import GridSearchCV \n",
        "from sklearn.metrics import  confusion_matrix,recall_score,precision_score,accuracy_score\n",
        "from imblearn.metrics import geometric_mean_score\n",
        "from sklearn.tree import DecisionTreeClassifier\n",
        "from sklearn.ensemble import RandomForestClassifier  \n",
        "from xgboost import XGBClassifier\n",
        "import lightgbm as lgb\n",
        "from lightgbm import LGBMClassifier\n",
        "from sklearn.neighbors import KNeighborsClassifier\n",
        "from sklearn.model_selection import cross_val_score\n",
        "from imblearn.over_sampling import SMOTE\n",
        "\n",
        "\n",
        "\n",
        "\n",
        "def get_clf_eval(y_test,pred):\n",
        "    confusion = confusion_matrix(y_test, pred)\n",
        "    accuracy = accuracy_score(y_test, pred)\n",
        "    precision = precision_score(y_test, pred)\n",
        "    recall = recall_score(y_test, pred)\n",
        "    roc = roc_auc_score(y_test, pred)\n",
        "    g_mean = geometric_mean_score(y_test, pred)\n",
        "    print('오차행렬')\n",
        "    print(confusion)\n",
        "    print('정확도: {0:4f}, 정밀도 {1:4f}, 재현율 {2:4f}, AUC {3:4f},G_MEAN {4:4f}'.format(accuracy , precision , recall,roc,g_mean))\n",
        "    \n",
        "\n",
        "def get_model_train_eval(model,ftr_train = None, ftr_test = None, tgt_train = None, tgt_test = None):\n",
        "    model.fit(ftr_train, tgt_train)\n",
        "    pred = model.predict(ftr_test)\n",
        "    get_clf_eval(tgt_test, pred)\n",
        "\n",
        "\n",
        "\n",
        "import warnings\n",
        "warnings.filterwarnings(action='ignore')"
      ],
      "execution_count": 3,
      "outputs": []
    },
    {
      "cell_type": "code",
      "metadata": {
        "id": "kTqQWYNVe6rp"
      },
      "source": [
        "df = pd.read_csv('/content/drive/MyDrive/Loan_Train.csv')\n",
        "df.head()\n",
        "\n",
        "df = df.drop('Id',axis = 1)\n",
        "\n",
        "\n",
        "from sklearn.preprocessing import LabelEncoder\n",
        "\n",
        "labelEncoder = LabelEncoder()\n",
        "\n",
        "data = df\n",
        "\n",
        "\n",
        "for e in data.columns:\n",
        "    if data[e].dtype == 'object':\n",
        "        labelEncoder.fit(list(data[e].values))\n",
        "        data[e] = labelEncoder.transform(data[e].values)\n",
        "        \n",
        "        # Accommodate the data that has been changed\n",
        "        df = data\n",
        "        \n",
        "y = df.Risk_Flag\n",
        "X = df.drop('Risk_Flag', axis=1)\n",
        "\n",
        "\n",
        "X_train, X_test, y_tain, y_test = train_test_split(X,\n",
        "                                                   y,\n",
        "                                                   test_size=0.3,\n",
        "                                                   random_state=101)\n",
        "\n"
      ],
      "execution_count": 14,
      "outputs": []
    },
    {
      "cell_type": "markdown",
      "metadata": {
        "id": "jiJJw0OQv6ma"
      },
      "source": [
        "# Hyperpameter tunning"
      ]
    },
    {
      "cell_type": "code",
      "metadata": {
        "colab": {
          "base_uri": "https://localhost:8080/"
        },
        "id": "XffgM1dde67Z",
        "outputId": "8641391b-9a43-4136-f39a-b9dc514e75e2"
      },
      "source": [
        "from imblearn.pipeline import Pipeline\n",
        "from imblearn.over_sampling import SMOTE\n",
        "from sklearn.metrics import roc_auc_score, make_scorer\n",
        "start2 = time.time()\n",
        "\n",
        "c = X_train.columns\n",
        "\n",
        "start1 = time.time()\n",
        "\n",
        "\n",
        "pipeline = Pipeline(steps= [(\"SMOTE\", SMOTE()),\n",
        "                            (\"RandomForestClassifier\", RandomForestClassifier())\n",
        "                            ])\n",
        "\n",
        "param_grid = {\n",
        "    \"SMOTE__sampling_strategy\": [0.5,  1],\n",
        "    \"RandomForestClassifier__n_estimators\": [100,500,1000]\n",
        "              }\n",
        "\n",
        "\n",
        "\n",
        "gs_pipeline = GridSearchCV(pipeline, param_grid=param_grid, verbose=2, scoring=make_scorer(roc_auc_score), cv = 3)\n",
        "gs_pipeline.fit(X_train, y_train)\n",
        "\n",
        "end1 = time.time()\n",
        "\n",
        "print(f\"{end1 - start1:.5f} sec\")\n",
        "\n",
        "# Store the best model\n",
        "\n",
        "\n",
        "\n",
        "\n",
        "best_model = gs_pipeline.best_estimator_\n",
        "\n",
        "end2 = time.time()\n",
        "\n",
        "print(f\"{end2 - start2:.5f} sec\")\n"
      ],
      "execution_count": 46,
      "outputs": [
        {
          "output_type": "stream",
          "name": "stdout",
          "text": [
            "Fitting 3 folds for each of 6 candidates, totalling 18 fits\n",
            "[CV] END RandomForestClassifier__n_estimators=100, SMOTE__sampling_strategy=0.5; total time=  20.2s\n",
            "[CV] END RandomForestClassifier__n_estimators=100, SMOTE__sampling_strategy=0.5; total time=  20.5s\n",
            "[CV] END RandomForestClassifier__n_estimators=100, SMOTE__sampling_strategy=0.5; total time=  20.7s\n",
            "[CV] END RandomForestClassifier__n_estimators=100, SMOTE__sampling_strategy=1; total time=  28.1s\n",
            "[CV] END RandomForestClassifier__n_estimators=100, SMOTE__sampling_strategy=1; total time=  28.0s\n",
            "[CV] END RandomForestClassifier__n_estimators=100, SMOTE__sampling_strategy=1; total time=  27.3s\n",
            "[CV] END RandomForestClassifier__n_estimators=500, SMOTE__sampling_strategy=0.5; total time= 1.7min\n",
            "[CV] END RandomForestClassifier__n_estimators=500, SMOTE__sampling_strategy=0.5; total time= 1.7min\n",
            "[CV] END RandomForestClassifier__n_estimators=500, SMOTE__sampling_strategy=0.5; total time= 1.7min\n",
            "[CV] END RandomForestClassifier__n_estimators=500, SMOTE__sampling_strategy=1; total time= 2.4min\n",
            "[CV] END RandomForestClassifier__n_estimators=500, SMOTE__sampling_strategy=1; total time= 2.3min\n",
            "[CV] END RandomForestClassifier__n_estimators=500, SMOTE__sampling_strategy=1; total time= 2.3min\n",
            "[CV] END RandomForestClassifier__n_estimators=1000, SMOTE__sampling_strategy=0.5; total time= 3.4min\n",
            "[CV] END RandomForestClassifier__n_estimators=1000, SMOTE__sampling_strategy=0.5; total time= 3.5min\n",
            "[CV] END RandomForestClassifier__n_estimators=1000, SMOTE__sampling_strategy=0.5; total time= 3.5min\n",
            "[CV] END RandomForestClassifier__n_estimators=1000, SMOTE__sampling_strategy=1; total time= 4.8min\n",
            "[CV] END RandomForestClassifier__n_estimators=1000, SMOTE__sampling_strategy=1; total time= 4.7min\n",
            "[CV] END RandomForestClassifier__n_estimators=1000, SMOTE__sampling_strategy=1; total time= 4.6min\n",
            "2418.77013 sec\n"
          ]
        }
      ]
    },
    {
      "cell_type": "code",
      "metadata": {
        "colab": {
          "base_uri": "https://localhost:8080/"
        },
        "id": "hizXq_C3e7Bq",
        "outputId": "292131b6-bd99-4978-819e-4d8ef9a1c48b"
      },
      "source": [
        "y_validation_preds = best_model.predict(X_test)\n",
        "roc_auc_score(y_val, y_validation_preds)"
      ],
      "execution_count": 47,
      "outputs": [
        {
          "output_type": "execute_result",
          "data": {
            "text/plain": [
              "0.8552323112618312"
            ]
          },
          "metadata": {},
          "execution_count": 47
        }
      ]
    },
    {
      "cell_type": "code",
      "metadata": {
        "id": "Qlh9KMtue7Cu"
      },
      "source": [
        ""
      ],
      "execution_count": null,
      "outputs": []
    }
  ]
}