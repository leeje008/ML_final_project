{
 "cells": [
  {
   "cell_type": "markdown",
   "id": "d1c08d14",
   "metadata": {},
   "source": [
    "## Importing all the necessary libraries"
   ]
  },
  {
   "cell_type": "code",
   "execution_count": 1,
   "id": "72a4f0f6",
   "metadata": {},
   "outputs": [],
   "source": [
    "import numpy as np\n",
    "import pandas as pd\n",
    "from pandas import DataFrame as df \n",
    "import matplotlib.pyplot as plt\n",
    "import seaborn as sns\n",
    "from sklearn.model_selection import train_test_split\n",
    "from sklearn.preprocessing import StandardScaler\n",
    "from sklearn import svm\n",
    "from sklearn.model_selection import KFold\n",
    "from sklearn.model_selection import StratifiedKFold\n",
    "from sklearn.metrics import fbeta_score, make_scorer\n",
    "from sklearn.metrics import roc_auc_score\n",
    "from sklearn.metrics import roc_curve\n",
    "from sklearn.linear_model import LogisticRegression\n",
    "from sklearn import metrics\n",
    "from sklearn.utils import resample\n",
    "from sklearn.feature_selection import SelectFromModel \n",
    "from sklearn.model_selection import GridSearchCV \n",
    "from sklearn.naive_bayes import GaussianNB\n",
    "from sklearn.tree import DecisionTreeClassifier\n",
    "from sklearn.ensemble import RandomForestRegressor  \n",
    "from sklearn.preprocessing import StandardScaler\n",
    "# from sklearn.ensemble import RandomForestClassifier, GradientBoostingClassifier, AdaBoo"
   ]
  },
  {
   "cell_type": "markdown",
   "id": "630059db",
   "metadata": {},
   "source": [
    "# For plotting issues"
   ]
  },
  {
   "cell_type": "code",
   "execution_count": 2,
   "id": "bc84187b",
   "metadata": {},
   "outputs": [],
   "source": [
    "acc = []; pre = [] ; rec = [] ; f = [] ; ro = []"
   ]
  },
  {
   "cell_type": "markdown",
   "id": "5e747d6a",
   "metadata": {},
   "source": [
    "# Reading the training dataset"
   ]
  },
  {
   "cell_type": "code",
   "execution_count": 3,
   "id": "8cb0c231",
   "metadata": {
    "scrolled": true
   },
   "outputs": [
    {
     "data": {
      "text/html": [
       "<div>\n",
       "<style scoped>\n",
       "    .dataframe tbody tr th:only-of-type {\n",
       "        vertical-align: middle;\n",
       "    }\n",
       "\n",
       "    .dataframe tbody tr th {\n",
       "        vertical-align: top;\n",
       "    }\n",
       "\n",
       "    .dataframe thead th {\n",
       "        text-align: right;\n",
       "    }\n",
       "</style>\n",
       "<table border=\"1\" class=\"dataframe\">\n",
       "  <thead>\n",
       "    <tr style=\"text-align: right;\">\n",
       "      <th></th>\n",
       "      <th>Id</th>\n",
       "      <th>Income</th>\n",
       "      <th>Age</th>\n",
       "      <th>Experience</th>\n",
       "      <th>Married/Single</th>\n",
       "      <th>House_Ownership</th>\n",
       "      <th>Car_Ownership</th>\n",
       "      <th>Profession</th>\n",
       "      <th>CITY</th>\n",
       "      <th>STATE</th>\n",
       "      <th>CURRENT_JOB_YRS</th>\n",
       "      <th>CURRENT_HOUSE_YRS</th>\n",
       "      <th>Risk_Flag</th>\n",
       "    </tr>\n",
       "  </thead>\n",
       "  <tbody>\n",
       "    <tr>\n",
       "      <th>0</th>\n",
       "      <td>1</td>\n",
       "      <td>1303834</td>\n",
       "      <td>23</td>\n",
       "      <td>3</td>\n",
       "      <td>single</td>\n",
       "      <td>rented</td>\n",
       "      <td>no</td>\n",
       "      <td>Mechanical_engineer</td>\n",
       "      <td>Rewa</td>\n",
       "      <td>Madhya_Pradesh</td>\n",
       "      <td>3</td>\n",
       "      <td>13</td>\n",
       "      <td>0</td>\n",
       "    </tr>\n",
       "    <tr>\n",
       "      <th>1</th>\n",
       "      <td>2</td>\n",
       "      <td>7574516</td>\n",
       "      <td>40</td>\n",
       "      <td>10</td>\n",
       "      <td>single</td>\n",
       "      <td>rented</td>\n",
       "      <td>no</td>\n",
       "      <td>Software_Developer</td>\n",
       "      <td>Parbhani</td>\n",
       "      <td>Maharashtra</td>\n",
       "      <td>9</td>\n",
       "      <td>13</td>\n",
       "      <td>0</td>\n",
       "    </tr>\n",
       "    <tr>\n",
       "      <th>2</th>\n",
       "      <td>3</td>\n",
       "      <td>3991815</td>\n",
       "      <td>66</td>\n",
       "      <td>4</td>\n",
       "      <td>married</td>\n",
       "      <td>rented</td>\n",
       "      <td>no</td>\n",
       "      <td>Technical_writer</td>\n",
       "      <td>Alappuzha</td>\n",
       "      <td>Kerala</td>\n",
       "      <td>4</td>\n",
       "      <td>10</td>\n",
       "      <td>0</td>\n",
       "    </tr>\n",
       "    <tr>\n",
       "      <th>3</th>\n",
       "      <td>4</td>\n",
       "      <td>6256451</td>\n",
       "      <td>41</td>\n",
       "      <td>2</td>\n",
       "      <td>single</td>\n",
       "      <td>rented</td>\n",
       "      <td>yes</td>\n",
       "      <td>Software_Developer</td>\n",
       "      <td>Bhubaneswar</td>\n",
       "      <td>Odisha</td>\n",
       "      <td>2</td>\n",
       "      <td>12</td>\n",
       "      <td>1</td>\n",
       "    </tr>\n",
       "    <tr>\n",
       "      <th>4</th>\n",
       "      <td>5</td>\n",
       "      <td>5768871</td>\n",
       "      <td>47</td>\n",
       "      <td>11</td>\n",
       "      <td>single</td>\n",
       "      <td>rented</td>\n",
       "      <td>no</td>\n",
       "      <td>Civil_servant</td>\n",
       "      <td>Tiruchirappalli[10]</td>\n",
       "      <td>Tamil_Nadu</td>\n",
       "      <td>3</td>\n",
       "      <td>14</td>\n",
       "      <td>1</td>\n",
       "    </tr>\n",
       "  </tbody>\n",
       "</table>\n",
       "</div>"
      ],
      "text/plain": [
       "   Id   Income  Age  Experience Married/Single House_Ownership Car_Ownership  \\\n",
       "0   1  1303834   23           3         single          rented            no   \n",
       "1   2  7574516   40          10         single          rented            no   \n",
       "2   3  3991815   66           4        married          rented            no   \n",
       "3   4  6256451   41           2         single          rented           yes   \n",
       "4   5  5768871   47          11         single          rented            no   \n",
       "\n",
       "            Profession                 CITY           STATE  CURRENT_JOB_YRS  \\\n",
       "0  Mechanical_engineer                 Rewa  Madhya_Pradesh                3   \n",
       "1   Software_Developer             Parbhani     Maharashtra                9   \n",
       "2     Technical_writer            Alappuzha          Kerala                4   \n",
       "3   Software_Developer          Bhubaneswar          Odisha                2   \n",
       "4        Civil_servant  Tiruchirappalli[10]      Tamil_Nadu                3   \n",
       "\n",
       "   CURRENT_HOUSE_YRS  Risk_Flag  \n",
       "0                 13          0  \n",
       "1                 13          0  \n",
       "2                 10          0  \n",
       "3                 12          1  \n",
       "4                 14          1  "
      ]
     },
     "execution_count": 3,
     "metadata": {},
     "output_type": "execute_result"
    }
   ],
   "source": [
    "# trainDataSet = pd.read_csv(\"https://github.com/leeje008/ML_final_project/blob/main/Loan_data/Loan_Train.csv\")\n",
    "trainDataSet = pd.read_csv(\"C:/Users/sangk/OneDrive/바탕 화면/ML_final_project-main/Loan_data/Loan_Train.csv\")\n",
    "trainDataSet.head()\n"
   ]
  },
  {
   "cell_type": "markdown",
   "id": "53da48e0",
   "metadata": {},
   "source": [
    "## Scaling"
   ]
  },
  {
   "cell_type": "code",
   "execution_count": 4,
   "id": "838adcc9",
   "metadata": {},
   "outputs": [
    {
     "data": {
      "text/html": [
       "<div>\n",
       "<style scoped>\n",
       "    .dataframe tbody tr th:only-of-type {\n",
       "        vertical-align: middle;\n",
       "    }\n",
       "\n",
       "    .dataframe tbody tr th {\n",
       "        vertical-align: top;\n",
       "    }\n",
       "\n",
       "    .dataframe thead th {\n",
       "        text-align: right;\n",
       "    }\n",
       "</style>\n",
       "<table border=\"1\" class=\"dataframe\">\n",
       "  <thead>\n",
       "    <tr style=\"text-align: right;\">\n",
       "      <th></th>\n",
       "      <th>Income</th>\n",
       "      <th>Age</th>\n",
       "      <th>Experience</th>\n",
       "      <th>CURRENT_JOB_YRS</th>\n",
       "      <th>CURRENT_HOUSE_YRS</th>\n",
       "    </tr>\n",
       "  </thead>\n",
       "  <tbody>\n",
       "    <tr>\n",
       "      <th>0</th>\n",
       "      <td>1303834</td>\n",
       "      <td>23</td>\n",
       "      <td>3</td>\n",
       "      <td>3</td>\n",
       "      <td>13</td>\n",
       "    </tr>\n",
       "    <tr>\n",
       "      <th>1</th>\n",
       "      <td>7574516</td>\n",
       "      <td>40</td>\n",
       "      <td>10</td>\n",
       "      <td>9</td>\n",
       "      <td>13</td>\n",
       "    </tr>\n",
       "    <tr>\n",
       "      <th>2</th>\n",
       "      <td>3991815</td>\n",
       "      <td>66</td>\n",
       "      <td>4</td>\n",
       "      <td>4</td>\n",
       "      <td>10</td>\n",
       "    </tr>\n",
       "    <tr>\n",
       "      <th>3</th>\n",
       "      <td>6256451</td>\n",
       "      <td>41</td>\n",
       "      <td>2</td>\n",
       "      <td>2</td>\n",
       "      <td>12</td>\n",
       "    </tr>\n",
       "    <tr>\n",
       "      <th>4</th>\n",
       "      <td>5768871</td>\n",
       "      <td>47</td>\n",
       "      <td>11</td>\n",
       "      <td>3</td>\n",
       "      <td>14</td>\n",
       "    </tr>\n",
       "  </tbody>\n",
       "</table>\n",
       "</div>"
      ],
      "text/plain": [
       "    Income  Age  Experience  CURRENT_JOB_YRS  CURRENT_HOUSE_YRS\n",
       "0  1303834   23           3                3                 13\n",
       "1  7574516   40          10                9                 13\n",
       "2  3991815   66           4                4                 10\n",
       "3  6256451   41           2                2                 12\n",
       "4  5768871   47          11                3                 14"
      ]
     },
     "execution_count": 4,
     "metadata": {},
     "output_type": "execute_result"
    }
   ],
   "source": [
    "# Standardization 평균 0 / 분산 1\n",
    "scaler = StandardScaler()   \n",
    "\n",
    "\n",
    "\n",
    "# 연속형 변수만 가져오기 only features\n",
    "x_NewTrain = trainDataSet.loc[:, ['Income','Age','Experience','CURRENT_JOB_YRS','CURRENT_HOUSE_YRS']]\n",
    "scaler.fit(x_NewTrain)\n",
    "x_NewTrain.head()"
   ]
  },
  {
   "cell_type": "code",
   "execution_count": 5,
   "id": "42e72e40",
   "metadata": {},
   "outputs": [
    {
     "data": {
      "text/html": [
       "<div>\n",
       "<style scoped>\n",
       "    .dataframe tbody tr th:only-of-type {\n",
       "        vertical-align: middle;\n",
       "    }\n",
       "\n",
       "    .dataframe tbody tr th {\n",
       "        vertical-align: top;\n",
       "    }\n",
       "\n",
       "    .dataframe thead th {\n",
       "        text-align: right;\n",
       "    }\n",
       "</style>\n",
       "<table border=\"1\" class=\"dataframe\">\n",
       "  <thead>\n",
       "    <tr style=\"text-align: right;\">\n",
       "      <th></th>\n",
       "      <th>Risk_Flag</th>\n",
       "    </tr>\n",
       "  </thead>\n",
       "  <tbody>\n",
       "    <tr>\n",
       "      <th>0</th>\n",
       "      <td>0</td>\n",
       "    </tr>\n",
       "    <tr>\n",
       "      <th>1</th>\n",
       "      <td>0</td>\n",
       "    </tr>\n",
       "    <tr>\n",
       "      <th>2</th>\n",
       "      <td>0</td>\n",
       "    </tr>\n",
       "    <tr>\n",
       "      <th>3</th>\n",
       "      <td>1</td>\n",
       "    </tr>\n",
       "    <tr>\n",
       "      <th>4</th>\n",
       "      <td>1</td>\n",
       "    </tr>\n",
       "  </tbody>\n",
       "</table>\n",
       "</div>"
      ],
      "text/plain": [
       "   Risk_Flag\n",
       "0          0\n",
       "1          0\n",
       "2          0\n",
       "3          1\n",
       "4          1"
      ]
     },
     "execution_count": 5,
     "metadata": {},
     "output_type": "execute_result"
    }
   ],
   "source": [
    "# target variable 만 가져오기\n",
    "y_NewTrain = trainDataSet.loc[:, ['Risk_Flag']]\n",
    "y_NewTrain.head()"
   ]
  },
  {
   "cell_type": "code",
   "execution_count": 6,
   "id": "06dcf813",
   "metadata": {},
   "outputs": [],
   "source": [
    "# testDataset - features\n",
    "x_Test = pd.read_csv(\"C:/Users/sangk/OneDrive/바탕 화면/ML_final_project-main/Loan_data/Loan_Test_feature.csv\")\n",
    "\n",
    "x_NewTest = x_Test.loc[:, ['Income','Age','Experience','CURRENT_JOB_YRS','CURRENT_HOUSE_YRS']]\n",
    "x_NewTest = scaler.transform(x_NewTest)\n"
   ]
  },
  {
   "cell_type": "code",
   "execution_count": 7,
   "id": "b26f3193",
   "metadata": {},
   "outputs": [
    {
     "data": {
      "text/html": [
       "<div>\n",
       "<style scoped>\n",
       "    .dataframe tbody tr th:only-of-type {\n",
       "        vertical-align: middle;\n",
       "    }\n",
       "\n",
       "    .dataframe tbody tr th {\n",
       "        vertical-align: top;\n",
       "    }\n",
       "\n",
       "    .dataframe thead th {\n",
       "        text-align: right;\n",
       "    }\n",
       "</style>\n",
       "<table border=\"1\" class=\"dataframe\">\n",
       "  <thead>\n",
       "    <tr style=\"text-align: right;\">\n",
       "      <th></th>\n",
       "      <th>risk_flag</th>\n",
       "    </tr>\n",
       "  </thead>\n",
       "  <tbody>\n",
       "    <tr>\n",
       "      <th>0</th>\n",
       "      <td>0</td>\n",
       "    </tr>\n",
       "    <tr>\n",
       "      <th>1</th>\n",
       "      <td>0</td>\n",
       "    </tr>\n",
       "    <tr>\n",
       "      <th>2</th>\n",
       "      <td>1</td>\n",
       "    </tr>\n",
       "    <tr>\n",
       "      <th>3</th>\n",
       "      <td>0</td>\n",
       "    </tr>\n",
       "    <tr>\n",
       "      <th>4</th>\n",
       "      <td>0</td>\n",
       "    </tr>\n",
       "  </tbody>\n",
       "</table>\n",
       "</div>"
      ],
      "text/plain": [
       "   risk_flag\n",
       "0          0\n",
       "1          0\n",
       "2          1\n",
       "3          0\n",
       "4          0"
      ]
     },
     "execution_count": 7,
     "metadata": {},
     "output_type": "execute_result"
    }
   ],
   "source": [
    "# testDataset - target\n",
    "y_Test  = pd.read_csv(\"C:/Users/sangk/OneDrive/바탕 화면/ML_final_project-main/Loan_data/Loan_Test_target.csv\")\n",
    "\n",
    "y_NewTest = y_Test.loc[:,y_Test.columns !='id']\n",
    "y_NewTest.head()\n"
   ]
  },
  {
   "cell_type": "markdown",
   "id": "c929b82b",
   "metadata": {},
   "source": [
    "# Explore the data and fill the empty fields (features)"
   ]
  },
  {
   "cell_type": "code",
   "execution_count": 8,
   "id": "50c189a8",
   "metadata": {},
   "outputs": [
    {
     "name": "stderr",
     "output_type": "stream",
     "text": [
      "C:\\Users\\sangk\\anaconda3\\lib\\site-packages\\seaborn\\_decorators.py:36: FutureWarning: Pass the following variable as a keyword arg: x. From version 0.12, the only valid positional argument will be `data`, and passing other arguments without an explicit keyword will result in an error or misinterpretation.\n",
      "  warnings.warn(\n"
     ]
    },
    {
     "data": {
      "text/plain": [
       "<AxesSubplot:xlabel='Risk_Flag', ylabel='count'>"
      ]
     },
     "execution_count": 8,
     "metadata": {},
     "output_type": "execute_result"
    },
    {
     "data": {
      "image/png": "[encoded data removed]",
      "text/plain": [
       "<Figure size 432x288 with 1 Axes>"
      ]
     },
     "metadata": {
      "needs_background": "light"
     },
     "output_type": "display_data"
    }
   ],
   "source": [
    "#checking target column \n",
    "sns.countplot(y_NewTrain['Risk_Flag'])"
   ]
  },
  {
   "cell_type": "markdown",
   "id": "d8ac1ed6",
   "metadata": {},
   "source": [
    "# Using Scikit-learn to do the predictions"
   ]
  },
  {
   "cell_type": "markdown",
   "id": "b7e48de2",
   "metadata": {},
   "source": [
    "### Random Forest"
   ]
  },
  {
   "cell_type": "code",
   "execution_count": 9,
   "id": "fb564698",
   "metadata": {},
   "outputs": [
    {
     "name": "stdout",
     "output_type": "stream",
     "text": [
      "The time of execution of above program is : 32.14825081825256\n"
     ]
    }
   ],
   "source": [
    "from sklearn.ensemble import RandomForestClassifier\n",
    "import time\n",
    "\n",
    "start = time.time()\n",
    "\n",
    "rf = RandomForestClassifier(n_estimators=100, oob_score=True, random_state=123456)\n",
    "rf.fit(x_NewTrain, y_NewTrain.values.ravel()) \n",
    "\n",
    "end = time.time()\n",
    "\n",
    "print(\"The time of execution of above program is :\", end-start)"
   ]
  },
  {
   "cell_type": "code",
   "execution_count": 10,
   "id": "bd582e3d",
   "metadata": {},
   "outputs": [
    {
     "name": "stdout",
     "output_type": "stream",
     "text": [
      "Accuracy =  0.1352857142857143\n",
      "Precision =  0.12844631852092117\n",
      "Recall =  0.9919287503478987\n",
      "F1_Score =  0.22744097000638158\n",
      "ROC_Curve =  0.5005532226357431\n",
      "The time of execution of above program is : 32.14825081825256\n"
     ]
    }
   ],
   "source": [
    "from sklearn.metrics import accuracy_score\n",
    "\n",
    "y_pred_rf = rf.predict(x_NewTest)\n",
    "\n",
    "# best_params.rf = rf.best_params_ #Determine which parameters used by the model\n",
    "# print(\"By GridSearch, the best parameters are: \") \n",
    "# print(best_params)\n",
    "\n",
    "#evaluaion \n",
    "Accuracy_rf = metrics.accuracy_score(y_NewTest, y_pred_rf)\n",
    "Precision_rf = metrics.precision_score(y_NewTest , y_pred_rf)\n",
    "Recall_rf = metrics.recall_score(y_NewTest , y_pred_rf)\n",
    "F1_Score_rf = metrics.f1_score(y_NewTest , y_pred_rf)\n",
    "Roc_rf = metrics.roc_auc_score(y_NewTest, y_pred_rf)\n",
    "\n",
    "# print(\" \\nRandom Forest with best (criterion , Max feature , Max depth , Number of trees) \")\n",
    "print (\"Accuracy = \" ,  Accuracy_rf )\n",
    "print (\"Precision = \" , Precision_rf )\n",
    "print (\"Recall = \" , Recall_rf )\n",
    "print (\"F1_Score = \" , F1_Score_rf )\n",
    "print (\"ROC_Curve = \" , Roc_rf)\n",
    "print(\"The time of execution of above program is :\", end-start)\n",
    "\n",
    "ro.append(Roc_rf)\n",
    "acc.append(Accuracy_rf)\n",
    "pre.append(Precision_rf) \n",
    "rec.append(Recall_rf)\n",
    "f.append(F1_Score_rf)"
   ]
  },
  {
   "cell_type": "markdown",
   "id": "8f747789",
   "metadata": {},
   "source": [
    "### Random Forest with best (criterion , Max feature , Max depth , Number of trees)"
   ]
  },
  {
   "cell_type": "code",
   "execution_count": 218,
   "id": "d87a10f4",
   "metadata": {},
   "outputs": [
    {
     "name": "stdout",
     "output_type": "stream",
     "text": [
      "Fitting 2 folds for each of 16 candidates, totalling 32 fits\n",
      "[CV] END criterion=gini, max_depth=15, max_features=auto, n_estimators=100; total time=   9.1s\n",
      "[CV] END criterion=gini, max_depth=15, max_features=auto, n_estimators=100; total time=   7.9s\n",
      "[CV] END criterion=gini, max_depth=15, max_features=auto, n_estimators=150; total time=  14.1s\n",
      "[CV] END criterion=gini, max_depth=15, max_features=auto, n_estimators=150; total time=  10.2s\n",
      "[CV] END criterion=gini, max_depth=15, max_features=log2, n_estimators=100; total time=   9.0s\n",
      "[CV] END criterion=gini, max_depth=15, max_features=log2, n_estimators=100; total time=   6.9s\n",
      "[CV] END criterion=gini, max_depth=15, max_features=log2, n_estimators=150; total time=  13.9s\n",
      "[CV] END criterion=gini, max_depth=15, max_features=log2, n_estimators=150; total time=  10.8s\n",
      "[CV] END criterion=gini, max_depth=25, max_features=auto, n_estimators=100; total time=  11.5s\n",
      "[CV] END criterion=gini, max_depth=25, max_features=auto, n_estimators=100; total time=   8.0s\n",
      "[CV] END criterion=gini, max_depth=25, max_features=auto, n_estimators=150; total time=  17.5s\n",
      "[CV] END criterion=gini, max_depth=25, max_features=auto, n_estimators=150; total time=  13.1s\n",
      "[CV] END criterion=gini, max_depth=25, max_features=log2, n_estimators=100; total time=  11.9s\n",
      "[CV] END criterion=gini, max_depth=25, max_features=log2, n_estimators=100; total time=   7.5s\n",
      "[CV] END criterion=gini, max_depth=25, max_features=log2, n_estimators=150; total time=  19.0s\n",
      "[CV] END criterion=gini, max_depth=25, max_features=log2, n_estimators=150; total time=  13.0s\n",
      "[CV] END criterion=entropy, max_depth=15, max_features=auto, n_estimators=100; total time=  12.1s\n",
      "[CV] END criterion=entropy, max_depth=15, max_features=auto, n_estimators=100; total time=   8.6s\n",
      "[CV] END criterion=entropy, max_depth=15, max_features=auto, n_estimators=150; total time=  20.8s\n",
      "[CV] END criterion=entropy, max_depth=15, max_features=auto, n_estimators=150; total time=  13.8s\n",
      "[CV] END criterion=entropy, max_depth=15, max_features=log2, n_estimators=100; total time=  13.8s\n",
      "[CV] END criterion=entropy, max_depth=15, max_features=log2, n_estimators=100; total time=  12.0s\n",
      "[CV] END criterion=entropy, max_depth=15, max_features=log2, n_estimators=150; total time=  20.5s\n",
      "[CV] END criterion=entropy, max_depth=15, max_features=log2, n_estimators=150; total time=  12.6s\n",
      "[CV] END criterion=entropy, max_depth=25, max_features=auto, n_estimators=100; total time=  14.5s\n",
      "[CV] END criterion=entropy, max_depth=25, max_features=auto, n_estimators=100; total time=  10.8s\n",
      "[CV] END criterion=entropy, max_depth=25, max_features=auto, n_estimators=150; total time=  21.5s\n",
      "[CV] END criterion=entropy, max_depth=25, max_features=auto, n_estimators=150; total time=  14.9s\n",
      "[CV] END criterion=entropy, max_depth=25, max_features=log2, n_estimators=100; total time=  15.3s\n",
      "[CV] END criterion=entropy, max_depth=25, max_features=log2, n_estimators=100; total time=  10.8s\n",
      "[CV] END criterion=entropy, max_depth=25, max_features=log2, n_estimators=150; total time=  21.6s\n",
      "[CV] END criterion=entropy, max_depth=25, max_features=log2, n_estimators=150; total time=  14.0s\n",
      "The time of execution of above program is : 446.63335609436035\n"
     ]
    }
   ],
   "source": [
    "#Random Forest with best (criterion , Max feature , Max depth , Number of trees)\n",
    "#Determine the best using GridSearch\n",
    "import time\n",
    "start = time.time()\n",
    "\n",
    "params_rf = [{'criterion': ['gini' , 'entropy'] ,\n",
    "           'max_features': ['auto', 'log2'],\n",
    "           'max_depth': [15, 25],\n",
    "           'n_estimators': [100, 150] }]\n",
    "clf_rf = GridSearchCV(estimator = RandomForestClassifier(),\n",
    "                            param_grid = params_rf,\n",
    "                            scoring = 'neg_mean_squared_error',verbose=2,cv=2)\n",
    "                            \n",
    "clf_rf.fit(x_NewTrain, y_NewTrain.values.ravel())  \n",
    "\n",
    "end = time.time()\n",
    "\n",
    "print(\"The time of execution of above program is :\", end-start)\n"
   ]
  },
  {
   "cell_type": "code",
   "execution_count": 219,
   "id": "8916dac6",
   "metadata": {
    "scrolled": true
   },
   "outputs": [
    {
     "name": "stdout",
     "output_type": "stream",
     "text": [
      "Accuracy =  0.18785714285714286\n",
      "Precision =  0.12825690210849222\n",
      "Recall =  0.9192875034789869\n",
      "F1_Score =  0.22510734001226743\n",
      "ROC_Curve =  0.4997347092516826\n"
     ]
    }
   ],
   "source": [
    "from sklearn.metrics import accuracy_score\n",
    "\n",
    "y_pred_rf_grid = clf_rf.predict(x_NewTest)\n",
    "\n",
    "# best_params.rf = rf.best_params_ #Determine which parameters used by the model\n",
    "# print(\"By GridSearch, the best parameters are: \") \n",
    "# print(best_params)\n",
    "\n",
    "#evaluaion \n",
    "Accuracy_rf_grid = metrics.accuracy_score(y_NewTest, y_pred_rf_grid)\n",
    "Precision_rf_grid = metrics.precision_score(y_NewTest , y_pred_rf_grid)\n",
    "Recall_rf_grid = metrics.recall_score(y_NewTest , y_pred_rf_grid)\n",
    "F1_Score_rf_grid = metrics.f1_score(y_NewTest , y_pred_rf_grid)\n",
    "Roc_rf_grid = metrics.roc_auc_score(y_NewTest, y_pred_rf_grid)\n",
    "\n",
    "# print(\" \\nRandom Forest with best (criterion , Max feature , Max depth , Number of trees) \")\n",
    "print (\"Accuracy = \" ,  Accuracy_rf_grid )\n",
    "print (\"Precision = \" , Precision_rf_grid )\n",
    "print (\"Recall = \" , Recall_rf_grid )\n",
    "print (\"F1_Score = \" , F1_Score_rf_grid )\n",
    "print (\"ROC_Curve = \" , Roc_rf_grid)\n",
    "\n",
    "ro.append(Roc_rf_grid)\n",
    "acc.append(Accuracy_rf_grid)\n",
    "pre.append(Precision_rf_grid) \n",
    "rec.append(Recall_rf_grid)\n",
    "f.append(F1_Score_rf_grid)"
   ]
  },
  {
   "cell_type": "markdown",
   "id": "7c3ab243",
   "metadata": {},
   "source": [
    "### XGBoost"
   ]
  },
  {
   "cell_type": "code",
   "execution_count": 11,
   "id": "a8e0a1a0",
   "metadata": {},
   "outputs": [],
   "source": [
    "import xgboost as xgb ## XGBoost 불러오기\n",
    "from xgboost import plot_importance ## Feature Importance를 불러오기 위함\n",
    "from sklearn.metrics import confusion_matrix, accuracy_score, precision_score, recall_score\n",
    "from sklearn.metrics import confusion_matrix, f1_score, roc_auc_score"
   ]
  },
  {
   "cell_type": "code",
   "execution_count": 12,
   "id": "6d673c32",
   "metadata": {},
   "outputs": [],
   "source": [
    "# numpy 형태의 train set과 test set을 DMatrix로 변환\n",
    "# x_NewTrain = x_NewTrain.loc[:,~x_NewTrain.columns.duplicated()]\n",
    "# x_NewTest = x_NewTest.loc[:,~x_NewTest.columns.duplicated()]\n",
    "\n",
    "dtrain = xgb.DMatrix(data=x_NewTrain, label = y_NewTrain)\n",
    "dtest = xgb.DMatrix(data=x_NewTest, label = y_NewTest)"
   ]
  },
  {
   "cell_type": "code",
   "execution_count": 13,
   "id": "06498bb3",
   "metadata": {},
   "outputs": [],
   "source": [
    "# max_depth = 3, 학습률은 0.1, 예제가 이진분류이므로 목적함수(objective)는 binary:logistic(이진 로지스틱)\n",
    "# 오류함수의 평가성능지표는 logloss\n",
    "# 부스팅 반복횟수는 400\n",
    "# 조기중단을 위한 최소 반복횟수는 100\n",
    "\n",
    "params = {'max_depth' : 3,\n",
    "         'eta' : 0.1, \n",
    "         'objective' : 'binary:logistic',\n",
    "         'eval_metric' : 'logloss',\n",
    "         'early_stoppings' : 100 }\n",
    "\n",
    "num_rounds = 400"
   ]
  },
  {
   "cell_type": "code",
   "execution_count": 141,
   "id": "edded823",
   "metadata": {},
   "outputs": [
    {
     "name": "stdout",
     "output_type": "stream",
     "text": [
      "[17:35:14] WARNING: C:/Users/Administrator/workspace/xgboost-win64_release_1.5.1/src/learner.cc:576: \n",
      "Parameters: { \"early_stoppings\" } might not be used.\n",
      "\n",
      "  This could be a false alarm, with some parameters getting used by language bindings but\n",
      "  then being mistakenly passed down to XGBoost core, or some parameter actually being used\n",
      "  but getting flagged wrongly here. Please open an issue if you find any such cases.\n",
      "\n",
      "\n",
      "[0]\ttrain-logloss:0.63908\teval-logloss:0.63990\n",
      "[1]\ttrain-logloss:0.59491\teval-logloss:0.59664\n",
      "[2]\ttrain-logloss:0.55842\teval-logloss:0.56109\n",
      "[3]\ttrain-logloss:0.52808\teval-logloss:0.53163\n",
      "[4]\ttrain-logloss:0.50273\teval-logloss:0.50715\n",
      "[5]\ttrain-logloss:0.48177\teval-logloss:0.48672\n",
      "[6]\ttrain-logloss:0.46401\teval-logloss:0.46962\n",
      "[7]\ttrain-logloss:0.44910\teval-logloss:0.45533\n",
      "[8]\ttrain-logloss:0.43643\teval-logloss:0.44329\n",
      "[9]\ttrain-logloss:0.42582\teval-logloss:0.43317\n",
      "[10]\ttrain-logloss:0.41661\teval-logloss:0.42476\n",
      "[11]\ttrain-logloss:0.40920\teval-logloss:0.41769\n",
      "[12]\ttrain-logloss:0.40262\teval-logloss:0.41180\n",
      "[13]\ttrain-logloss:0.39737\teval-logloss:0.40686\n",
      "[14]\ttrain-logloss:0.39272\teval-logloss:0.40278\n",
      "[15]\ttrain-logloss:0.38880\teval-logloss:0.39933\n",
      "[16]\ttrain-logloss:0.38571\teval-logloss:0.39652\n",
      "[17]\ttrain-logloss:0.38284\teval-logloss:0.39415\n",
      "[18]\ttrain-logloss:0.38047\teval-logloss:0.39222\n",
      "[19]\ttrain-logloss:0.37846\teval-logloss:0.39063\n",
      "[20]\ttrain-logloss:0.37685\teval-logloss:0.38937\n",
      "[21]\ttrain-logloss:0.37551\teval-logloss:0.38829\n",
      "[22]\ttrain-logloss:0.37430\teval-logloss:0.38741\n",
      "[23]\ttrain-logloss:0.37330\teval-logloss:0.38673\n",
      "[24]\ttrain-logloss:0.37241\teval-logloss:0.38620\n",
      "[25]\ttrain-logloss:0.37186\teval-logloss:0.38578\n",
      "[26]\ttrain-logloss:0.37116\teval-logloss:0.38546\n",
      "[27]\ttrain-logloss:0.37061\teval-logloss:0.38521\n",
      "[28]\ttrain-logloss:0.37018\teval-logloss:0.38501\n",
      "[29]\ttrain-logloss:0.36983\teval-logloss:0.38488\n",
      "[30]\ttrain-logloss:0.36945\teval-logloss:0.38479\n",
      "[31]\ttrain-logloss:0.36927\teval-logloss:0.38472\n",
      "[32]\ttrain-logloss:0.36902\teval-logloss:0.38470\n",
      "[33]\ttrain-logloss:0.36878\teval-logloss:0.38464\n",
      "[34]\ttrain-logloss:0.36851\teval-logloss:0.38461\n",
      "[35]\ttrain-logloss:0.36834\teval-logloss:0.38461\n",
      "[36]\ttrain-logloss:0.36816\teval-logloss:0.38458\n",
      "[37]\ttrain-logloss:0.36799\teval-logloss:0.38464\n",
      "[38]\ttrain-logloss:0.36787\teval-logloss:0.38467\n",
      "[39]\ttrain-logloss:0.36781\teval-logloss:0.38467\n",
      "[40]\ttrain-logloss:0.36766\teval-logloss:0.38473\n",
      "[41]\ttrain-logloss:0.36756\teval-logloss:0.38475\n",
      "[42]\ttrain-logloss:0.36739\teval-logloss:0.38480\n",
      "[43]\ttrain-logloss:0.36736\teval-logloss:0.38484\n",
      "[44]\ttrain-logloss:0.36715\teval-logloss:0.38489\n",
      "[45]\ttrain-logloss:0.36700\teval-logloss:0.38495\n",
      "[46]\ttrain-logloss:0.36686\teval-logloss:0.38499\n",
      "[47]\ttrain-logloss:0.36676\teval-logloss:0.38501\n",
      "[48]\ttrain-logloss:0.36661\teval-logloss:0.38508\n",
      "[49]\ttrain-logloss:0.36657\teval-logloss:0.38510\n",
      "[50]\ttrain-logloss:0.36630\teval-logloss:0.38519\n",
      "[51]\ttrain-logloss:0.36624\teval-logloss:0.38520\n",
      "[52]\ttrain-logloss:0.36622\teval-logloss:0.38524\n",
      "[53]\ttrain-logloss:0.36597\teval-logloss:0.38525\n",
      "[54]\ttrain-logloss:0.36578\teval-logloss:0.38537\n",
      "[55]\ttrain-logloss:0.36565\teval-logloss:0.38539\n",
      "[56]\ttrain-logloss:0.36554\teval-logloss:0.38546\n",
      "[57]\ttrain-logloss:0.36552\teval-logloss:0.38548\n",
      "[58]\ttrain-logloss:0.36542\teval-logloss:0.38553\n",
      "[59]\ttrain-logloss:0.36528\teval-logloss:0.38554\n",
      "[60]\ttrain-logloss:0.36521\teval-logloss:0.38557\n",
      "[61]\ttrain-logloss:0.36508\teval-logloss:0.38557\n",
      "[62]\ttrain-logloss:0.36492\teval-logloss:0.38557\n",
      "[63]\ttrain-logloss:0.36488\teval-logloss:0.38558\n",
      "[64]\ttrain-logloss:0.36487\teval-logloss:0.38560\n",
      "[65]\ttrain-logloss:0.36470\teval-logloss:0.38566\n",
      "[66]\ttrain-logloss:0.36465\teval-logloss:0.38565\n",
      "[67]\ttrain-logloss:0.36462\teval-logloss:0.38566\n",
      "[68]\ttrain-logloss:0.36445\teval-logloss:0.38565\n",
      "[69]\ttrain-logloss:0.36434\teval-logloss:0.38567\n",
      "[70]\ttrain-logloss:0.36419\teval-logloss:0.38570\n",
      "[71]\ttrain-logloss:0.36418\teval-logloss:0.38571\n",
      "[72]\ttrain-logloss:0.36408\teval-logloss:0.38577\n",
      "[73]\ttrain-logloss:0.36404\teval-logloss:0.38577\n",
      "[74]\ttrain-logloss:0.36402\teval-logloss:0.38579\n",
      "[75]\ttrain-logloss:0.36394\teval-logloss:0.38583\n",
      "[76]\ttrain-logloss:0.36377\teval-logloss:0.38590\n",
      "[77]\ttrain-logloss:0.36364\teval-logloss:0.38595\n",
      "[78]\ttrain-logloss:0.36343\teval-logloss:0.38599\n",
      "[79]\ttrain-logloss:0.36325\teval-logloss:0.38608\n",
      "[80]\ttrain-logloss:0.36318\teval-logloss:0.38608\n",
      "[81]\ttrain-logloss:0.36309\teval-logloss:0.38612\n",
      "[82]\ttrain-logloss:0.36305\teval-logloss:0.38612\n",
      "[83]\ttrain-logloss:0.36302\teval-logloss:0.38614\n",
      "[84]\ttrain-logloss:0.36292\teval-logloss:0.38613\n",
      "[85]\ttrain-logloss:0.36284\teval-logloss:0.38620\n",
      "[86]\ttrain-logloss:0.36283\teval-logloss:0.38621\n",
      "[87]\ttrain-logloss:0.36270\teval-logloss:0.38629\n",
      "[88]\ttrain-logloss:0.36268\teval-logloss:0.38630\n",
      "[89]\ttrain-logloss:0.36246\teval-logloss:0.38634\n",
      "[90]\ttrain-logloss:0.36241\teval-logloss:0.38633\n",
      "[91]\ttrain-logloss:0.36238\teval-logloss:0.38634\n",
      "[92]\ttrain-logloss:0.36230\teval-logloss:0.38639\n",
      "[93]\ttrain-logloss:0.36218\teval-logloss:0.38640\n",
      "[94]\ttrain-logloss:0.36216\teval-logloss:0.38642\n",
      "[95]\ttrain-logloss:0.36202\teval-logloss:0.38643\n",
      "[96]\ttrain-logloss:0.36196\teval-logloss:0.38643\n",
      "[97]\ttrain-logloss:0.36193\teval-logloss:0.38644\n",
      "[98]\ttrain-logloss:0.36186\teval-logloss:0.38649\n",
      "[99]\ttrain-logloss:0.36177\teval-logloss:0.38652\n",
      "[100]\ttrain-logloss:0.36175\teval-logloss:0.38654\n",
      "[101]\ttrain-logloss:0.36163\teval-logloss:0.38657\n",
      "[102]\ttrain-logloss:0.36149\teval-logloss:0.38662\n",
      "[103]\ttrain-logloss:0.36135\teval-logloss:0.38664\n",
      "[104]\ttrain-logloss:0.36121\teval-logloss:0.38662\n",
      "[105]\ttrain-logloss:0.36114\teval-logloss:0.38669\n",
      "[106]\ttrain-logloss:0.36110\teval-logloss:0.38675\n",
      "[107]\ttrain-logloss:0.36095\teval-logloss:0.38676\n",
      "[108]\ttrain-logloss:0.36094\teval-logloss:0.38677\n",
      "[109]\ttrain-logloss:0.36083\teval-logloss:0.38682\n",
      "[110]\ttrain-logloss:0.36069\teval-logloss:0.38681\n",
      "[111]\ttrain-logloss:0.36068\teval-logloss:0.38682\n",
      "[112]\ttrain-logloss:0.36062\teval-logloss:0.38683\n",
      "[113]\ttrain-logloss:0.36046\teval-logloss:0.38686\n",
      "[114]\ttrain-logloss:0.36031\teval-logloss:0.38682\n",
      "[115]\ttrain-logloss:0.36015\teval-logloss:0.38683\n",
      "[116]\ttrain-logloss:0.36007\teval-logloss:0.38681\n",
      "[117]\ttrain-logloss:0.35997\teval-logloss:0.38687\n",
      "[118]\ttrain-logloss:0.35996\teval-logloss:0.38689\n",
      "[119]\ttrain-logloss:0.35989\teval-logloss:0.38689\n",
      "[120]\ttrain-logloss:0.35973\teval-logloss:0.38692\n",
      "[121]\ttrain-logloss:0.35963\teval-logloss:0.38692\n",
      "[122]\ttrain-logloss:0.35957\teval-logloss:0.38693\n",
      "[123]\ttrain-logloss:0.35955\teval-logloss:0.38694\n",
      "[124]\ttrain-logloss:0.35945\teval-logloss:0.38692\n",
      "[125]\ttrain-logloss:0.35944\teval-logloss:0.38693\n",
      "[126]\ttrain-logloss:0.35928\teval-logloss:0.38698\n",
      "[127]\ttrain-logloss:0.35918\teval-logloss:0.38698\n",
      "[128]\ttrain-logloss:0.35903\teval-logloss:0.38706\n",
      "[129]\ttrain-logloss:0.35896\teval-logloss:0.38711\n",
      "[130]\ttrain-logloss:0.35884\teval-logloss:0.38716\n",
      "[131]\ttrain-logloss:0.35877\teval-logloss:0.38722\n",
      "[132]\ttrain-logloss:0.35866\teval-logloss:0.38727\n",
      "[133]\ttrain-logloss:0.35858\teval-logloss:0.38727\n",
      "[134]\ttrain-logloss:0.35857\teval-logloss:0.38728\n",
      "[135]\ttrain-logloss:0.35851\teval-logloss:0.38727\n",
      "[136]\ttrain-logloss:0.35845\teval-logloss:0.38729\n",
      "[137]\ttrain-logloss:0.35840\teval-logloss:0.38728\n",
      "[138]\ttrain-logloss:0.35836\teval-logloss:0.38728\n",
      "[139]\ttrain-logloss:0.35835\teval-logloss:0.38729\n",
      "[140]\ttrain-logloss:0.35827\teval-logloss:0.38729\n",
      "[141]\ttrain-logloss:0.35809\teval-logloss:0.38734\n",
      "[142]\ttrain-logloss:0.35797\teval-logloss:0.38733\n",
      "[143]\ttrain-logloss:0.35784\teval-logloss:0.38734\n",
      "[144]\ttrain-logloss:0.35783\teval-logloss:0.38735\n",
      "[145]\ttrain-logloss:0.35770\teval-logloss:0.38739\n",
      "[146]\ttrain-logloss:0.35763\teval-logloss:0.38742\n",
      "[147]\ttrain-logloss:0.35739\teval-logloss:0.38751\n",
      "[148]\ttrain-logloss:0.35728\teval-logloss:0.38755\n",
      "[149]\ttrain-logloss:0.35711\teval-logloss:0.38755\n",
      "[150]\ttrain-logloss:0.35700\teval-logloss:0.38760\n",
      "[151]\ttrain-logloss:0.35690\teval-logloss:0.38758\n",
      "[152]\ttrain-logloss:0.35689\teval-logloss:0.38759\n",
      "[153]\ttrain-logloss:0.35685\teval-logloss:0.38760\n",
      "[154]\ttrain-logloss:0.35681\teval-logloss:0.38760\n",
      "[155]\ttrain-logloss:0.35676\teval-logloss:0.38761\n",
      "[156]\ttrain-logloss:0.35662\teval-logloss:0.38761\n",
      "[157]\ttrain-logloss:0.35654\teval-logloss:0.38763\n",
      "[158]\ttrain-logloss:0.35649\teval-logloss:0.38767\n",
      "[159]\ttrain-logloss:0.35635\teval-logloss:0.38770\n",
      "[160]\ttrain-logloss:0.35626\teval-logloss:0.38772\n"
     ]
    },
    {
     "name": "stdout",
     "output_type": "stream",
     "text": [
      "[161]\ttrain-logloss:0.35618\teval-logloss:0.38778\n",
      "[162]\ttrain-logloss:0.35614\teval-logloss:0.38782\n",
      "[163]\ttrain-logloss:0.35602\teval-logloss:0.38783\n",
      "[164]\ttrain-logloss:0.35596\teval-logloss:0.38786\n",
      "[165]\ttrain-logloss:0.35578\teval-logloss:0.38790\n",
      "[166]\ttrain-logloss:0.35568\teval-logloss:0.38793\n",
      "[167]\ttrain-logloss:0.35560\teval-logloss:0.38797\n",
      "[168]\ttrain-logloss:0.35546\teval-logloss:0.38795\n",
      "[169]\ttrain-logloss:0.35541\teval-logloss:0.38796\n",
      "[170]\ttrain-logloss:0.35531\teval-logloss:0.38797\n",
      "[171]\ttrain-logloss:0.35513\teval-logloss:0.38808\n",
      "[172]\ttrain-logloss:0.35506\teval-logloss:0.38810\n",
      "[173]\ttrain-logloss:0.35496\teval-logloss:0.38812\n",
      "[174]\ttrain-logloss:0.35491\teval-logloss:0.38813\n",
      "[175]\ttrain-logloss:0.35488\teval-logloss:0.38813\n",
      "[176]\ttrain-logloss:0.35483\teval-logloss:0.38813\n",
      "[177]\ttrain-logloss:0.35472\teval-logloss:0.38817\n",
      "[178]\ttrain-logloss:0.35466\teval-logloss:0.38819\n",
      "[179]\ttrain-logloss:0.35458\teval-logloss:0.38822\n",
      "[180]\ttrain-logloss:0.35447\teval-logloss:0.38832\n",
      "[181]\ttrain-logloss:0.35440\teval-logloss:0.38833\n",
      "[182]\ttrain-logloss:0.35439\teval-logloss:0.38834\n",
      "[183]\ttrain-logloss:0.35426\teval-logloss:0.38839\n",
      "[184]\ttrain-logloss:0.35413\teval-logloss:0.38841\n",
      "[185]\ttrain-logloss:0.35410\teval-logloss:0.38841\n",
      "[186]\ttrain-logloss:0.35406\teval-logloss:0.38842\n",
      "[187]\ttrain-logloss:0.35405\teval-logloss:0.38843\n",
      "[188]\ttrain-logloss:0.35397\teval-logloss:0.38845\n",
      "[189]\ttrain-logloss:0.35385\teval-logloss:0.38850\n",
      "[190]\ttrain-logloss:0.35373\teval-logloss:0.38849\n",
      "[191]\ttrain-logloss:0.35366\teval-logloss:0.38850\n",
      "[192]\ttrain-logloss:0.35356\teval-logloss:0.38848\n",
      "[193]\ttrain-logloss:0.35340\teval-logloss:0.38849\n",
      "[194]\ttrain-logloss:0.35330\teval-logloss:0.38847\n",
      "[195]\ttrain-logloss:0.35328\teval-logloss:0.38848\n",
      "[196]\ttrain-logloss:0.35315\teval-logloss:0.38853\n",
      "[197]\ttrain-logloss:0.35310\teval-logloss:0.38856\n",
      "[198]\ttrain-logloss:0.35299\teval-logloss:0.38860\n",
      "[199]\ttrain-logloss:0.35293\teval-logloss:0.38867\n",
      "[200]\ttrain-logloss:0.35286\teval-logloss:0.38869\n",
      "[201]\ttrain-logloss:0.35277\teval-logloss:0.38864\n",
      "[202]\ttrain-logloss:0.35268\teval-logloss:0.38865\n",
      "[203]\ttrain-logloss:0.35265\teval-logloss:0.38866\n",
      "[204]\ttrain-logloss:0.35264\teval-logloss:0.38867\n",
      "[205]\ttrain-logloss:0.35251\teval-logloss:0.38873\n",
      "[206]\ttrain-logloss:0.35246\teval-logloss:0.38871\n",
      "[207]\ttrain-logloss:0.35238\teval-logloss:0.38873\n",
      "[208]\ttrain-logloss:0.35226\teval-logloss:0.38876\n",
      "[209]\ttrain-logloss:0.35222\teval-logloss:0.38879\n",
      "[210]\ttrain-logloss:0.35214\teval-logloss:0.38880\n",
      "[211]\ttrain-logloss:0.35207\teval-logloss:0.38887\n",
      "[212]\ttrain-logloss:0.35202\teval-logloss:0.38887\n",
      "[213]\ttrain-logloss:0.35197\teval-logloss:0.38887\n",
      "[214]\ttrain-logloss:0.35190\teval-logloss:0.38886\n",
      "[215]\ttrain-logloss:0.35185\teval-logloss:0.38886\n",
      "[216]\ttrain-logloss:0.35175\teval-logloss:0.38887\n",
      "[217]\ttrain-logloss:0.35168\teval-logloss:0.38894\n",
      "[218]\ttrain-logloss:0.35162\teval-logloss:0.38898\n",
      "[219]\ttrain-logloss:0.35150\teval-logloss:0.38898\n",
      "[220]\ttrain-logloss:0.35140\teval-logloss:0.38899\n",
      "[221]\ttrain-logloss:0.35137\teval-logloss:0.38899\n",
      "[222]\ttrain-logloss:0.35133\teval-logloss:0.38902\n",
      "[223]\ttrain-logloss:0.35115\teval-logloss:0.38906\n",
      "[224]\ttrain-logloss:0.35099\teval-logloss:0.38913\n",
      "[225]\ttrain-logloss:0.35094\teval-logloss:0.38916\n",
      "[226]\ttrain-logloss:0.35090\teval-logloss:0.38917\n",
      "[227]\ttrain-logloss:0.35078\teval-logloss:0.38916\n",
      "[228]\ttrain-logloss:0.35072\teval-logloss:0.38918\n",
      "[229]\ttrain-logloss:0.35062\teval-logloss:0.38919\n",
      "[230]\ttrain-logloss:0.35053\teval-logloss:0.38922\n",
      "[231]\ttrain-logloss:0.35052\teval-logloss:0.38923\n",
      "[232]\ttrain-logloss:0.35051\teval-logloss:0.38925\n",
      "[233]\ttrain-logloss:0.35048\teval-logloss:0.38929\n",
      "[234]\ttrain-logloss:0.35041\teval-logloss:0.38929\n",
      "[235]\ttrain-logloss:0.35034\teval-logloss:0.38929\n",
      "[236]\ttrain-logloss:0.35027\teval-logloss:0.38932\n",
      "[237]\ttrain-logloss:0.35016\teval-logloss:0.38938\n",
      "[238]\ttrain-logloss:0.35007\teval-logloss:0.38939\n",
      "[239]\ttrain-logloss:0.35000\teval-logloss:0.38942\n",
      "[240]\ttrain-logloss:0.34993\teval-logloss:0.38944\n",
      "[241]\ttrain-logloss:0.34989\teval-logloss:0.38948\n",
      "[242]\ttrain-logloss:0.34982\teval-logloss:0.38951\n",
      "[243]\ttrain-logloss:0.34970\teval-logloss:0.38949\n",
      "[244]\ttrain-logloss:0.34966\teval-logloss:0.38954\n",
      "[245]\ttrain-logloss:0.34963\teval-logloss:0.38954\n",
      "[246]\ttrain-logloss:0.34956\teval-logloss:0.38956\n",
      "[247]\ttrain-logloss:0.34955\teval-logloss:0.38958\n",
      "[248]\ttrain-logloss:0.34948\teval-logloss:0.38963\n",
      "[249]\ttrain-logloss:0.34942\teval-logloss:0.38964\n",
      "[250]\ttrain-logloss:0.34937\teval-logloss:0.38965\n",
      "[251]\ttrain-logloss:0.34937\teval-logloss:0.38966\n",
      "[252]\ttrain-logloss:0.34919\teval-logloss:0.38973\n",
      "[253]\ttrain-logloss:0.34911\teval-logloss:0.38975\n",
      "[254]\ttrain-logloss:0.34896\teval-logloss:0.38973\n",
      "[255]\ttrain-logloss:0.34893\teval-logloss:0.38974\n",
      "[256]\ttrain-logloss:0.34885\teval-logloss:0.38975\n",
      "[257]\ttrain-logloss:0.34881\teval-logloss:0.38978\n",
      "[258]\ttrain-logloss:0.34873\teval-logloss:0.38981\n",
      "[259]\ttrain-logloss:0.34869\teval-logloss:0.38986\n",
      "[260]\ttrain-logloss:0.34860\teval-logloss:0.38984\n",
      "[261]\ttrain-logloss:0.34850\teval-logloss:0.38986\n",
      "[262]\ttrain-logloss:0.34840\teval-logloss:0.38992\n",
      "[263]\ttrain-logloss:0.34832\teval-logloss:0.38999\n",
      "[264]\ttrain-logloss:0.34824\teval-logloss:0.39003\n",
      "[265]\ttrain-logloss:0.34823\teval-logloss:0.39004\n",
      "[266]\ttrain-logloss:0.34818\teval-logloss:0.39007\n",
      "[267]\ttrain-logloss:0.34804\teval-logloss:0.39011\n",
      "[268]\ttrain-logloss:0.34799\teval-logloss:0.39015\n",
      "[269]\ttrain-logloss:0.34793\teval-logloss:0.39020\n",
      "[270]\ttrain-logloss:0.34782\teval-logloss:0.39026\n",
      "[271]\ttrain-logloss:0.34773\teval-logloss:0.39026\n",
      "[272]\ttrain-logloss:0.34771\teval-logloss:0.39027\n",
      "[273]\ttrain-logloss:0.34748\teval-logloss:0.39031\n",
      "[274]\ttrain-logloss:0.34743\teval-logloss:0.39036\n",
      "[275]\ttrain-logloss:0.34737\teval-logloss:0.39040\n",
      "[276]\ttrain-logloss:0.34736\teval-logloss:0.39041\n",
      "[277]\ttrain-logloss:0.34724\teval-logloss:0.39044\n",
      "[278]\ttrain-logloss:0.34714\teval-logloss:0.39046\n",
      "[279]\ttrain-logloss:0.34711\teval-logloss:0.39052\n",
      "[280]\ttrain-logloss:0.34708\teval-logloss:0.39053\n",
      "[281]\ttrain-logloss:0.34707\teval-logloss:0.39054\n",
      "[282]\ttrain-logloss:0.34703\teval-logloss:0.39056\n",
      "[283]\ttrain-logloss:0.34698\teval-logloss:0.39059\n",
      "[284]\ttrain-logloss:0.34687\teval-logloss:0.39058\n",
      "[285]\ttrain-logloss:0.34678\teval-logloss:0.39060\n",
      "[286]\ttrain-logloss:0.34666\teval-logloss:0.39062\n",
      "[287]\ttrain-logloss:0.34663\teval-logloss:0.39064\n",
      "[288]\ttrain-logloss:0.34660\teval-logloss:0.39067\n",
      "[289]\ttrain-logloss:0.34649\teval-logloss:0.39068\n",
      "[290]\ttrain-logloss:0.34637\teval-logloss:0.39073\n",
      "[291]\ttrain-logloss:0.34629\teval-logloss:0.39079\n",
      "[292]\ttrain-logloss:0.34619\teval-logloss:0.39082\n",
      "[293]\ttrain-logloss:0.34615\teval-logloss:0.39086\n",
      "[294]\ttrain-logloss:0.34608\teval-logloss:0.39093\n",
      "[295]\ttrain-logloss:0.34597\teval-logloss:0.39095\n",
      "[296]\ttrain-logloss:0.34589\teval-logloss:0.39094\n",
      "[297]\ttrain-logloss:0.34580\teval-logloss:0.39099\n",
      "[298]\ttrain-logloss:0.34572\teval-logloss:0.39103\n",
      "[299]\ttrain-logloss:0.34566\teval-logloss:0.39105\n",
      "[300]\ttrain-logloss:0.34555\teval-logloss:0.39110\n",
      "[301]\ttrain-logloss:0.34545\teval-logloss:0.39117\n",
      "[302]\ttrain-logloss:0.34539\teval-logloss:0.39119\n",
      "[303]\ttrain-logloss:0.34536\teval-logloss:0.39125\n",
      "[304]\ttrain-logloss:0.34535\teval-logloss:0.39126\n",
      "[305]\ttrain-logloss:0.34533\teval-logloss:0.39127\n",
      "[306]\ttrain-logloss:0.34526\teval-logloss:0.39126\n",
      "[307]\ttrain-logloss:0.34514\teval-logloss:0.39126\n",
      "[308]\ttrain-logloss:0.34503\teval-logloss:0.39130\n",
      "[309]\ttrain-logloss:0.34495\teval-logloss:0.39129\n",
      "[310]\ttrain-logloss:0.34484\teval-logloss:0.39135\n",
      "[311]\ttrain-logloss:0.34472\teval-logloss:0.39136\n",
      "[312]\ttrain-logloss:0.34466\teval-logloss:0.39138\n",
      "[313]\ttrain-logloss:0.34456\teval-logloss:0.39143\n",
      "[314]\ttrain-logloss:0.34443\teval-logloss:0.39141\n",
      "[315]\ttrain-logloss:0.34433\teval-logloss:0.39151\n",
      "[316]\ttrain-logloss:0.34423\teval-logloss:0.39151\n",
      "[317]\ttrain-logloss:0.34421\teval-logloss:0.39156\n",
      "[318]\ttrain-logloss:0.34419\teval-logloss:0.39157\n",
      "[319]\ttrain-logloss:0.34408\teval-logloss:0.39156\n",
      "[320]\ttrain-logloss:0.34396\teval-logloss:0.39160\n",
      "[321]\ttrain-logloss:0.34389\teval-logloss:0.39161\n",
      "[322]\ttrain-logloss:0.34380\teval-logloss:0.39164\n",
      "[323]\ttrain-logloss:0.34370\teval-logloss:0.39166\n",
      "[324]\ttrain-logloss:0.34365\teval-logloss:0.39166\n",
      "[325]\ttrain-logloss:0.34355\teval-logloss:0.39169\n",
      "[326]\ttrain-logloss:0.34348\teval-logloss:0.39175\n",
      "[327]\ttrain-logloss:0.34338\teval-logloss:0.39176\n",
      "[328]\ttrain-logloss:0.34330\teval-logloss:0.39179\n"
     ]
    },
    {
     "name": "stdout",
     "output_type": "stream",
     "text": [
      "[329]\ttrain-logloss:0.34324\teval-logloss:0.39181\n",
      "[330]\ttrain-logloss:0.34324\teval-logloss:0.39182\n",
      "[331]\ttrain-logloss:0.34321\teval-logloss:0.39182\n",
      "[332]\ttrain-logloss:0.34319\teval-logloss:0.39183\n",
      "[333]\ttrain-logloss:0.34306\teval-logloss:0.39184\n",
      "[334]\ttrain-logloss:0.34299\teval-logloss:0.39191\n",
      "[335]\ttrain-logloss:0.34295\teval-logloss:0.39192\n",
      "[336]\ttrain-logloss:0.34280\teval-logloss:0.39193\n",
      "[337]\ttrain-logloss:0.34273\teval-logloss:0.39199\n",
      "[338]\ttrain-logloss:0.34263\teval-logloss:0.39197\n",
      "[339]\ttrain-logloss:0.34255\teval-logloss:0.39199\n",
      "[340]\ttrain-logloss:0.34244\teval-logloss:0.39201\n",
      "[341]\ttrain-logloss:0.34233\teval-logloss:0.39204\n",
      "[342]\ttrain-logloss:0.34225\teval-logloss:0.39208\n",
      "[343]\ttrain-logloss:0.34219\teval-logloss:0.39203\n",
      "[344]\ttrain-logloss:0.34210\teval-logloss:0.39209\n",
      "[345]\ttrain-logloss:0.34203\teval-logloss:0.39212\n",
      "[346]\ttrain-logloss:0.34195\teval-logloss:0.39216\n",
      "[347]\ttrain-logloss:0.34185\teval-logloss:0.39214\n",
      "[348]\ttrain-logloss:0.34176\teval-logloss:0.39218\n",
      "[349]\ttrain-logloss:0.34174\teval-logloss:0.39223\n",
      "[350]\ttrain-logloss:0.34166\teval-logloss:0.39220\n",
      "[351]\ttrain-logloss:0.34161\teval-logloss:0.39218\n",
      "[352]\ttrain-logloss:0.34151\teval-logloss:0.39222\n",
      "[353]\ttrain-logloss:0.34147\teval-logloss:0.39227\n",
      "[354]\ttrain-logloss:0.34138\teval-logloss:0.39232\n",
      "[355]\ttrain-logloss:0.34131\teval-logloss:0.39232\n",
      "[356]\ttrain-logloss:0.34131\teval-logloss:0.39234\n",
      "[357]\ttrain-logloss:0.34122\teval-logloss:0.39236\n",
      "[358]\ttrain-logloss:0.34114\teval-logloss:0.39241\n",
      "[359]\ttrain-logloss:0.34108\teval-logloss:0.39241\n",
      "[360]\ttrain-logloss:0.34102\teval-logloss:0.39243\n",
      "[361]\ttrain-logloss:0.34097\teval-logloss:0.39245\n",
      "[362]\ttrain-logloss:0.34092\teval-logloss:0.39248\n",
      "[363]\ttrain-logloss:0.34084\teval-logloss:0.39251\n",
      "[364]\ttrain-logloss:0.34079\teval-logloss:0.39255\n",
      "[365]\ttrain-logloss:0.34067\teval-logloss:0.39259\n",
      "[366]\ttrain-logloss:0.34053\teval-logloss:0.39265\n",
      "[367]\ttrain-logloss:0.34045\teval-logloss:0.39264\n",
      "[368]\ttrain-logloss:0.34042\teval-logloss:0.39271\n",
      "[369]\ttrain-logloss:0.34034\teval-logloss:0.39275\n",
      "[370]\ttrain-logloss:0.34027\teval-logloss:0.39273\n",
      "[371]\ttrain-logloss:0.34020\teval-logloss:0.39276\n",
      "[372]\ttrain-logloss:0.34014\teval-logloss:0.39274\n",
      "[373]\ttrain-logloss:0.34003\teval-logloss:0.39277\n",
      "[374]\ttrain-logloss:0.33996\teval-logloss:0.39277\n",
      "[375]\ttrain-logloss:0.33991\teval-logloss:0.39281\n",
      "[376]\ttrain-logloss:0.33983\teval-logloss:0.39284\n",
      "[377]\ttrain-logloss:0.33979\teval-logloss:0.39289\n",
      "[378]\ttrain-logloss:0.33976\teval-logloss:0.39292\n",
      "[379]\ttrain-logloss:0.33967\teval-logloss:0.39292\n",
      "[380]\ttrain-logloss:0.33961\teval-logloss:0.39296\n",
      "[381]\ttrain-logloss:0.33955\teval-logloss:0.39295\n",
      "[382]\ttrain-logloss:0.33948\teval-logloss:0.39299\n",
      "[383]\ttrain-logloss:0.33932\teval-logloss:0.39299\n",
      "[384]\ttrain-logloss:0.33927\teval-logloss:0.39299\n",
      "[385]\ttrain-logloss:0.33918\teval-logloss:0.39306\n",
      "[386]\ttrain-logloss:0.33906\teval-logloss:0.39306\n",
      "[387]\ttrain-logloss:0.33898\teval-logloss:0.39309\n",
      "[388]\ttrain-logloss:0.33887\teval-logloss:0.39310\n",
      "[389]\ttrain-logloss:0.33879\teval-logloss:0.39316\n",
      "[390]\ttrain-logloss:0.33878\teval-logloss:0.39317\n",
      "[391]\ttrain-logloss:0.33867\teval-logloss:0.39317\n",
      "[392]\ttrain-logloss:0.33865\teval-logloss:0.39320\n",
      "[393]\ttrain-logloss:0.33864\teval-logloss:0.39321\n",
      "[394]\ttrain-logloss:0.33860\teval-logloss:0.39324\n",
      "[395]\ttrain-logloss:0.33855\teval-logloss:0.39327\n",
      "[396]\ttrain-logloss:0.33848\teval-logloss:0.39330\n",
      "[397]\ttrain-logloss:0.33844\teval-logloss:0.39330\n",
      "[398]\ttrain-logloss:0.33840\teval-logloss:0.39335\n",
      "[399]\ttrain-logloss:0.33832\teval-logloss:0.39337\n"
     ]
    }
   ],
   "source": [
    "# train 데이터 세트는 'train', evaluation(test) 데이터 세트는 'eval' 로 명기\n",
    "wlist = [(dtrain, 'train'), (dtest,'eval')]\n",
    "# 하이퍼 파라미터와 early stopping 파라미터를 train() 함수의 파라미터로 전달\n",
    "xgb_model = xgb.train(params = params, dtrain=dtrain, num_boost_round=num_rounds, evals=wlist)"
   ]
  },
  {
   "cell_type": "code",
   "execution_count": 17,
   "id": "47f3b187",
   "metadata": {},
   "outputs": [
    {
     "name": "stdout",
     "output_type": "stream",
     "text": [
      "[19:32:40] WARNING: C:/Users/Administrator/workspace/xgboost-win64_release_1.5.1/src/learner.cc:1115: Starting in XGBoost 1.3.0, the default evaluation metric used with the objective 'binary:logistic' was changed from 'error' to 'logloss'. Explicitly set eval_metric if you'd like to restore the old behavior.\n",
      "The time of execution of above program is : 14.760861158370972\n"
     ]
    }
   ],
   "source": [
    "from xgboost import XGBClassifier\n",
    "\n",
    "start = time.time()\n",
    "\n",
    "xgb_model = XGBClassifier(n_estimators = 400, learning_rate = 0.1, max_depth = 3)\n",
    "xgb_model.fit(x_NewTrain, y_NewTrain)  \n",
    "\n",
    "end = time.time()\n",
    "\n",
    "print(\"The time of execution of above program is :\", end-start)"
   ]
  },
  {
   "cell_type": "markdown",
   "id": "adb1bfac",
   "metadata": {},
   "source": [
    "##### train( ) 을 통해 학습을 수행하면 반복시 train-logloss와 eval-logloss가 지속적으로 감소하는 것을 확인 .\n",
    "##### xgboost를 이용해 학습이 완료됐으면 predict()를 이용해 예측을 수행."
   ]
  },
  {
   "cell_type": "code",
   "execution_count": 19,
   "id": "e3c84b5e",
   "metadata": {},
   "outputs": [
    {
     "ename": "NameError",
     "evalue": "name 'xgboost' is not defined",
     "output_type": "error",
     "traceback": [
      "\u001b[1;31m---------------------------------------------------------------------------\u001b[0m",
      "\u001b[1;31mNameError\u001b[0m                                 Traceback (most recent call last)",
      "\u001b[1;32m~\\AppData\\Local\\Temp/ipykernel_16768/4153765799.py\u001b[0m in \u001b[0;36m<module>\u001b[1;34m\u001b[0m\n\u001b[1;32m----> 1\u001b[1;33m \u001b[0mxgboost\u001b[0m\u001b[1;33m.\u001b[0m\u001b[0mplot_importance\u001b[0m\u001b[1;33m(\u001b[0m\u001b[0mxgb_model\u001b[0m\u001b[1;33m)\u001b[0m\u001b[1;33m\u001b[0m\u001b[1;33m\u001b[0m\u001b[0m\n\u001b[0m",
      "\u001b[1;31mNameError\u001b[0m: name 'xgboost' is not defined"
     ]
    }
   ],
   "source": [
    "xgboost.plot_importance(xgb_model)"
   ]
  },
  {
   "cell_type": "code",
   "execution_count": 20,
   "id": "84809346",
   "metadata": {},
   "outputs": [
    {
     "name": "stdout",
     "output_type": "stream",
     "text": [
      "예측값 10개만 표시:  [0, 1, 1, 1, 0, 0, 1, 0, 1, 1, 0, 1, 1, 0, 0, 1, 1, 1, 1, 1, 1, 1, 1, 0, 0, 1, 1, 1, 1, 1, 1, 1, 1, 1, 1, 1, 1, 0, 0, 1, 1, 0, 1, 1, 1, 1, 0, 1, 1, 0, 1, 1, 1, 1, 1, 1, 1, 0, 1, 0, 1, 0, 0, 0, 1, 1, 0, 1, 1, 0, 1, 1, 1, 0, 0, 0, 1, 0, 0, 1, 0, 1, 1, 1, 1, 1, 1, 1, 0, 0, 1, 0, 1, 1, 0, 1, 1, 0, 0, 1]\n",
      "Accuracy =  0.3785\n",
      "Precision =  0.12571149780452107\n",
      "Recall =  0.6454216532145839\n",
      "F1_Score =  0.2104355716878403\n",
      "ROC_Curve =  0.4923138093581422\n"
     ]
    }
   ],
   "source": [
    "y_pred_xgb = xgb_model.predict(x_NewTest)\n",
    "\n",
    "# 예측 확률이 0.5보다 크면 1, 그렇지 않으면 0으로 예측값 결정해 리스트 객체인 preds에 저장\n",
    "preds_xgb = [ 1 if x > 0.5 else 0 for x in y_pred_xgb]\n",
    "print('예측값 10개만 표시: ', preds_xgb[:100])\n",
    "\n",
    "#evaluaion \n",
    "Accuracy_xgb = metrics.accuracy_score(y_NewTest, preds_xgb)\n",
    "Precision_xgb = metrics.precision_score(y_NewTest , preds_xgb)\n",
    "Recall_xgb = metrics.recall_score(y_NewTest , preds_xgb)\n",
    "F1_Score_xgb = metrics.f1_score(y_NewTest , preds_xgb)\n",
    "Roc_xgb = metrics.roc_auc_score(y_NewTest, preds_xgb)\n",
    "\n",
    "# print(\" \\nRandom Forest with best (criterion , Max feature , Max depth , Number of trees) \")\n",
    "print (\"Accuracy = \" ,  Accuracy_xgb)\n",
    "print (\"Precision = \" , Precision_xgb)\n",
    "print (\"Recall = \" , Recall_xgb)\n",
    "print (\"F1_Score = \" , F1_Score_xgb)\n",
    "print (\"ROC_Curve = \" , Roc_xgb)\n",
    "\n",
    "ro.append(Roc_xgb)\n",
    "acc.append(Accuracy_xgb)\n",
    "pre.append(Precision_xgb)\n",
    "rec.append(Recall_xgb)\n",
    "f.append(F1_Score_xgb)"
   ]
  },
  {
   "cell_type": "markdown",
   "id": "c59c28ad",
   "metadata": {},
   "source": [
    "### lightGBM"
   ]
  },
  {
   "cell_type": "code",
   "execution_count": 21,
   "id": "bcf347af",
   "metadata": {},
   "outputs": [],
   "source": [
    "import lightgbm as lgb\n",
    "from lightgbm import LGBMClassifier, plot_importance\n",
    "from sklearn import metrics"
   ]
  },
  {
   "cell_type": "markdown",
   "id": "72e373a3",
   "metadata": {},
   "source": [
    "### lightGBM 데이터셋으로 변환"
   ]
  },
  {
   "cell_type": "code",
   "execution_count": 22,
   "id": "e230ca5e",
   "metadata": {},
   "outputs": [
    {
     "name": "stdout",
     "output_type": "stream",
     "text": [
      "The time of execution of above program is : 2.6866958141326904\n"
     ]
    }
   ],
   "source": [
    "start = time.time()\n",
    "\n",
    "lgb = LGBMClassifier(n_estimators= 400)\n",
    "lgb.fit(x_NewTrain, y_NewTrain.values.ravel()) \n",
    "\n",
    "end = time.time()\n",
    "\n",
    "print(\"The time of execution of above program is :\", end-start)"
   ]
  },
  {
   "cell_type": "code",
   "execution_count": 23,
   "id": "b7f78614",
   "metadata": {},
   "outputs": [],
   "source": [
    "lgb_pred = lgb.predict(x_NewTest)\n",
    "\n"
   ]
  },
  {
   "cell_type": "code",
   "execution_count": 24,
   "id": "594fbc67",
   "metadata": {},
   "outputs": [
    {
     "name": "stdout",
     "output_type": "stream",
     "text": [
      "Accuracy =  0.48396428571428574\n",
      "Precision =  0.12446381624463816\n",
      "Recall =  0.5006957973838019\n",
      "F1_Score =  0.19936831606361166\n",
      "ROC_Curve =  0.491098503026723\n"
     ]
    }
   ],
   "source": [
    "#evaluaion \n",
    "Accuracy_lgb = metrics.accuracy_score(y_NewTest, lgb_pred)\n",
    "Precision_lgb = metrics.precision_score(y_NewTest , lgb_pred)\n",
    "Recall_lgb = metrics.recall_score(y_NewTest , lgb_pred)\n",
    "F1_Score_lgb = metrics.f1_score(y_NewTest , lgb_pred)\n",
    "Roc_lgb = metrics.roc_auc_score(y_NewTest, lgb_pred)\n",
    "\n",
    "# print(\" \\nRandom Forest with best (criterion , Max feature , Max depth , Number of trees) \")\n",
    "print (\"Accuracy = \" ,  Accuracy_lgb)\n",
    "print (\"Precision = \" , Precision_lgb)\n",
    "print (\"Recall = \" , Recall_lgb)\n",
    "print (\"F1_Score = \" , F1_Score_lgb)\n",
    "print (\"ROC_Curve = \" , Roc_lgb)\n",
    "\n",
    "ro.append(Roc_lgb)\n",
    "acc.append(Accuracy_lgb)\n",
    "pre.append(Precision_lgb)\n",
    "rec.append(Recall_lgb)\n",
    "f.append(F1_Score_lgb)"
   ]
  },
  {
   "cell_type": "markdown",
   "id": "663cfbbc",
   "metadata": {},
   "source": [
    "# Original data comparison"
   ]
  },
  {
   "cell_type": "markdown",
   "id": "08fc88ba",
   "metadata": {},
   "source": [
    "# Ploting the comparison between classifiers methods"
   ]
  },
  {
   "cell_type": "code",
   "execution_count": 25,
   "id": "31a58daa",
   "metadata": {},
   "outputs": [
    {
     "name": "stderr",
     "output_type": "stream",
     "text": [
      "C:\\Users\\sangk\\AppData\\Local\\Temp/ipykernel_16768/67827197.py:2: MatplotlibDeprecationWarning: normalize=None does not normalize if the sum is less than 1 but this behavior is deprecated since 3.3 until two minor releases later. After the deprecation period the default value will be normalize=True. To prevent normalization pass normalize=False \n",
      "  plt.pie(acc,autopct='%.1f%%',labels=lab,)\n"
     ]
    },
    {
     "data": {
      "image/png": "[encoded data removed]",
      "text/plain": [
       "<Figure size 432x288 with 1 Axes>"
      ]
     },
     "metadata": {},
     "output_type": "display_data"
    }
   ],
   "source": [
    "lab = ['RF', 'XGB', 'LGB']\n",
    "plt.pie(acc,autopct='%.1f%%',labels=lab,)\n",
    "plt.title('Accuaracy')\n",
    "plt.show()"
   ]
  },
  {
   "cell_type": "code",
   "execution_count": 26,
   "id": "a22eb206",
   "metadata": {},
   "outputs": [
    {
     "name": "stderr",
     "output_type": "stream",
     "text": [
      "C:\\Users\\sangk\\AppData\\Local\\Temp/ipykernel_16768/2334403861.py:2: MatplotlibDeprecationWarning: normalize=None does not normalize if the sum is less than 1 but this behavior is deprecated since 3.3 until two minor releases later. After the deprecation period the default value will be normalize=True. To prevent normalization pass normalize=False \n",
      "  plt.pie(pre,autopct='%.1f%%',labels=lab,)\n"
     ]
    },
    {
     "data": {
      "image/png": "[encoded data removed]",
      "text/plain": [
       "<Figure size 432x288 with 1 Axes>"
      ]
     },
     "metadata": {},
     "output_type": "display_data"
    }
   ],
   "source": [
    "lab = ['RF', 'XGB', 'LGB']\n",
    "plt.pie(pre,autopct='%.1f%%',labels=lab,)\n",
    "plt.title('Precision')\n",
    "plt.show()"
   ]
  },
  {
   "cell_type": "code",
   "execution_count": 27,
   "id": "52a304b4",
   "metadata": {},
   "outputs": [
    {
     "data": {
      "image/png": "[encoded data removed]",
      "text/plain": [
       "<Figure size 432x288 with 1 Axes>"
      ]
     },
     "metadata": {},
     "output_type": "display_data"
    }
   ],
   "source": [
    "lab = ['RF', 'XGB', 'LGB']\n",
    "plt.pie(rec,autopct='%.1f%%',labels=lab,)\n",
    "plt.title('Recall')\n",
    "plt.show()"
   ]
  },
  {
   "cell_type": "code",
   "execution_count": 28,
   "id": "6b242153",
   "metadata": {},
   "outputs": [
    {
     "name": "stderr",
     "output_type": "stream",
     "text": [
      "C:\\Users\\sangk\\AppData\\Local\\Temp/ipykernel_16768/2895246925.py:2: MatplotlibDeprecationWarning: normalize=None does not normalize if the sum is less than 1 but this behavior is deprecated since 3.3 until two minor releases later. After the deprecation period the default value will be normalize=True. To prevent normalization pass normalize=False \n",
      "  plt.pie(f,autopct='%.1f%%',labels=lab,)\n"
     ]
    },
    {
     "data": {
      "image/png": "[encoded data removed]",
      "text/plain": [
       "<Figure size 432x288 with 1 Axes>"
      ]
     },
     "metadata": {},
     "output_type": "display_data"
    }
   ],
   "source": [
    "lab = ['RF', 'XGB', 'LGB']\n",
    "plt.pie(f,autopct='%.1f%%',labels=lab,)\n",
    "plt.title('F1 Score')\n",
    "plt.show()"
   ]
  },
  {
   "cell_type": "code",
   "execution_count": 29,
   "id": "9104c71e",
   "metadata": {},
   "outputs": [
    {
     "data": {
      "image/png": "[encoded data removed]",
      "text/plain": [
       "<Figure size 432x288 with 1 Axes>"
      ]
     },
     "metadata": {},
     "output_type": "display_data"
    }
   ],
   "source": [
    "lab = ['RF', 'XGB', 'LGB']\n",
    "plt.pie(ro,autopct='%.1f%%',labels=lab,)\n",
    "plt.title('ROC_Score')\n",
    "plt.show()"
   ]
  },
  {
   "cell_type": "code",
   "execution_count": null,
   "id": "0eb2d94c",
   "metadata": {},
   "outputs": [],
   "source": []
  }
 ],
 "metadata": {
  "kernelspec": {
   "display_name": "Python 3 (ipykernel)",
   "language": "python",
   "name": "python3"
  },
  "language_info": {
   "codemirror_mode": {
    "name": "ipython",
    "version": 3
   },
   "file_extension": ".py",
   "mimetype": "text/x-python",
   "name": "python",
   "nbconvert_exporter": "python",
   "pygments_lexer": "ipython3",
   "version": "3.9.7"
  }
 },
 "nbformat": 4,
 "nbformat_minor": 5
}
