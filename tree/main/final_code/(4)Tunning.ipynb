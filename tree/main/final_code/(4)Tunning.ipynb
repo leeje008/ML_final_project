{
  "nbformat": 4,
  "nbformat_minor": 0,
  "metadata": {
    "colab": {
      "name": "(4)Tunning.ipynb",
      "provenance": [],
      "authorship_tag": "ABX9TyO1GF7WkxfPTekrD3h4/rgh",
      "include_colab_link": true
    },
    "kernelspec": {
      "name": "python3",
      "display_name": "Python 3"
    },
    "language_info": {
      "name": "python"
    },
    "accelerator": "GPU"
  },
  "cells": [
    {
      "cell_type": "markdown",
      "metadata": {
        "id": "view-in-github",
        "colab_type": "text"
      },
      "source": [
        "<a href=\"https://colab.research.google.com/github/leeje008/ML_final_project/blob/main/tree/main/final_code/(4)Tunning.ipynb\" target=\"_parent\"><img src=\"https://colab.research.google.com/assets/colab-badge.svg\" alt=\"Open In Colab\"/></a>"
      ]
    },
    {
      "cell_type": "code",
      "metadata": {
        "colab": {
          "base_uri": "https://localhost:8080/"
        },
        "id": "GxG8f5YSe3kF",
        "outputId": "121c4bed-a4bd-47c2-9bac-1a24253240fd"
      },
      "source": [
        "from google.colab import drive\n",
        "drive.mount('/content/drive')"
      ],
      "execution_count": null,
      "outputs": [
        {
          "output_type": "stream",
          "name": "stdout",
          "text": [
            "Mounted at /content/drive\n"
          ]
        }
      ]
    },
    {
      "cell_type": "markdown",
      "source": [
        "# Using Colab"
      ],
      "metadata": {
        "id": "NZHkcA30f1Ec"
      }
    },
    {
      "cell_type": "code",
      "metadata": {
        "id": "5Rln1Roee6pK"
      },
      "source": [
        "import time\n",
        "import numpy as np\n",
        "import pandas as pd\n",
        "from sklearn.model_selection import train_test_split\n",
        "from sklearn.model_selection import KFold\n",
        "from sklearn.model_selection import StratifiedKFold\n",
        "from sklearn.model_selection import GridSearchCV \n",
        "from sklearn.metrics import  confusion_matrix,recall_score,precision_score,accuracy_score\n",
        "from imblearn.metrics import geometric_mean_score\n",
        "from sklearn.tree import DecisionTreeClassifier\n",
        "from sklearn.ensemble import RandomForestClassifier  \n",
        "from xgboost import XGBClassifier\n",
        "import lightgbm as lgb\n",
        "from lightgbm import LGBMClassifier\n",
        "from sklearn.neighbors import KNeighborsClassifier\n",
        "from sklearn.model_selection import cross_val_score\n",
        "from imblearn.over_sampling import SMOTE\n",
        "\n",
        "\n",
        "\n",
        "\n",
        "def get_clf_eval(y_test,pred):\n",
        "    confusion = confusion_matrix(y_test, pred)\n",
        "    accuracy = accuracy_score(y_test, pred)\n",
        "    precision = precision_score(y_test, pred)\n",
        "    recall = recall_score(y_test, pred)\n",
        "    roc = roc_auc_score(y_test, pred)\n",
        "    g_mean = geometric_mean_score(y_test, pred)\n",
        "    print('오차행렬')\n",
        "    print(confusion)\n",
        "    print('정확도: {0:4f}, 정밀도 {1:4f}, 재현율 {2:4f}, AUC {3:4f},G_MEAN {4:4f}'.format(accuracy , precision , recall,roc,g_mean))\n",
        "    \n",
        "\n",
        "def get_model_train_eval(model,ftr_train = None, ftr_test = None, tgt_train = None, tgt_test = None):\n",
        "    model.fit(ftr_train, tgt_train)\n",
        "    pred = model.predict(ftr_test)\n",
        "    get_clf_eval(tgt_test, pred)\n",
        "\n",
        "\n",
        "\n",
        "import warnings\n",
        "warnings.filterwarnings(action='ignore')"
      ],
      "execution_count": null,
      "outputs": []
    },
    {
      "cell_type": "code",
      "metadata": {
        "id": "kTqQWYNVe6rp"
      },
      "source": [
        "df = pd.read_csv('/content/drive/MyDrive/Loan_Train.csv')\n",
        "df.head()\n",
        "\n",
        "df = df.drop('Id',axis = 1)\n",
        "\n",
        "\n",
        "from sklearn.preprocessing import LabelEncoder\n",
        "\n",
        "labelEncoder = LabelEncoder()\n",
        "\n",
        "data = df\n",
        "\n",
        "\n",
        "for e in data.columns:\n",
        "    if data[e].dtype == 'object':\n",
        "        labelEncoder.fit(list(data[e].values))\n",
        "        data[e] = labelEncoder.transform(data[e].values)\n",
        "        \n",
        "        # Accommodate the data that has been changed\n",
        "        df = data\n",
        "        \n",
        "y = df.Risk_Flag\n",
        "X = df.drop('Risk_Flag', axis=1)\n",
        "\n",
        "\n",
        "X_train, X_test, y_train, y_test = train_test_split(X,\n",
        "                                                   y,\n",
        "                                                   test_size=0.3,\n",
        "                                                   random_state=101)\n",
        "\n"
      ],
      "execution_count": null,
      "outputs": []
    },
    {
      "cell_type": "markdown",
      "metadata": {
        "id": "jiJJw0OQv6ma"
      },
      "source": [
        "# Hyperpameter tunning RF"
      ]
    },
    {
      "cell_type": "code",
      "metadata": {
        "id": "xaD5rdfvoIZh",
        "colab": {
          "base_uri": "https://localhost:8080/"
        },
        "outputId": "fb448e2d-94f6-4ea6-e709-6fc045a82f4c"
      },
      "source": [
        "! pip install smote-variants\n",
        "\n",
        "from imblearn.pipeline import Pipeline\n",
        "from imblearn.over_sampling import SMOTE\n",
        "from imblearn.over_sampling import SVMSMOTE\n",
        "from imblearn.over_sampling import ADASYN\n",
        "import smote_variants as sv\n",
        "from sklearn.metrics import roc_auc_score, make_scorer"
      ],
      "execution_count": null,
      "outputs": [
        {
          "output_type": "stream",
          "name": "stdout",
          "text": [
            "Collecting smote-variants\n",
            "  Downloading smote_variants-0.4.0-py3-none-any.whl (134 kB)\n",
            "\u001b[?25l\r\u001b[K     |██▍                             | 10 kB 21.8 MB/s eta 0:00:01\r\u001b[K     |████▉                           | 20 kB 26.4 MB/s eta 0:00:01\r\u001b[K     |███████▎                        | 30 kB 23.1 MB/s eta 0:00:01\r\u001b[K     |█████████▊                      | 40 kB 18.3 MB/s eta 0:00:01\r\u001b[K     |████████████▏                   | 51 kB 8.2 MB/s eta 0:00:01\r\u001b[K     |██████████████▋                 | 61 kB 9.5 MB/s eta 0:00:01\r\u001b[K     |█████████████████               | 71 kB 9.1 MB/s eta 0:00:01\r\u001b[K     |███████████████████▌            | 81 kB 10.1 MB/s eta 0:00:01\r\u001b[K     |██████████████████████          | 92 kB 10.7 MB/s eta 0:00:01\r\u001b[K     |████████████████████████▍       | 102 kB 8.1 MB/s eta 0:00:01\r\u001b[K     |██████████████████████████▉     | 112 kB 8.1 MB/s eta 0:00:01\r\u001b[K     |█████████████████████████████▎  | 122 kB 8.1 MB/s eta 0:00:01\r\u001b[K     |███████████████████████████████▊| 133 kB 8.1 MB/s eta 0:00:01\r\u001b[K     |████████████████████████████████| 134 kB 8.1 MB/s \n",
            "\u001b[?25hCollecting statistics\n",
            "  Downloading statistics-1.0.3.5.tar.gz (8.3 kB)\n",
            "Requirement already satisfied: tensorflow in /usr/local/lib/python3.7/dist-packages (from smote-variants) (2.7.0)\n",
            "Requirement already satisfied: scipy in /usr/local/lib/python3.7/dist-packages (from smote-variants) (1.4.1)\n",
            "Collecting minisom\n",
            "  Downloading MiniSom-2.2.9.tar.gz (8.1 kB)\n",
            "Requirement already satisfied: mkl in /usr/local/lib/python3.7/dist-packages (from smote-variants) (2019.0)\n",
            "Requirement already satisfied: keras in /usr/local/lib/python3.7/dist-packages (from smote-variants) (2.7.0)\n",
            "Requirement already satisfied: numpy>=1.13.0 in /usr/local/lib/python3.7/dist-packages (from smote-variants) (1.19.5)\n",
            "Requirement already satisfied: scikit-learn in /usr/local/lib/python3.7/dist-packages (from smote-variants) (1.0.1)\n",
            "Requirement already satisfied: joblib in /usr/local/lib/python3.7/dist-packages (from smote-variants) (1.1.0)\n",
            "Requirement already satisfied: pandas in /usr/local/lib/python3.7/dist-packages (from smote-variants) (1.1.5)\n",
            "Requirement already satisfied: intel-openmp in /usr/local/lib/python3.7/dist-packages (from mkl->smote-variants) (2021.4.0)\n",
            "Requirement already satisfied: python-dateutil>=2.7.3 in /usr/local/lib/python3.7/dist-packages (from pandas->smote-variants) (2.8.2)\n",
            "Requirement already satisfied: pytz>=2017.2 in /usr/local/lib/python3.7/dist-packages (from pandas->smote-variants) (2018.9)\n",
            "Requirement already satisfied: six>=1.5 in /usr/local/lib/python3.7/dist-packages (from python-dateutil>=2.7.3->pandas->smote-variants) (1.15.0)\n",
            "Requirement already satisfied: threadpoolctl>=2.0.0 in /usr/local/lib/python3.7/dist-packages (from scikit-learn->smote-variants) (3.0.0)\n",
            "Requirement already satisfied: docutils>=0.3 in /usr/local/lib/python3.7/dist-packages (from statistics->smote-variants) (0.17.1)\n",
            "Requirement already satisfied: google-pasta>=0.1.1 in /usr/local/lib/python3.7/dist-packages (from tensorflow->smote-variants) (0.2.0)\n",
            "Requirement already satisfied: grpcio<2.0,>=1.24.3 in /usr/local/lib/python3.7/dist-packages (from tensorflow->smote-variants) (1.42.0)\n",
            "Requirement already satisfied: wrapt>=1.11.0 in /usr/local/lib/python3.7/dist-packages (from tensorflow->smote-variants) (1.13.3)\n",
            "Requirement already satisfied: libclang>=9.0.1 in /usr/local/lib/python3.7/dist-packages (from tensorflow->smote-variants) (12.0.0)\n",
            "Requirement already satisfied: protobuf>=3.9.2 in /usr/local/lib/python3.7/dist-packages (from tensorflow->smote-variants) (3.17.3)\n",
            "Requirement already satisfied: absl-py>=0.4.0 in /usr/local/lib/python3.7/dist-packages (from tensorflow->smote-variants) (0.12.0)\n",
            "Requirement already satisfied: typing-extensions>=3.6.6 in /usr/local/lib/python3.7/dist-packages (from tensorflow->smote-variants) (3.10.0.2)\n",
            "Requirement already satisfied: keras-preprocessing>=1.1.1 in /usr/local/lib/python3.7/dist-packages (from tensorflow->smote-variants) (1.1.2)\n",
            "Requirement already satisfied: flatbuffers<3.0,>=1.12 in /usr/local/lib/python3.7/dist-packages (from tensorflow->smote-variants) (2.0)\n",
            "Requirement already satisfied: opt-einsum>=2.3.2 in /usr/local/lib/python3.7/dist-packages (from tensorflow->smote-variants) (3.3.0)\n",
            "Requirement already satisfied: termcolor>=1.1.0 in /usr/local/lib/python3.7/dist-packages (from tensorflow->smote-variants) (1.1.0)\n",
            "Requirement already satisfied: h5py>=2.9.0 in /usr/local/lib/python3.7/dist-packages (from tensorflow->smote-variants) (3.1.0)\n",
            "Requirement already satisfied: gast<0.5.0,>=0.2.1 in /usr/local/lib/python3.7/dist-packages (from tensorflow->smote-variants) (0.4.0)\n",
            "Requirement already satisfied: astunparse>=1.6.0 in /usr/local/lib/python3.7/dist-packages (from tensorflow->smote-variants) (1.6.3)\n",
            "Requirement already satisfied: wheel<1.0,>=0.32.0 in /usr/local/lib/python3.7/dist-packages (from tensorflow->smote-variants) (0.37.0)\n",
            "Requirement already satisfied: tensorflow-io-gcs-filesystem>=0.21.0 in /usr/local/lib/python3.7/dist-packages (from tensorflow->smote-variants) (0.22.0)\n",
            "Requirement already satisfied: tensorflow-estimator<2.8,~=2.7.0rc0 in /usr/local/lib/python3.7/dist-packages (from tensorflow->smote-variants) (2.7.0)\n",
            "Requirement already satisfied: tensorboard~=2.6 in /usr/local/lib/python3.7/dist-packages (from tensorflow->smote-variants) (2.7.0)\n",
            "Requirement already satisfied: cached-property in /usr/local/lib/python3.7/dist-packages (from h5py>=2.9.0->tensorflow->smote-variants) (1.5.2)\n",
            "Requirement already satisfied: tensorboard-plugin-wit>=1.6.0 in /usr/local/lib/python3.7/dist-packages (from tensorboard~=2.6->tensorflow->smote-variants) (1.8.0)\n",
            "Requirement already satisfied: requests<3,>=2.21.0 in /usr/local/lib/python3.7/dist-packages (from tensorboard~=2.6->tensorflow->smote-variants) (2.23.0)\n",
            "Requirement already satisfied: markdown>=2.6.8 in /usr/local/lib/python3.7/dist-packages (from tensorboard~=2.6->tensorflow->smote-variants) (3.3.6)\n",
            "Requirement already satisfied: google-auth-oauthlib<0.5,>=0.4.1 in /usr/local/lib/python3.7/dist-packages (from tensorboard~=2.6->tensorflow->smote-variants) (0.4.6)\n",
            "Requirement already satisfied: google-auth<3,>=1.6.3 in /usr/local/lib/python3.7/dist-packages (from tensorboard~=2.6->tensorflow->smote-variants) (1.35.0)\n",
            "Requirement already satisfied: tensorboard-data-server<0.7.0,>=0.6.0 in /usr/local/lib/python3.7/dist-packages (from tensorboard~=2.6->tensorflow->smote-variants) (0.6.1)\n",
            "Requirement already satisfied: werkzeug>=0.11.15 in /usr/local/lib/python3.7/dist-packages (from tensorboard~=2.6->tensorflow->smote-variants) (1.0.1)\n",
            "Requirement already satisfied: setuptools>=41.0.0 in /usr/local/lib/python3.7/dist-packages (from tensorboard~=2.6->tensorflow->smote-variants) (57.4.0)\n",
            "Requirement already satisfied: pyasn1-modules>=0.2.1 in /usr/local/lib/python3.7/dist-packages (from google-auth<3,>=1.6.3->tensorboard~=2.6->tensorflow->smote-variants) (0.2.8)\n",
            "Requirement already satisfied: cachetools<5.0,>=2.0.0 in /usr/local/lib/python3.7/dist-packages (from google-auth<3,>=1.6.3->tensorboard~=2.6->tensorflow->smote-variants) (4.2.4)\n",
            "Requirement already satisfied: rsa<5,>=3.1.4 in /usr/local/lib/python3.7/dist-packages (from google-auth<3,>=1.6.3->tensorboard~=2.6->tensorflow->smote-variants) (4.8)\n",
            "Requirement already satisfied: requests-oauthlib>=0.7.0 in /usr/local/lib/python3.7/dist-packages (from google-auth-oauthlib<0.5,>=0.4.1->tensorboard~=2.6->tensorflow->smote-variants) (1.3.0)\n",
            "Requirement already satisfied: importlib-metadata>=4.4 in /usr/local/lib/python3.7/dist-packages (from markdown>=2.6.8->tensorboard~=2.6->tensorflow->smote-variants) (4.8.2)\n",
            "Requirement already satisfied: zipp>=0.5 in /usr/local/lib/python3.7/dist-packages (from importlib-metadata>=4.4->markdown>=2.6.8->tensorboard~=2.6->tensorflow->smote-variants) (3.6.0)\n",
            "Requirement already satisfied: pyasn1<0.5.0,>=0.4.6 in /usr/local/lib/python3.7/dist-packages (from pyasn1-modules>=0.2.1->google-auth<3,>=1.6.3->tensorboard~=2.6->tensorflow->smote-variants) (0.4.8)\n",
            "Requirement already satisfied: idna<3,>=2.5 in /usr/local/lib/python3.7/dist-packages (from requests<3,>=2.21.0->tensorboard~=2.6->tensorflow->smote-variants) (2.10)\n",
            "Requirement already satisfied: urllib3!=1.25.0,!=1.25.1,<1.26,>=1.21.1 in /usr/local/lib/python3.7/dist-packages (from requests<3,>=2.21.0->tensorboard~=2.6->tensorflow->smote-variants) (1.24.3)\n",
            "Requirement already satisfied: certifi>=2017.4.17 in /usr/local/lib/python3.7/dist-packages (from requests<3,>=2.21.0->tensorboard~=2.6->tensorflow->smote-variants) (2021.10.8)\n",
            "Requirement already satisfied: chardet<4,>=3.0.2 in /usr/local/lib/python3.7/dist-packages (from requests<3,>=2.21.0->tensorboard~=2.6->tensorflow->smote-variants) (3.0.4)\n",
            "Requirement already satisfied: oauthlib>=3.0.0 in /usr/local/lib/python3.7/dist-packages (from requests-oauthlib>=0.7.0->google-auth-oauthlib<0.5,>=0.4.1->tensorboard~=2.6->tensorflow->smote-variants) (3.1.1)\n",
            "Building wheels for collected packages: minisom, statistics\n",
            "  Building wheel for minisom (setup.py) ... \u001b[?25l\u001b[?25hdone\n",
            "  Created wheel for minisom: filename=MiniSom-2.2.9-py3-none-any.whl size=8594 sha256=6c4ab293d4a0a97fed650932956fd37c297e52e05b71121c8d3e9a9f6428b2cd\n",
            "  Stored in directory: /root/.cache/pip/wheels/3d/a1/10/f50b6f4865652eac239a2700de411c3078c27e1318320e494c\n",
            "  Building wheel for statistics (setup.py) ... \u001b[?25l\u001b[?25hdone\n",
            "  Created wheel for statistics: filename=statistics-1.0.3.5-py3-none-any.whl size=7452 sha256=5ee91de6d04ba1dea8322a442cfcebe66206f218674a698ebc4e15616d8a944e\n",
            "  Stored in directory: /root/.cache/pip/wheels/37/09/e1/49ee45c0ce248a6e9c986aae82d32bbcba09c9f3b9d0c3406a\n",
            "Successfully built minisom statistics\n",
            "Installing collected packages: statistics, minisom, smote-variants\n",
            "Successfully installed minisom-2.2.9 smote-variants-0.4.0 statistics-1.0.3.5\n"
          ]
        }
      ]
    },
    {
      "cell_type": "code",
      "metadata": {
        "colab": {
          "base_uri": "https://localhost:8080/"
        },
        "id": "sV447RWjSP01",
        "outputId": "1b1febc0-c6d3-47f8-b1bd-fe1f1f944ac2"
      },
      "source": [
        "start = time.time()\n",
        "\n",
        "\n",
        "pipeline = Pipeline(steps= [(\"SMOTE\", SMOTE(random_state = 101)),\n",
        "                            (\"RandomForestClassifier\", RandomForestClassifier())\n",
        "                            ])\n",
        "\n",
        "param_grid = {\n",
        "    \"SMOTE__sampling_strategy\": [0.5,0.75,1],\n",
        "    \"RandomForestClassifier__n_estimators\": [50,75,100,125,150]\n",
        "              }\n",
        "\n",
        "\n",
        "\n",
        "gs_pipeline = GridSearchCV(pipeline, param_grid=param_grid, verbose=2, scoring=make_scorer(roc_auc_score), cv = 5)\n",
        "gs_pipeline.fit(X_train, y_train)\n",
        "\n",
        "end = time.time()\n",
        "\n",
        "print(f\"{end - start:.5f} sec\")\n",
        "\n",
        "# Store the best model\n",
        "smote_best_model = gs_pipeline.best_estimator_\n",
        "\n",
        "y_validation_preds = smote_best_model.predict(X_test)\n",
        "roc_auc_score(y_test, y_validation_preds)\n",
        "\n",
        "\n",
        "scores_df = pd.DataFrame(gs_pipeline.cv_results_)\n",
        "scores_df.to_csv('/content/drive/MyDrive/RF_SMOTE_1.csv',index = False)"
      ],
      "execution_count": null,
      "outputs": [
        {
          "output_type": "stream",
          "name": "stdout",
          "text": [
            "Fitting 5 folds for each of 15 candidates, totalling 75 fits\n",
            "[CV] END RandomForestClassifier__n_estimators=50, SMOTE__sampling_strategy=0.5; total time=  15.4s\n",
            "[CV] END RandomForestClassifier__n_estimators=50, SMOTE__sampling_strategy=0.5; total time=  15.4s\n",
            "[CV] END RandomForestClassifier__n_estimators=50, SMOTE__sampling_strategy=0.5; total time=  15.3s\n",
            "[CV] END RandomForestClassifier__n_estimators=50, SMOTE__sampling_strategy=0.5; total time=  15.5s\n",
            "[CV] END RandomForestClassifier__n_estimators=50, SMOTE__sampling_strategy=0.5; total time=  15.4s\n",
            "[CV] END RandomForestClassifier__n_estimators=50, SMOTE__sampling_strategy=0.75; total time=  19.0s\n",
            "[CV] END RandomForestClassifier__n_estimators=50, SMOTE__sampling_strategy=0.75; total time=  18.7s\n",
            "[CV] END RandomForestClassifier__n_estimators=50, SMOTE__sampling_strategy=0.75; total time=  18.6s\n",
            "[CV] END RandomForestClassifier__n_estimators=50, SMOTE__sampling_strategy=0.75; total time=  19.2s\n",
            "[CV] END RandomForestClassifier__n_estimators=50, SMOTE__sampling_strategy=0.75; total time=  18.7s\n",
            "[CV] END RandomForestClassifier__n_estimators=50, SMOTE__sampling_strategy=1; total time=  21.7s\n",
            "[CV] END RandomForestClassifier__n_estimators=50, SMOTE__sampling_strategy=1; total time=  19.9s\n",
            "[CV] END RandomForestClassifier__n_estimators=50, SMOTE__sampling_strategy=1; total time=  21.0s\n",
            "[CV] END RandomForestClassifier__n_estimators=50, SMOTE__sampling_strategy=1; total time=  20.4s\n",
            "[CV] END RandomForestClassifier__n_estimators=50, SMOTE__sampling_strategy=1; total time=  20.2s\n",
            "[CV] END RandomForestClassifier__n_estimators=75, SMOTE__sampling_strategy=0.5; total time=  20.7s\n",
            "[CV] END RandomForestClassifier__n_estimators=75, SMOTE__sampling_strategy=0.5; total time=  20.7s\n",
            "[CV] END RandomForestClassifier__n_estimators=75, SMOTE__sampling_strategy=0.5; total time=  20.8s\n",
            "[CV] END RandomForestClassifier__n_estimators=75, SMOTE__sampling_strategy=0.5; total time=  21.1s\n",
            "[CV] END RandomForestClassifier__n_estimators=75, SMOTE__sampling_strategy=0.5; total time=  21.1s\n",
            "[CV] END RandomForestClassifier__n_estimators=75, SMOTE__sampling_strategy=0.75; total time=  26.6s\n",
            "[CV] END RandomForestClassifier__n_estimators=75, SMOTE__sampling_strategy=0.75; total time=  25.7s\n",
            "[CV] END RandomForestClassifier__n_estimators=75, SMOTE__sampling_strategy=0.75; total time=  24.5s\n",
            "[CV] END RandomForestClassifier__n_estimators=75, SMOTE__sampling_strategy=0.75; total time=  24.9s\n",
            "[CV] END RandomForestClassifier__n_estimators=75, SMOTE__sampling_strategy=0.75; total time=  24.7s\n",
            "[CV] END RandomForestClassifier__n_estimators=75, SMOTE__sampling_strategy=1; total time=  28.4s\n",
            "[CV] END RandomForestClassifier__n_estimators=75, SMOTE__sampling_strategy=1; total time=  29.1s\n",
            "[CV] END RandomForestClassifier__n_estimators=75, SMOTE__sampling_strategy=1; total time=  28.6s\n",
            "[CV] END RandomForestClassifier__n_estimators=75, SMOTE__sampling_strategy=1; total time=  29.0s\n",
            "[CV] END RandomForestClassifier__n_estimators=75, SMOTE__sampling_strategy=1; total time=  28.0s\n",
            "[CV] END RandomForestClassifier__n_estimators=100, SMOTE__sampling_strategy=0.5; total time=  27.8s\n",
            "[CV] END RandomForestClassifier__n_estimators=100, SMOTE__sampling_strategy=0.5; total time=  27.4s\n",
            "[CV] END RandomForestClassifier__n_estimators=100, SMOTE__sampling_strategy=0.5; total time=  27.7s\n",
            "[CV] END RandomForestClassifier__n_estimators=100, SMOTE__sampling_strategy=0.5; total time=  27.2s\n",
            "[CV] END RandomForestClassifier__n_estimators=100, SMOTE__sampling_strategy=0.5; total time=  27.0s\n",
            "[CV] END RandomForestClassifier__n_estimators=100, SMOTE__sampling_strategy=0.75; total time=  32.4s\n",
            "[CV] END RandomForestClassifier__n_estimators=100, SMOTE__sampling_strategy=0.75; total time=  32.3s\n",
            "[CV] END RandomForestClassifier__n_estimators=100, SMOTE__sampling_strategy=0.75; total time=  32.1s\n",
            "[CV] END RandomForestClassifier__n_estimators=100, SMOTE__sampling_strategy=0.75; total time=  32.1s\n",
            "[CV] END RandomForestClassifier__n_estimators=100, SMOTE__sampling_strategy=0.75; total time=  31.8s\n",
            "[CV] END RandomForestClassifier__n_estimators=100, SMOTE__sampling_strategy=1; total time=  36.5s\n",
            "[CV] END RandomForestClassifier__n_estimators=100, SMOTE__sampling_strategy=1; total time=  36.1s\n",
            "[CV] END RandomForestClassifier__n_estimators=100, SMOTE__sampling_strategy=1; total time=  35.6s\n",
            "[CV] END RandomForestClassifier__n_estimators=100, SMOTE__sampling_strategy=1; total time=  36.5s\n",
            "[CV] END RandomForestClassifier__n_estimators=100, SMOTE__sampling_strategy=1; total time=  36.1s\n",
            "[CV] END RandomForestClassifier__n_estimators=125, SMOTE__sampling_strategy=0.5; total time=  33.3s\n",
            "[CV] END RandomForestClassifier__n_estimators=125, SMOTE__sampling_strategy=0.5; total time=  33.2s\n",
            "[CV] END RandomForestClassifier__n_estimators=125, SMOTE__sampling_strategy=0.5; total time=  33.3s\n",
            "[CV] END RandomForestClassifier__n_estimators=125, SMOTE__sampling_strategy=0.5; total time=  33.5s\n",
            "[CV] END RandomForestClassifier__n_estimators=125, SMOTE__sampling_strategy=0.5; total time=  33.4s\n",
            "[CV] END RandomForestClassifier__n_estimators=125, SMOTE__sampling_strategy=0.75; total time=  39.5s\n",
            "[CV] END RandomForestClassifier__n_estimators=125, SMOTE__sampling_strategy=0.75; total time=  40.3s\n",
            "[CV] END RandomForestClassifier__n_estimators=125, SMOTE__sampling_strategy=0.75; total time=  39.6s\n",
            "[CV] END RandomForestClassifier__n_estimators=125, SMOTE__sampling_strategy=0.75; total time=  40.5s\n",
            "[CV] END RandomForestClassifier__n_estimators=125, SMOTE__sampling_strategy=0.75; total time=  39.7s\n",
            "[CV] END RandomForestClassifier__n_estimators=125, SMOTE__sampling_strategy=1; total time=  47.7s\n",
            "[CV] END RandomForestClassifier__n_estimators=125, SMOTE__sampling_strategy=1; total time=  46.9s\n",
            "[CV] END RandomForestClassifier__n_estimators=125, SMOTE__sampling_strategy=1; total time=  45.2s\n",
            "[CV] END RandomForestClassifier__n_estimators=125, SMOTE__sampling_strategy=1; total time=  47.1s\n",
            "[CV] END RandomForestClassifier__n_estimators=125, SMOTE__sampling_strategy=1; total time=  45.8s\n",
            "[CV] END RandomForestClassifier__n_estimators=150, SMOTE__sampling_strategy=0.5; total time=  40.2s\n",
            "[CV] END RandomForestClassifier__n_estimators=150, SMOTE__sampling_strategy=0.5; total time=  40.6s\n",
            "[CV] END RandomForestClassifier__n_estimators=150, SMOTE__sampling_strategy=0.5; total time=  39.9s\n",
            "[CV] END RandomForestClassifier__n_estimators=150, SMOTE__sampling_strategy=0.5; total time=  39.8s\n",
            "[CV] END RandomForestClassifier__n_estimators=150, SMOTE__sampling_strategy=0.5; total time=  40.3s\n",
            "[CV] END RandomForestClassifier__n_estimators=150, SMOTE__sampling_strategy=0.75; total time=  47.3s\n",
            "[CV] END RandomForestClassifier__n_estimators=150, SMOTE__sampling_strategy=0.75; total time=  47.5s\n",
            "[CV] END RandomForestClassifier__n_estimators=150, SMOTE__sampling_strategy=0.75; total time=  47.9s\n",
            "[CV] END RandomForestClassifier__n_estimators=150, SMOTE__sampling_strategy=0.75; total time=  48.4s\n",
            "[CV] END RandomForestClassifier__n_estimators=150, SMOTE__sampling_strategy=0.75; total time=  47.0s\n",
            "[CV] END RandomForestClassifier__n_estimators=150, SMOTE__sampling_strategy=1; total time=  54.4s\n",
            "[CV] END RandomForestClassifier__n_estimators=150, SMOTE__sampling_strategy=1; total time=  56.4s\n",
            "[CV] END RandomForestClassifier__n_estimators=150, SMOTE__sampling_strategy=1; total time=  55.1s\n",
            "[CV] END RandomForestClassifier__n_estimators=150, SMOTE__sampling_strategy=1; total time=  56.2s\n",
            "[CV] END RandomForestClassifier__n_estimators=150, SMOTE__sampling_strategy=1; total time=  56.6s\n",
            "2516.39691 sec\n"
          ]
        }
      ]
    },
    {
      "cell_type": "code",
      "metadata": {
        "colab": {
          "base_uri": "https://localhost:8080/"
        },
        "id": "fRbD7cx4W7XU",
        "outputId": "40e02278-c625-443a-eae1-febbf8febabf"
      },
      "source": [
        "roc_auc_score(y_test, y_validation_preds)"
      ],
      "execution_count": null,
      "outputs": [
        {
          "output_type": "execute_result",
          "data": {
            "text/plain": [
              "0.8544567223273958"
            ]
          },
          "metadata": {},
          "execution_count": 6
        }
      ]
    },
    {
      "cell_type": "markdown",
      "metadata": {
        "id": "LcdjvRbsr1yP"
      },
      "source": [
        "# RF ADA"
      ]
    },
    {
      "cell_type": "code",
      "metadata": {
        "id": "Qlh9KMtue7Cu",
        "colab": {
          "base_uri": "https://localhost:8080/"
        },
        "outputId": "0316a514-accc-4e47-87ab-94bf9fdec207"
      },
      "source": [
        "start = time.time()\n",
        "\n",
        "\n",
        "pipeline = Pipeline(steps= [(\"ada\", ADASYN(random_state = 101)),\n",
        "                            (\"RandomForestClassifier\", RandomForestClassifier())\n",
        "                            ])\n",
        "\n",
        "param_grid = {\n",
        "    \"ada__sampling_strategy\": [0.5,0.75,1],\n",
        "    \"RandomForestClassifier__n_estimators\": [50,75,100,125,150]\n",
        "              }\n",
        "\n",
        "\n",
        "\n",
        "gs_pipeline_1 = GridSearchCV(pipeline, param_grid=param_grid, verbose=2, scoring=make_scorer(roc_auc_score), cv = 5)\n",
        "gs_pipeline_1.fit(X_train, y_train)\n",
        "\n",
        "end = time.time()\n",
        "\n",
        "print(f\"{end - start:.5f} sec\")\n",
        "\n",
        "# Store the best model\n",
        "\n",
        "\n",
        "scores_df = pd.DataFrame(gs_pipeline_1.cv_results_)\n",
        "scores_df.to_csv('/content/drive/MyDrive/RF_ADA.csv',index = False)\n",
        "\n",
        "\n",
        "smote_best_model = gs_pipeline_1.best_estimator_\n",
        "\n",
        "y_validation_preds = smote_best_model.predict(X_test)\n",
        "roc_auc_score(y_test, y_validation_preds)"
      ],
      "execution_count": null,
      "outputs": [
        {
          "output_type": "stream",
          "name": "stdout",
          "text": [
            "Fitting 5 folds for each of 15 candidates, totalling 75 fits\n",
            "[CV] END RandomForestClassifier__n_estimators=50, ada__sampling_strategy=0.5; total time=  14.9s\n",
            "[CV] END RandomForestClassifier__n_estimators=50, ada__sampling_strategy=0.5; total time=  14.6s\n",
            "[CV] END RandomForestClassifier__n_estimators=50, ada__sampling_strategy=0.5; total time=  14.6s\n",
            "[CV] END RandomForestClassifier__n_estimators=50, ada__sampling_strategy=0.5; total time=  14.5s\n",
            "[CV] END RandomForestClassifier__n_estimators=50, ada__sampling_strategy=0.5; total time=  14.5s\n",
            "[CV] END RandomForestClassifier__n_estimators=50, ada__sampling_strategy=0.75; total time=  17.6s\n",
            "[CV] END RandomForestClassifier__n_estimators=50, ada__sampling_strategy=0.75; total time=  17.2s\n",
            "[CV] END RandomForestClassifier__n_estimators=50, ada__sampling_strategy=0.75; total time=  17.3s\n",
            "[CV] END RandomForestClassifier__n_estimators=50, ada__sampling_strategy=0.75; total time=  16.9s\n",
            "[CV] END RandomForestClassifier__n_estimators=50, ada__sampling_strategy=0.75; total time=  17.1s\n",
            "[CV] END RandomForestClassifier__n_estimators=50, ada__sampling_strategy=1; total time=  19.9s\n",
            "[CV] END RandomForestClassifier__n_estimators=50, ada__sampling_strategy=1; total time=  19.7s\n",
            "[CV] END RandomForestClassifier__n_estimators=50, ada__sampling_strategy=1; total time=  19.9s\n",
            "[CV] END RandomForestClassifier__n_estimators=50, ada__sampling_strategy=1; total time=  20.2s\n",
            "[CV] END RandomForestClassifier__n_estimators=50, ada__sampling_strategy=1; total time=  19.4s\n",
            "[CV] END RandomForestClassifier__n_estimators=75, ada__sampling_strategy=0.5; total time=  21.2s\n",
            "[CV] END RandomForestClassifier__n_estimators=75, ada__sampling_strategy=0.5; total time=  20.9s\n",
            "[CV] END RandomForestClassifier__n_estimators=75, ada__sampling_strategy=0.5; total time=  21.2s\n",
            "[CV] END RandomForestClassifier__n_estimators=75, ada__sampling_strategy=0.5; total time=  21.2s\n",
            "[CV] END RandomForestClassifier__n_estimators=75, ada__sampling_strategy=0.5; total time=  21.1s\n",
            "[CV] END RandomForestClassifier__n_estimators=75, ada__sampling_strategy=0.75; total time=  25.8s\n",
            "[CV] END RandomForestClassifier__n_estimators=75, ada__sampling_strategy=0.75; total time=  25.7s\n",
            "[CV] END RandomForestClassifier__n_estimators=75, ada__sampling_strategy=0.75; total time=  25.6s\n",
            "[CV] END RandomForestClassifier__n_estimators=75, ada__sampling_strategy=0.75; total time=  26.0s\n",
            "[CV] END RandomForestClassifier__n_estimators=75, ada__sampling_strategy=0.75; total time=  25.8s\n",
            "[CV] END RandomForestClassifier__n_estimators=75, ada__sampling_strategy=1; total time=  29.6s\n",
            "[CV] END RandomForestClassifier__n_estimators=75, ada__sampling_strategy=1; total time=  29.5s\n",
            "[CV] END RandomForestClassifier__n_estimators=75, ada__sampling_strategy=1; total time=  30.1s\n",
            "[CV] END RandomForestClassifier__n_estimators=75, ada__sampling_strategy=1; total time=  29.0s\n",
            "[CV] END RandomForestClassifier__n_estimators=75, ada__sampling_strategy=1; total time=  28.9s\n",
            "[CV] END RandomForestClassifier__n_estimators=100, ada__sampling_strategy=0.5; total time=  28.4s\n",
            "[CV] END RandomForestClassifier__n_estimators=100, ada__sampling_strategy=0.5; total time=  28.5s\n",
            "[CV] END RandomForestClassifier__n_estimators=100, ada__sampling_strategy=0.5; total time=  28.4s\n",
            "[CV] END RandomForestClassifier__n_estimators=100, ada__sampling_strategy=0.5; total time=  28.3s\n",
            "[CV] END RandomForestClassifier__n_estimators=100, ada__sampling_strategy=0.5; total time=  27.9s\n",
            "[CV] END RandomForestClassifier__n_estimators=100, ada__sampling_strategy=0.75; total time=  34.0s\n",
            "[CV] END RandomForestClassifier__n_estimators=100, ada__sampling_strategy=0.75; total time=  34.1s\n",
            "[CV] END RandomForestClassifier__n_estimators=100, ada__sampling_strategy=0.75; total time=  33.8s\n",
            "[CV] END RandomForestClassifier__n_estimators=100, ada__sampling_strategy=0.75; total time=  33.9s\n",
            "[CV] END RandomForestClassifier__n_estimators=100, ada__sampling_strategy=0.75; total time=  33.6s\n",
            "[CV] END RandomForestClassifier__n_estimators=100, ada__sampling_strategy=1; total time=  39.1s\n",
            "[CV] END RandomForestClassifier__n_estimators=100, ada__sampling_strategy=1; total time=  39.2s\n",
            "[CV] END RandomForestClassifier__n_estimators=100, ada__sampling_strategy=1; total time=  39.1s\n",
            "[CV] END RandomForestClassifier__n_estimators=100, ada__sampling_strategy=1; total time=  39.0s\n",
            "[CV] END RandomForestClassifier__n_estimators=100, ada__sampling_strategy=1; total time=  38.1s\n",
            "[CV] END RandomForestClassifier__n_estimators=125, ada__sampling_strategy=0.5; total time=  35.5s\n",
            "[CV] END RandomForestClassifier__n_estimators=125, ada__sampling_strategy=0.5; total time=  35.3s\n",
            "[CV] END RandomForestClassifier__n_estimators=125, ada__sampling_strategy=0.5; total time=  35.5s\n",
            "[CV] END RandomForestClassifier__n_estimators=125, ada__sampling_strategy=0.5; total time=  35.5s\n",
            "[CV] END RandomForestClassifier__n_estimators=125, ada__sampling_strategy=0.5; total time=  34.3s\n",
            "[CV] END RandomForestClassifier__n_estimators=125, ada__sampling_strategy=0.75; total time=  42.9s\n",
            "[CV] END RandomForestClassifier__n_estimators=125, ada__sampling_strategy=0.75; total time=  42.1s\n",
            "[CV] END RandomForestClassifier__n_estimators=125, ada__sampling_strategy=0.75; total time=  42.4s\n",
            "[CV] END RandomForestClassifier__n_estimators=125, ada__sampling_strategy=0.75; total time=  42.3s\n",
            "[CV] END RandomForestClassifier__n_estimators=125, ada__sampling_strategy=0.75; total time=  42.5s\n",
            "[CV] END RandomForestClassifier__n_estimators=125, ada__sampling_strategy=1; total time=  49.0s\n",
            "[CV] END RandomForestClassifier__n_estimators=125, ada__sampling_strategy=1; total time=  48.2s\n",
            "[CV] END RandomForestClassifier__n_estimators=125, ada__sampling_strategy=1; total time=  48.2s\n",
            "[CV] END RandomForestClassifier__n_estimators=125, ada__sampling_strategy=1; total time=  47.9s\n",
            "[CV] END RandomForestClassifier__n_estimators=125, ada__sampling_strategy=1; total time=  47.4s\n",
            "[CV] END RandomForestClassifier__n_estimators=150, ada__sampling_strategy=0.5; total time=  42.1s\n",
            "[CV] END RandomForestClassifier__n_estimators=150, ada__sampling_strategy=0.5; total time=  41.1s\n",
            "[CV] END RandomForestClassifier__n_estimators=150, ada__sampling_strategy=0.5; total time=  41.6s\n",
            "[CV] END RandomForestClassifier__n_estimators=150, ada__sampling_strategy=0.5; total time=  41.2s\n",
            "[CV] END RandomForestClassifier__n_estimators=150, ada__sampling_strategy=0.5; total time=  41.4s\n",
            "[CV] END RandomForestClassifier__n_estimators=150, ada__sampling_strategy=0.75; total time=  51.2s\n",
            "[CV] END RandomForestClassifier__n_estimators=150, ada__sampling_strategy=0.75; total time=  50.5s\n",
            "[CV] END RandomForestClassifier__n_estimators=150, ada__sampling_strategy=0.75; total time=  50.7s\n",
            "[CV] END RandomForestClassifier__n_estimators=150, ada__sampling_strategy=0.75; total time=  50.9s\n",
            "[CV] END RandomForestClassifier__n_estimators=150, ada__sampling_strategy=0.75; total time=  50.2s\n",
            "[CV] END RandomForestClassifier__n_estimators=150, ada__sampling_strategy=1; total time=  58.6s\n",
            "[CV] END RandomForestClassifier__n_estimators=150, ada__sampling_strategy=1; total time=  57.2s\n",
            "[CV] END RandomForestClassifier__n_estimators=150, ada__sampling_strategy=1; total time=  57.9s\n",
            "[CV] END RandomForestClassifier__n_estimators=150, ada__sampling_strategy=1; total time=  58.1s\n",
            "[CV] END RandomForestClassifier__n_estimators=150, ada__sampling_strategy=1; total time=  57.9s\n",
            "2554.67431 sec\n"
          ]
        },
        {
          "output_type": "execute_result",
          "data": {
            "text/plain": [
              "0.8577438357846991"
            ]
          },
          "metadata": {},
          "execution_count": 7
        }
      ]
    },
    {
      "cell_type": "code",
      "metadata": {
        "colab": {
          "base_uri": "https://localhost:8080/"
        },
        "id": "HOmRAtJbXHbt",
        "outputId": "944f3696-023a-4c02-9f3f-74ca93081cd9"
      },
      "source": [
        "roc_auc_score(y_test, y_validation_preds)"
      ],
      "execution_count": null,
      "outputs": [
        {
          "output_type": "execute_result",
          "data": {
            "text/plain": [
              "0.8577438357846991"
            ]
          },
          "metadata": {},
          "execution_count": 8
        }
      ]
    },
    {
      "cell_type": "markdown",
      "metadata": {
        "id": "OBvULkJasOrl"
      },
      "source": [
        "# RF SVR"
      ]
    },
    {
      "cell_type": "code",
      "metadata": {
        "id": "N6HJ9PUmu-l8"
      },
      "source": [
        "start = time.time()\n",
        "\n",
        "\n",
        "pipeline = Pipeline(steps= [(\"SVR\", smote_variants.NDO_sampling()),\n",
        "                            (\"RF\", RandomForestClassifier())\n",
        "                            ])\n",
        "\n",
        "param_grid = {\n",
        "    \"SVR__proportion\": [0.5,0.75,1],\n",
        "    \"RF__n_estimators\": [50,75,100,125,150]\n",
        "              }\n",
        "\n",
        "\n",
        "\n",
        "gs_pipeline_1 = GridSearchCV(pipeline, param_grid=param_grid, verbose=2, scoring=make_scorer(roc_auc_score), cv = 5)\n",
        "gs_pipeline_1.fit(np.array(X_train), np.array(y_train))\n",
        "\n",
        "end = time.time()\n",
        "\n",
        "print(f\"{end - start:.5f} sec\")\n",
        "\n",
        "# Store the best model\n",
        "\n",
        "\n",
        "scores_df = pd.DataFrame(gs_pipeline_1.cv_results_)\n",
        "scores_df.to_csv('/content/drive/MyDrive/RF_SVD.csv',index = False)\n",
        "\n",
        "svr_best_model = gs_pipeline_1.best_estimator_\n",
        "\n",
        "\n",
        "y_validation_preds = svr_best_model.predict(np.array(X_test))\n",
        "\n",
        "roc_auc_score(y_test, y_validation_preds)"
      ],
      "execution_count": null,
      "outputs": []
    },
    {
      "cell_type": "markdown",
      "metadata": {
        "id": "bsLRIvv8sSyP"
      },
      "source": [
        "# LGB hyperparameter tunning\n",
        "# LGB SMOTE"
      ]
    },
    {
      "cell_type": "code",
      "metadata": {
        "id": "npZlPPvjvFKt"
      },
      "source": [
        "start = time.time()\n",
        "\n",
        "\n",
        "pipeline = Pipeline(steps= [((\"SMOTE\",  SMOTE(random_state = 101))),\n",
        "                             (\"LGBClassifier\", LGBMClassifier(boost_from_average = False))\n",
        "                             ])\n",
        "\n",
        "param_grid = {\n",
        "    \"SMOTE__sampling_strategy\": [0.5,0.75,1],\n",
        "    \"LGBClassifier__n_estimators\": [100,200,300,400,500]\n",
        "              }\n",
        "\n",
        "\n",
        "\n",
        "gs_pipeline = GridSearchCV(pipeline, param_grid=param_grid, verbose=2, scoring=make_scorer(roc_auc_score), cv = 5)\n",
        "gs_pipeline.fit(X_train, y_train)\n",
        "\n",
        "end = time.time()\n",
        "\n",
        "print(f\"{end - start:.5f} sec\")\n",
        "\n",
        "\n",
        "\n",
        "scores_df = pd.DataFrame(gs_pipeline.cv_results_)\n",
        "scores_df.to_csv('/content/drive/MyDrive/LGB_SMOTE.csv',index = False)\n",
        "\n",
        "\n",
        "\n",
        "svr_best_model = gs_pipeline.best_estimator_\n",
        "\n",
        "\n",
        "y_validation_preds = svr_best_model.predict(np.array(X_test))\n",
        "\n",
        "roc_auc_score(y_test, y_validation_preds)"
      ],
      "execution_count": null,
      "outputs": []
    },
    {
      "cell_type": "code",
      "metadata": {
        "colab": {
          "base_uri": "https://localhost:8080/"
        },
        "id": "SdrM25A6dvHd",
        "outputId": "90a4b2b0-f286-411a-c293-aa015ede8123"
      },
      "source": [
        "X_sm, y_sm = SMOTE(random_state = 101).fit_resample(X_train, y_train)\n",
        "clf =   LGBMClassifier(boost_from_average = False)\n",
        "\n",
        "clf.fit(X_sm, y_sm)\n",
        "pred = clf.predict(X_test)\n",
        "\n",
        "roc_auc_score(y_test,pred)"
      ],
      "execution_count": null,
      "outputs": [
        {
          "output_type": "execute_result",
          "data": {
            "text/plain": [
              "0.7483717646590253"
            ]
          },
          "metadata": {},
          "execution_count": 15
        }
      ]
    },
    {
      "cell_type": "markdown",
      "metadata": {
        "id": "U8RuFLgUzi7z"
      },
      "source": [
        "# LGB ADASYN\n"
      ]
    },
    {
      "cell_type": "code",
      "metadata": {
        "id": "QrE4Cq-BvIuZ"
      },
      "source": [
        "start = time.time()\n",
        "\n",
        "\n",
        "pipeline = Pipeline(steps= [((\"ada\",  ADASYN(random_state = 101))),\n",
        "                             (\"LGBClassifier\", LGBMClassifier(boost_from_average = False))\n",
        "                             ])\n",
        "\n",
        "param_grid = {\n",
        "    \"ada__sampling_strategy\": [0.5,0.75,1],\n",
        "    \"LGBClassifier__n_estimators\": [100,200,300,400,500]\n",
        "              }\n",
        "\n",
        "\n",
        "\n",
        "gs_pipeline = GridSearchCV(pipeline, param_grid=param_grid, verbose=2, scoring=make_scorer(roc_auc_score), cv = 5)\n",
        "gs_pipeline.fit(X_train, y_train)\n",
        "\n",
        "end = time.time()\n",
        "\n",
        "print(f\"{end - start:.5f} sec\")\n",
        "\n",
        "\n",
        "\n",
        "scores_df = pd.DataFrame(gs_pipeline.cv_results_)\n",
        "scores_df.to_csv('/content/drive/MyDrive/LGB_ADASYN_1.csv',index = False)"
      ],
      "execution_count": null,
      "outputs": []
    },
    {
      "cell_type": "markdown",
      "metadata": {
        "id": "NYee2eab4KVD"
      },
      "source": [
        "# LGB SVR"
      ]
    },
    {
      "cell_type": "code",
      "metadata": {
        "id": "IHGy_t0WoHI9"
      },
      "source": [
        "start = time.time()\n",
        "\n",
        "\n",
        "pipeline = Pipeline(steps= [(\"SVR\", sv.NDO_sampling()),\n",
        "                            (\"LGB\", LGBMClassifier())\n",
        "                            ])\n",
        "\n",
        "param_grid = {\n",
        "    \"SVR__proportion\": [0.5,0.75,1],\n",
        "    \"LGB__n_estimators\": [100,200,300,400,500]\n",
        "              }\n",
        "\n",
        "\n",
        "\n",
        "gs_pipeline_1 = GridSearchCV(pipeline, param_grid=param_grid, verbose=2, scoring=make_scorer(roc_auc_score), cv = 5)\n",
        "gs_pipeline_1.fit(np.array(X_train), np.array(y_train))\n",
        "\n",
        "end = time.time()\n",
        "\n",
        "print(f\"{end - start:.5f} sec\")\n",
        "\n",
        "# Store the best model\n",
        "\n",
        "\n",
        "scores_df = pd.DataFrame(gs_pipeline_1.cv_results_)\n",
        "scores_df.to_csv('/content/drive/MyDrive/LGB_SVR.csv',index = False)\n",
        "\n",
        "svr_best_model = gs_pipeline_1.best_estimator_\n",
        "\n",
        "\n",
        "y_validation_preds = svr_best_model.predict(np.array(X_test))\n",
        "\n",
        "roc_auc_score(y_test, y_validation_preds)"
      ],
      "execution_count": null,
      "outputs": []
    },
    {
      "cell_type": "markdown",
      "source": [
        "# KNN Tunning"
      ],
      "metadata": {
        "id": "QiD17WfmeJJR"
      }
    },
    {
      "cell_type": "markdown",
      "source": [
        "# KNN SMOTE"
      ],
      "metadata": {
        "id": "ze31rRqidxEY"
      }
    },
    {
      "cell_type": "code",
      "source": [
        "start = time.time()\n",
        "\n",
        "\n",
        "pipeline = Pipeline(steps= [(\"SMOTE\", SMOTE(random_state = 101)),\n",
        "                            (\"KNN\", KNeighborsClassifier())\n",
        "                            ])\n",
        "\n",
        "param_grid = {\n",
        "    \"SMOTE__sampling_strategy\": [0.5,0.75,1],\n",
        "    \"KNN__n_neighbors\": list(range(10,101,10))\n",
        "              }\n",
        "\n",
        "\n",
        "\n",
        "gs_pipeline = GridSearchCV(pipeline, param_grid=param_grid, verbose=2, scoring=make_scorer(roc_auc_score), cv = 5)\n",
        "gs_pipeline.fit(X_train, y_train)\n",
        "\n",
        "end = time.time()\n",
        "\n",
        "print(f\"{end - start:.5f} sec\")\n",
        "# 결과 저장\n",
        "scores_df = pd.DataFrame(gs_pipeline.cv_results_)\n",
        "scores_df.to_csv('/content/drive/MyDrive/KNN_SMOTE.csv',index = False)\n",
        "\n",
        "# Store the best model\n",
        "\n",
        "\n",
        "smote_best_model = gs_pipeline.best_estimator_\n",
        "\n",
        "y_validation_preds = smote_best_model.predict(X_test)\n",
        "roc_auc_score(y_test, y_validation_preds)"
      ],
      "metadata": {
        "id": "vKP5aCFWdzFg"
      },
      "execution_count": null,
      "outputs": []
    },
    {
      "cell_type": "markdown",
      "source": [
        "# KNN ADA"
      ],
      "metadata": {
        "id": "8dP84FjUd3ip"
      }
    },
    {
      "cell_type": "code",
      "source": [
        "start = time.time()\n",
        "\n",
        "\n",
        "pipeline = Pipeline(steps= [(\"ADASYN\", ADASYN(random_state = 101)),\n",
        "                            (\"KNN\", KNeighborsClassifier())\n",
        "                            ])\n",
        "\n",
        "param_grid = {\n",
        "    \"ADASYN__sampling_strategy\": [0.5,0.75,1],\n",
        "    \"KNN__n_neighbors\": list(range(10,101,10))\n",
        "              }\n",
        "\n",
        "\n",
        "\n",
        "gs_pipeline_1 = GridSearchCV(pipeline, param_grid=param_grid, verbose=2, scoring=make_scorer(roc_auc_score), cv = 5)\n",
        "gs_pipeline_1.fit(X_train, y_train)\n",
        "\n",
        "end = time.time()\n",
        "\n",
        "print(f\"{end - start:.5f} sec\")\n",
        "\n",
        "scores_df = pd.DataFrame(gs_pipeline_1.cv_results_)\n",
        "scores_df.to_csv('/content/drive/MyDrive/KNN_ADA.csv',index = False)\n",
        "\n",
        "# Store the best model\n",
        "ada_best_model = gs_pipeline_1.best_estimator_\n",
        "\n",
        "y_validation_preds = ada_best_model.predict(X_test)\n",
        "roc_auc_score(y_test, y_validation_preds)\n",
        "\n",
        "scores_df = pd.DataFrame(gs_pipeline_1.cv_results_)"
      ],
      "metadata": {
        "id": "cvBrR_HCd3GA"
      },
      "execution_count": null,
      "outputs": []
    },
    {
      "cell_type": "markdown",
      "metadata": {
        "id": "byn9R3494i9X"
      },
      "source": [
        "# KNN SVR"
      ]
    },
    {
      "cell_type": "code",
      "metadata": {
        "id": "HYkk0iUkoRRY"
      },
      "source": [
        "start = time.time()\n",
        "\n",
        "\n",
        "pipeline = Pipeline(steps= [(\"SVR\", sv.distance_SMOTE()),\n",
        "                            (\"KNeighborsClassifier\", KNeighborsClassifier())\n",
        "                            ])\n",
        "\n",
        "param_grid = {\n",
        "    \"SVR__proportion\": [0.5,0.75,1],\n",
        "    \"KNeighborsClassifier__n_neighbors\": list(range(10,101,10))\n",
        "              }\n",
        "\n",
        "\n",
        "\n",
        "gs_pipeline_1 = GridSearchCV(pipeline, param_grid=param_grid, verbose=2, scoring=make_scorer(roc_auc_score), cv = 5)\n",
        "gs_pipeline_1.fit(np.array(X_train), np.array(y_train))\n",
        "\n",
        "end = time.time()\n",
        "\n",
        "\n",
        "scores_df = pd.DataFrame(gs_pipeline_1.cv_results_)\n",
        "scores_df.to_csv('/content/drive/MyDrive/KNN_SVR.csv',index = False)\n",
        "\n",
        "print(f\"{end - start:.5f} sec\")\n",
        "\n",
        "svr_best_model = gs_pipeline_1.best_estimator_\n",
        "\n",
        "\n",
        "y_validation_preds = svr_best_model.predict(np.array(X_test))\n",
        "\n",
        "roc_auc_score(y_test, y_validation_preds)"
      ],
      "execution_count": null,
      "outputs": []
    }
  ]
}