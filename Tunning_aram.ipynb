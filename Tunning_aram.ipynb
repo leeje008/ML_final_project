{
 "cells": [
  {
   "cell_type": "markdown",
   "id": "a8fcad0b-3e2a-440b-b345-7a4d9fe775f7",
   "metadata": {},
   "source": [
    "# Tunnning"
   ]
  },
  {
   "cell_type": "code",
   "execution_count": 2,
   "id": "fc44136b-1988-4e23-a0eb-7417de3af9e4",
   "metadata": {},
   "outputs": [],
   "source": [
    "# 데이터 가공\n",
    "import time\n",
    "import numpy as np\n",
    "import pandas as pd\n",
    "from sklearn.preprocessing import LabelEncoder\n",
    "from sklearn.model_selection import train_test_split\n",
    "\n",
    "# 평가\n",
    "from sklearn.metrics import confusion_matrix\n",
    "from sklearn.metrics import roc_curve\n",
    "from sklearn.metrics import accuracy_score, precision_score, recall_score, f1_score, roc_auc_score\n",
    "from imblearn.metrics import geometric_mean_score\n",
    "from sklearn.metrics import classification_report\n",
    "\n",
    "# 튜닝\n",
    "from sklearn.model_selection import GridSearchCV \n",
    "from imblearn.pipeline import Pipeline\n",
    "from sklearn.model_selection import cross_val_score\n",
    "from sklearn.metrics import roc_auc_score, make_scorer\n",
    "\n",
    "# Oversampling\n",
    "from imblearn.over_sampling import *\n",
    "\n",
    "# 모델\n",
    "from sklearn.neighbors import KNeighborsClassifier\n",
    "from sklearn.ensemble import RandomForestClassifier\n",
    "from sklearn.tree import DecisionTreeClassifier\n",
    "import xgboost as xgb\n",
    "from xgboost.sklearn import XGBClassifier\n",
    "import lightgbm as lgb\n",
    "from lightgbm import LGBMClassifier\n",
    "\n",
    "import warnings\n",
    "warnings.filterwarnings(action='ignore')"
   ]
  },
  {
   "cell_type": "code",
   "execution_count": 3,
   "id": "1ef9fcf4-77d3-4a54-944b-82a31e9fba7b",
   "metadata": {},
   "outputs": [],
   "source": [
    "# 평가함수\n",
    "\n",
    "def get_clf_eval(y_test, y_pred):\n",
    "    confmat=pd.DataFrame(confusion_matrix(y_test, y_pred),\n",
    "                    index=['True[0]', 'True[1]'],\n",
    "                    columns=['Predict[0]', 'Predict[1]'])\n",
    "    accuracy = accuracy_score(y_test, y_pred)\n",
    "    precision = precision_score(y_test, y_pred)\n",
    "    recall = recall_score(y_test, y_pred)\n",
    "    f1 = f1_score(y_test, y_pred)\n",
    "    AUC = roc_auc_score(y_test, y_pred)\n",
    "    g_means = geometric_mean_score(y_test, y_pred)\n",
    "    print(confmat)\n",
    "    print(\"\\n정확도 : {:.3f} \\n정밀도 : {:.3f} \\n재현율 : {:.3f} \\nf1-score : {:.3f} \\nAUC : {:.3f} \\n기하평균 : {:.3f} \\n\".format(accuracy,\n",
    "                                        precision, recall, f1, AUC, g_means))"
   ]
  },
  {
   "cell_type": "code",
   "execution_count": 4,
   "id": "52e45643-42d8-4d36-b850-8b01d273d7e8",
   "metadata": {},
   "outputs": [
    {
     "data": {
      "text/html": [
       "<div>\n",
       "<style scoped>\n",
       "    .dataframe tbody tr th:only-of-type {\n",
       "        vertical-align: middle;\n",
       "    }\n",
       "\n",
       "    .dataframe tbody tr th {\n",
       "        vertical-align: top;\n",
       "    }\n",
       "\n",
       "    .dataframe thead th {\n",
       "        text-align: right;\n",
       "    }\n",
       "</style>\n",
       "<table border=\"1\" class=\"dataframe\">\n",
       "  <thead>\n",
       "    <tr style=\"text-align: right;\">\n",
       "      <th></th>\n",
       "      <th>Id</th>\n",
       "      <th>Income</th>\n",
       "      <th>Age</th>\n",
       "      <th>Experience</th>\n",
       "      <th>Married/Single</th>\n",
       "      <th>House_Ownership</th>\n",
       "      <th>Car_Ownership</th>\n",
       "      <th>Profession</th>\n",
       "      <th>CITY</th>\n",
       "      <th>STATE</th>\n",
       "      <th>CURRENT_JOB_YRS</th>\n",
       "      <th>CURRENT_HOUSE_YRS</th>\n",
       "      <th>Risk_Flag</th>\n",
       "    </tr>\n",
       "  </thead>\n",
       "  <tbody>\n",
       "    <tr>\n",
       "      <th>0</th>\n",
       "      <td>1</td>\n",
       "      <td>1303834</td>\n",
       "      <td>23</td>\n",
       "      <td>3</td>\n",
       "      <td>single</td>\n",
       "      <td>rented</td>\n",
       "      <td>no</td>\n",
       "      <td>Mechanical_engineer</td>\n",
       "      <td>Rewa</td>\n",
       "      <td>Madhya_Pradesh</td>\n",
       "      <td>3</td>\n",
       "      <td>13</td>\n",
       "      <td>0</td>\n",
       "    </tr>\n",
       "    <tr>\n",
       "      <th>1</th>\n",
       "      <td>2</td>\n",
       "      <td>7574516</td>\n",
       "      <td>40</td>\n",
       "      <td>10</td>\n",
       "      <td>single</td>\n",
       "      <td>rented</td>\n",
       "      <td>no</td>\n",
       "      <td>Software_Developer</td>\n",
       "      <td>Parbhani</td>\n",
       "      <td>Maharashtra</td>\n",
       "      <td>9</td>\n",
       "      <td>13</td>\n",
       "      <td>0</td>\n",
       "    </tr>\n",
       "    <tr>\n",
       "      <th>2</th>\n",
       "      <td>3</td>\n",
       "      <td>3991815</td>\n",
       "      <td>66</td>\n",
       "      <td>4</td>\n",
       "      <td>married</td>\n",
       "      <td>rented</td>\n",
       "      <td>no</td>\n",
       "      <td>Technical_writer</td>\n",
       "      <td>Alappuzha</td>\n",
       "      <td>Kerala</td>\n",
       "      <td>4</td>\n",
       "      <td>10</td>\n",
       "      <td>0</td>\n",
       "    </tr>\n",
       "    <tr>\n",
       "      <th>3</th>\n",
       "      <td>4</td>\n",
       "      <td>6256451</td>\n",
       "      <td>41</td>\n",
       "      <td>2</td>\n",
       "      <td>single</td>\n",
       "      <td>rented</td>\n",
       "      <td>yes</td>\n",
       "      <td>Software_Developer</td>\n",
       "      <td>Bhubaneswar</td>\n",
       "      <td>Odisha</td>\n",
       "      <td>2</td>\n",
       "      <td>12</td>\n",
       "      <td>1</td>\n",
       "    </tr>\n",
       "    <tr>\n",
       "      <th>4</th>\n",
       "      <td>5</td>\n",
       "      <td>5768871</td>\n",
       "      <td>47</td>\n",
       "      <td>11</td>\n",
       "      <td>single</td>\n",
       "      <td>rented</td>\n",
       "      <td>no</td>\n",
       "      <td>Civil_servant</td>\n",
       "      <td>Tiruchirappalli[10]</td>\n",
       "      <td>Tamil_Nadu</td>\n",
       "      <td>3</td>\n",
       "      <td>14</td>\n",
       "      <td>1</td>\n",
       "    </tr>\n",
       "    <tr>\n",
       "      <th>...</th>\n",
       "      <td>...</td>\n",
       "      <td>...</td>\n",
       "      <td>...</td>\n",
       "      <td>...</td>\n",
       "      <td>...</td>\n",
       "      <td>...</td>\n",
       "      <td>...</td>\n",
       "      <td>...</td>\n",
       "      <td>...</td>\n",
       "      <td>...</td>\n",
       "      <td>...</td>\n",
       "      <td>...</td>\n",
       "      <td>...</td>\n",
       "    </tr>\n",
       "    <tr>\n",
       "      <th>251995</th>\n",
       "      <td>251996</td>\n",
       "      <td>8154883</td>\n",
       "      <td>43</td>\n",
       "      <td>13</td>\n",
       "      <td>single</td>\n",
       "      <td>rented</td>\n",
       "      <td>no</td>\n",
       "      <td>Surgeon</td>\n",
       "      <td>Kolkata</td>\n",
       "      <td>West_Bengal</td>\n",
       "      <td>6</td>\n",
       "      <td>11</td>\n",
       "      <td>0</td>\n",
       "    </tr>\n",
       "    <tr>\n",
       "      <th>251996</th>\n",
       "      <td>251997</td>\n",
       "      <td>2843572</td>\n",
       "      <td>26</td>\n",
       "      <td>10</td>\n",
       "      <td>single</td>\n",
       "      <td>rented</td>\n",
       "      <td>no</td>\n",
       "      <td>Army_officer</td>\n",
       "      <td>Rewa</td>\n",
       "      <td>Madhya_Pradesh</td>\n",
       "      <td>6</td>\n",
       "      <td>11</td>\n",
       "      <td>0</td>\n",
       "    </tr>\n",
       "    <tr>\n",
       "      <th>251997</th>\n",
       "      <td>251998</td>\n",
       "      <td>4522448</td>\n",
       "      <td>46</td>\n",
       "      <td>7</td>\n",
       "      <td>single</td>\n",
       "      <td>rented</td>\n",
       "      <td>no</td>\n",
       "      <td>Design_Engineer</td>\n",
       "      <td>Kalyan-Dombivli</td>\n",
       "      <td>Maharashtra</td>\n",
       "      <td>7</td>\n",
       "      <td>12</td>\n",
       "      <td>0</td>\n",
       "    </tr>\n",
       "    <tr>\n",
       "      <th>251998</th>\n",
       "      <td>251999</td>\n",
       "      <td>6507128</td>\n",
       "      <td>45</td>\n",
       "      <td>0</td>\n",
       "      <td>single</td>\n",
       "      <td>rented</td>\n",
       "      <td>no</td>\n",
       "      <td>Graphic_Designer</td>\n",
       "      <td>Pondicherry</td>\n",
       "      <td>Puducherry</td>\n",
       "      <td>0</td>\n",
       "      <td>10</td>\n",
       "      <td>0</td>\n",
       "    </tr>\n",
       "    <tr>\n",
       "      <th>251999</th>\n",
       "      <td>252000</td>\n",
       "      <td>9070230</td>\n",
       "      <td>70</td>\n",
       "      <td>17</td>\n",
       "      <td>single</td>\n",
       "      <td>rented</td>\n",
       "      <td>no</td>\n",
       "      <td>Statistician</td>\n",
       "      <td>Avadi</td>\n",
       "      <td>Tamil_Nadu</td>\n",
       "      <td>7</td>\n",
       "      <td>11</td>\n",
       "      <td>0</td>\n",
       "    </tr>\n",
       "  </tbody>\n",
       "</table>\n",
       "<p>252000 rows × 13 columns</p>\n",
       "</div>"
      ],
      "text/plain": [
       "            Id   Income  Age  Experience Married/Single House_Ownership  \\\n",
       "0            1  1303834   23           3         single          rented   \n",
       "1            2  7574516   40          10         single          rented   \n",
       "2            3  3991815   66           4        married          rented   \n",
       "3            4  6256451   41           2         single          rented   \n",
       "4            5  5768871   47          11         single          rented   \n",
       "...        ...      ...  ...         ...            ...             ...   \n",
       "251995  251996  8154883   43          13         single          rented   \n",
       "251996  251997  2843572   26          10         single          rented   \n",
       "251997  251998  4522448   46           7         single          rented   \n",
       "251998  251999  6507128   45           0         single          rented   \n",
       "251999  252000  9070230   70          17         single          rented   \n",
       "\n",
       "       Car_Ownership           Profession                 CITY  \\\n",
       "0                 no  Mechanical_engineer                 Rewa   \n",
       "1                 no   Software_Developer             Parbhani   \n",
       "2                 no     Technical_writer            Alappuzha   \n",
       "3                yes   Software_Developer          Bhubaneswar   \n",
       "4                 no        Civil_servant  Tiruchirappalli[10]   \n",
       "...              ...                  ...                  ...   \n",
       "251995            no              Surgeon              Kolkata   \n",
       "251996            no         Army_officer                 Rewa   \n",
       "251997            no      Design_Engineer      Kalyan-Dombivli   \n",
       "251998            no     Graphic_Designer          Pondicherry   \n",
       "251999            no         Statistician                Avadi   \n",
       "\n",
       "                 STATE  CURRENT_JOB_YRS  CURRENT_HOUSE_YRS  Risk_Flag  \n",
       "0       Madhya_Pradesh                3                 13          0  \n",
       "1          Maharashtra                9                 13          0  \n",
       "2               Kerala                4                 10          0  \n",
       "3               Odisha                2                 12          1  \n",
       "4           Tamil_Nadu                3                 14          1  \n",
       "...                ...              ...                ...        ...  \n",
       "251995     West_Bengal                6                 11          0  \n",
       "251996  Madhya_Pradesh                6                 11          0  \n",
       "251997     Maharashtra                7                 12          0  \n",
       "251998      Puducherry                0                 10          0  \n",
       "251999      Tamil_Nadu                7                 11          0  \n",
       "\n",
       "[252000 rows x 13 columns]"
      ]
     },
     "execution_count": 4,
     "metadata": {},
     "output_type": "execute_result"
    }
   ],
   "source": [
    "df = pd.read_csv('Loan_Train.csv')\n",
    "df"
   ]
  },
  {
   "cell_type": "code",
   "execution_count": 5,
   "id": "94b0317a-2dd2-4e52-8410-e9bf79641824",
   "metadata": {},
   "outputs": [],
   "source": [
    "# Feature, Target 나누기\n",
    "X = df.drop(['Id','Risk_Flag'], axis=1)\n",
    "y = df.Risk_Flag"
   ]
  },
  {
   "cell_type": "code",
   "execution_count": 6,
   "id": "77d1ce3a-309f-4a30-8a90-806e5fa80018",
   "metadata": {},
   "outputs": [],
   "source": [
    "# 범주형 변수 Labeling\n",
    "labelEncoder = LabelEncoder()\n",
    "for e in X.columns:\n",
    "    if X[e].dtype == 'object':\n",
    "        labelEncoder.fit(list(X[e].values))\n",
    "        X[e] = labelEncoder.transform(X[e].values)"
   ]
  },
  {
   "cell_type": "code",
   "execution_count": 7,
   "id": "0197a9ac-e4ec-47e4-9c06-ce513c7a33c1",
   "metadata": {},
   "outputs": [
    {
     "data": {
      "text/html": [
       "<div>\n",
       "<style scoped>\n",
       "    .dataframe tbody tr th:only-of-type {\n",
       "        vertical-align: middle;\n",
       "    }\n",
       "\n",
       "    .dataframe tbody tr th {\n",
       "        vertical-align: top;\n",
       "    }\n",
       "\n",
       "    .dataframe thead th {\n",
       "        text-align: right;\n",
       "    }\n",
       "</style>\n",
       "<table border=\"1\" class=\"dataframe\">\n",
       "  <thead>\n",
       "    <tr style=\"text-align: right;\">\n",
       "      <th></th>\n",
       "      <th>Income</th>\n",
       "      <th>Age</th>\n",
       "      <th>Experience</th>\n",
       "      <th>Married/Single</th>\n",
       "      <th>House_Ownership</th>\n",
       "      <th>Car_Ownership</th>\n",
       "      <th>Profession</th>\n",
       "      <th>CITY</th>\n",
       "      <th>STATE</th>\n",
       "      <th>CURRENT_JOB_YRS</th>\n",
       "      <th>CURRENT_HOUSE_YRS</th>\n",
       "    </tr>\n",
       "  </thead>\n",
       "  <tbody>\n",
       "    <tr>\n",
       "      <th>0</th>\n",
       "      <td>1303834</td>\n",
       "      <td>23</td>\n",
       "      <td>3</td>\n",
       "      <td>1</td>\n",
       "      <td>2</td>\n",
       "      <td>0</td>\n",
       "      <td>33</td>\n",
       "      <td>251</td>\n",
       "      <td>13</td>\n",
       "      <td>3</td>\n",
       "      <td>13</td>\n",
       "    </tr>\n",
       "    <tr>\n",
       "      <th>1</th>\n",
       "      <td>7574516</td>\n",
       "      <td>40</td>\n",
       "      <td>10</td>\n",
       "      <td>1</td>\n",
       "      <td>2</td>\n",
       "      <td>0</td>\n",
       "      <td>43</td>\n",
       "      <td>227</td>\n",
       "      <td>14</td>\n",
       "      <td>9</td>\n",
       "      <td>13</td>\n",
       "    </tr>\n",
       "    <tr>\n",
       "      <th>2</th>\n",
       "      <td>3991815</td>\n",
       "      <td>66</td>\n",
       "      <td>4</td>\n",
       "      <td>0</td>\n",
       "      <td>2</td>\n",
       "      <td>0</td>\n",
       "      <td>47</td>\n",
       "      <td>8</td>\n",
       "      <td>12</td>\n",
       "      <td>4</td>\n",
       "      <td>10</td>\n",
       "    </tr>\n",
       "    <tr>\n",
       "      <th>3</th>\n",
       "      <td>6256451</td>\n",
       "      <td>41</td>\n",
       "      <td>2</td>\n",
       "      <td>1</td>\n",
       "      <td>2</td>\n",
       "      <td>1</td>\n",
       "      <td>43</td>\n",
       "      <td>54</td>\n",
       "      <td>17</td>\n",
       "      <td>2</td>\n",
       "      <td>12</td>\n",
       "    </tr>\n",
       "    <tr>\n",
       "      <th>4</th>\n",
       "      <td>5768871</td>\n",
       "      <td>47</td>\n",
       "      <td>11</td>\n",
       "      <td>1</td>\n",
       "      <td>2</td>\n",
       "      <td>0</td>\n",
       "      <td>11</td>\n",
       "      <td>296</td>\n",
       "      <td>22</td>\n",
       "      <td>3</td>\n",
       "      <td>14</td>\n",
       "    </tr>\n",
       "    <tr>\n",
       "      <th>...</th>\n",
       "      <td>...</td>\n",
       "      <td>...</td>\n",
       "      <td>...</td>\n",
       "      <td>...</td>\n",
       "      <td>...</td>\n",
       "      <td>...</td>\n",
       "      <td>...</td>\n",
       "      <td>...</td>\n",
       "      <td>...</td>\n",
       "      <td>...</td>\n",
       "      <td>...</td>\n",
       "    </tr>\n",
       "    <tr>\n",
       "      <th>251995</th>\n",
       "      <td>8154883</td>\n",
       "      <td>43</td>\n",
       "      <td>13</td>\n",
       "      <td>1</td>\n",
       "      <td>2</td>\n",
       "      <td>0</td>\n",
       "      <td>45</td>\n",
       "      <td>162</td>\n",
       "      <td>28</td>\n",
       "      <td>6</td>\n",
       "      <td>11</td>\n",
       "    </tr>\n",
       "    <tr>\n",
       "      <th>251996</th>\n",
       "      <td>2843572</td>\n",
       "      <td>26</td>\n",
       "      <td>10</td>\n",
       "      <td>1</td>\n",
       "      <td>2</td>\n",
       "      <td>0</td>\n",
       "      <td>3</td>\n",
       "      <td>251</td>\n",
       "      <td>13</td>\n",
       "      <td>6</td>\n",
       "      <td>11</td>\n",
       "    </tr>\n",
       "    <tr>\n",
       "      <th>251997</th>\n",
       "      <td>4522448</td>\n",
       "      <td>46</td>\n",
       "      <td>7</td>\n",
       "      <td>1</td>\n",
       "      <td>2</td>\n",
       "      <td>0</td>\n",
       "      <td>17</td>\n",
       "      <td>144</td>\n",
       "      <td>14</td>\n",
       "      <td>7</td>\n",
       "      <td>12</td>\n",
       "    </tr>\n",
       "    <tr>\n",
       "      <th>251998</th>\n",
       "      <td>6507128</td>\n",
       "      <td>45</td>\n",
       "      <td>0</td>\n",
       "      <td>1</td>\n",
       "      <td>2</td>\n",
       "      <td>0</td>\n",
       "      <td>27</td>\n",
       "      <td>233</td>\n",
       "      <td>18</td>\n",
       "      <td>0</td>\n",
       "      <td>10</td>\n",
       "    </tr>\n",
       "    <tr>\n",
       "      <th>251999</th>\n",
       "      <td>9070230</td>\n",
       "      <td>70</td>\n",
       "      <td>17</td>\n",
       "      <td>1</td>\n",
       "      <td>2</td>\n",
       "      <td>0</td>\n",
       "      <td>44</td>\n",
       "      <td>26</td>\n",
       "      <td>22</td>\n",
       "      <td>7</td>\n",
       "      <td>11</td>\n",
       "    </tr>\n",
       "  </tbody>\n",
       "</table>\n",
       "<p>252000 rows × 11 columns</p>\n",
       "</div>"
      ],
      "text/plain": [
       "         Income  Age  Experience  Married/Single  House_Ownership  \\\n",
       "0       1303834   23           3               1                2   \n",
       "1       7574516   40          10               1                2   \n",
       "2       3991815   66           4               0                2   \n",
       "3       6256451   41           2               1                2   \n",
       "4       5768871   47          11               1                2   \n",
       "...         ...  ...         ...             ...              ...   \n",
       "251995  8154883   43          13               1                2   \n",
       "251996  2843572   26          10               1                2   \n",
       "251997  4522448   46           7               1                2   \n",
       "251998  6507128   45           0               1                2   \n",
       "251999  9070230   70          17               1                2   \n",
       "\n",
       "        Car_Ownership  Profession  CITY  STATE  CURRENT_JOB_YRS  \\\n",
       "0                   0          33   251     13                3   \n",
       "1                   0          43   227     14                9   \n",
       "2                   0          47     8     12                4   \n",
       "3                   1          43    54     17                2   \n",
       "4                   0          11   296     22                3   \n",
       "...               ...         ...   ...    ...              ...   \n",
       "251995              0          45   162     28                6   \n",
       "251996              0           3   251     13                6   \n",
       "251997              0          17   144     14                7   \n",
       "251998              0          27   233     18                0   \n",
       "251999              0          44    26     22                7   \n",
       "\n",
       "        CURRENT_HOUSE_YRS  \n",
       "0                      13  \n",
       "1                      13  \n",
       "2                      10  \n",
       "3                      12  \n",
       "4                      14  \n",
       "...                   ...  \n",
       "251995                 11  \n",
       "251996                 11  \n",
       "251997                 12  \n",
       "251998                 10  \n",
       "251999                 11  \n",
       "\n",
       "[252000 rows x 11 columns]"
      ]
     },
     "execution_count": 7,
     "metadata": {},
     "output_type": "execute_result"
    }
   ],
   "source": [
    "X"
   ]
  },
  {
   "cell_type": "code",
   "execution_count": 8,
   "id": "af602834-24d3-4c26-ac6d-931c84140d7e",
   "metadata": {},
   "outputs": [],
   "source": [
    "# Train & Test 데이터셋 나누기\n",
    "X_train, X_test, y_train, y_test = train_test_split(X, y, test_size = 0.3, random_state = 101)"
   ]
  },
  {
   "cell_type": "markdown",
   "id": "e939327a-b4c6-487d-adc4-c2371a0b57bc",
   "metadata": {},
   "source": [
    "# Tunning"
   ]
  },
  {
   "cell_type": "code",
   "execution_count": 8,
   "id": "0df555cd-d17f-424d-bf25-c4735f1a38a6",
   "metadata": {},
   "outputs": [
    {
     "name": "stdout",
     "output_type": "stream",
     "text": [
      "Fitting 3 folds for each of 12 candidates, totalling 36 fits\n",
      "[CV] END .........RF__n_estimators=100, SMOTE__k_neighbors=5; total time=  48.6s\n",
      "[CV] END .........RF__n_estimators=100, SMOTE__k_neighbors=5; total time=  46.5s\n",
      "[CV] END .........RF__n_estimators=100, SMOTE__k_neighbors=5; total time=  46.4s\n",
      "[CV] END ........RF__n_estimators=100, SMOTE__k_neighbors=10; total time=  47.8s\n",
      "[CV] END ........RF__n_estimators=100, SMOTE__k_neighbors=10; total time=  48.0s\n",
      "[CV] END ........RF__n_estimators=100, SMOTE__k_neighbors=10; total time=  51.4s\n",
      "[CV] END ........RF__n_estimators=100, SMOTE__k_neighbors=15; total time=  51.2s\n",
      "[CV] END ........RF__n_estimators=100, SMOTE__k_neighbors=15; total time=  49.0s\n",
      "[CV] END ........RF__n_estimators=100, SMOTE__k_neighbors=15; total time=  47.9s\n",
      "[CV] END ........RF__n_estimators=100, SMOTE__k_neighbors=20; total time= 1.1min\n",
      "[CV] END ........RF__n_estimators=100, SMOTE__k_neighbors=20; total time=  57.3s\n",
      "[CV] END ........RF__n_estimators=100, SMOTE__k_neighbors=20; total time=  52.4s\n",
      "[CV] END .........RF__n_estimators=200, SMOTE__k_neighbors=5; total time= 1.7min\n",
      "[CV] END .........RF__n_estimators=200, SMOTE__k_neighbors=5; total time= 1.6min\n",
      "[CV] END .........RF__n_estimators=200, SMOTE__k_neighbors=5; total time= 1.6min\n",
      "[CV] END ........RF__n_estimators=200, SMOTE__k_neighbors=10; total time= 1.6min\n",
      "[CV] END ........RF__n_estimators=200, SMOTE__k_neighbors=10; total time= 1.7min\n",
      "[CV] END ........RF__n_estimators=200, SMOTE__k_neighbors=10; total time= 1.7min\n",
      "[CV] END ........RF__n_estimators=200, SMOTE__k_neighbors=15; total time= 1.9min\n",
      "[CV] END ........RF__n_estimators=200, SMOTE__k_neighbors=15; total time= 1.8min\n",
      "[CV] END ........RF__n_estimators=200, SMOTE__k_neighbors=15; total time= 1.8min\n",
      "[CV] END ........RF__n_estimators=200, SMOTE__k_neighbors=20; total time= 1.9min\n",
      "[CV] END ........RF__n_estimators=200, SMOTE__k_neighbors=20; total time= 1.7min\n",
      "[CV] END ........RF__n_estimators=200, SMOTE__k_neighbors=20; total time= 2.0min\n",
      "[CV] END .........RF__n_estimators=300, SMOTE__k_neighbors=5; total time= 2.4min\n",
      "[CV] END .........RF__n_estimators=300, SMOTE__k_neighbors=5; total time= 2.2min\n",
      "[CV] END .........RF__n_estimators=300, SMOTE__k_neighbors=5; total time= 2.3min\n",
      "[CV] END ........RF__n_estimators=300, SMOTE__k_neighbors=10; total time= 2.3min\n",
      "[CV] END ........RF__n_estimators=300, SMOTE__k_neighbors=10; total time= 2.2min\n",
      "[CV] END ........RF__n_estimators=300, SMOTE__k_neighbors=10; total time= 2.4min\n",
      "[CV] END ........RF__n_estimators=300, SMOTE__k_neighbors=15; total time= 3.3min\n",
      "[CV] END ........RF__n_estimators=300, SMOTE__k_neighbors=15; total time= 3.1min\n",
      "[CV] END ........RF__n_estimators=300, SMOTE__k_neighbors=15; total time= 2.9min\n",
      "[CV] END ........RF__n_estimators=300, SMOTE__k_neighbors=20; total time= 2.5min\n",
      "[CV] END ........RF__n_estimators=300, SMOTE__k_neighbors=20; total time= 2.6min\n",
      "[CV] END ........RF__n_estimators=300, SMOTE__k_neighbors=20; total time= 2.4min\n"
     ]
    }
   ],
   "source": [
    "pipeline = Pipeline(steps= [(\"SMOTE\", SMOTE()),\n",
    "                            (\"RF\", RandomForestClassifier())\n",
    "                            ])\n",
    "\n",
    "param_grid = {\n",
    "    \"SMOTE__k_neighbors\": [5,10,15,20],\n",
    "    \"RF__n_estimators\": [100, 200, 300]\n",
    "              }\n",
    "\n",
    "# define grid\n",
    "grid = GridSearchCV(pipeline, param_grid=param_grid, verbose=2, scoring=make_scorer(roc_auc_score), cv = 3)\n",
    "\n",
    "# execute grid\n",
    "grid_result = grid.fit(X_train, y_train)"
   ]
  },
  {
   "cell_type": "code",
   "execution_count": 9,
   "id": "c275494c-6dc8-4630-9d74-6553217167c1",
   "metadata": {},
   "outputs": [
    {
     "data": {
      "text/plain": [
       "Pipeline(steps=[('SMOTE', SMOTE()),\n",
       "                ('RF', RandomForestClassifier(n_estimators=200))])"
      ]
     },
     "execution_count": 9,
     "metadata": {},
     "output_type": "execute_result"
    }
   ],
   "source": [
    "# get the best performing model fit on the whole training set\n",
    "best_model = grid_result.best_estimator_\n",
    "best_model"
   ]
  },
  {
   "cell_type": "code",
   "execution_count": 10,
   "id": "683ec808-e4ce-42c7-8d9a-7104be25d64d",
   "metadata": {},
   "outputs": [
    {
     "name": "stdout",
     "output_type": "stream",
     "text": [
      "              precision    recall  f1-score   support\n",
      "\n",
      "           0       0.97      0.88      0.92     66292\n",
      "           1       0.49      0.83      0.62      9308\n",
      "\n",
      "    accuracy                           0.87     75600\n",
      "   macro avg       0.73      0.85      0.77     75600\n",
      "weighted avg       0.91      0.87      0.89     75600\n",
      "\n",
      "\n",
      "AUC : 0.85471\n"
     ]
    },
    {
     "data": {
      "text/html": [
       "<div>\n",
       "<style scoped>\n",
       "    .dataframe tbody tr th:only-of-type {\n",
       "        vertical-align: middle;\n",
       "    }\n",
       "\n",
       "    .dataframe tbody tr th {\n",
       "        vertical-align: top;\n",
       "    }\n",
       "\n",
       "    .dataframe thead th {\n",
       "        text-align: right;\n",
       "    }\n",
       "</style>\n",
       "<table border=\"1\" class=\"dataframe\">\n",
       "  <thead>\n",
       "    <tr style=\"text-align: right;\">\n",
       "      <th></th>\n",
       "      <th>Predict[0]</th>\n",
       "      <th>Predict[1]</th>\n",
       "    </tr>\n",
       "  </thead>\n",
       "  <tbody>\n",
       "    <tr>\n",
       "      <th>True[0]</th>\n",
       "      <td>58310</td>\n",
       "      <td>7982</td>\n",
       "    </tr>\n",
       "    <tr>\n",
       "      <th>True[1]</th>\n",
       "      <td>1584</td>\n",
       "      <td>7724</td>\n",
       "    </tr>\n",
       "  </tbody>\n",
       "</table>\n",
       "</div>"
      ],
      "text/plain": [
       "         Predict[0]  Predict[1]\n",
       "True[0]       58310        7982\n",
       "True[1]        1584        7724"
      ]
     },
     "execution_count": 10,
     "metadata": {},
     "output_type": "execute_result"
    }
   ],
   "source": [
    "# evaluate model on the hold out dataset\n",
    "\n",
    "y_test_pred = best_model.predict(X_test)\n",
    "print(classification_report(y_test, y_test_pred)) # precision, recall, f1-score, support\n",
    "print('\\nAUC : {:.5f}'.format(roc_auc_score(y_test, y_test_pred))) # auc\n",
    "\n",
    "# confusion matrix\n",
    "confmat=pd.DataFrame(confusion_matrix(y_test, y_test_pred),\n",
    "                    index=['True[0]', 'True[1]'],\n",
    "                    columns=['Predict[0]', 'Predict[1]'])\n",
    "\n",
    "confmat"
   ]
  },
  {
   "cell_type": "code",
   "execution_count": null,
   "id": "bf245462-fe9c-4455-bea8-40c7988096e0",
   "metadata": {
    "tags": []
   },
   "outputs": [
    {
     "name": "stdout",
     "output_type": "stream",
     "text": [
      "Fitting 3 folds for each of 10 candidates, totalling 30 fits\n"
     ]
    }
   ],
   "source": [
    "pipeline = Pipeline(steps= [(\"SMOTE\", SMOTE()),\n",
    "                            (\"RF\", RandomForestClassifier())\n",
    "                            ])\n",
    "\n",
    "param_grid = {\n",
    "    \"SMOTE__sampling_strategy\": [0.5, 1],\n",
    "    \"RF__n_estimators\": [100,200,300,400,500]\n",
    "              }\n",
    "\n",
    "# define grid\n",
    "grid = GridSearchCV(pipeline, param_grid=param_grid, verbose=2, scoring=make_scorer(roc_auc_score), cv = 3, n_jobs=-1)\n",
    "\n",
    "# execute grid\n",
    "grid_result = grid.fit(X_train, y_train)"
   ]
  },
  {
   "cell_type": "code",
   "execution_count": null,
   "id": "e64fa128-4afe-4044-a478-ecb9e9887544",
   "metadata": {},
   "outputs": [],
   "source": [
    "# get the best performing model fit on the whole training set\n",
    "best_model = grid_result.best_estimator_\n",
    "best_model"
   ]
  },
  {
   "cell_type": "code",
   "execution_count": null,
   "id": "fd1a82e2-8220-4832-96d6-ec55de5fb4ec",
   "metadata": {},
   "outputs": [],
   "source": [
    "# evaluate model on the hold out dataset\n",
    "\n",
    "y_test_pred = best_model.predict(X_test)\n",
    "print(classification_report(y_test, y_test_pred)) # precision, recall, f1-score, support\n",
    "print('\\nAUC : {:.5f}'.format(roc_auc_score(y_test, y_test_pred))) # auc\n",
    "\n",
    "# confusion matrix\n",
    "confmat=pd.DataFrame(confusion_matrix(y_test, y_test_pred),\n",
    "                    index=['True[0]', 'True[1]'],\n",
    "                    columns=['Predict[0]', 'Predict[1]'])\n",
    "\n",
    "confmat"
   ]
  },
  {
   "cell_type": "code",
   "execution_count": 11,
   "id": "df5439ae-2687-4299-a6fe-37bd61306558",
   "metadata": {
    "tags": []
   },
   "outputs": [
    {
     "name": "stdout",
     "output_type": "stream",
     "text": [
      "Fitting 3 folds for each of 10 candidates, totalling 30 fits\n"
     ]
    }
   ],
   "source": [
    "pipeline = Pipeline(steps= [(\"ADASYN\", ADASYN()),\n",
    "                            (\"RF\", RandomForestClassifier())\n",
    "                            ])\n",
    "\n",
    "param_grid = {\n",
    "    \"ADASYN__sampling_strategy\": [0.5, 1],\n",
    "    \"RF__n_estimators\": [100,200,300,400,500]\n",
    "              }\n",
    "\n",
    "# define grid\n",
    "grid = GridSearchCV(pipeline, param_grid=param_grid, verbose=2, scoring=make_scorer(roc_auc_score), cv = 3, n_jobs=-1)\n",
    "\n",
    "# execute grid\n",
    "grid_result = grid.fit(X_train, y_train)"
   ]
  },
  {
   "cell_type": "code",
   "execution_count": 12,
   "id": "e663c326-323a-4673-97fd-e96570b6f59d",
   "metadata": {},
   "outputs": [
    {
     "data": {
      "text/plain": [
       "Pipeline(steps=[('ADASYN', ADASYN(sampling_strategy=1)),\n",
       "                ('RF', RandomForestClassifier())])"
      ]
     },
     "execution_count": 12,
     "metadata": {},
     "output_type": "execute_result"
    }
   ],
   "source": [
    "# get the best performing model fit on the whole training set\n",
    "best_model = grid_result.best_estimator_\n",
    "best_model"
   ]
  },
  {
   "cell_type": "code",
   "execution_count": 13,
   "id": "28f3f214-3a57-417f-b806-dde2169ba062",
   "metadata": {},
   "outputs": [
    {
     "name": "stdout",
     "output_type": "stream",
     "text": [
      "              precision    recall  f1-score   support\n",
      "\n",
      "           0       0.98      0.87      0.92     66292\n",
      "           1       0.48      0.85      0.61      9308\n",
      "\n",
      "    accuracy                           0.87     75600\n",
      "   macro avg       0.73      0.86      0.77     75600\n",
      "weighted avg       0.91      0.87      0.88     75600\n",
      "\n",
      "\n",
      "AUC : 0.85915\n"
     ]
    },
    {
     "data": {
      "text/html": [
       "<div>\n",
       "<style scoped>\n",
       "    .dataframe tbody tr th:only-of-type {\n",
       "        vertical-align: middle;\n",
       "    }\n",
       "\n",
       "    .dataframe tbody tr th {\n",
       "        vertical-align: top;\n",
       "    }\n",
       "\n",
       "    .dataframe thead th {\n",
       "        text-align: right;\n",
       "    }\n",
       "</style>\n",
       "<table border=\"1\" class=\"dataframe\">\n",
       "  <thead>\n",
       "    <tr style=\"text-align: right;\">\n",
       "      <th></th>\n",
       "      <th>Predict[0]</th>\n",
       "      <th>Predict[1]</th>\n",
       "    </tr>\n",
       "  </thead>\n",
       "  <tbody>\n",
       "    <tr>\n",
       "      <th>True[0]</th>\n",
       "      <td>57617</td>\n",
       "      <td>8675</td>\n",
       "    </tr>\n",
       "    <tr>\n",
       "      <th>True[1]</th>\n",
       "      <td>1404</td>\n",
       "      <td>7904</td>\n",
       "    </tr>\n",
       "  </tbody>\n",
       "</table>\n",
       "</div>"
      ],
      "text/plain": [
       "         Predict[0]  Predict[1]\n",
       "True[0]       57617        8675\n",
       "True[1]        1404        7904"
      ]
     },
     "execution_count": 13,
     "metadata": {},
     "output_type": "execute_result"
    }
   ],
   "source": [
    "# evaluate model on the hold out dataset\n",
    "\n",
    "y_test_pred = best_model.predict(X_test)\n",
    "print(classification_report(y_test, y_test_pred)) # precision, recall, f1-score, support\n",
    "print('\\nAUC : {:.5f}'.format(roc_auc_score(y_test, y_test_pred))) # auc\n",
    "\n",
    "# confusion matrix\n",
    "confmat=pd.DataFrame(confusion_matrix(y_test, y_test_pred),\n",
    "                    index=['True[0]', 'True[1]'],\n",
    "                    columns=['Predict[0]', 'Predict[1]'])\n",
    "\n",
    "confmat"
   ]
  },
  {
   "cell_type": "code",
   "execution_count": 32,
   "id": "e217ff3a-3c30-4d2c-a673-3031e82d4236",
   "metadata": {},
   "outputs": [
    {
     "name": "stdout",
     "output_type": "stream",
     "text": [
      "Fitting 3 folds for each of 10 candidates, totalling 30 fits\n"
     ]
    }
   ],
   "source": [
    "pipeline = Pipeline(steps= [(\"SMOTE\", SMOTE()),\n",
    "                            (\"DT\", DecisionTreeClassifier())\n",
    "                            ])\n",
    "\n",
    "param_grid = {\n",
    "    \"SMOTE__sampling_strategy\": [0.5, 1],\n",
    "    \"DT__max_depth\": [30,35,40,45,50]\n",
    "              }\n",
    "\n",
    "# define grid\n",
    "grid = GridSearchCV(pipeline, param_grid=param_grid, verbose=2, scoring=make_scorer(roc_auc_score), cv = 3, n_jobs=-1)\n",
    "\n",
    "# execute grid\n",
    "grid_result = grid.fit(X_train, y_train)"
   ]
  },
  {
   "cell_type": "code",
   "execution_count": 33,
   "id": "8de1818b-91ef-4890-8657-f78da829dbda",
   "metadata": {},
   "outputs": [
    {
     "data": {
      "text/plain": [
       "Pipeline(steps=[('SMOTE', SMOTE(sampling_strategy=1)),\n",
       "                ('DT', DecisionTreeClassifier(max_depth=30))])"
      ]
     },
     "execution_count": 33,
     "metadata": {},
     "output_type": "execute_result"
    }
   ],
   "source": [
    "# get the best performing model fit on the whole training set\n",
    "best_model = grid_result.best_estimator_\n",
    "best_model"
   ]
  },
  {
   "cell_type": "code",
   "execution_count": 34,
   "id": "31951d0b-d3c5-4e5c-bf27-515480d4dfa7",
   "metadata": {},
   "outputs": [
    {
     "name": "stdout",
     "output_type": "stream",
     "text": [
      "              precision    recall  f1-score   support\n",
      "\n",
      "           0       0.98      0.87      0.92     66292\n",
      "           1       0.47      0.86      0.61      9308\n",
      "\n",
      "    accuracy                           0.86     75600\n",
      "   macro avg       0.72      0.86      0.76     75600\n",
      "weighted avg       0.92      0.86      0.88     75600\n",
      "\n",
      "\n",
      "AUC : 0.86146\n"
     ]
    },
    {
     "data": {
      "text/html": [
       "<div>\n",
       "<style scoped>\n",
       "    .dataframe tbody tr th:only-of-type {\n",
       "        vertical-align: middle;\n",
       "    }\n",
       "\n",
       "    .dataframe tbody tr th {\n",
       "        vertical-align: top;\n",
       "    }\n",
       "\n",
       "    .dataframe thead th {\n",
       "        text-align: right;\n",
       "    }\n",
       "</style>\n",
       "<table border=\"1\" class=\"dataframe\">\n",
       "  <thead>\n",
       "    <tr style=\"text-align: right;\">\n",
       "      <th></th>\n",
       "      <th>Predict[0]</th>\n",
       "      <th>Predict[1]</th>\n",
       "    </tr>\n",
       "  </thead>\n",
       "  <tbody>\n",
       "    <tr>\n",
       "      <th>True[0]</th>\n",
       "      <td>57346</td>\n",
       "      <td>8946</td>\n",
       "    </tr>\n",
       "    <tr>\n",
       "      <th>True[1]</th>\n",
       "      <td>1323</td>\n",
       "      <td>7985</td>\n",
       "    </tr>\n",
       "  </tbody>\n",
       "</table>\n",
       "</div>"
      ],
      "text/plain": [
       "         Predict[0]  Predict[1]\n",
       "True[0]       57346        8946\n",
       "True[1]        1323        7985"
      ]
     },
     "execution_count": 34,
     "metadata": {},
     "output_type": "execute_result"
    }
   ],
   "source": [
    "# evaluate model on the hold out dataset\n",
    "\n",
    "y_test_pred = best_model.predict(X_test)\n",
    "print(classification_report(y_test, y_test_pred)) # precision, recall, f1-score, support\n",
    "print('\\nAUC : {:.5f}'.format(roc_auc_score(y_test, y_test_pred))) # auc\n",
    "\n",
    "# confusion matrix\n",
    "confmat=pd.DataFrame(confusion_matrix(y_test, y_test_pred),\n",
    "                    index=['True[0]', 'True[1]'],\n",
    "                    columns=['Predict[0]', 'Predict[1]'])\n",
    "\n",
    "confmat"
   ]
  },
  {
   "cell_type": "code",
   "execution_count": 17,
   "id": "cb8475fd-69cb-403f-aacb-9be878615b38",
   "metadata": {},
   "outputs": [
    {
     "name": "stdout",
     "output_type": "stream",
     "text": [
      "Fitting 3 folds for each of 20 candidates, totalling 60 fits\n",
      "[CV] END ADASYN__sampling_strategy=0.5, DT__criterion=gini, DT__max_depth=30; total time=   3.4s\n",
      "[CV] END ADASYN__sampling_strategy=0.5, DT__criterion=gini, DT__max_depth=30; total time=   3.5s\n",
      "[CV] END ADASYN__sampling_strategy=0.5, DT__criterion=gini, DT__max_depth=30; total time=   3.5s\n",
      "[CV] END ADASYN__sampling_strategy=0.5, DT__criterion=gini, DT__max_depth=35; total time=   3.2s\n",
      "[CV] END ADASYN__sampling_strategy=0.5, DT__criterion=gini, DT__max_depth=35; total time=   4.0s\n",
      "[CV] END ADASYN__sampling_strategy=0.5, DT__criterion=gini, DT__max_depth=35; total time=   3.3s\n",
      "[CV] END ADASYN__sampling_strategy=0.5, DT__criterion=gini, DT__max_depth=40; total time=   3.9s\n",
      "[CV] END ADASYN__sampling_strategy=0.5, DT__criterion=gini, DT__max_depth=40; total time=   3.3s\n",
      "[CV] END ADASYN__sampling_strategy=0.5, DT__criterion=gini, DT__max_depth=40; total time=   3.6s\n",
      "[CV] END ADASYN__sampling_strategy=0.5, DT__criterion=gini, DT__max_depth=45; total time=   3.3s\n",
      "[CV] END ADASYN__sampling_strategy=0.5, DT__criterion=gini, DT__max_depth=45; total time=   3.2s\n",
      "[CV] END ADASYN__sampling_strategy=0.5, DT__criterion=gini, DT__max_depth=45; total time=   4.0s\n",
      "[CV] END ADASYN__sampling_strategy=0.5, DT__criterion=gini, DT__max_depth=50; total time=   4.2s\n",
      "[CV] END ADASYN__sampling_strategy=0.5, DT__criterion=gini, DT__max_depth=50; total time=   3.1s\n",
      "[CV] END ADASYN__sampling_strategy=0.5, DT__criterion=gini, DT__max_depth=50; total time=   4.4s\n",
      "[CV] END ADASYN__sampling_strategy=0.5, DT__criterion=entropy, DT__max_depth=30; total time=   4.5s\n",
      "[CV] END ADASYN__sampling_strategy=0.5, DT__criterion=entropy, DT__max_depth=30; total time=   3.3s\n",
      "[CV] END ADASYN__sampling_strategy=0.5, DT__criterion=entropy, DT__max_depth=30; total time=   3.2s\n",
      "[CV] END ADASYN__sampling_strategy=0.5, DT__criterion=entropy, DT__max_depth=35; total time=   3.5s\n",
      "[CV] END ADASYN__sampling_strategy=0.5, DT__criterion=entropy, DT__max_depth=35; total time=   4.2s\n",
      "[CV] END ADASYN__sampling_strategy=0.5, DT__criterion=entropy, DT__max_depth=35; total time=   3.2s\n",
      "[CV] END ADASYN__sampling_strategy=0.5, DT__criterion=entropy, DT__max_depth=40; total time=   3.7s\n",
      "[CV] END ADASYN__sampling_strategy=0.5, DT__criterion=entropy, DT__max_depth=40; total time=   4.0s\n",
      "[CV] END ADASYN__sampling_strategy=0.5, DT__criterion=entropy, DT__max_depth=40; total time=   4.5s\n",
      "[CV] END ADASYN__sampling_strategy=0.5, DT__criterion=entropy, DT__max_depth=45; total time=   3.4s\n",
      "[CV] END ADASYN__sampling_strategy=0.5, DT__criterion=entropy, DT__max_depth=45; total time=   3.3s\n",
      "[CV] END ADASYN__sampling_strategy=0.5, DT__criterion=entropy, DT__max_depth=45; total time=   3.4s\n",
      "[CV] END ADASYN__sampling_strategy=0.5, DT__criterion=entropy, DT__max_depth=50; total time=   3.6s\n",
      "[CV] END ADASYN__sampling_strategy=0.5, DT__criterion=entropy, DT__max_depth=50; total time=   3.7s\n",
      "[CV] END ADASYN__sampling_strategy=0.5, DT__criterion=entropy, DT__max_depth=50; total time=   4.3s\n",
      "[CV] END ADASYN__sampling_strategy=1, DT__criterion=gini, DT__max_depth=30; total time=   5.5s\n",
      "[CV] END ADASYN__sampling_strategy=1, DT__criterion=gini, DT__max_depth=30; total time=   6.9s\n",
      "[CV] END ADASYN__sampling_strategy=1, DT__criterion=gini, DT__max_depth=30; total time=   5.4s\n",
      "[CV] END ADASYN__sampling_strategy=1, DT__criterion=gini, DT__max_depth=35; total time=   4.1s\n",
      "[CV] END ADASYN__sampling_strategy=1, DT__criterion=gini, DT__max_depth=35; total time=   4.1s\n",
      "[CV] END ADASYN__sampling_strategy=1, DT__criterion=gini, DT__max_depth=35; total time=   4.1s\n",
      "[CV] END ADASYN__sampling_strategy=1, DT__criterion=gini, DT__max_depth=40; total time=   4.3s\n",
      "[CV] END ADASYN__sampling_strategy=1, DT__criterion=gini, DT__max_depth=40; total time=   5.4s\n",
      "[CV] END ADASYN__sampling_strategy=1, DT__criterion=gini, DT__max_depth=40; total time=   5.4s\n",
      "[CV] END ADASYN__sampling_strategy=1, DT__criterion=gini, DT__max_depth=45; total time=   4.5s\n",
      "[CV] END ADASYN__sampling_strategy=1, DT__criterion=gini, DT__max_depth=45; total time=   4.1s\n",
      "[CV] END ADASYN__sampling_strategy=1, DT__criterion=gini, DT__max_depth=45; total time=   4.5s\n",
      "[CV] END ADASYN__sampling_strategy=1, DT__criterion=gini, DT__max_depth=50; total time=   3.8s\n",
      "[CV] END ADASYN__sampling_strategy=1, DT__criterion=gini, DT__max_depth=50; total time=   3.7s\n",
      "[CV] END ADASYN__sampling_strategy=1, DT__criterion=gini, DT__max_depth=50; total time=   3.7s\n",
      "[CV] END ADASYN__sampling_strategy=1, DT__criterion=entropy, DT__max_depth=30; total time=   4.6s\n",
      "[CV] END ADASYN__sampling_strategy=1, DT__criterion=entropy, DT__max_depth=30; total time=   5.0s\n",
      "[CV] END ADASYN__sampling_strategy=1, DT__criterion=entropy, DT__max_depth=30; total time=   4.1s\n",
      "[CV] END ADASYN__sampling_strategy=1, DT__criterion=entropy, DT__max_depth=35; total time=   5.1s\n",
      "[CV] END ADASYN__sampling_strategy=1, DT__criterion=entropy, DT__max_depth=35; total time=   4.6s\n",
      "[CV] END ADASYN__sampling_strategy=1, DT__criterion=entropy, DT__max_depth=35; total time=   4.2s\n",
      "[CV] END ADASYN__sampling_strategy=1, DT__criterion=entropy, DT__max_depth=40; total time=   5.0s\n",
      "[CV] END ADASYN__sampling_strategy=1, DT__criterion=entropy, DT__max_depth=40; total time=   4.1s\n",
      "[CV] END ADASYN__sampling_strategy=1, DT__criterion=entropy, DT__max_depth=40; total time=   4.1s\n",
      "[CV] END ADASYN__sampling_strategy=1, DT__criterion=entropy, DT__max_depth=45; total time=   4.2s\n",
      "[CV] END ADASYN__sampling_strategy=1, DT__criterion=entropy, DT__max_depth=45; total time=   4.5s\n",
      "[CV] END ADASYN__sampling_strategy=1, DT__criterion=entropy, DT__max_depth=45; total time=   5.3s\n",
      "[CV] END ADASYN__sampling_strategy=1, DT__criterion=entropy, DT__max_depth=50; total time=   5.7s\n",
      "[CV] END ADASYN__sampling_strategy=1, DT__criterion=entropy, DT__max_depth=50; total time=   4.6s\n",
      "[CV] END ADASYN__sampling_strategy=1, DT__criterion=entropy, DT__max_depth=50; total time=   5.9s\n"
     ]
    }
   ],
   "source": [
    "pipeline = Pipeline(steps= [(\"ADASYN\", ADASYN()),\n",
    "                            (\"DT\", DecisionTreeClassifier())\n",
    "                            ])\n",
    "\n",
    "param_grid = {\n",
    "    \"ADASYN__sampling_strategy\": [0.5, 1],\n",
    "    \"DT__max_depth\": [30,35,40,45,50], \"DT__criterion\" : ['gini', 'entropy']\n",
    "              }\n",
    "\n",
    "# define grid\n",
    "grid = GridSearchCV(pipeline, param_grid=param_grid, verbose=2, scoring=make_scorer(roc_auc_score), cv = 3, n_jobs=-1)\n",
    "\n",
    "# execute grid\n",
    "grid_result = grid.fit(X_train, y_train)"
   ]
  },
  {
   "cell_type": "code",
   "execution_count": 18,
   "id": "f719b9af-037e-4b4c-856b-367aa0ad2f96",
   "metadata": {},
   "outputs": [
    {
     "data": {
      "text/plain": [
       "Pipeline(steps=[('ADASYN', ADASYN(sampling_strategy=1)),\n",
       "                ('DT', DecisionTreeClassifier(max_depth=35))])"
      ]
     },
     "execution_count": 18,
     "metadata": {},
     "output_type": "execute_result"
    }
   ],
   "source": [
    "# get the best performing model fit on the whole training set\n",
    "best_model = grid_result.best_estimator_\n",
    "best_model"
   ]
  },
  {
   "cell_type": "code",
   "execution_count": 19,
   "id": "7a14d4ef-5d81-43ca-bc11-9d5b9c2fd915",
   "metadata": {},
   "outputs": [
    {
     "name": "stdout",
     "output_type": "stream",
     "text": [
      "              precision    recall  f1-score   support\n",
      "\n",
      "           0       0.98      0.86      0.92     66292\n",
      "           1       0.47      0.86      0.61      9308\n",
      "\n",
      "    accuracy                           0.86     75600\n",
      "   macro avg       0.72      0.86      0.76     75600\n",
      "weighted avg       0.92      0.86      0.88     75600\n",
      "\n",
      "\n",
      "AUC : 0.86231\n"
     ]
    },
    {
     "data": {
      "text/html": [
       "<div>\n",
       "<style scoped>\n",
       "    .dataframe tbody tr th:only-of-type {\n",
       "        vertical-align: middle;\n",
       "    }\n",
       "\n",
       "    .dataframe tbody tr th {\n",
       "        vertical-align: top;\n",
       "    }\n",
       "\n",
       "    .dataframe thead th {\n",
       "        text-align: right;\n",
       "    }\n",
       "</style>\n",
       "<table border=\"1\" class=\"dataframe\">\n",
       "  <thead>\n",
       "    <tr style=\"text-align: right;\">\n",
       "      <th></th>\n",
       "      <th>Predict[0]</th>\n",
       "      <th>Predict[1]</th>\n",
       "    </tr>\n",
       "  </thead>\n",
       "  <tbody>\n",
       "    <tr>\n",
       "      <th>True[0]</th>\n",
       "      <td>57160</td>\n",
       "      <td>9132</td>\n",
       "    </tr>\n",
       "    <tr>\n",
       "      <th>True[1]</th>\n",
       "      <td>1281</td>\n",
       "      <td>8027</td>\n",
       "    </tr>\n",
       "  </tbody>\n",
       "</table>\n",
       "</div>"
      ],
      "text/plain": [
       "         Predict[0]  Predict[1]\n",
       "True[0]       57160        9132\n",
       "True[1]        1281        8027"
      ]
     },
     "execution_count": 19,
     "metadata": {},
     "output_type": "execute_result"
    }
   ],
   "source": [
    "# evaluate model on the hold out dataset\n",
    "\n",
    "y_test_pred = best_model.predict(X_test)\n",
    "print(classification_report(y_test, y_test_pred)) # precision, recall, f1-score, support\n",
    "print('\\nAUC : {:.5f}'.format(roc_auc_score(y_test, y_test_pred))) # auc\n",
    "\n",
    "# confusion matrix\n",
    "confmat=pd.DataFrame(confusion_matrix(y_test, y_test_pred),\n",
    "                    index=['True[0]', 'True[1]'],\n",
    "                    columns=['Predict[0]', 'Predict[1]'])\n",
    "\n",
    "confmat"
   ]
  },
  {
   "cell_type": "code",
   "execution_count": 17,
   "id": "3cefee46-b0b5-44ab-8f50-c864e192679b",
   "metadata": {},
   "outputs": [
    {
     "name": "stdout",
     "output_type": "stream",
     "text": [
      "Fitting 3 folds for each of 10 candidates, totalling 30 fits\n"
     ]
    }
   ],
   "source": [
    "pipeline = Pipeline(steps= [(\"SMOTE\", SMOTE()),\n",
    "                            (\"KNN\", KNeighborsClassifier())\n",
    "                            ])\n",
    "\n",
    "param_grid = {\n",
    "    \"SMOTE__sampling_strategy\": [0.5, 1],\n",
    "    \"KNN__n_neighbors\": [10,20,30,40,50],\n",
    "              }\n",
    "\n",
    "# define grid\n",
    "grid = GridSearchCV(pipeline, param_grid=param_grid, verbose=2, scoring=make_scorer(roc_auc_score), cv = 3, n_jobs=-1)\n",
    "\n",
    "# execute grid\n",
    "grid_result = grid.fit(X_train, y_train)"
   ]
  },
  {
   "cell_type": "code",
   "execution_count": 18,
   "id": "cfd7e8f4-27ba-4e1c-9496-7ce9335f16c1",
   "metadata": {},
   "outputs": [
    {
     "data": {
      "text/plain": [
       "Pipeline(steps=[('SMOTE', SMOTE(sampling_strategy=1)),\n",
       "                ('KNN', KNeighborsClassifier(n_neighbors=20))])"
      ]
     },
     "execution_count": 18,
     "metadata": {},
     "output_type": "execute_result"
    }
   ],
   "source": [
    "# get the best performing model fit on the whole training set\n",
    "best_model = grid_result.best_estimator_\n",
    "best_model"
   ]
  },
  {
   "cell_type": "code",
   "execution_count": 19,
   "id": "4d03c711-456e-498d-bc07-2834913980e4",
   "metadata": {},
   "outputs": [
    {
     "name": "stdout",
     "output_type": "stream",
     "text": [
      "              precision    recall  f1-score   support\n",
      "\n",
      "           0       0.97      0.87      0.92     66292\n",
      "           1       0.48      0.84      0.61      9308\n",
      "\n",
      "    accuracy                           0.87     75600\n",
      "   macro avg       0.73      0.86      0.77     75600\n",
      "weighted avg       0.91      0.87      0.88     75600\n",
      "\n",
      "\n",
      "AUC : 0.85557\n"
     ]
    },
    {
     "data": {
      "text/html": [
       "<div>\n",
       "<style scoped>\n",
       "    .dataframe tbody tr th:only-of-type {\n",
       "        vertical-align: middle;\n",
       "    }\n",
       "\n",
       "    .dataframe tbody tr th {\n",
       "        vertical-align: top;\n",
       "    }\n",
       "\n",
       "    .dataframe thead th {\n",
       "        text-align: right;\n",
       "    }\n",
       "</style>\n",
       "<table border=\"1\" class=\"dataframe\">\n",
       "  <thead>\n",
       "    <tr style=\"text-align: right;\">\n",
       "      <th></th>\n",
       "      <th>Predict[0]</th>\n",
       "      <th>Predict[1]</th>\n",
       "    </tr>\n",
       "  </thead>\n",
       "  <tbody>\n",
       "    <tr>\n",
       "      <th>True[0]</th>\n",
       "      <td>57997</td>\n",
       "      <td>8295</td>\n",
       "    </tr>\n",
       "    <tr>\n",
       "      <th>True[1]</th>\n",
       "      <td>1524</td>\n",
       "      <td>7784</td>\n",
       "    </tr>\n",
       "  </tbody>\n",
       "</table>\n",
       "</div>"
      ],
      "text/plain": [
       "         Predict[0]  Predict[1]\n",
       "True[0]       57997        8295\n",
       "True[1]        1524        7784"
      ]
     },
     "execution_count": 19,
     "metadata": {},
     "output_type": "execute_result"
    }
   ],
   "source": [
    "# evaluate model on the hold out dataset\n",
    "\n",
    "y_test_pred = best_model.predict(X_test)\n",
    "print(classification_report(y_test, y_test_pred)) # precision, recall, f1-score, support\n",
    "print('\\nAUC : {:.5f}'.format(roc_auc_score(y_test, y_test_pred))) # auc\n",
    "\n",
    "# confusion matrix\n",
    "confmat=pd.DataFrame(confusion_matrix(y_test, y_test_pred),\n",
    "                    index=['True[0]', 'True[1]'],\n",
    "                    columns=['Predict[0]', 'Predict[1]'])\n",
    "\n",
    "confmat"
   ]
  },
  {
   "cell_type": "code",
   "execution_count": 8,
   "id": "912ac8d1-23f0-45d8-a3c2-3831192d859d",
   "metadata": {},
   "outputs": [
    {
     "name": "stdout",
     "output_type": "stream",
     "text": [
      "Fitting 3 folds for each of 10 candidates, totalling 30 fits\n"
     ]
    }
   ],
   "source": [
    "pipeline = Pipeline(steps= [(\"ADASYN\", ADASYN()),\n",
    "                            (\"KNN\", KNeighborsClassifier())\n",
    "                            ])\n",
    "\n",
    "param_grid = {\n",
    "    \"ADASYN__sampling_strategy\": [0.5, 1],\n",
    "    \"KNN__n_neighbors\": [10,20,30,40,50],\n",
    "              }\n",
    "\n",
    "# define grid\n",
    "grid = GridSearchCV(pipeline, param_grid=param_grid, verbose=2, scoring=make_scorer(roc_auc_score), cv = 3, n_jobs=-1)\n",
    "\n",
    "# execute grid\n",
    "grid_result = grid.fit(X_train, y_train)"
   ]
  },
  {
   "cell_type": "code",
   "execution_count": 9,
   "id": "c1dec43c-f25c-4b3c-83ce-7b947893e50d",
   "metadata": {},
   "outputs": [
    {
     "data": {
      "text/plain": [
       "Pipeline(steps=[('ADASYN', ADASYN(sampling_strategy=1)),\n",
       "                ('KNN', KNeighborsClassifier(n_neighbors=20))])"
      ]
     },
     "execution_count": 9,
     "metadata": {},
     "output_type": "execute_result"
    }
   ],
   "source": [
    "# get the best performing model fit on the whole training set\n",
    "best_model = grid_result.best_estimator_\n",
    "best_model"
   ]
  },
  {
   "cell_type": "code",
   "execution_count": 10,
   "id": "5df414e8-df00-4160-aa58-cdbbae8899e4",
   "metadata": {},
   "outputs": [
    {
     "name": "stdout",
     "output_type": "stream",
     "text": [
      "              precision    recall  f1-score   support\n",
      "\n",
      "           0       0.98      0.86      0.92     66292\n",
      "           1       0.46      0.85      0.60      9308\n",
      "\n",
      "    accuracy                           0.86     75600\n",
      "   macro avg       0.72      0.86      0.76     75600\n",
      "weighted avg       0.91      0.86      0.88     75600\n",
      "\n",
      "\n",
      "AUC : 0.85807\n"
     ]
    },
    {
     "data": {
      "text/html": [
       "<div>\n",
       "<style scoped>\n",
       "    .dataframe tbody tr th:only-of-type {\n",
       "        vertical-align: middle;\n",
       "    }\n",
       "\n",
       "    .dataframe tbody tr th {\n",
       "        vertical-align: top;\n",
       "    }\n",
       "\n",
       "    .dataframe thead th {\n",
       "        text-align: right;\n",
       "    }\n",
       "</style>\n",
       "<table border=\"1\" class=\"dataframe\">\n",
       "  <thead>\n",
       "    <tr style=\"text-align: right;\">\n",
       "      <th></th>\n",
       "      <th>Predict[0]</th>\n",
       "      <th>Predict[1]</th>\n",
       "    </tr>\n",
       "  </thead>\n",
       "  <tbody>\n",
       "    <tr>\n",
       "      <th>True[0]</th>\n",
       "      <td>57104</td>\n",
       "      <td>9188</td>\n",
       "    </tr>\n",
       "    <tr>\n",
       "      <th>True[1]</th>\n",
       "      <td>1352</td>\n",
       "      <td>7956</td>\n",
       "    </tr>\n",
       "  </tbody>\n",
       "</table>\n",
       "</div>"
      ],
      "text/plain": [
       "         Predict[0]  Predict[1]\n",
       "True[0]       57104        9188\n",
       "True[1]        1352        7956"
      ]
     },
     "execution_count": 10,
     "metadata": {},
     "output_type": "execute_result"
    }
   ],
   "source": [
    "# evaluate model on the hold out dataset\n",
    "\n",
    "y_test_pred = best_model.predict(X_test)\n",
    "print(classification_report(y_test, y_test_pred)) # precision, recall, f1-score, support\n",
    "print('\\nAUC : {:.5f}'.format(roc_auc_score(y_test, y_test_pred))) # auc\n",
    "\n",
    "# confusion matrix\n",
    "confmat=pd.DataFrame(confusion_matrix(y_test, y_test_pred),\n",
    "                    index=['True[0]', 'True[1]'],\n",
    "                    columns=['Predict[0]', 'Predict[1]'])\n",
    "\n",
    "confmat"
   ]
  },
  {
   "cell_type": "code",
   "execution_count": 8,
   "id": "18bdd9e1-4c6a-406b-b9a3-e24d35d7bf42",
   "metadata": {},
   "outputs": [
    {
     "name": "stdout",
     "output_type": "stream",
     "text": [
      "Fitting 3 folds for each of 6 candidates, totalling 18 fits\n",
      "[13:37:36] WARNING: C:/Users/Administrator/workspace/xgboost-win64_release_1.5.0/src/learner.cc:1115: Starting in XGBoost 1.3.0, the default evaluation metric used with the objective 'binary:logistic' was changed from 'error' to 'logloss'. Explicitly set eval_metric if you'd like to restore the old behavior.\n"
     ]
    }
   ],
   "source": [
    "pipeline = Pipeline(steps= [(\"SMOTE\", SMOTE()),\n",
    "                            (\"XGB\", XGBClassifier())\n",
    "                            ])\n",
    "\n",
    "param_grid = {\n",
    "    \"SMOTE__sampling_strategy\": [0.5, 1],\n",
    "    \"XGB__learning_rate\": [0.1, 0.01, 0.05]\n",
    "              }\n",
    "\n",
    "# define grid\n",
    "grid = GridSearchCV(pipeline, param_grid=param_grid, verbose=2, scoring=make_scorer(roc_auc_score), cv = 3, n_jobs=-1)\n",
    "\n",
    "# execute grid\n",
    "grid_result = grid.fit(X_train, y_train)"
   ]
  },
  {
   "cell_type": "code",
   "execution_count": 9,
   "id": "e74556f1-233a-4992-90a0-3416fa1dd4b5",
   "metadata": {},
   "outputs": [
    {
     "data": {
      "text/plain": [
       "Pipeline(steps=[('SMOTE', SMOTE(sampling_strategy=1)),\n",
       "                ('XGB',\n",
       "                 XGBClassifier(base_score=0.5, booster='gbtree',\n",
       "                               colsample_bylevel=1, colsample_bynode=1,\n",
       "                               colsample_bytree=1, enable_categorical=False,\n",
       "                               gamma=0, gpu_id=-1, importance_type=None,\n",
       "                               interaction_constraints='', learning_rate=0.1,\n",
       "                               max_delta_step=0, max_depth=6,\n",
       "                               min_child_weight=1, missing=nan,\n",
       "                               monotone_constraints='()', n_estimators=100,\n",
       "                               n_jobs=4, num_parallel_tree=1, predictor='auto',\n",
       "                               random_state=0, reg_alpha=0, reg_lambda=1,\n",
       "                               scale_pos_weight=1, subsample=1,\n",
       "                               tree_method='exact', validate_parameters=1,\n",
       "                               verbosity=None))])"
      ]
     },
     "execution_count": 9,
     "metadata": {},
     "output_type": "execute_result"
    }
   ],
   "source": [
    "# get the best performing model fit on the whole training set\n",
    "best_model = grid_result.best_estimator_\n",
    "best_model"
   ]
  },
  {
   "cell_type": "code",
   "execution_count": 10,
   "id": "b020e275-ce27-46a7-b2a1-08d0b4ef98f6",
   "metadata": {},
   "outputs": [
    {
     "name": "stdout",
     "output_type": "stream",
     "text": [
      "              precision    recall  f1-score   support\n",
      "\n",
      "           0       0.95      0.75      0.84     66292\n",
      "           1       0.29      0.74      0.42      9308\n",
      "\n",
      "    accuracy                           0.75     75600\n",
      "   macro avg       0.62      0.74      0.63     75600\n",
      "weighted avg       0.87      0.75      0.79     75600\n",
      "\n",
      "\n",
      "AUC : 0.74435\n"
     ]
    },
    {
     "data": {
      "text/html": [
       "<div>\n",
       "<style scoped>\n",
       "    .dataframe tbody tr th:only-of-type {\n",
       "        vertical-align: middle;\n",
       "    }\n",
       "\n",
       "    .dataframe tbody tr th {\n",
       "        vertical-align: top;\n",
       "    }\n",
       "\n",
       "    .dataframe thead th {\n",
       "        text-align: right;\n",
       "    }\n",
       "</style>\n",
       "<table border=\"1\" class=\"dataframe\">\n",
       "  <thead>\n",
       "    <tr style=\"text-align: right;\">\n",
       "      <th></th>\n",
       "      <th>Predict[0]</th>\n",
       "      <th>Predict[1]</th>\n",
       "    </tr>\n",
       "  </thead>\n",
       "  <tbody>\n",
       "    <tr>\n",
       "      <th>True[0]</th>\n",
       "      <td>49832</td>\n",
       "      <td>16460</td>\n",
       "    </tr>\n",
       "    <tr>\n",
       "      <th>True[1]</th>\n",
       "      <td>2448</td>\n",
       "      <td>6860</td>\n",
       "    </tr>\n",
       "  </tbody>\n",
       "</table>\n",
       "</div>"
      ],
      "text/plain": [
       "         Predict[0]  Predict[1]\n",
       "True[0]       49832       16460\n",
       "True[1]        2448        6860"
      ]
     },
     "execution_count": 10,
     "metadata": {},
     "output_type": "execute_result"
    }
   ],
   "source": [
    "# evaluate model on the hold out dataset\n",
    "\n",
    "y_test_pred = best_model.predict(X_test)\n",
    "print(classification_report(y_test, y_test_pred)) # precision, recall, f1-score, support\n",
    "print('\\nAUC : {:.5f}'.format(roc_auc_score(y_test, y_test_pred))) # auc\n",
    "\n",
    "# confusion matrix\n",
    "confmat=pd.DataFrame(confusion_matrix(y_test, y_test_pred),\n",
    "                    index=['True[0]', 'True[1]'],\n",
    "                    columns=['Predict[0]', 'Predict[1]'])\n",
    "\n",
    "confmat"
   ]
  },
  {
   "cell_type": "code",
   "execution_count": 11,
   "id": "ea37e197-b6df-49e3-b43f-aff3b5323559",
   "metadata": {},
   "outputs": [
    {
     "name": "stdout",
     "output_type": "stream",
     "text": [
      "Fitting 3 folds for each of 6 candidates, totalling 18 fits\n",
      "[13:42:18] WARNING: C:/Users/Administrator/workspace/xgboost-win64_release_1.5.0/src/learner.cc:1115: Starting in XGBoost 1.3.0, the default evaluation metric used with the objective 'binary:logistic' was changed from 'error' to 'logloss'. Explicitly set eval_metric if you'd like to restore the old behavior.\n"
     ]
    }
   ],
   "source": [
    "pipeline = Pipeline(steps= [(\"ADASYN\", ADASYN()),\n",
    "                            (\"XGB\", XGBClassifier())\n",
    "                            ])\n",
    "\n",
    "param_grid = {\n",
    "    \"ADASYN__sampling_strategy\": [0.5, 1],\n",
    "    \"XGB__learning_rate\": [0.1, 0.01, 0.05]\n",
    "              }\n",
    "\n",
    "# define grid\n",
    "grid = GridSearchCV(pipeline, param_grid=param_grid, verbose=2, scoring=make_scorer(roc_auc_score), cv = 3, n_jobs=-1)\n",
    "\n",
    "# execute grid\n",
    "grid_result = grid.fit(X_train, y_train)"
   ]
  },
  {
   "cell_type": "code",
   "execution_count": 12,
   "id": "b876b527-5075-4304-ba09-a4eb65c4efa2",
   "metadata": {},
   "outputs": [
    {
     "data": {
      "text/plain": [
       "Pipeline(steps=[('ADASYN', ADASYN(sampling_strategy=1)),\n",
       "                ('XGB',\n",
       "                 XGBClassifier(base_score=0.5, booster='gbtree',\n",
       "                               colsample_bylevel=1, colsample_bynode=1,\n",
       "                               colsample_bytree=1, enable_categorical=False,\n",
       "                               gamma=0, gpu_id=-1, importance_type=None,\n",
       "                               interaction_constraints='', learning_rate=0.1,\n",
       "                               max_delta_step=0, max_depth=6,\n",
       "                               min_child_weight=1, missing=nan,\n",
       "                               monotone_constraints='()', n_estimators=100,\n",
       "                               n_jobs=4, num_parallel_tree=1, predictor='auto',\n",
       "                               random_state=0, reg_alpha=0, reg_lambda=1,\n",
       "                               scale_pos_weight=1, subsample=1,\n",
       "                               tree_method='exact', validate_parameters=1,\n",
       "                               verbosity=None))])"
      ]
     },
     "execution_count": 12,
     "metadata": {},
     "output_type": "execute_result"
    }
   ],
   "source": [
    "# get the best performing model fit on the whole training set\n",
    "best_model = grid_result.best_estimator_\n",
    "best_model"
   ]
  },
  {
   "cell_type": "code",
   "execution_count": 13,
   "id": "e09879e5-9907-4a5e-b272-033195b09b35",
   "metadata": {},
   "outputs": [
    {
     "name": "stdout",
     "output_type": "stream",
     "text": [
      "              precision    recall  f1-score   support\n",
      "\n",
      "           0       0.94      0.75      0.84     66292\n",
      "           1       0.28      0.67      0.39      9308\n",
      "\n",
      "    accuracy                           0.74     75600\n",
      "   macro avg       0.61      0.71      0.61     75600\n",
      "weighted avg       0.86      0.74      0.78     75600\n",
      "\n",
      "\n",
      "AUC : 0.71135\n"
     ]
    },
    {
     "data": {
      "text/html": [
       "<div>\n",
       "<style scoped>\n",
       "    .dataframe tbody tr th:only-of-type {\n",
       "        vertical-align: middle;\n",
       "    }\n",
       "\n",
       "    .dataframe tbody tr th {\n",
       "        vertical-align: top;\n",
       "    }\n",
       "\n",
       "    .dataframe thead th {\n",
       "        text-align: right;\n",
       "    }\n",
       "</style>\n",
       "<table border=\"1\" class=\"dataframe\">\n",
       "  <thead>\n",
       "    <tr style=\"text-align: right;\">\n",
       "      <th></th>\n",
       "      <th>Predict[0]</th>\n",
       "      <th>Predict[1]</th>\n",
       "    </tr>\n",
       "  </thead>\n",
       "  <tbody>\n",
       "    <tr>\n",
       "      <th>True[0]</th>\n",
       "      <td>49844</td>\n",
       "      <td>16448</td>\n",
       "    </tr>\n",
       "    <tr>\n",
       "      <th>True[1]</th>\n",
       "      <td>3064</td>\n",
       "      <td>6244</td>\n",
       "    </tr>\n",
       "  </tbody>\n",
       "</table>\n",
       "</div>"
      ],
      "text/plain": [
       "         Predict[0]  Predict[1]\n",
       "True[0]       49844       16448\n",
       "True[1]        3064        6244"
      ]
     },
     "execution_count": 13,
     "metadata": {},
     "output_type": "execute_result"
    }
   ],
   "source": [
    "# evaluate model on the hold out dataset\n",
    "\n",
    "y_test_pred = best_model.predict(X_test)\n",
    "print(classification_report(y_test, y_test_pred)) # precision, recall, f1-score, support\n",
    "print('\\nAUC : {:.5f}'.format(roc_auc_score(y_test, y_test_pred))) # auc\n",
    "\n",
    "# confusion matrix\n",
    "confmat=pd.DataFrame(confusion_matrix(y_test, y_test_pred),\n",
    "                    index=['True[0]', 'True[1]'],\n",
    "                    columns=['Predict[0]', 'Predict[1]'])\n",
    "\n",
    "confmat"
   ]
  },
  {
   "cell_type": "code",
   "execution_count": 20,
   "id": "765c4d27-22f5-4aa7-9490-83dc013a44a2",
   "metadata": {},
   "outputs": [
    {
     "name": "stdout",
     "output_type": "stream",
     "text": [
      "Fitting 3 folds for each of 6 candidates, totalling 18 fits\n"
     ]
    }
   ],
   "source": [
    "pipeline = Pipeline(steps= [(\"SMOTE\", SMOTE()),\n",
    "                            (\"L_GBM\", LGBMClassifier())\n",
    "                            ])\n",
    "\n",
    "param_grid = {\n",
    "    \"SMOTE__sampling_strategy\": [0.5, 1],\n",
    "    \"L_GBM__learning_rate\": [0.1, 0.01, 0.05]\n",
    "              }\n",
    "\n",
    "# define grid\n",
    "grid = GridSearchCV(pipeline, param_grid=param_grid, verbose=2, scoring=make_scorer(roc_auc_score), cv = 3, n_jobs=-1)\n",
    "\n",
    "# execute grid\n",
    "grid_result = grid.fit(X_train, y_train)"
   ]
  },
  {
   "cell_type": "code",
   "execution_count": 21,
   "id": "d83abd64-2a38-4608-a8aa-70960b1e0e5b",
   "metadata": {},
   "outputs": [
    {
     "data": {
      "text/plain": [
       "Pipeline(steps=[('SMOTE', SMOTE(sampling_strategy=1)),\n",
       "                ('L_GBM', LGBMClassifier())])"
      ]
     },
     "execution_count": 21,
     "metadata": {},
     "output_type": "execute_result"
    }
   ],
   "source": [
    "# get the best performing model fit on the whole training set\n",
    "best_model = grid_result.best_estimator_\n",
    "best_model"
   ]
  },
  {
   "cell_type": "code",
   "execution_count": 22,
   "id": "03eb2992-e5a4-4513-8195-7f851e604624",
   "metadata": {},
   "outputs": [
    {
     "name": "stdout",
     "output_type": "stream",
     "text": [
      "              precision    recall  f1-score   support\n",
      "\n",
      "           0       0.96      0.76      0.85     66292\n",
      "           1       0.30      0.75      0.43      9308\n",
      "\n",
      "    accuracy                           0.76     75600\n",
      "   macro avg       0.63      0.75      0.64     75600\n",
      "weighted avg       0.88      0.76      0.79     75600\n",
      "\n",
      "\n",
      "AUC : 0.75383\n"
     ]
    },
    {
     "data": {
      "text/html": [
       "<div>\n",
       "<style scoped>\n",
       "    .dataframe tbody tr th:only-of-type {\n",
       "        vertical-align: middle;\n",
       "    }\n",
       "\n",
       "    .dataframe tbody tr th {\n",
       "        vertical-align: top;\n",
       "    }\n",
       "\n",
       "    .dataframe thead th {\n",
       "        text-align: right;\n",
       "    }\n",
       "</style>\n",
       "<table border=\"1\" class=\"dataframe\">\n",
       "  <thead>\n",
       "    <tr style=\"text-align: right;\">\n",
       "      <th></th>\n",
       "      <th>Predict[0]</th>\n",
       "      <th>Predict[1]</th>\n",
       "    </tr>\n",
       "  </thead>\n",
       "  <tbody>\n",
       "    <tr>\n",
       "      <th>True[0]</th>\n",
       "      <td>50205</td>\n",
       "      <td>16087</td>\n",
       "    </tr>\n",
       "    <tr>\n",
       "      <th>True[1]</th>\n",
       "      <td>2324</td>\n",
       "      <td>6984</td>\n",
       "    </tr>\n",
       "  </tbody>\n",
       "</table>\n",
       "</div>"
      ],
      "text/plain": [
       "         Predict[0]  Predict[1]\n",
       "True[0]       50205       16087\n",
       "True[1]        2324        6984"
      ]
     },
     "execution_count": 22,
     "metadata": {},
     "output_type": "execute_result"
    }
   ],
   "source": [
    "# evaluate model on the hold out dataset\n",
    "\n",
    "y_test_pred = best_model.predict(X_test)\n",
    "print(classification_report(y_test, y_test_pred)) # precision, recall, f1-score, support\n",
    "print('\\nAUC : {:.5f}'.format(roc_auc_score(y_test, y_test_pred))) # auc\n",
    "\n",
    "# confusion matrix\n",
    "confmat=pd.DataFrame(confusion_matrix(y_test, y_test_pred),\n",
    "                    index=['True[0]', 'True[1]'],\n",
    "                    columns=['Predict[0]', 'Predict[1]'])\n",
    "\n",
    "confmat"
   ]
  },
  {
   "cell_type": "code",
   "execution_count": 23,
   "id": "b161253d-f2cb-4bd7-a4be-ae53205a7219",
   "metadata": {},
   "outputs": [
    {
     "name": "stdout",
     "output_type": "stream",
     "text": [
      "Fitting 3 folds for each of 6 candidates, totalling 18 fits\n"
     ]
    }
   ],
   "source": [
    "pipeline = Pipeline(steps= [(\"ADASYN\", ADASYN()),\n",
    "                            (\"L_GBM\", LGBMClassifier())\n",
    "                            ])\n",
    "\n",
    "param_grid = {\n",
    "    \"ADASYN__sampling_strategy\": [0.5, 1],\n",
    "    \"L_GBM__learning_rate\": [0.1, 0.01, 0.05]\n",
    "              }\n",
    "\n",
    "# define grid\n",
    "grid = GridSearchCV(pipeline, param_grid=param_grid, verbose=2, scoring=make_scorer(roc_auc_score), cv = 3, n_jobs=-1)\n",
    "\n",
    "# execute grid\n",
    "grid_result = grid.fit(X_train, y_train)"
   ]
  },
  {
   "cell_type": "code",
   "execution_count": 24,
   "id": "0339c723-99a1-44b5-a8df-d6da42f214ac",
   "metadata": {},
   "outputs": [
    {
     "data": {
      "text/plain": [
       "Pipeline(steps=[('ADASYN', ADASYN(sampling_strategy=1)),\n",
       "                ('L_GBM', LGBMClassifier())])"
      ]
     },
     "execution_count": 24,
     "metadata": {},
     "output_type": "execute_result"
    }
   ],
   "source": [
    "# get the best performing model fit on the whole training set\n",
    "best_model = grid_result.best_estimator_\n",
    "best_model"
   ]
  },
  {
   "cell_type": "code",
   "execution_count": 25,
   "id": "3c122eff-57bd-479d-9bb7-90c556d83d5a",
   "metadata": {},
   "outputs": [
    {
     "name": "stdout",
     "output_type": "stream",
     "text": [
      "              precision    recall  f1-score   support\n",
      "\n",
      "           0       0.94      0.77      0.85     66292\n",
      "           1       0.29      0.65      0.40      9308\n",
      "\n",
      "    accuracy                           0.76     75600\n",
      "   macro avg       0.61      0.71      0.62     75600\n",
      "weighted avg       0.86      0.76      0.79     75600\n",
      "\n",
      "\n",
      "AUC : 0.71339\n"
     ]
    },
    {
     "data": {
      "text/html": [
       "<div>\n",
       "<style scoped>\n",
       "    .dataframe tbody tr th:only-of-type {\n",
       "        vertical-align: middle;\n",
       "    }\n",
       "\n",
       "    .dataframe tbody tr th {\n",
       "        vertical-align: top;\n",
       "    }\n",
       "\n",
       "    .dataframe thead th {\n",
       "        text-align: right;\n",
       "    }\n",
       "</style>\n",
       "<table border=\"1\" class=\"dataframe\">\n",
       "  <thead>\n",
       "    <tr style=\"text-align: right;\">\n",
       "      <th></th>\n",
       "      <th>Predict[0]</th>\n",
       "      <th>Predict[1]</th>\n",
       "    </tr>\n",
       "  </thead>\n",
       "  <tbody>\n",
       "    <tr>\n",
       "      <th>True[0]</th>\n",
       "      <td>51296</td>\n",
       "      <td>14996</td>\n",
       "    </tr>\n",
       "    <tr>\n",
       "      <th>True[1]</th>\n",
       "      <td>3230</td>\n",
       "      <td>6078</td>\n",
       "    </tr>\n",
       "  </tbody>\n",
       "</table>\n",
       "</div>"
      ],
      "text/plain": [
       "         Predict[0]  Predict[1]\n",
       "True[0]       51296       14996\n",
       "True[1]        3230        6078"
      ]
     },
     "execution_count": 25,
     "metadata": {},
     "output_type": "execute_result"
    }
   ],
   "source": [
    "# evaluate model on the hold out dataset\n",
    "\n",
    "y_test_pred = best_model.predict(X_test)\n",
    "print(classification_report(y_test, y_test_pred)) # precision, recall, f1-score, support\n",
    "print('\\nAUC : {:.5f}'.format(roc_auc_score(y_test, y_test_pred))) # auc\n",
    "\n",
    "# confusion matrix\n",
    "confmat=pd.DataFrame(confusion_matrix(y_test, y_test_pred),\n",
    "                    index=['True[0]', 'True[1]'],\n",
    "                    columns=['Predict[0]', 'Predict[1]'])\n",
    "\n",
    "confmat"
   ]
  },
  {
   "cell_type": "markdown",
   "id": "71abcb95-d522-41eb-a7c1-9b833682e5db",
   "metadata": {},
   "source": [
    "---"
   ]
  },
  {
   "cell_type": "code",
   "execution_count": 20,
   "id": "9c31e0fb-2d51-4d1d-832f-c223382a4509",
   "metadata": {},
   "outputs": [
    {
     "name": "stdout",
     "output_type": "stream",
     "text": [
      "Fitting 3 folds for each of 20 candidates, totalling 60 fits\n",
      "[CV] END ...KNN__n_neighbors=1, SMOTE__sampling_strategy=0.5; total time=   4.6s\n",
      "[CV] END ...KNN__n_neighbors=1, SMOTE__sampling_strategy=0.5; total time=   4.5s\n",
      "[CV] END ...KNN__n_neighbors=1, SMOTE__sampling_strategy=0.5; total time=   3.9s\n",
      "[CV] END .....KNN__n_neighbors=1, SMOTE__sampling_strategy=1; total time=   4.5s\n",
      "[CV] END .....KNN__n_neighbors=1, SMOTE__sampling_strategy=1; total time=   4.8s\n",
      "[CV] END .....KNN__n_neighbors=1, SMOTE__sampling_strategy=1; total time=   4.9s\n",
      "[CV] END ...KNN__n_neighbors=2, SMOTE__sampling_strategy=0.5; total time=   4.1s\n",
      "[CV] END ...KNN__n_neighbors=2, SMOTE__sampling_strategy=0.5; total time=   7.1s\n",
      "[CV] END ...KNN__n_neighbors=2, SMOTE__sampling_strategy=0.5; total time=   4.6s\n",
      "[CV] END .....KNN__n_neighbors=2, SMOTE__sampling_strategy=1; total time=   4.9s\n",
      "[CV] END .....KNN__n_neighbors=2, SMOTE__sampling_strategy=1; total time=   5.1s\n",
      "[CV] END .....KNN__n_neighbors=2, SMOTE__sampling_strategy=1; total time=   5.0s\n",
      "[CV] END ...KNN__n_neighbors=3, SMOTE__sampling_strategy=0.5; total time=   4.2s\n",
      "[CV] END ...KNN__n_neighbors=3, SMOTE__sampling_strategy=0.5; total time=   4.6s\n",
      "[CV] END ...KNN__n_neighbors=3, SMOTE__sampling_strategy=0.5; total time=   5.0s\n",
      "[CV] END .....KNN__n_neighbors=3, SMOTE__sampling_strategy=1; total time=   4.8s\n",
      "[CV] END .....KNN__n_neighbors=3, SMOTE__sampling_strategy=1; total time=   5.1s\n",
      "[CV] END .....KNN__n_neighbors=3, SMOTE__sampling_strategy=1; total time=   5.4s\n",
      "[CV] END ...KNN__n_neighbors=4, SMOTE__sampling_strategy=0.5; total time=   4.6s\n",
      "[CV] END ...KNN__n_neighbors=4, SMOTE__sampling_strategy=0.5; total time=   4.2s\n",
      "[CV] END ...KNN__n_neighbors=4, SMOTE__sampling_strategy=0.5; total time=   4.2s\n",
      "[CV] END .....KNN__n_neighbors=4, SMOTE__sampling_strategy=1; total time=   5.4s\n",
      "[CV] END .....KNN__n_neighbors=4, SMOTE__sampling_strategy=1; total time=   5.6s\n",
      "[CV] END .....KNN__n_neighbors=4, SMOTE__sampling_strategy=1; total time=   5.3s\n",
      "[CV] END ...KNN__n_neighbors=5, SMOTE__sampling_strategy=0.5; total time=   4.2s\n",
      "[CV] END ...KNN__n_neighbors=5, SMOTE__sampling_strategy=0.5; total time=   4.1s\n",
      "[CV] END ...KNN__n_neighbors=5, SMOTE__sampling_strategy=0.5; total time=   4.8s\n",
      "[CV] END .....KNN__n_neighbors=5, SMOTE__sampling_strategy=1; total time=   5.4s\n",
      "[CV] END .....KNN__n_neighbors=5, SMOTE__sampling_strategy=1; total time=   5.4s\n",
      "[CV] END .....KNN__n_neighbors=5, SMOTE__sampling_strategy=1; total time=   5.3s\n",
      "[CV] END ...KNN__n_neighbors=6, SMOTE__sampling_strategy=0.5; total time=   4.4s\n",
      "[CV] END ...KNN__n_neighbors=6, SMOTE__sampling_strategy=0.5; total time=   3.9s\n",
      "[CV] END ...KNN__n_neighbors=6, SMOTE__sampling_strategy=0.5; total time=   4.2s\n",
      "[CV] END .....KNN__n_neighbors=6, SMOTE__sampling_strategy=1; total time=   5.8s\n",
      "[CV] END .....KNN__n_neighbors=6, SMOTE__sampling_strategy=1; total time=   5.1s\n",
      "[CV] END .....KNN__n_neighbors=6, SMOTE__sampling_strategy=1; total time=   4.8s\n",
      "[CV] END ...KNN__n_neighbors=7, SMOTE__sampling_strategy=0.5; total time=   4.3s\n",
      "[CV] END ...KNN__n_neighbors=7, SMOTE__sampling_strategy=0.5; total time=   5.7s\n",
      "[CV] END ...KNN__n_neighbors=7, SMOTE__sampling_strategy=0.5; total time=   4.3s\n",
      "[CV] END .....KNN__n_neighbors=7, SMOTE__sampling_strategy=1; total time=   5.2s\n",
      "[CV] END .....KNN__n_neighbors=7, SMOTE__sampling_strategy=1; total time=   5.7s\n",
      "[CV] END .....KNN__n_neighbors=7, SMOTE__sampling_strategy=1; total time=   5.6s\n",
      "[CV] END ...KNN__n_neighbors=8, SMOTE__sampling_strategy=0.5; total time=   4.3s\n",
      "[CV] END ...KNN__n_neighbors=8, SMOTE__sampling_strategy=0.5; total time=   4.9s\n",
      "[CV] END ...KNN__n_neighbors=8, SMOTE__sampling_strategy=0.5; total time=   4.2s\n",
      "[CV] END .....KNN__n_neighbors=8, SMOTE__sampling_strategy=1; total time=   5.1s\n",
      "[CV] END .....KNN__n_neighbors=8, SMOTE__sampling_strategy=1; total time=   5.7s\n",
      "[CV] END .....KNN__n_neighbors=8, SMOTE__sampling_strategy=1; total time=   4.9s\n",
      "[CV] END ...KNN__n_neighbors=9, SMOTE__sampling_strategy=0.5; total time=   4.2s\n",
      "[CV] END ...KNN__n_neighbors=9, SMOTE__sampling_strategy=0.5; total time=   5.5s\n",
      "[CV] END ...KNN__n_neighbors=9, SMOTE__sampling_strategy=0.5; total time=   4.9s\n",
      "[CV] END .....KNN__n_neighbors=9, SMOTE__sampling_strategy=1; total time=   4.9s\n",
      "[CV] END .....KNN__n_neighbors=9, SMOTE__sampling_strategy=1; total time=   5.9s\n",
      "[CV] END .....KNN__n_neighbors=9, SMOTE__sampling_strategy=1; total time=   5.0s\n",
      "[CV] END ..KNN__n_neighbors=10, SMOTE__sampling_strategy=0.5; total time=   4.3s\n",
      "[CV] END ..KNN__n_neighbors=10, SMOTE__sampling_strategy=0.5; total time=   4.3s\n",
      "[CV] END ..KNN__n_neighbors=10, SMOTE__sampling_strategy=0.5; total time=   4.4s\n",
      "[CV] END ....KNN__n_neighbors=10, SMOTE__sampling_strategy=1; total time=   4.6s\n",
      "[CV] END ....KNN__n_neighbors=10, SMOTE__sampling_strategy=1; total time=   4.8s\n",
      "[CV] END ....KNN__n_neighbors=10, SMOTE__sampling_strategy=1; total time=   6.2s\n"
     ]
    },
    {
     "data": {
      "text/plain": [
       "GridSearchCV(cv=3,\n",
       "             estimator=Pipeline(steps=[('SMOTE', SMOTE()),\n",
       "                                       ('KNN', KNeighborsClassifier())]),\n",
       "             param_grid={'KNN__n_neighbors': [1, 2, 3, 4, 5, 6, 7, 8, 9, 10],\n",
       "                         'SMOTE__sampling_strategy': [0.5, 1]},\n",
       "             scoring=make_scorer(roc_auc_score), verbose=2)"
      ]
     },
     "execution_count": 20,
     "metadata": {},
     "output_type": "execute_result"
    }
   ],
   "source": [
    "k_range = list(range(1,11)) # # of k\n",
    "\n",
    "pipeline2 = Pipeline(steps= [(\"SMOTE\", SMOTE()),\n",
    "                            (\"KNN\", KNeighborsClassifier())\n",
    "                            ])\n",
    "\n",
    "param_grid2 = {\n",
    "    \"SMOTE__sampling_strategy\": [0.5, 1],\n",
    "    \"KNN__n_neighbors\": k_range\n",
    "              }\n",
    "\n",
    "smore_knn_pipe = GridSearchCV(pipeline2, param_grid=param_grid2, verbose=2, scoring=make_scorer(roc_auc_score), cv = 3)\n",
    "\n",
    "smore_knn_pipe.fit(X_train, y_train)"
   ]
  },
  {
   "cell_type": "code",
   "execution_count": 21,
   "id": "b88d74ff-070a-4023-a1ad-3c8e0eb93a37",
   "metadata": {},
   "outputs": [],
   "source": [
    "# get the best performing model fit on the whole training set\n",
    "best_model = smore_knn_pipe.best_estimator_\n",
    "\n",
    "# evaluate model on the hold out dataset\n",
    "y_pred = best_model.predict(X_test)"
   ]
  },
  {
   "cell_type": "code",
   "execution_count": 26,
   "id": "84e8630d-5d58-45f6-84b2-fe0bf9da52da",
   "metadata": {},
   "outputs": [
    {
     "data": {
      "text/plain": [
       "Pipeline(steps=[('SMOTE', SMOTE(sampling_strategy=1)),\n",
       "                ('KNN', KNeighborsClassifier(n_neighbors=9))])"
      ]
     },
     "execution_count": 26,
     "metadata": {},
     "output_type": "execute_result"
    }
   ],
   "source": [
    "best_model"
   ]
  },
  {
   "cell_type": "code",
   "execution_count": 25,
   "id": "d070d846-cd93-4674-a3dd-04614dbc6f6c",
   "metadata": {},
   "outputs": [
    {
     "name": "stdout",
     "output_type": "stream",
     "text": [
      "              precision    recall  f1-score   support\n",
      "\n",
      "           0       0.99      0.87      0.92    154712\n",
      "           1       0.50      0.92      0.65     21688\n",
      "\n",
      "    accuracy                           0.88    176400\n",
      "   macro avg       0.74      0.90      0.79    176400\n",
      "weighted avg       0.93      0.88      0.89    176400\n",
      "\n",
      "              precision    recall  f1-score   support\n",
      "\n",
      "           0       0.98      0.86      0.92     66292\n",
      "           1       0.47      0.86      0.60      9308\n",
      "\n",
      "    accuracy                           0.86     75600\n",
      "   macro avg       0.72      0.86      0.76     75600\n",
      "weighted avg       0.91      0.86      0.88     75600\n",
      "\n",
      "\n",
      "AUC : 0.859\n"
     ]
    }
   ],
   "source": [
    "# evaluate model on the hold out dataset\n",
    "y_train_pred = best_model.predict(X_train)\n",
    "y_test_pred = best_model.predict(X_test)\n",
    "\n",
    "print(classification_report(y_train, y_train_pred)) # 알고리즘이 얼마나 학습을 잘 시켰는가\n",
    "print(classification_report(y_test, y_test_pred)) # 새로운 데이터가 들어올 때 얼마나 좋은 성능을 나타내는가\n",
    "print('\\nAUC : {:.3f}'.format(roc_auc_score(y_test, y_test_pred)))"
   ]
  },
  {
   "cell_type": "code",
   "execution_count": 30,
   "id": "8d93a41e-0e8a-4c9e-97a5-daae9d85f6a8",
   "metadata": {},
   "outputs": [
    {
     "data": {
      "text/html": [
       "<div>\n",
       "<style scoped>\n",
       "    .dataframe tbody tr th:only-of-type {\n",
       "        vertical-align: middle;\n",
       "    }\n",
       "\n",
       "    .dataframe tbody tr th {\n",
       "        vertical-align: top;\n",
       "    }\n",
       "\n",
       "    .dataframe thead th {\n",
       "        text-align: right;\n",
       "    }\n",
       "</style>\n",
       "<table border=\"1\" class=\"dataframe\">\n",
       "  <thead>\n",
       "    <tr style=\"text-align: right;\">\n",
       "      <th></th>\n",
       "      <th>Predict[0]</th>\n",
       "      <th>Predict[1]</th>\n",
       "    </tr>\n",
       "  </thead>\n",
       "  <tbody>\n",
       "    <tr>\n",
       "      <th>True[0]</th>\n",
       "      <td>57132</td>\n",
       "      <td>9160</td>\n",
       "    </tr>\n",
       "    <tr>\n",
       "      <th>True[1]</th>\n",
       "      <td>1333</td>\n",
       "      <td>7975</td>\n",
       "    </tr>\n",
       "  </tbody>\n",
       "</table>\n",
       "</div>"
      ],
      "text/plain": [
       "         Predict[0]  Predict[1]\n",
       "True[0]       57132        9160\n",
       "True[1]        1333        7975"
      ]
     },
     "execution_count": 30,
     "metadata": {},
     "output_type": "execute_result"
    }
   ],
   "source": [
    "confmat=pd.DataFrame(confusion_matrix(y_test, y_test_pred),\n",
    "                    index=['True[0]', 'True[1]'],\n",
    "                    columns=['Predict[0]', 'Predict[1]'])\n",
    "\n",
    "confmat"
   ]
  },
  {
   "cell_type": "code",
   "execution_count": 8,
   "id": "b77d25b5-a524-4719-84c0-3590bcdc1f68",
   "metadata": {},
   "outputs": [
    {
     "name": "stdout",
     "output_type": "stream",
     "text": [
      "Fitting 3 folds for each of 20 candidates, totalling 60 fits\n"
     ]
    }
   ],
   "source": [
    "k_range = list(range(1,11)) # # of k\n",
    "\n",
    "pipeline = Pipeline(steps= [(\"ADASYN\", ADASYN()),\n",
    "                            (\"KNN\", KNeighborsClassifier())\n",
    "                            ])\n",
    "\n",
    "param_grid = {\n",
    "    \"ADASYN__sampling_strategy\": [0.5, 1],\n",
    "    \"KNN__n_neighbors\": k_range\n",
    "              }\n",
    "\n",
    "# define grid\n",
    "grid = GridSearchCV(pipeline, param_grid=param_grid, verbose=2, scoring=make_scorer(roc_auc_score), cv = 3, n_jobs=-1)\n",
    "\n",
    "# execute grid\n",
    "grid_result = grid.fit(X_train, y_train)"
   ]
  },
  {
   "cell_type": "code",
   "execution_count": 9,
   "id": "e5a377c4-1086-4918-8772-8f9a4dc7cfcf",
   "metadata": {},
   "outputs": [
    {
     "data": {
      "text/plain": [
       "Pipeline(steps=[('ADASYN', ADASYN(sampling_strategy=1)),\n",
       "                ('KNN', KNeighborsClassifier(n_neighbors=9))])"
      ]
     },
     "execution_count": 9,
     "metadata": {},
     "output_type": "execute_result"
    }
   ],
   "source": [
    "# get the best performing model fit on the whole training set\n",
    "best_model = grid_result.best_estimator_\n",
    "best_model"
   ]
  },
  {
   "cell_type": "code",
   "execution_count": 10,
   "id": "334d948c-8359-4ae1-b5b8-6f1ee2e73962",
   "metadata": {},
   "outputs": [
    {
     "name": "stdout",
     "output_type": "stream",
     "text": [
      "              precision    recall  f1-score   support\n",
      "\n",
      "           0       0.98      0.85      0.91     66292\n",
      "           1       0.45      0.87      0.59      9308\n",
      "\n",
      "    accuracy                           0.85     75600\n",
      "   macro avg       0.71      0.86      0.75     75600\n",
      "weighted avg       0.91      0.85      0.87     75600\n",
      "\n",
      "\n",
      "AUC : 0.85992\n"
     ]
    },
    {
     "data": {
      "text/html": [
       "<div>\n",
       "<style scoped>\n",
       "    .dataframe tbody tr th:only-of-type {\n",
       "        vertical-align: middle;\n",
       "    }\n",
       "\n",
       "    .dataframe tbody tr th {\n",
       "        vertical-align: top;\n",
       "    }\n",
       "\n",
       "    .dataframe thead th {\n",
       "        text-align: right;\n",
       "    }\n",
       "</style>\n",
       "<table border=\"1\" class=\"dataframe\">\n",
       "  <thead>\n",
       "    <tr style=\"text-align: right;\">\n",
       "      <th></th>\n",
       "      <th>Predict[0]</th>\n",
       "      <th>Predict[1]</th>\n",
       "    </tr>\n",
       "  </thead>\n",
       "  <tbody>\n",
       "    <tr>\n",
       "      <th>True[0]</th>\n",
       "      <td>56180</td>\n",
       "      <td>10112</td>\n",
       "    </tr>\n",
       "    <tr>\n",
       "      <th>True[1]</th>\n",
       "      <td>1188</td>\n",
       "      <td>8120</td>\n",
       "    </tr>\n",
       "  </tbody>\n",
       "</table>\n",
       "</div>"
      ],
      "text/plain": [
       "         Predict[0]  Predict[1]\n",
       "True[0]       56180       10112\n",
       "True[1]        1188        8120"
      ]
     },
     "execution_count": 10,
     "metadata": {},
     "output_type": "execute_result"
    }
   ],
   "source": [
    "# evaluate model on the hold out dataset\n",
    "\n",
    "y_test_pred = best_model.predict(X_test)\n",
    "print(classification_report(y_test, y_test_pred)) # precision, recall, f1-score, support\n",
    "print('\\nAUC : {:.5f}'.format(roc_auc_score(y_test, y_test_pred))) # auc\n",
    "\n",
    "# confusion matrix\n",
    "confmat=pd.DataFrame(confusion_matrix(y_test, y_test_pred),\n",
    "                    index=['True[0]', 'True[1]'],\n",
    "                    columns=['Predict[0]', 'Predict[1]'])\n",
    "\n",
    "confmat"
   ]
  },
  {
   "cell_type": "code",
   "execution_count": null,
   "id": "94378370-fd13-4d30-a85e-7c4b367e6023",
   "metadata": {},
   "outputs": [],
   "source": [
    "pipeline = Pipeline(steps= [(\"RandomOS\", RandomOversampler()),\n",
    "                            (\"RF\", RandomForestClassifier())\n",
    "                            ])\n",
    "\n",
    "param_grid = {\n",
    "    \"RandomOS__k_neighbors\": [5,10,15,20],\n",
    "    \"RF__n_estimators\": [100, 200, 300]\n",
    "              }\n",
    "\n",
    "# define grid\n",
    "grid = GridSearchCV(pipeline, param_grid=param_grid, verbose=2, scoring=make_scorer(roc_auc_score), cv = 3)\n",
    "\n",
    "# execute grid\n",
    "grid_result = grid.fit(X_train, y_train)"
   ]
  },
  {
   "cell_type": "code",
   "execution_count": null,
   "id": "13d0c5a3-35cd-4fc4-b9c8-4a00bcabe6e1",
   "metadata": {},
   "outputs": [],
   "source": []
  }
 ],
 "metadata": {
  "kernelspec": {
   "display_name": "Python 3",
   "language": "python",
   "name": "python3"
  },
  "language_info": {
   "codemirror_mode": {
    "name": "ipython",
    "version": 3
   },
   "file_extension": ".py",
   "mimetype": "text/x-python",
   "name": "python",
   "nbconvert_exporter": "python",
   "pygments_lexer": "ipython3",
   "version": "3.7.10"
  }
 },
 "nbformat": 4,
 "nbformat_minor": 5
}
