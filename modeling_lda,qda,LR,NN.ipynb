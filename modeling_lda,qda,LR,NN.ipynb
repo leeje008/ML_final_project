{
 "cells": [
  {
   "cell_type": "markdown",
   "id": "e7ed54c6-239a-4b7d-aa3a-e5a33c6ed311",
   "metadata": {},
   "source": [
    "# Modeling"
   ]
  },
  {
   "cell_type": "markdown",
   "id": "4279077c-e154-4b9c-ab83-a45c2023ddf1",
   "metadata": {},
   "source": [
    "## 1. Sampling X"
   ]
  },
  {
   "cell_type": "code",
   "execution_count": 103,
   "id": "caa8ef76-2047-4461-a4bf-17a8b9198764",
   "metadata": {},
   "outputs": [],
   "source": [
    "import pandas as pd\n",
    "df_train = pd.read_csv(\"Loan_Train.csv\")\n",
    "X_test = pd.read_csv(\"Loan_Test_feature.csv\")\n",
    "y_test = pd.read_csv(\"Loan_Test_target.csv\")"
   ]
  },
  {
   "cell_type": "code",
   "execution_count": 104,
   "id": "90f843eb-e56a-46fe-8b99-8b9d5ba2ab7f",
   "metadata": {},
   "outputs": [
    {
     "data": {
      "text/html": [
       "<div>\n",
       "<style scoped>\n",
       "    .dataframe tbody tr th:only-of-type {\n",
       "        vertical-align: middle;\n",
       "    }\n",
       "\n",
       "    .dataframe tbody tr th {\n",
       "        vertical-align: top;\n",
       "    }\n",
       "\n",
       "    .dataframe thead th {\n",
       "        text-align: right;\n",
       "    }\n",
       "</style>\n",
       "<table border=\"1\" class=\"dataframe\">\n",
       "  <thead>\n",
       "    <tr style=\"text-align: right;\">\n",
       "      <th></th>\n",
       "      <th>Id</th>\n",
       "      <th>Income</th>\n",
       "      <th>Age</th>\n",
       "      <th>Experience</th>\n",
       "      <th>Married/Single</th>\n",
       "      <th>House_Ownership</th>\n",
       "      <th>Car_Ownership</th>\n",
       "      <th>Profession</th>\n",
       "      <th>CITY</th>\n",
       "      <th>STATE</th>\n",
       "      <th>CURRENT_JOB_YRS</th>\n",
       "      <th>CURRENT_HOUSE_YRS</th>\n",
       "      <th>Risk_Flag</th>\n",
       "    </tr>\n",
       "  </thead>\n",
       "  <tbody>\n",
       "    <tr>\n",
       "      <th>0</th>\n",
       "      <td>1</td>\n",
       "      <td>1303834</td>\n",
       "      <td>23</td>\n",
       "      <td>3</td>\n",
       "      <td>single</td>\n",
       "      <td>rented</td>\n",
       "      <td>no</td>\n",
       "      <td>Mechanical_engineer</td>\n",
       "      <td>Rewa</td>\n",
       "      <td>Madhya_Pradesh</td>\n",
       "      <td>3</td>\n",
       "      <td>13</td>\n",
       "      <td>0</td>\n",
       "    </tr>\n",
       "    <tr>\n",
       "      <th>1</th>\n",
       "      <td>2</td>\n",
       "      <td>7574516</td>\n",
       "      <td>40</td>\n",
       "      <td>10</td>\n",
       "      <td>single</td>\n",
       "      <td>rented</td>\n",
       "      <td>no</td>\n",
       "      <td>Software_Developer</td>\n",
       "      <td>Parbhani</td>\n",
       "      <td>Maharashtra</td>\n",
       "      <td>9</td>\n",
       "      <td>13</td>\n",
       "      <td>0</td>\n",
       "    </tr>\n",
       "    <tr>\n",
       "      <th>2</th>\n",
       "      <td>3</td>\n",
       "      <td>3991815</td>\n",
       "      <td>66</td>\n",
       "      <td>4</td>\n",
       "      <td>married</td>\n",
       "      <td>rented</td>\n",
       "      <td>no</td>\n",
       "      <td>Technical_writer</td>\n",
       "      <td>Alappuzha</td>\n",
       "      <td>Kerala</td>\n",
       "      <td>4</td>\n",
       "      <td>10</td>\n",
       "      <td>0</td>\n",
       "    </tr>\n",
       "    <tr>\n",
       "      <th>3</th>\n",
       "      <td>4</td>\n",
       "      <td>6256451</td>\n",
       "      <td>41</td>\n",
       "      <td>2</td>\n",
       "      <td>single</td>\n",
       "      <td>rented</td>\n",
       "      <td>yes</td>\n",
       "      <td>Software_Developer</td>\n",
       "      <td>Bhubaneswar</td>\n",
       "      <td>Odisha</td>\n",
       "      <td>2</td>\n",
       "      <td>12</td>\n",
       "      <td>1</td>\n",
       "    </tr>\n",
       "    <tr>\n",
       "      <th>4</th>\n",
       "      <td>5</td>\n",
       "      <td>5768871</td>\n",
       "      <td>47</td>\n",
       "      <td>11</td>\n",
       "      <td>single</td>\n",
       "      <td>rented</td>\n",
       "      <td>no</td>\n",
       "      <td>Civil_servant</td>\n",
       "      <td>Tiruchirappalli[10]</td>\n",
       "      <td>Tamil_Nadu</td>\n",
       "      <td>3</td>\n",
       "      <td>14</td>\n",
       "      <td>1</td>\n",
       "    </tr>\n",
       "    <tr>\n",
       "      <th>...</th>\n",
       "      <td>...</td>\n",
       "      <td>...</td>\n",
       "      <td>...</td>\n",
       "      <td>...</td>\n",
       "      <td>...</td>\n",
       "      <td>...</td>\n",
       "      <td>...</td>\n",
       "      <td>...</td>\n",
       "      <td>...</td>\n",
       "      <td>...</td>\n",
       "      <td>...</td>\n",
       "      <td>...</td>\n",
       "      <td>...</td>\n",
       "    </tr>\n",
       "    <tr>\n",
       "      <th>251995</th>\n",
       "      <td>251996</td>\n",
       "      <td>8154883</td>\n",
       "      <td>43</td>\n",
       "      <td>13</td>\n",
       "      <td>single</td>\n",
       "      <td>rented</td>\n",
       "      <td>no</td>\n",
       "      <td>Surgeon</td>\n",
       "      <td>Kolkata</td>\n",
       "      <td>West_Bengal</td>\n",
       "      <td>6</td>\n",
       "      <td>11</td>\n",
       "      <td>0</td>\n",
       "    </tr>\n",
       "    <tr>\n",
       "      <th>251996</th>\n",
       "      <td>251997</td>\n",
       "      <td>2843572</td>\n",
       "      <td>26</td>\n",
       "      <td>10</td>\n",
       "      <td>single</td>\n",
       "      <td>rented</td>\n",
       "      <td>no</td>\n",
       "      <td>Army_officer</td>\n",
       "      <td>Rewa</td>\n",
       "      <td>Madhya_Pradesh</td>\n",
       "      <td>6</td>\n",
       "      <td>11</td>\n",
       "      <td>0</td>\n",
       "    </tr>\n",
       "    <tr>\n",
       "      <th>251997</th>\n",
       "      <td>251998</td>\n",
       "      <td>4522448</td>\n",
       "      <td>46</td>\n",
       "      <td>7</td>\n",
       "      <td>single</td>\n",
       "      <td>rented</td>\n",
       "      <td>no</td>\n",
       "      <td>Design_Engineer</td>\n",
       "      <td>Kalyan-Dombivli</td>\n",
       "      <td>Maharashtra</td>\n",
       "      <td>7</td>\n",
       "      <td>12</td>\n",
       "      <td>0</td>\n",
       "    </tr>\n",
       "    <tr>\n",
       "      <th>251998</th>\n",
       "      <td>251999</td>\n",
       "      <td>6507128</td>\n",
       "      <td>45</td>\n",
       "      <td>0</td>\n",
       "      <td>single</td>\n",
       "      <td>rented</td>\n",
       "      <td>no</td>\n",
       "      <td>Graphic_Designer</td>\n",
       "      <td>Pondicherry</td>\n",
       "      <td>Puducherry</td>\n",
       "      <td>0</td>\n",
       "      <td>10</td>\n",
       "      <td>0</td>\n",
       "    </tr>\n",
       "    <tr>\n",
       "      <th>251999</th>\n",
       "      <td>252000</td>\n",
       "      <td>9070230</td>\n",
       "      <td>70</td>\n",
       "      <td>17</td>\n",
       "      <td>single</td>\n",
       "      <td>rented</td>\n",
       "      <td>no</td>\n",
       "      <td>Statistician</td>\n",
       "      <td>Avadi</td>\n",
       "      <td>Tamil_Nadu</td>\n",
       "      <td>7</td>\n",
       "      <td>11</td>\n",
       "      <td>0</td>\n",
       "    </tr>\n",
       "  </tbody>\n",
       "</table>\n",
       "<p>252000 rows × 13 columns</p>\n",
       "</div>"
      ],
      "text/plain": [
       "            Id   Income  Age  Experience Married/Single House_Ownership  \\\n",
       "0            1  1303834   23           3         single          rented   \n",
       "1            2  7574516   40          10         single          rented   \n",
       "2            3  3991815   66           4        married          rented   \n",
       "3            4  6256451   41           2         single          rented   \n",
       "4            5  5768871   47          11         single          rented   \n",
       "...        ...      ...  ...         ...            ...             ...   \n",
       "251995  251996  8154883   43          13         single          rented   \n",
       "251996  251997  2843572   26          10         single          rented   \n",
       "251997  251998  4522448   46           7         single          rented   \n",
       "251998  251999  6507128   45           0         single          rented   \n",
       "251999  252000  9070230   70          17         single          rented   \n",
       "\n",
       "       Car_Ownership           Profession                 CITY  \\\n",
       "0                 no  Mechanical_engineer                 Rewa   \n",
       "1                 no   Software_Developer             Parbhani   \n",
       "2                 no     Technical_writer            Alappuzha   \n",
       "3                yes   Software_Developer          Bhubaneswar   \n",
       "4                 no        Civil_servant  Tiruchirappalli[10]   \n",
       "...              ...                  ...                  ...   \n",
       "251995            no              Surgeon              Kolkata   \n",
       "251996            no         Army_officer                 Rewa   \n",
       "251997            no      Design_Engineer      Kalyan-Dombivli   \n",
       "251998            no     Graphic_Designer          Pondicherry   \n",
       "251999            no         Statistician                Avadi   \n",
       "\n",
       "                 STATE  CURRENT_JOB_YRS  CURRENT_HOUSE_YRS  Risk_Flag  \n",
       "0       Madhya_Pradesh                3                 13          0  \n",
       "1          Maharashtra                9                 13          0  \n",
       "2               Kerala                4                 10          0  \n",
       "3               Odisha                2                 12          1  \n",
       "4           Tamil_Nadu                3                 14          1  \n",
       "...                ...              ...                ...        ...  \n",
       "251995     West_Bengal                6                 11          0  \n",
       "251996  Madhya_Pradesh                6                 11          0  \n",
       "251997     Maharashtra                7                 12          0  \n",
       "251998      Puducherry                0                 10          0  \n",
       "251999      Tamil_Nadu                7                 11          0  \n",
       "\n",
       "[252000 rows x 13 columns]"
      ]
     },
     "execution_count": 104,
     "metadata": {},
     "output_type": "execute_result"
    }
   ],
   "source": [
    "df_train"
   ]
  },
  {
   "cell_type": "code",
   "execution_count": 105,
   "id": "6652e005-532a-4045-b5a4-b255eb88154c",
   "metadata": {},
   "outputs": [
    {
     "data": {
      "text/html": [
       "<div>\n",
       "<style scoped>\n",
       "    .dataframe tbody tr th:only-of-type {\n",
       "        vertical-align: middle;\n",
       "    }\n",
       "\n",
       "    .dataframe tbody tr th {\n",
       "        vertical-align: top;\n",
       "    }\n",
       "\n",
       "    .dataframe thead th {\n",
       "        text-align: right;\n",
       "    }\n",
       "</style>\n",
       "<table border=\"1\" class=\"dataframe\">\n",
       "  <thead>\n",
       "    <tr style=\"text-align: right;\">\n",
       "      <th></th>\n",
       "      <th>ID</th>\n",
       "      <th>Income</th>\n",
       "      <th>Age</th>\n",
       "      <th>Experience</th>\n",
       "      <th>Married/Single</th>\n",
       "      <th>House_Ownership</th>\n",
       "      <th>Car_Ownership</th>\n",
       "      <th>Profession</th>\n",
       "      <th>CITY</th>\n",
       "      <th>STATE</th>\n",
       "      <th>CURRENT_JOB_YRS</th>\n",
       "      <th>CURRENT_HOUSE_YRS</th>\n",
       "    </tr>\n",
       "  </thead>\n",
       "  <tbody>\n",
       "    <tr>\n",
       "      <th>0</th>\n",
       "      <td>1</td>\n",
       "      <td>7393090</td>\n",
       "      <td>59</td>\n",
       "      <td>19</td>\n",
       "      <td>single</td>\n",
       "      <td>rented</td>\n",
       "      <td>no</td>\n",
       "      <td>Geologist</td>\n",
       "      <td>Malda</td>\n",
       "      <td>West Bengal</td>\n",
       "      <td>4</td>\n",
       "      <td>13</td>\n",
       "    </tr>\n",
       "    <tr>\n",
       "      <th>1</th>\n",
       "      <td>2</td>\n",
       "      <td>1215004</td>\n",
       "      <td>25</td>\n",
       "      <td>5</td>\n",
       "      <td>single</td>\n",
       "      <td>rented</td>\n",
       "      <td>no</td>\n",
       "      <td>Firefighter</td>\n",
       "      <td>Jalna</td>\n",
       "      <td>Maharashtra</td>\n",
       "      <td>5</td>\n",
       "      <td>10</td>\n",
       "    </tr>\n",
       "    <tr>\n",
       "      <th>2</th>\n",
       "      <td>3</td>\n",
       "      <td>8901342</td>\n",
       "      <td>50</td>\n",
       "      <td>12</td>\n",
       "      <td>single</td>\n",
       "      <td>rented</td>\n",
       "      <td>no</td>\n",
       "      <td>Lawyer</td>\n",
       "      <td>Thane</td>\n",
       "      <td>Maharashtra</td>\n",
       "      <td>9</td>\n",
       "      <td>14</td>\n",
       "    </tr>\n",
       "    <tr>\n",
       "      <th>3</th>\n",
       "      <td>4</td>\n",
       "      <td>1944421</td>\n",
       "      <td>49</td>\n",
       "      <td>9</td>\n",
       "      <td>married</td>\n",
       "      <td>rented</td>\n",
       "      <td>yes</td>\n",
       "      <td>Analyst</td>\n",
       "      <td>Latur</td>\n",
       "      <td>Maharashtra</td>\n",
       "      <td>3</td>\n",
       "      <td>12</td>\n",
       "    </tr>\n",
       "    <tr>\n",
       "      <th>4</th>\n",
       "      <td>5</td>\n",
       "      <td>13429</td>\n",
       "      <td>25</td>\n",
       "      <td>18</td>\n",
       "      <td>single</td>\n",
       "      <td>rented</td>\n",
       "      <td>yes</td>\n",
       "      <td>Comedian</td>\n",
       "      <td>Berhampore</td>\n",
       "      <td>West Bengal</td>\n",
       "      <td>13</td>\n",
       "      <td>11</td>\n",
       "    </tr>\n",
       "    <tr>\n",
       "      <th>...</th>\n",
       "      <td>...</td>\n",
       "      <td>...</td>\n",
       "      <td>...</td>\n",
       "      <td>...</td>\n",
       "      <td>...</td>\n",
       "      <td>...</td>\n",
       "      <td>...</td>\n",
       "      <td>...</td>\n",
       "      <td>...</td>\n",
       "      <td>...</td>\n",
       "      <td>...</td>\n",
       "      <td>...</td>\n",
       "    </tr>\n",
       "    <tr>\n",
       "      <th>27995</th>\n",
       "      <td>27996</td>\n",
       "      <td>9955481</td>\n",
       "      <td>57</td>\n",
       "      <td>13</td>\n",
       "      <td>single</td>\n",
       "      <td>rented</td>\n",
       "      <td>no</td>\n",
       "      <td>Statistician</td>\n",
       "      <td>Eluru[25]</td>\n",
       "      <td>Andhra Pradesh</td>\n",
       "      <td>5</td>\n",
       "      <td>10</td>\n",
       "    </tr>\n",
       "    <tr>\n",
       "      <th>27996</th>\n",
       "      <td>27997</td>\n",
       "      <td>2917765</td>\n",
       "      <td>47</td>\n",
       "      <td>9</td>\n",
       "      <td>single</td>\n",
       "      <td>rented</td>\n",
       "      <td>no</td>\n",
       "      <td>Technical writer</td>\n",
       "      <td>Ratlam</td>\n",
       "      <td>Madhya Pradesh</td>\n",
       "      <td>9</td>\n",
       "      <td>14</td>\n",
       "    </tr>\n",
       "    <tr>\n",
       "      <th>27997</th>\n",
       "      <td>27998</td>\n",
       "      <td>8082415</td>\n",
       "      <td>24</td>\n",
       "      <td>5</td>\n",
       "      <td>single</td>\n",
       "      <td>rented</td>\n",
       "      <td>no</td>\n",
       "      <td>Lawyer</td>\n",
       "      <td>Mira-Bhayandar</td>\n",
       "      <td>Maharashtra</td>\n",
       "      <td>4</td>\n",
       "      <td>13</td>\n",
       "    </tr>\n",
       "    <tr>\n",
       "      <th>27998</th>\n",
       "      <td>27999</td>\n",
       "      <td>9474180</td>\n",
       "      <td>51</td>\n",
       "      <td>13</td>\n",
       "      <td>single</td>\n",
       "      <td>rented</td>\n",
       "      <td>yes</td>\n",
       "      <td>Chartered Accountant</td>\n",
       "      <td>Bhilai</td>\n",
       "      <td>Chhattisgarh</td>\n",
       "      <td>13</td>\n",
       "      <td>14</td>\n",
       "    </tr>\n",
       "    <tr>\n",
       "      <th>27999</th>\n",
       "      <td>28000</td>\n",
       "      <td>9250350</td>\n",
       "      <td>42</td>\n",
       "      <td>9</td>\n",
       "      <td>single</td>\n",
       "      <td>rented</td>\n",
       "      <td>no</td>\n",
       "      <td>Chef</td>\n",
       "      <td>Navi Mumbai</td>\n",
       "      <td>Maharashtra</td>\n",
       "      <td>4</td>\n",
       "      <td>10</td>\n",
       "    </tr>\n",
       "  </tbody>\n",
       "</table>\n",
       "<p>28000 rows × 12 columns</p>\n",
       "</div>"
      ],
      "text/plain": [
       "          ID   Income  Age  Experience Married/Single House_Ownership  \\\n",
       "0          1  7393090   59          19         single          rented   \n",
       "1          2  1215004   25           5         single          rented   \n",
       "2          3  8901342   50          12         single          rented   \n",
       "3          4  1944421   49           9        married          rented   \n",
       "4          5    13429   25          18         single          rented   \n",
       "...      ...      ...  ...         ...            ...             ...   \n",
       "27995  27996  9955481   57          13         single          rented   \n",
       "27996  27997  2917765   47           9         single          rented   \n",
       "27997  27998  8082415   24           5         single          rented   \n",
       "27998  27999  9474180   51          13         single          rented   \n",
       "27999  28000  9250350   42           9         single          rented   \n",
       "\n",
       "      Car_Ownership            Profession            CITY           STATE  \\\n",
       "0                no             Geologist           Malda     West Bengal   \n",
       "1                no           Firefighter           Jalna     Maharashtra   \n",
       "2                no                Lawyer           Thane     Maharashtra   \n",
       "3               yes               Analyst           Latur     Maharashtra   \n",
       "4               yes              Comedian      Berhampore     West Bengal   \n",
       "...             ...                   ...             ...             ...   \n",
       "27995            no          Statistician       Eluru[25]  Andhra Pradesh   \n",
       "27996            no      Technical writer          Ratlam  Madhya Pradesh   \n",
       "27997            no                Lawyer  Mira-Bhayandar     Maharashtra   \n",
       "27998           yes  Chartered Accountant          Bhilai    Chhattisgarh   \n",
       "27999            no                  Chef     Navi Mumbai     Maharashtra   \n",
       "\n",
       "       CURRENT_JOB_YRS  CURRENT_HOUSE_YRS  \n",
       "0                    4                 13  \n",
       "1                    5                 10  \n",
       "2                    9                 14  \n",
       "3                    3                 12  \n",
       "4                   13                 11  \n",
       "...                ...                ...  \n",
       "27995                5                 10  \n",
       "27996                9                 14  \n",
       "27997                4                 13  \n",
       "27998               13                 14  \n",
       "27999                4                 10  \n",
       "\n",
       "[28000 rows x 12 columns]"
      ]
     },
     "execution_count": 105,
     "metadata": {},
     "output_type": "execute_result"
    }
   ],
   "source": [
    "X_test"
   ]
  },
  {
   "cell_type": "code",
   "execution_count": 106,
   "id": "9404825c-8659-415c-a1d3-e63f4679e48c",
   "metadata": {},
   "outputs": [
    {
     "data": {
      "text/html": [
       "<div>\n",
       "<style scoped>\n",
       "    .dataframe tbody tr th:only-of-type {\n",
       "        vertical-align: middle;\n",
       "    }\n",
       "\n",
       "    .dataframe tbody tr th {\n",
       "        vertical-align: top;\n",
       "    }\n",
       "\n",
       "    .dataframe thead th {\n",
       "        text-align: right;\n",
       "    }\n",
       "</style>\n",
       "<table border=\"1\" class=\"dataframe\">\n",
       "  <thead>\n",
       "    <tr style=\"text-align: right;\">\n",
       "      <th></th>\n",
       "      <th>id</th>\n",
       "      <th>risk_flag</th>\n",
       "    </tr>\n",
       "  </thead>\n",
       "  <tbody>\n",
       "    <tr>\n",
       "      <th>0</th>\n",
       "      <td>1</td>\n",
       "      <td>0</td>\n",
       "    </tr>\n",
       "    <tr>\n",
       "      <th>1</th>\n",
       "      <td>2</td>\n",
       "      <td>0</td>\n",
       "    </tr>\n",
       "    <tr>\n",
       "      <th>2</th>\n",
       "      <td>3</td>\n",
       "      <td>1</td>\n",
       "    </tr>\n",
       "    <tr>\n",
       "      <th>3</th>\n",
       "      <td>4</td>\n",
       "      <td>0</td>\n",
       "    </tr>\n",
       "    <tr>\n",
       "      <th>4</th>\n",
       "      <td>5</td>\n",
       "      <td>0</td>\n",
       "    </tr>\n",
       "    <tr>\n",
       "      <th>...</th>\n",
       "      <td>...</td>\n",
       "      <td>...</td>\n",
       "    </tr>\n",
       "    <tr>\n",
       "      <th>27995</th>\n",
       "      <td>27996</td>\n",
       "      <td>0</td>\n",
       "    </tr>\n",
       "    <tr>\n",
       "      <th>27996</th>\n",
       "      <td>27997</td>\n",
       "      <td>1</td>\n",
       "    </tr>\n",
       "    <tr>\n",
       "      <th>27997</th>\n",
       "      <td>27998</td>\n",
       "      <td>0</td>\n",
       "    </tr>\n",
       "    <tr>\n",
       "      <th>27998</th>\n",
       "      <td>27999</td>\n",
       "      <td>0</td>\n",
       "    </tr>\n",
       "    <tr>\n",
       "      <th>27999</th>\n",
       "      <td>28000</td>\n",
       "      <td>0</td>\n",
       "    </tr>\n",
       "  </tbody>\n",
       "</table>\n",
       "<p>28000 rows × 2 columns</p>\n",
       "</div>"
      ],
      "text/plain": [
       "          id  risk_flag\n",
       "0          1          0\n",
       "1          2          0\n",
       "2          3          1\n",
       "3          4          0\n",
       "4          5          0\n",
       "...      ...        ...\n",
       "27995  27996          0\n",
       "27996  27997          1\n",
       "27997  27998          0\n",
       "27998  27999          0\n",
       "27999  28000          0\n",
       "\n",
       "[28000 rows x 2 columns]"
      ]
     },
     "execution_count": 106,
     "metadata": {},
     "output_type": "execute_result"
    }
   ],
   "source": [
    "y_test"
   ]
  },
  {
   "cell_type": "code",
   "execution_count": 107,
   "id": "e3db2ce7-7d74-4f6c-bcd8-690ceeed6106",
   "metadata": {},
   "outputs": [],
   "source": [
    "df_train.drop(['Id', 'Married/Single','House_Ownership','Car_Ownership','Profession','CITY','STATE'], axis=1, inplace=True)\n",
    "X_train = df_train.drop(['Risk_Flag'], axis=1)\n",
    "y_train = df_train.Risk_Flag"
   ]
  },
  {
   "cell_type": "code",
   "execution_count": 108,
   "id": "732a9165-494a-4c6d-b0ff-6d8c02fd79d5",
   "metadata": {},
   "outputs": [],
   "source": [
    "X_test.drop(['ID', 'Married/Single','House_Ownership','Car_Ownership','Profession','CITY','STATE'], axis=1, inplace=True)"
   ]
  },
  {
   "cell_type": "code",
   "execution_count": 109,
   "id": "196c17cc-6be1-41c6-9ce8-74a820bc1140",
   "metadata": {},
   "outputs": [
    {
     "data": {
      "text/html": [
       "<div>\n",
       "<style scoped>\n",
       "    .dataframe tbody tr th:only-of-type {\n",
       "        vertical-align: middle;\n",
       "    }\n",
       "\n",
       "    .dataframe tbody tr th {\n",
       "        vertical-align: top;\n",
       "    }\n",
       "\n",
       "    .dataframe thead th {\n",
       "        text-align: right;\n",
       "    }\n",
       "</style>\n",
       "<table border=\"1\" class=\"dataframe\">\n",
       "  <thead>\n",
       "    <tr style=\"text-align: right;\">\n",
       "      <th></th>\n",
       "      <th>Income</th>\n",
       "      <th>Age</th>\n",
       "      <th>Experience</th>\n",
       "      <th>CURRENT_JOB_YRS</th>\n",
       "      <th>CURRENT_HOUSE_YRS</th>\n",
       "    </tr>\n",
       "  </thead>\n",
       "  <tbody>\n",
       "    <tr>\n",
       "      <th>0</th>\n",
       "      <td>7393090</td>\n",
       "      <td>59</td>\n",
       "      <td>19</td>\n",
       "      <td>4</td>\n",
       "      <td>13</td>\n",
       "    </tr>\n",
       "    <tr>\n",
       "      <th>1</th>\n",
       "      <td>1215004</td>\n",
       "      <td>25</td>\n",
       "      <td>5</td>\n",
       "      <td>5</td>\n",
       "      <td>10</td>\n",
       "    </tr>\n",
       "    <tr>\n",
       "      <th>2</th>\n",
       "      <td>8901342</td>\n",
       "      <td>50</td>\n",
       "      <td>12</td>\n",
       "      <td>9</td>\n",
       "      <td>14</td>\n",
       "    </tr>\n",
       "    <tr>\n",
       "      <th>3</th>\n",
       "      <td>1944421</td>\n",
       "      <td>49</td>\n",
       "      <td>9</td>\n",
       "      <td>3</td>\n",
       "      <td>12</td>\n",
       "    </tr>\n",
       "    <tr>\n",
       "      <th>4</th>\n",
       "      <td>13429</td>\n",
       "      <td>25</td>\n",
       "      <td>18</td>\n",
       "      <td>13</td>\n",
       "      <td>11</td>\n",
       "    </tr>\n",
       "    <tr>\n",
       "      <th>...</th>\n",
       "      <td>...</td>\n",
       "      <td>...</td>\n",
       "      <td>...</td>\n",
       "      <td>...</td>\n",
       "      <td>...</td>\n",
       "    </tr>\n",
       "    <tr>\n",
       "      <th>27995</th>\n",
       "      <td>9955481</td>\n",
       "      <td>57</td>\n",
       "      <td>13</td>\n",
       "      <td>5</td>\n",
       "      <td>10</td>\n",
       "    </tr>\n",
       "    <tr>\n",
       "      <th>27996</th>\n",
       "      <td>2917765</td>\n",
       "      <td>47</td>\n",
       "      <td>9</td>\n",
       "      <td>9</td>\n",
       "      <td>14</td>\n",
       "    </tr>\n",
       "    <tr>\n",
       "      <th>27997</th>\n",
       "      <td>8082415</td>\n",
       "      <td>24</td>\n",
       "      <td>5</td>\n",
       "      <td>4</td>\n",
       "      <td>13</td>\n",
       "    </tr>\n",
       "    <tr>\n",
       "      <th>27998</th>\n",
       "      <td>9474180</td>\n",
       "      <td>51</td>\n",
       "      <td>13</td>\n",
       "      <td>13</td>\n",
       "      <td>14</td>\n",
       "    </tr>\n",
       "    <tr>\n",
       "      <th>27999</th>\n",
       "      <td>9250350</td>\n",
       "      <td>42</td>\n",
       "      <td>9</td>\n",
       "      <td>4</td>\n",
       "      <td>10</td>\n",
       "    </tr>\n",
       "  </tbody>\n",
       "</table>\n",
       "<p>28000 rows × 5 columns</p>\n",
       "</div>"
      ],
      "text/plain": [
       "        Income  Age  Experience  CURRENT_JOB_YRS  CURRENT_HOUSE_YRS\n",
       "0      7393090   59          19                4                 13\n",
       "1      1215004   25           5                5                 10\n",
       "2      8901342   50          12                9                 14\n",
       "3      1944421   49           9                3                 12\n",
       "4        13429   25          18               13                 11\n",
       "...        ...  ...         ...              ...                ...\n",
       "27995  9955481   57          13                5                 10\n",
       "27996  2917765   47           9                9                 14\n",
       "27997  8082415   24           5                4                 13\n",
       "27998  9474180   51          13               13                 14\n",
       "27999  9250350   42           9                4                 10\n",
       "\n",
       "[28000 rows x 5 columns]"
      ]
     },
     "execution_count": 109,
     "metadata": {},
     "output_type": "execute_result"
    }
   ],
   "source": [
    "X_test"
   ]
  },
  {
   "cell_type": "code",
   "execution_count": 110,
   "id": "4339a055-ac4b-43aa-8c7e-23a56cb4e6bc",
   "metadata": {},
   "outputs": [
    {
     "data": {
      "text/html": [
       "<div>\n",
       "<style scoped>\n",
       "    .dataframe tbody tr th:only-of-type {\n",
       "        vertical-align: middle;\n",
       "    }\n",
       "\n",
       "    .dataframe tbody tr th {\n",
       "        vertical-align: top;\n",
       "    }\n",
       "\n",
       "    .dataframe thead th {\n",
       "        text-align: right;\n",
       "    }\n",
       "</style>\n",
       "<table border=\"1\" class=\"dataframe\">\n",
       "  <thead>\n",
       "    <tr style=\"text-align: right;\">\n",
       "      <th></th>\n",
       "      <th>risk_flag</th>\n",
       "    </tr>\n",
       "  </thead>\n",
       "  <tbody>\n",
       "    <tr>\n",
       "      <th>0</th>\n",
       "      <td>0</td>\n",
       "    </tr>\n",
       "    <tr>\n",
       "      <th>1</th>\n",
       "      <td>0</td>\n",
       "    </tr>\n",
       "    <tr>\n",
       "      <th>2</th>\n",
       "      <td>1</td>\n",
       "    </tr>\n",
       "    <tr>\n",
       "      <th>3</th>\n",
       "      <td>0</td>\n",
       "    </tr>\n",
       "    <tr>\n",
       "      <th>4</th>\n",
       "      <td>0</td>\n",
       "    </tr>\n",
       "    <tr>\n",
       "      <th>...</th>\n",
       "      <td>...</td>\n",
       "    </tr>\n",
       "    <tr>\n",
       "      <th>27995</th>\n",
       "      <td>0</td>\n",
       "    </tr>\n",
       "    <tr>\n",
       "      <th>27996</th>\n",
       "      <td>1</td>\n",
       "    </tr>\n",
       "    <tr>\n",
       "      <th>27997</th>\n",
       "      <td>0</td>\n",
       "    </tr>\n",
       "    <tr>\n",
       "      <th>27998</th>\n",
       "      <td>0</td>\n",
       "    </tr>\n",
       "    <tr>\n",
       "      <th>27999</th>\n",
       "      <td>0</td>\n",
       "    </tr>\n",
       "  </tbody>\n",
       "</table>\n",
       "<p>28000 rows × 1 columns</p>\n",
       "</div>"
      ],
      "text/plain": [
       "       risk_flag\n",
       "0              0\n",
       "1              0\n",
       "2              1\n",
       "3              0\n",
       "4              0\n",
       "...          ...\n",
       "27995          0\n",
       "27996          1\n",
       "27997          0\n",
       "27998          0\n",
       "27999          0\n",
       "\n",
       "[28000 rows x 1 columns]"
      ]
     },
     "execution_count": 110,
     "metadata": {},
     "output_type": "execute_result"
    }
   ],
   "source": [
    "y_test.drop(['id'], axis=1, inplace=True)\n",
    "y_test"
   ]
  },
  {
   "cell_type": "markdown",
   "id": "aec54f54-61bf-4b29-8391-42fb9df3eebd",
   "metadata": {},
   "source": [
    "## Feature Scaling"
   ]
  },
  {
   "cell_type": "code",
   "execution_count": 13,
   "id": "f64b2209-6159-41b0-a9c7-7d61f3b7bd80",
   "metadata": {},
   "outputs": [],
   "source": [
    "from sklearn.preprocessing import StandardScaler\n",
    "scaler = StandardScaler()\n",
    "X_train = scaler.fit_transform(X_train)"
   ]
  },
  {
   "cell_type": "code",
   "execution_count": 202,
   "id": "fb28cdec-29d0-479f-bf14-fabda688df5d",
   "metadata": {},
   "outputs": [],
   "source": [
    "scaler.fit(X_train)\n",
    "\n",
    "X_test_sc = scaler.transform(X_test)"
   ]
  },
  {
   "cell_type": "markdown",
   "id": "10a9639e-1178-465c-ac80-9d69db3b032c",
   "metadata": {},
   "source": [
    "### 1-1. LDA"
   ]
  },
  {
   "cell_type": "code",
   "execution_count": 130,
   "id": "1bba1b92-0e08-432a-89a3-acab53ace2f9",
   "metadata": {},
   "outputs": [
    {
     "name": "stdout",
     "output_type": "stream",
     "text": [
      "time : 0.42984700202941895\n"
     ]
    }
   ],
   "source": [
    "from sklearn.discriminant_analysis import LinearDiscriminantAnalysis\n",
    "import time\n",
    "\n",
    "start = time.time()\n",
    "\n",
    "clf_X_LDA = LinearDiscriminantAnalysis()\n",
    "clf_X_LDA.fit(X_train, y_train)\n",
    "\n",
    "print(\"time :\", time.time() - start) "
   ]
  },
  {
   "cell_type": "code",
   "execution_count": 203,
   "id": "ecfe4f20-e5e7-4152-a312-1070ac6f129f",
   "metadata": {},
   "outputs": [],
   "source": [
    "y_pred_X_LDA = clf_X_LDA.predict(X_test_sc)"
   ]
  },
  {
   "cell_type": "code",
   "execution_count": 291,
   "id": "b81fd68c-b303-447e-85ae-bdb0448abb00",
   "metadata": {},
   "outputs": [
    {
     "name": "stdout",
     "output_type": "stream",
     "text": [
      "OverSampling 하지 않음 + LDA - train_score : 0.8770, test score : 0.8717\n"
     ]
    }
   ],
   "source": [
    "print(\"OverSampling 하지 않음 + LDA - train_score : %.4f, test score : %.4f\" % (clf_X_LDA.score(X_train, y_train), clf_X_LDA.score(X_test_sc, y_test)))"
   ]
  },
  {
   "cell_type": "code",
   "execution_count": 205,
   "id": "9d0c7369-60bc-4fde-9727-4eacc10c5ef2",
   "metadata": {},
   "outputs": [
    {
     "data": {
      "image/png": "[encoded data removed]",
      "text/plain": [
       "<Figure size 360x360 with 2 Axes>"
      ]
     },
     "metadata": {},
     "output_type": "display_data"
    },
    {
     "data": {
      "text/html": [
       "<div>\n",
       "<style scoped>\n",
       "    .dataframe tbody tr th:only-of-type {\n",
       "        vertical-align: middle;\n",
       "    }\n",
       "\n",
       "    .dataframe tbody tr th {\n",
       "        vertical-align: top;\n",
       "    }\n",
       "\n",
       "    .dataframe thead th {\n",
       "        text-align: right;\n",
       "    }\n",
       "</style>\n",
       "<table border=\"1\" class=\"dataframe\">\n",
       "  <thead>\n",
       "    <tr style=\"text-align: right;\">\n",
       "      <th></th>\n",
       "      <th>Predict[0]</th>\n",
       "      <th>Predict[1]</th>\n",
       "    </tr>\n",
       "  </thead>\n",
       "  <tbody>\n",
       "    <tr>\n",
       "      <th>True[0]</th>\n",
       "      <td>24407</td>\n",
       "      <td>0</td>\n",
       "    </tr>\n",
       "    <tr>\n",
       "      <th>True[1]</th>\n",
       "      <td>3593</td>\n",
       "      <td>0</td>\n",
       "    </tr>\n",
       "  </tbody>\n",
       "</table>\n",
       "</div>"
      ],
      "text/plain": [
       "         Predict[0]  Predict[1]\n",
       "True[0]       24407           0\n",
       "True[1]        3593           0"
      ]
     },
     "execution_count": 205,
     "metadata": {},
     "output_type": "execute_result"
    }
   ],
   "source": [
    "from sklearn.metrics import confusion_matrix\n",
    "import matplotlib.pyplot as plt\n",
    "import seaborn as sns\n",
    "\n",
    "confmat=pd.DataFrame(confusion_matrix(y_test, y_pred_X_LDA),\n",
    "                    index=['True[0]', 'True[1]'],\n",
    "                    columns=['Predict[0]', 'Predict[1]'])\n",
    "\n",
    "plt.rcParams['figure.figsize'] = (5, 5)\n",
    "sns.set(style = 'dark', font_scale = 1.4)\n",
    "ax = sns.heatmap(confmat, annot=True)\n",
    "plt.xlabel('Prediction')\n",
    "plt.ylabel('Real Data')\n",
    "plt.show()\n",
    "confmat"
   ]
  },
  {
   "cell_type": "code",
   "execution_count": 206,
   "id": "e0aeb8ec-251f-49d7-a49c-f3c5c38587b6",
   "metadata": {},
   "outputs": [
    {
     "name": "stdout",
     "output_type": "stream",
     "text": [
      "--------OverSampling 하지 않음 + LDA--------\n",
      "정확도 accuracy: 0.872\n",
      "정밀도 precision: 0.000\n",
      "재현율 recall: 0.000\n",
      "F1-score: 0.000\n",
      "AUC: 0.500\n"
     ]
    },
    {
     "name": "stderr",
     "output_type": "stream",
     "text": [
      "C:\\Users\\gwak\\anaconda3\\envs\\kooc\\lib\\site-packages\\sklearn\\metrics\\_classification.py:1248: UndefinedMetricWarning: Precision is ill-defined and being set to 0.0 due to no predicted samples. Use `zero_division` parameter to control this behavior.\n",
      "  _warn_prf(average, modifier, msg_start, len(result))\n"
     ]
    }
   ],
   "source": [
    "from sklearn.metrics import roc_curve\n",
    "from sklearn.metrics import accuracy_score, precision_score, recall_score, f1_score, roc_auc_score\n",
    "\n",
    "print(\"--------OverSampling 하지 않음 + LDA--------\")\n",
    "print('정확도 accuracy: %.3f' % accuracy_score(y_test, y_pred_X_LDA))\n",
    "print('정밀도 precision: %.3f' % precision_score(y_true=y_test, y_pred=y_pred_X_LDA))\n",
    "print('재현율 recall: %.3f' % recall_score(y_true=y_test, y_pred=y_pred_X_LDA))\n",
    "print('F1-score: %.3f' % f1_score(y_true=y_test, y_pred=y_pred_X_LDA))\n",
    "print('AUC: %.3f' % roc_auc_score(y_test, y_pred_X_LDA))"
   ]
  },
  {
   "cell_type": "markdown",
   "id": "c139e42d-207c-4af7-bf5b-5d6e46329c58",
   "metadata": {},
   "source": [
    "### 1-2. QDA"
   ]
  },
  {
   "cell_type": "code",
   "execution_count": 136,
   "id": "cbffe6b2-c84b-4314-8552-2e9b54e12c9d",
   "metadata": {},
   "outputs": [
    {
     "name": "stdout",
     "output_type": "stream",
     "text": [
      "time : 0.16356325149536133\n"
     ]
    }
   ],
   "source": [
    "from sklearn.discriminant_analysis import QuadraticDiscriminantAnalysis\n",
    "\n",
    "start = time.time()\n",
    "\n",
    "clf_X_QDA = QuadraticDiscriminantAnalysis()\n",
    "clf_X_QDA.fit(X_train, y_train)\n",
    "\n",
    "print(\"time :\", time.time() - start) "
   ]
  },
  {
   "cell_type": "code",
   "execution_count": 207,
   "id": "4aaa997f-99b1-48d1-aaf0-53129d7dee05",
   "metadata": {},
   "outputs": [],
   "source": [
    "y_pred_X_QDA = clf_X_QDA.predict(X_test_sc)"
   ]
  },
  {
   "cell_type": "code",
   "execution_count": 138,
   "id": "6daa3038-6bcd-4aaf-8a98-5e05cb10a4c5",
   "metadata": {},
   "outputs": [
    {
     "name": "stdout",
     "output_type": "stream",
     "text": [
      "0.877\n"
     ]
    }
   ],
   "source": [
    "print(clf_X_QDA.score(X_train, y_train))"
   ]
  },
  {
   "cell_type": "code",
   "execution_count": 292,
   "id": "0f8da81f-7691-4d04-a755-c5f9c0a3de8e",
   "metadata": {},
   "outputs": [
    {
     "name": "stdout",
     "output_type": "stream",
     "text": [
      "OverSampling 하지 않음 + QDA - train_score : 0.8770, test score : 0.8717\n"
     ]
    }
   ],
   "source": [
    "print(\"OverSampling 하지 않음 + QDA - train_score : %.4f, test score : %.4f\" % (clf_X_QDA.score(X_train, y_train), clf_X_QDA.score(X_test_sc, y_test)))"
   ]
  },
  {
   "cell_type": "code",
   "execution_count": 209,
   "id": "8dca3e6b-54e2-429a-ab8f-3634cd838556",
   "metadata": {},
   "outputs": [
    {
     "data": {
      "image/png": "[encoded data removed]",
      "text/plain": [
       "<Figure size 360x360 with 2 Axes>"
      ]
     },
     "metadata": {},
     "output_type": "display_data"
    },
    {
     "data": {
      "text/html": [
       "<div>\n",
       "<style scoped>\n",
       "    .dataframe tbody tr th:only-of-type {\n",
       "        vertical-align: middle;\n",
       "    }\n",
       "\n",
       "    .dataframe tbody tr th {\n",
       "        vertical-align: top;\n",
       "    }\n",
       "\n",
       "    .dataframe thead th {\n",
       "        text-align: right;\n",
       "    }\n",
       "</style>\n",
       "<table border=\"1\" class=\"dataframe\">\n",
       "  <thead>\n",
       "    <tr style=\"text-align: right;\">\n",
       "      <th></th>\n",
       "      <th>Predict[0]</th>\n",
       "      <th>Predict[1]</th>\n",
       "    </tr>\n",
       "  </thead>\n",
       "  <tbody>\n",
       "    <tr>\n",
       "      <th>True[0]</th>\n",
       "      <td>24407</td>\n",
       "      <td>0</td>\n",
       "    </tr>\n",
       "    <tr>\n",
       "      <th>True[1]</th>\n",
       "      <td>3593</td>\n",
       "      <td>0</td>\n",
       "    </tr>\n",
       "  </tbody>\n",
       "</table>\n",
       "</div>"
      ],
      "text/plain": [
       "         Predict[0]  Predict[1]\n",
       "True[0]       24407           0\n",
       "True[1]        3593           0"
      ]
     },
     "execution_count": 209,
     "metadata": {},
     "output_type": "execute_result"
    }
   ],
   "source": [
    "from sklearn.metrics import confusion_matrix\n",
    "import matplotlib.pyplot as plt\n",
    "import seaborn as sns\n",
    "\n",
    "confmat=pd.DataFrame(confusion_matrix(y_test, y_pred_X_QDA),\n",
    "                    index=['True[0]', 'True[1]'],\n",
    "                    columns=['Predict[0]', 'Predict[1]'])\n",
    "\n",
    "plt.rcParams['figure.figsize'] = (5, 5)\n",
    "sns.set(style = 'dark', font_scale = 1.4)\n",
    "ax = sns.heatmap(confmat, annot=True)\n",
    "plt.xlabel('Prediction')\n",
    "plt.ylabel('Real Data')\n",
    "plt.show()\n",
    "confmat"
   ]
  },
  {
   "cell_type": "code",
   "execution_count": 210,
   "id": "11b3d7c6-3c09-495f-a312-de6a66f24b6a",
   "metadata": {},
   "outputs": [
    {
     "name": "stdout",
     "output_type": "stream",
     "text": [
      "--------OverSampling 하지 않음 + QDA--------\n",
      "정확도 accuracy: 0.872\n",
      "정밀도 precision: 0.000\n",
      "재현율 recall: 0.000\n",
      "F1-score: 0.000\n",
      "AUC: 0.500\n"
     ]
    },
    {
     "name": "stderr",
     "output_type": "stream",
     "text": [
      "C:\\Users\\gwak\\anaconda3\\envs\\kooc\\lib\\site-packages\\sklearn\\metrics\\_classification.py:1248: UndefinedMetricWarning: Precision is ill-defined and being set to 0.0 due to no predicted samples. Use `zero_division` parameter to control this behavior.\n",
      "  _warn_prf(average, modifier, msg_start, len(result))\n"
     ]
    }
   ],
   "source": [
    "from sklearn.metrics import roc_curve\n",
    "from sklearn.metrics import accuracy_score, precision_score, recall_score, f1_score, roc_auc_score\n",
    "\n",
    "print(\"--------OverSampling 하지 않음 + QDA--------\")\n",
    "print('정확도 accuracy: %.3f' % accuracy_score(y_test, y_pred_X_QDA))\n",
    "print('정밀도 precision: %.3f' % precision_score(y_true=y_test, y_pred=y_pred_X_QDA))\n",
    "print('재현율 recall: %.3f' % recall_score(y_true=y_test, y_pred=y_pred_X_QDA))\n",
    "print('F1-score: %.3f' % f1_score(y_true=y_test, y_pred=y_pred_X_QDA))\n",
    "print('AUC: %.3f' % roc_auc_score(y_test, y_pred_X_QDA))"
   ]
  },
  {
   "cell_type": "markdown",
   "id": "c008a3f1-680a-4722-a28f-74f9f2b34a7f",
   "metadata": {},
   "source": [
    "### 1-3. Logistic Regression"
   ]
  },
  {
   "cell_type": "code",
   "execution_count": 211,
   "id": "54083b66-e7fc-41e0-839e-998356c2be7c",
   "metadata": {},
   "outputs": [
    {
     "name": "stdout",
     "output_type": "stream",
     "text": [
      "time : 1.34440279006958\n"
     ]
    }
   ],
   "source": [
    "from sklearn.linear_model import LogisticRegression\n",
    "\n",
    "start = time.time()\n",
    "\n",
    "clf_X_lr = LogisticRegression()\n",
    "clf_X_lr.fit(X_train, y_train)\n",
    "\n",
    "print(\"time :\", time.time() - start) "
   ]
  },
  {
   "cell_type": "code",
   "execution_count": 212,
   "id": "e430aeea-9b1e-46c4-86d9-c988be2ae760",
   "metadata": {},
   "outputs": [],
   "source": [
    "y_pred_X_lr = clf_X_lr.predict(X_test_sc)"
   ]
  },
  {
   "cell_type": "code",
   "execution_count": 293,
   "id": "4aabfded-d284-4022-a101-94c12204ee40",
   "metadata": {},
   "outputs": [
    {
     "name": "stdout",
     "output_type": "stream",
     "text": [
      "OverSampling 하지 않음 + Logistic Regression - train_score : 0.8770, test score : 0.5020\n"
     ]
    }
   ],
   "source": [
    "print(\"OverSampling 하지 않음 + Logistic Regression - train_score : %.4f, test score : %.4f\" % (clf_X_lr.score(X_train, y_train), clf_X_lr.score(X_test_sc, y_test)))"
   ]
  },
  {
   "cell_type": "code",
   "execution_count": 214,
   "id": "668d3e91-cd05-494b-acaf-87d159c99c10",
   "metadata": {},
   "outputs": [
    {
     "data": {
      "image/png": "[encoded data removed]",
      "text/plain": [
       "<Figure size 360x360 with 2 Axes>"
      ]
     },
     "metadata": {},
     "output_type": "display_data"
    },
    {
     "data": {
      "text/html": [
       "<div>\n",
       "<style scoped>\n",
       "    .dataframe tbody tr th:only-of-type {\n",
       "        vertical-align: middle;\n",
       "    }\n",
       "\n",
       "    .dataframe tbody tr th {\n",
       "        vertical-align: top;\n",
       "    }\n",
       "\n",
       "    .dataframe thead th {\n",
       "        text-align: right;\n",
       "    }\n",
       "</style>\n",
       "<table border=\"1\" class=\"dataframe\">\n",
       "  <thead>\n",
       "    <tr style=\"text-align: right;\">\n",
       "      <th></th>\n",
       "      <th>Predict[0]</th>\n",
       "      <th>Predict[1]</th>\n",
       "    </tr>\n",
       "  </thead>\n",
       "  <tbody>\n",
       "    <tr>\n",
       "      <th>True[0]</th>\n",
       "      <td>12307</td>\n",
       "      <td>12100</td>\n",
       "    </tr>\n",
       "    <tr>\n",
       "      <th>True[1]</th>\n",
       "      <td>1845</td>\n",
       "      <td>1748</td>\n",
       "    </tr>\n",
       "  </tbody>\n",
       "</table>\n",
       "</div>"
      ],
      "text/plain": [
       "         Predict[0]  Predict[1]\n",
       "True[0]       12307       12100\n",
       "True[1]        1845        1748"
      ]
     },
     "execution_count": 214,
     "metadata": {},
     "output_type": "execute_result"
    }
   ],
   "source": [
    "from sklearn.metrics import confusion_matrix\n",
    "import matplotlib.pyplot as plt\n",
    "import seaborn as sns\n",
    "\n",
    "confmat=pd.DataFrame(confusion_matrix(y_test, y_pred_X_lr),\n",
    "                    index=['True[0]', 'True[1]'],\n",
    "                    columns=['Predict[0]', 'Predict[1]'])\n",
    "\n",
    "plt.rcParams['figure.figsize'] = (5, 5)\n",
    "sns.set(style = 'dark', font_scale = 1.4)\n",
    "ax = sns.heatmap(confmat, annot=True)\n",
    "plt.xlabel('Prediction')\n",
    "plt.ylabel('Real Data')\n",
    "plt.show()\n",
    "confmat"
   ]
  },
  {
   "cell_type": "code",
   "execution_count": 215,
   "id": "00772f36-bae4-4009-93d0-18e11ed76a86",
   "metadata": {},
   "outputs": [
    {
     "name": "stdout",
     "output_type": "stream",
     "text": [
      "--------OverSampling 하지 않음 + Logistic Regression--------\n",
      "정확도 accuracy: 0.502\n",
      "정밀도 precision: 0.126\n",
      "재현율 recall: 0.487\n",
      "F1-score: 0.200\n",
      "AUC: 0.495\n"
     ]
    }
   ],
   "source": [
    "from sklearn.metrics import roc_curve\n",
    "from sklearn.metrics import accuracy_score, precision_score, recall_score, f1_score, roc_auc_score\n",
    "\n",
    "print(\"--------OverSampling 하지 않음 + Logistic Regression--------\")\n",
    "print('정확도 accuracy: %.3f' % accuracy_score(y_test, y_pred_X_lr))\n",
    "print('정밀도 precision: %.3f' % precision_score(y_true=y_test, y_pred=y_pred_X_lr))\n",
    "print('재현율 recall: %.3f' % recall_score(y_true=y_test, y_pred=y_pred_X_lr))\n",
    "print('F1-score: %.3f' % f1_score(y_true=y_test, y_pred=y_pred_X_lr))\n",
    "print('AUC: %.3f' % roc_auc_score(y_test, y_pred_X_lr))"
   ]
  },
  {
   "cell_type": "markdown",
   "id": "8e43b148-dc61-493d-aa6d-928a11f53fa1",
   "metadata": {},
   "source": [
    "### 1-4. Neural Network"
   ]
  },
  {
   "cell_type": "code",
   "execution_count": 38,
   "id": "1f1d163d-4d66-4db6-8340-373ae5ed2c8f",
   "metadata": {},
   "outputs": [
    {
     "name": "stdout",
     "output_type": "stream",
     "text": [
      "time : 363.4409513473511\n"
     ]
    }
   ],
   "source": [
    "from sklearn.neural_network import MLPClassifier\n",
    "\n",
    "start = time.time()\n",
    "\n",
    "clf_X_NN = MLPClassifier()\n",
    "clf_X_NN.fit(X_train, y_train)\n",
    "\n",
    "print(\"time :\", time.time() - start) "
   ]
  },
  {
   "cell_type": "code",
   "execution_count": 66,
   "id": "74eef6e6-d63b-41dc-8724-3c38809934d3",
   "metadata": {},
   "outputs": [],
   "source": [
    "y_pred_X_NN = clf_X_NN.predict(X_test_sc)"
   ]
  },
  {
   "cell_type": "code",
   "execution_count": 92,
   "id": "c6612b1f-29b5-4a0e-a1ad-0ff27a7cce99",
   "metadata": {},
   "outputs": [
    {
     "name": "stdout",
     "output_type": "stream",
     "text": [
      "Oversampling 하지 않음 + Neural Network - train_score : 0.8770, test score : 0.8717\n"
     ]
    }
   ],
   "source": [
    "print(\"Oversampling 하지 않음 + Neural Network - train_score : %.4f, test score : %.4f\" % (clf_X_NN.score(X_train, y_train), clf_X_NN.score(X_test_sc, y_test)))"
   ]
  },
  {
   "cell_type": "code",
   "execution_count": 68,
   "id": "620b6398-0f4b-4578-8f1c-f90033a8045c",
   "metadata": {},
   "outputs": [
    {
     "data": {
      "image/png": "[encoded data removed]",
      "text/plain": [
       "<Figure size 360x360 with 2 Axes>"
      ]
     },
     "metadata": {},
     "output_type": "display_data"
    },
    {
     "data": {
      "text/html": [
       "<div>\n",
       "<style scoped>\n",
       "    .dataframe tbody tr th:only-of-type {\n",
       "        vertical-align: middle;\n",
       "    }\n",
       "\n",
       "    .dataframe tbody tr th {\n",
       "        vertical-align: top;\n",
       "    }\n",
       "\n",
       "    .dataframe thead th {\n",
       "        text-align: right;\n",
       "    }\n",
       "</style>\n",
       "<table border=\"1\" class=\"dataframe\">\n",
       "  <thead>\n",
       "    <tr style=\"text-align: right;\">\n",
       "      <th></th>\n",
       "      <th>Predict[0]</th>\n",
       "      <th>Predict[1]</th>\n",
       "    </tr>\n",
       "  </thead>\n",
       "  <tbody>\n",
       "    <tr>\n",
       "      <th>True[0]</th>\n",
       "      <td>24407</td>\n",
       "      <td>0</td>\n",
       "    </tr>\n",
       "    <tr>\n",
       "      <th>True[1]</th>\n",
       "      <td>3593</td>\n",
       "      <td>0</td>\n",
       "    </tr>\n",
       "  </tbody>\n",
       "</table>\n",
       "</div>"
      ],
      "text/plain": [
       "         Predict[0]  Predict[1]\n",
       "True[0]       24407           0\n",
       "True[1]        3593           0"
      ]
     },
     "execution_count": 68,
     "metadata": {},
     "output_type": "execute_result"
    }
   ],
   "source": [
    "from sklearn.metrics import confusion_matrix\n",
    "import matplotlib.pyplot as plt\n",
    "import seaborn as sns\n",
    "\n",
    "confmat=pd.DataFrame(confusion_matrix(y_test, y_pred_X_NN),\n",
    "                    index=['True[0]', 'True[1]'],\n",
    "                    columns=['Predict[0]', 'Predict[1]'])\n",
    "\n",
    "plt.rcParams['figure.figsize'] = (5, 5)\n",
    "sns.set(style = 'dark', font_scale = 1.4)\n",
    "ax = sns.heatmap(confmat, annot=True)\n",
    "plt.xlabel('Prediction')\n",
    "plt.ylabel('Real Data')\n",
    "plt.show()\n",
    "confmat"
   ]
  },
  {
   "cell_type": "code",
   "execution_count": 72,
   "id": "d54bf145-6119-4888-a35e-62cf51f3e235",
   "metadata": {},
   "outputs": [
    {
     "name": "stdout",
     "output_type": "stream",
     "text": [
      "--------Oversampling 하지 않음 + Neural Network--------\n",
      "정확도 accuracy: 0.872\n",
      "정밀도 precision: 0.000\n",
      "재현율 recall: 0.000\n",
      "F1-score: 0.000\n",
      "AUC: 0.500\n"
     ]
    },
    {
     "name": "stderr",
     "output_type": "stream",
     "text": [
      "C:\\Users\\gwak\\anaconda3\\envs\\kooc\\lib\\site-packages\\sklearn\\metrics\\_classification.py:1248: UndefinedMetricWarning: Precision is ill-defined and being set to 0.0 due to no predicted samples. Use `zero_division` parameter to control this behavior.\n",
      "  _warn_prf(average, modifier, msg_start, len(result))\n"
     ]
    }
   ],
   "source": [
    "from sklearn.metrics import roc_curve\n",
    "from sklearn.metrics import accuracy_score, precision_score, recall_score, f1_score, roc_auc_score\n",
    "\n",
    "print(\"--------Oversampling 하지 않음 + Neural Network--------\")\n",
    "print('정확도 accuracy: %.3f' % accuracy_score(y_test, y_pred_X_NN))\n",
    "print('정밀도 precision: %.3f' % precision_score(y_true=y_test, y_pred=y_pred_X_NN))\n",
    "print('재현율 recall: %.3f' % recall_score(y_true=y_test, y_pred=y_pred_X_NN))\n",
    "print('F1-score: %.3f' % f1_score(y_true=y_test, y_pred=y_pred_X_NN))\n",
    "print('AUC: %.3f' % roc_auc_score(y_test, y_pred_X_NN))"
   ]
  },
  {
   "cell_type": "markdown",
   "id": "4c524dc8-3ab7-4a79-bae5-31bf9be170d8",
   "metadata": {},
   "source": [
    "## 2. SMOTE"
   ]
  },
  {
   "cell_type": "code",
   "execution_count": 148,
   "id": "c30850b3-5392-4c1f-8185-48ddf49c66a6",
   "metadata": {},
   "outputs": [],
   "source": [
    "X_train_s = pd.read_csv(\"smote_x.csv\")\n",
    "y_train_s = pd.read_csv(\"smote_y.csv\")"
   ]
  },
  {
   "cell_type": "code",
   "execution_count": 149,
   "id": "2da20934-1a6a-4c1a-aad6-b4b4961cb85d",
   "metadata": {},
   "outputs": [
    {
     "data": {
      "text/html": [
       "<div>\n",
       "<style scoped>\n",
       "    .dataframe tbody tr th:only-of-type {\n",
       "        vertical-align: middle;\n",
       "    }\n",
       "\n",
       "    .dataframe tbody tr th {\n",
       "        vertical-align: top;\n",
       "    }\n",
       "\n",
       "    .dataframe thead th {\n",
       "        text-align: right;\n",
       "    }\n",
       "</style>\n",
       "<table border=\"1\" class=\"dataframe\">\n",
       "  <thead>\n",
       "    <tr style=\"text-align: right;\">\n",
       "      <th></th>\n",
       "      <th>0</th>\n",
       "      <th>1</th>\n",
       "      <th>2</th>\n",
       "      <th>3</th>\n",
       "      <th>4</th>\n",
       "    </tr>\n",
       "  </thead>\n",
       "  <tbody>\n",
       "    <tr>\n",
       "      <th>0</th>\n",
       "      <td>-1.283145</td>\n",
       "      <td>-1.579604</td>\n",
       "      <td>-1.180232</td>\n",
       "      <td>-0.914131</td>\n",
       "      <td>0.716356</td>\n",
       "    </tr>\n",
       "    <tr>\n",
       "      <th>1</th>\n",
       "      <td>0.895457</td>\n",
       "      <td>-0.583344</td>\n",
       "      <td>-0.014067</td>\n",
       "      <td>0.731036</td>\n",
       "      <td>0.716356</td>\n",
       "    </tr>\n",
       "    <tr>\n",
       "      <th>2</th>\n",
       "      <td>-0.349269</td>\n",
       "      <td>0.940348</td>\n",
       "      <td>-1.013637</td>\n",
       "      <td>-0.639936</td>\n",
       "      <td>-1.427981</td>\n",
       "    </tr>\n",
       "    <tr>\n",
       "      <th>3</th>\n",
       "      <td>0.437526</td>\n",
       "      <td>-0.524740</td>\n",
       "      <td>-1.346827</td>\n",
       "      <td>-1.188325</td>\n",
       "      <td>0.001577</td>\n",
       "    </tr>\n",
       "    <tr>\n",
       "      <th>4</th>\n",
       "      <td>0.268128</td>\n",
       "      <td>-0.173119</td>\n",
       "      <td>0.152528</td>\n",
       "      <td>-0.914131</td>\n",
       "      <td>1.431135</td>\n",
       "    </tr>\n",
       "    <tr>\n",
       "      <th>...</th>\n",
       "      <td>...</td>\n",
       "      <td>...</td>\n",
       "      <td>...</td>\n",
       "      <td>...</td>\n",
       "      <td>...</td>\n",
       "    </tr>\n",
       "    <tr>\n",
       "      <th>442003</th>\n",
       "      <td>1.681222</td>\n",
       "      <td>1.360571</td>\n",
       "      <td>-1.680018</td>\n",
       "      <td>-1.736714</td>\n",
       "      <td>1.431135</td>\n",
       "    </tr>\n",
       "    <tr>\n",
       "      <th>442004</th>\n",
       "      <td>1.354685</td>\n",
       "      <td>-1.345189</td>\n",
       "      <td>-0.847042</td>\n",
       "      <td>-0.365742</td>\n",
       "      <td>0.001577</td>\n",
       "    </tr>\n",
       "    <tr>\n",
       "      <th>442005</th>\n",
       "      <td>-0.492002</td>\n",
       "      <td>0.178502</td>\n",
       "      <td>0.485719</td>\n",
       "      <td>1.827814</td>\n",
       "      <td>1.431135</td>\n",
       "    </tr>\n",
       "    <tr>\n",
       "      <th>442006</th>\n",
       "      <td>-0.403647</td>\n",
       "      <td>-0.566048</td>\n",
       "      <td>0.449758</td>\n",
       "      <td>0.516028</td>\n",
       "      <td>0.001577</td>\n",
       "    </tr>\n",
       "    <tr>\n",
       "      <th>442007</th>\n",
       "      <td>0.860984</td>\n",
       "      <td>-0.993568</td>\n",
       "      <td>-1.180232</td>\n",
       "      <td>-0.914131</td>\n",
       "      <td>-1.427981</td>\n",
       "    </tr>\n",
       "  </tbody>\n",
       "</table>\n",
       "<p>442008 rows × 5 columns</p>\n",
       "</div>"
      ],
      "text/plain": [
       "               0         1         2         3         4\n",
       "0      -1.283145 -1.579604 -1.180232 -0.914131  0.716356\n",
       "1       0.895457 -0.583344 -0.014067  0.731036  0.716356\n",
       "2      -0.349269  0.940348 -1.013637 -0.639936 -1.427981\n",
       "3       0.437526 -0.524740 -1.346827 -1.188325  0.001577\n",
       "4       0.268128 -0.173119  0.152528 -0.914131  1.431135\n",
       "...          ...       ...       ...       ...       ...\n",
       "442003  1.681222  1.360571 -1.680018 -1.736714  1.431135\n",
       "442004  1.354685 -1.345189 -0.847042 -0.365742  0.001577\n",
       "442005 -0.492002  0.178502  0.485719  1.827814  1.431135\n",
       "442006 -0.403647 -0.566048  0.449758  0.516028  0.001577\n",
       "442007  0.860984 -0.993568 -1.180232 -0.914131 -1.427981\n",
       "\n",
       "[442008 rows x 5 columns]"
      ]
     },
     "execution_count": 149,
     "metadata": {},
     "output_type": "execute_result"
    }
   ],
   "source": [
    "X_train_s.drop(['Unnamed: 0'], axis=1, inplace=True)\n",
    "X_train_s"
   ]
  },
  {
   "cell_type": "code",
   "execution_count": 150,
   "id": "8a141e7c-041a-464d-a80d-7a367a49b8bc",
   "metadata": {},
   "outputs": [
    {
     "data": {
      "text/plain": [
       "0         0\n",
       "1         0\n",
       "2         0\n",
       "3         1\n",
       "4         1\n",
       "         ..\n",
       "442003    1\n",
       "442004    1\n",
       "442005    1\n",
       "442006    1\n",
       "442007    1\n",
       "Name: 0, Length: 442008, dtype: int64"
      ]
     },
     "execution_count": 150,
     "metadata": {},
     "output_type": "execute_result"
    }
   ],
   "source": [
    "y_train_s = y_train_s['0']\n",
    "y_train_s"
   ]
  },
  {
   "cell_type": "markdown",
   "id": "27e3c08a-deb0-4532-ae92-b4403695153e",
   "metadata": {},
   "source": [
    "### 2-1. LDA"
   ]
  },
  {
   "cell_type": "code",
   "execution_count": 171,
   "id": "73787fec-41d4-4610-b494-159c088ae556",
   "metadata": {},
   "outputs": [
    {
     "name": "stdout",
     "output_type": "stream",
     "text": [
      "time : 0.8407518863677979\n"
     ]
    }
   ],
   "source": [
    "from sklearn.discriminant_analysis import LinearDiscriminantAnalysis\n",
    "import time\n",
    "\n",
    "start = time.time()\n",
    "\n",
    "clf_s_LDA = LinearDiscriminantAnalysis()\n",
    "clf_s_LDA.fit(X_train_s, y_train_s)\n",
    "\n",
    "print(\"time :\", time.time() - start) "
   ]
  },
  {
   "cell_type": "code",
   "execution_count": 216,
   "id": "edb043dc-8c13-4f56-b213-627b050e3fa6",
   "metadata": {},
   "outputs": [],
   "source": [
    "y_pred_s_LDA = clf_s_LDA.predict(X_test_sc)"
   ]
  },
  {
   "cell_type": "code",
   "execution_count": 294,
   "id": "5d72e538-27de-42ff-abfd-1f4243e9b6a0",
   "metadata": {},
   "outputs": [
    {
     "name": "stdout",
     "output_type": "stream",
     "text": [
      "SMOTE + LDA - train_score : 0.5246, test score : 0.4886\n"
     ]
    }
   ],
   "source": [
    "print(\"SMOTE + LDA - train_score : %.4f, test score : %.4f\" % (clf_s_LDA.score(X_train_s, y_train_s), clf_s_LDA.score(X_test_sc, y_test)))"
   ]
  },
  {
   "cell_type": "code",
   "execution_count": 218,
   "id": "835ba7ea-a896-4d23-a720-6fdfd406a735",
   "metadata": {},
   "outputs": [
    {
     "data": {
      "image/png": "[encoded data removed]",
      "text/plain": [
       "<Figure size 360x360 with 2 Axes>"
      ]
     },
     "metadata": {},
     "output_type": "display_data"
    },
    {
     "data": {
      "text/html": [
       "<div>\n",
       "<style scoped>\n",
       "    .dataframe tbody tr th:only-of-type {\n",
       "        vertical-align: middle;\n",
       "    }\n",
       "\n",
       "    .dataframe tbody tr th {\n",
       "        vertical-align: top;\n",
       "    }\n",
       "\n",
       "    .dataframe thead th {\n",
       "        text-align: right;\n",
       "    }\n",
       "</style>\n",
       "<table border=\"1\" class=\"dataframe\">\n",
       "  <thead>\n",
       "    <tr style=\"text-align: right;\">\n",
       "      <th></th>\n",
       "      <th>Predict[0]</th>\n",
       "      <th>Predict[1]</th>\n",
       "    </tr>\n",
       "  </thead>\n",
       "  <tbody>\n",
       "    <tr>\n",
       "      <th>True[0]</th>\n",
       "      <td>11869</td>\n",
       "      <td>12538</td>\n",
       "    </tr>\n",
       "    <tr>\n",
       "      <th>True[1]</th>\n",
       "      <td>1780</td>\n",
       "      <td>1813</td>\n",
       "    </tr>\n",
       "  </tbody>\n",
       "</table>\n",
       "</div>"
      ],
      "text/plain": [
       "         Predict[0]  Predict[1]\n",
       "True[0]       11869       12538\n",
       "True[1]        1780        1813"
      ]
     },
     "execution_count": 218,
     "metadata": {},
     "output_type": "execute_result"
    }
   ],
   "source": [
    "from sklearn.metrics import confusion_matrix\n",
    "import matplotlib.pyplot as plt\n",
    "import seaborn as sns\n",
    "\n",
    "confmat=pd.DataFrame(confusion_matrix(y_test, y_pred_s_LDA),\n",
    "                    index=['True[0]', 'True[1]'],\n",
    "                    columns=['Predict[0]', 'Predict[1]'])\n",
    "\n",
    "plt.rcParams['figure.figsize'] = (5, 5)\n",
    "sns.set(style = 'dark', font_scale = 1.4)\n",
    "ax = sns.heatmap(confmat, annot=True)\n",
    "plt.xlabel('Prediction')\n",
    "plt.ylabel('Real Data')\n",
    "plt.show()\n",
    "confmat"
   ]
  },
  {
   "cell_type": "code",
   "execution_count": 229,
   "id": "8ed140df-2028-48ad-9aa1-f2586264704a",
   "metadata": {},
   "outputs": [
    {
     "name": "stdout",
     "output_type": "stream",
     "text": [
      "--------SMOTE + LDA--------\n",
      "정확도 accuracy: 0.489\n",
      "정밀도 precision: 0.126\n",
      "재현율 recall: 0.505\n",
      "F1-score: 0.202\n",
      "AUC: 0.495\n"
     ]
    }
   ],
   "source": [
    "from sklearn.metrics import roc_curve\n",
    "from sklearn.metrics import accuracy_score, precision_score, recall_score, f1_score, roc_auc_score\n",
    "\n",
    "print(\"--------SMOTE + LDA--------\")\n",
    "print('정확도 accuracy: %.3f' % accuracy_score(y_test, y_pred_s_LDA))\n",
    "print('정밀도 precision: %.3f' % precision_score(y_true=y_test, y_pred=y_pred_s_LDA))\n",
    "print('재현율 recall: %.3f' % recall_score(y_true=y_test, y_pred=y_pred_s_LDA))\n",
    "print('F1-score: %.3f' % f1_score(y_true=y_test, y_pred=y_pred_s_LDA))\n",
    "print('AUC: %.3f' % roc_auc_score(y_test, y_pred_s_LDA))"
   ]
  },
  {
   "cell_type": "markdown",
   "id": "7ffbfc67-6b77-4e7d-8677-1a35479bf01b",
   "metadata": {},
   "source": [
    "### 2-2. QDA"
   ]
  },
  {
   "cell_type": "code",
   "execution_count": 223,
   "id": "d77dca15-7c29-4ab0-bc49-2a16be3966a4",
   "metadata": {},
   "outputs": [
    {
     "name": "stdout",
     "output_type": "stream",
     "text": [
      "time : 0.28324127197265625\n"
     ]
    }
   ],
   "source": [
    "from sklearn.discriminant_analysis import QuadraticDiscriminantAnalysis\n",
    "\n",
    "start = time.time()\n",
    "\n",
    "clf_s_QDA = QuadraticDiscriminantAnalysis()\n",
    "clf_s_QDA.fit(X_train_s, y_train_s)\n",
    "\n",
    "print(\"time :\", time.time() - start) "
   ]
  },
  {
   "cell_type": "code",
   "execution_count": 224,
   "id": "01d2fc4c-17a9-4e37-b426-9f1181039c6d",
   "metadata": {},
   "outputs": [],
   "source": [
    "y_pred_s_QDA = clf_s_QDA.predict(X_test_sc)"
   ]
  },
  {
   "cell_type": "code",
   "execution_count": 295,
   "id": "112d22f6-17c4-4fdf-a757-01bbd67d068f",
   "metadata": {},
   "outputs": [
    {
     "name": "stdout",
     "output_type": "stream",
     "text": [
      "SMOTE + QDA - train_score : 0.5295, test score : 0.4203\n"
     ]
    }
   ],
   "source": [
    "print(\"SMOTE + QDA - train_score : %.4f, test score : %.4f\" % (clf_s_QDA.score(X_train_s, y_train_s), clf_s_QDA.score(X_test_sc, y_test)))"
   ]
  },
  {
   "cell_type": "code",
   "execution_count": 226,
   "id": "ae346d50-41bd-4d67-9b84-5014a659ed51",
   "metadata": {},
   "outputs": [
    {
     "data": {
      "image/png": "[encoded data removed]",
      "text/plain": [
       "<Figure size 360x360 with 2 Axes>"
      ]
     },
     "metadata": {},
     "output_type": "display_data"
    },
    {
     "data": {
      "text/html": [
       "<div>\n",
       "<style scoped>\n",
       "    .dataframe tbody tr th:only-of-type {\n",
       "        vertical-align: middle;\n",
       "    }\n",
       "\n",
       "    .dataframe tbody tr th {\n",
       "        vertical-align: top;\n",
       "    }\n",
       "\n",
       "    .dataframe thead th {\n",
       "        text-align: right;\n",
       "    }\n",
       "</style>\n",
       "<table border=\"1\" class=\"dataframe\">\n",
       "  <thead>\n",
       "    <tr style=\"text-align: right;\">\n",
       "      <th></th>\n",
       "      <th>Predict[0]</th>\n",
       "      <th>Predict[1]</th>\n",
       "    </tr>\n",
       "  </thead>\n",
       "  <tbody>\n",
       "    <tr>\n",
       "      <th>True[0]</th>\n",
       "      <td>9620</td>\n",
       "      <td>14787</td>\n",
       "    </tr>\n",
       "    <tr>\n",
       "      <th>True[1]</th>\n",
       "      <td>1444</td>\n",
       "      <td>2149</td>\n",
       "    </tr>\n",
       "  </tbody>\n",
       "</table>\n",
       "</div>"
      ],
      "text/plain": [
       "         Predict[0]  Predict[1]\n",
       "True[0]        9620       14787\n",
       "True[1]        1444        2149"
      ]
     },
     "execution_count": 226,
     "metadata": {},
     "output_type": "execute_result"
    }
   ],
   "source": [
    "from sklearn.metrics import confusion_matrix\n",
    "import matplotlib.pyplot as plt\n",
    "import seaborn as sns\n",
    "\n",
    "confmat=pd.DataFrame(confusion_matrix(y_test, y_pred_s_QDA),\n",
    "                    index=['True[0]', 'True[1]'],\n",
    "                    columns=['Predict[0]', 'Predict[1]'])\n",
    "\n",
    "plt.rcParams['figure.figsize'] = (5, 5)\n",
    "sns.set(style = 'dark', font_scale = 1.4)\n",
    "ax = sns.heatmap(confmat, annot=True)\n",
    "plt.xlabel('Prediction')\n",
    "plt.ylabel('Real Data')\n",
    "plt.show()\n",
    "confmat"
   ]
  },
  {
   "cell_type": "code",
   "execution_count": 230,
   "id": "ced909e2-67ef-435c-ac36-b708a57239e0",
   "metadata": {},
   "outputs": [
    {
     "name": "stdout",
     "output_type": "stream",
     "text": [
      "--------SMOTE + QDA--------\n",
      "정확도 accuracy: 0.420\n",
      "정밀도 precision: 0.127\n",
      "재현율 recall: 0.598\n",
      "F1-score: 0.209\n",
      "AUC: 0.496\n"
     ]
    }
   ],
   "source": [
    "from sklearn.metrics import roc_curve\n",
    "from sklearn.metrics import accuracy_score, precision_score, recall_score, f1_score, roc_auc_score\n",
    "\n",
    "print(\"--------SMOTE + QDA--------\")\n",
    "print('정확도 accuracy: %.3f' % accuracy_score(y_test, y_pred_s_QDA))\n",
    "print('정밀도 precision: %.3f' % precision_score(y_true=y_test, y_pred=y_pred_s_QDA))\n",
    "print('재현율 recall: %.3f' % recall_score(y_true=y_test, y_pred=y_pred_s_QDA))\n",
    "print('F1-score: %.3f' % f1_score(y_true=y_test, y_pred=y_pred_s_QDA))\n",
    "print('AUC: %.3f' % roc_auc_score(y_test, y_pred_s_QDA))"
   ]
  },
  {
   "cell_type": "markdown",
   "id": "e52db1e7-0420-4b29-b7d8-0beb42da3a49",
   "metadata": {},
   "source": [
    "### 2-3. Logistic Regression"
   ]
  },
  {
   "cell_type": "code",
   "execution_count": 231,
   "id": "19e64f65-73ee-400f-90c2-b2bd895d3d0a",
   "metadata": {},
   "outputs": [
    {
     "name": "stdout",
     "output_type": "stream",
     "text": [
      "time : 0.7529857158660889\n"
     ]
    }
   ],
   "source": [
    "from sklearn.linear_model import LogisticRegression\n",
    "\n",
    "start = time.time()\n",
    "\n",
    "clf_s_lr = LogisticRegression()\n",
    "clf_s_lr.fit(X_train_s, y_train_s)\n",
    "\n",
    "print(\"time :\", time.time() - start) "
   ]
  },
  {
   "cell_type": "code",
   "execution_count": 232,
   "id": "b337450e-9bd2-4237-841e-32632543ed8d",
   "metadata": {},
   "outputs": [],
   "source": [
    "y_pred_s_lr = clf_s_lr.predict(X_test_sc)"
   ]
  },
  {
   "cell_type": "code",
   "execution_count": 296,
   "id": "904ee9f5-c3a7-4007-adff-d8d6145dddf1",
   "metadata": {},
   "outputs": [
    {
     "name": "stdout",
     "output_type": "stream",
     "text": [
      "SMOTE + Logistic Regression - train_score : 0.5243, test score : 0.4886\n"
     ]
    }
   ],
   "source": [
    "print(\"SMOTE + Logistic Regression - train_score : %.4f, test score : %.4f\" % (clf_s_lr.score(X_train_s, y_train_s), clf_s_lr.score(X_test_sc, y_test)))"
   ]
  },
  {
   "cell_type": "code",
   "execution_count": 234,
   "id": "dd5cca15-8629-45b5-ae28-f989b01dff58",
   "metadata": {},
   "outputs": [
    {
     "data": {
      "image/png": "[encoded data removed]",
      "text/plain": [
       "<Figure size 360x360 with 2 Axes>"
      ]
     },
     "metadata": {},
     "output_type": "display_data"
    },
    {
     "data": {
      "text/html": [
       "<div>\n",
       "<style scoped>\n",
       "    .dataframe tbody tr th:only-of-type {\n",
       "        vertical-align: middle;\n",
       "    }\n",
       "\n",
       "    .dataframe tbody tr th {\n",
       "        vertical-align: top;\n",
       "    }\n",
       "\n",
       "    .dataframe thead th {\n",
       "        text-align: right;\n",
       "    }\n",
       "</style>\n",
       "<table border=\"1\" class=\"dataframe\">\n",
       "  <thead>\n",
       "    <tr style=\"text-align: right;\">\n",
       "      <th></th>\n",
       "      <th>Predict[0]</th>\n",
       "      <th>Predict[1]</th>\n",
       "    </tr>\n",
       "  </thead>\n",
       "  <tbody>\n",
       "    <tr>\n",
       "      <th>True[0]</th>\n",
       "      <td>11870</td>\n",
       "      <td>12537</td>\n",
       "    </tr>\n",
       "    <tr>\n",
       "      <th>True[1]</th>\n",
       "      <td>1783</td>\n",
       "      <td>1810</td>\n",
       "    </tr>\n",
       "  </tbody>\n",
       "</table>\n",
       "</div>"
      ],
      "text/plain": [
       "         Predict[0]  Predict[1]\n",
       "True[0]       11870       12537\n",
       "True[1]        1783        1810"
      ]
     },
     "execution_count": 234,
     "metadata": {},
     "output_type": "execute_result"
    }
   ],
   "source": [
    "from sklearn.metrics import confusion_matrix\n",
    "import matplotlib.pyplot as plt\n",
    "import seaborn as sns\n",
    "\n",
    "confmat=pd.DataFrame(confusion_matrix(y_test, y_pred_s_lr),\n",
    "                    index=['True[0]', 'True[1]'],\n",
    "                    columns=['Predict[0]', 'Predict[1]'])\n",
    "\n",
    "plt.rcParams['figure.figsize'] = (5, 5)\n",
    "sns.set(style = 'dark', font_scale = 1.4)\n",
    "ax = sns.heatmap(confmat, annot=True)\n",
    "plt.xlabel('Prediction')\n",
    "plt.ylabel('Real Data')\n",
    "plt.show()\n",
    "confmat"
   ]
  },
  {
   "cell_type": "code",
   "execution_count": 235,
   "id": "96db2217-4df4-45d5-90c0-61503d2dd805",
   "metadata": {},
   "outputs": [
    {
     "name": "stdout",
     "output_type": "stream",
     "text": [
      "--------SMOTE + Logistic Regression--------\n",
      "정확도 accuracy: 0.489\n",
      "정밀도 precision: 0.126\n",
      "재현율 recall: 0.504\n",
      "F1-score: 0.202\n",
      "AUC: 0.495\n"
     ]
    }
   ],
   "source": [
    "from sklearn.metrics import roc_curve\n",
    "from sklearn.metrics import accuracy_score, precision_score, recall_score, f1_score, roc_auc_score\n",
    "\n",
    "print(\"--------SMOTE + Logistic Regression--------\")\n",
    "print('정확도 accuracy: %.3f' % accuracy_score(y_test, y_pred_s_lr))\n",
    "print('정밀도 precision: %.3f' % precision_score(y_true=y_test, y_pred=y_pred_s_lr))\n",
    "print('재현율 recall: %.3f' % recall_score(y_true=y_test, y_pred=y_pred_s_lr))\n",
    "print('F1-score: %.3f' % f1_score(y_true=y_test, y_pred=y_pred_s_lr))\n",
    "print('AUC: %.3f' % roc_auc_score(y_test, y_pred_s_lr))"
   ]
  },
  {
   "cell_type": "markdown",
   "id": "350162fa-8569-43e8-a310-211f0e3b3625",
   "metadata": {},
   "source": [
    "### 2-4. Neural Network"
   ]
  },
  {
   "cell_type": "code",
   "execution_count": 43,
   "id": "a286668c-1f43-43c6-97c6-cb8d945df521",
   "metadata": {},
   "outputs": [
    {
     "name": "stdout",
     "output_type": "stream",
     "text": [
      "time : 509.68353295326233\n"
     ]
    }
   ],
   "source": [
    "from sklearn.neural_network import MLPClassifier\n",
    "\n",
    "start = time.time()\n",
    "\n",
    "clf_s_NN = MLPClassifier()\n",
    "clf_s_NN.fit(X_train_s, y_train_s)\n",
    "\n",
    "print(\"time :\", time.time() - start) "
   ]
  },
  {
   "cell_type": "code",
   "execution_count": 70,
   "id": "c210a8f9-eb4e-4f94-a530-99309da2f34a",
   "metadata": {},
   "outputs": [],
   "source": [
    "y_pred_s_NN = clf_s_NN.predict(X_test_sc)"
   ]
  },
  {
   "cell_type": "code",
   "execution_count": 91,
   "id": "75b0b13f-1e00-42dc-8a05-a929d90d2d21",
   "metadata": {},
   "outputs": [
    {
     "name": "stdout",
     "output_type": "stream",
     "text": [
      "SMOTE + Neural Network - train_score : 0.6463, test score : 0.1283\n"
     ]
    }
   ],
   "source": [
    "print(\"SMOTE + Neural Network - train_score : %.4f, test score : %.4f\" % (clf_s_NN.score(X_train_s, y_train_s), clf_s_NN.score(X_test_sc, y_test)))"
   ]
  },
  {
   "cell_type": "code",
   "execution_count": 73,
   "id": "d60c2b4a-f65d-4f18-a739-4db5929a205c",
   "metadata": {},
   "outputs": [
    {
     "data": {
      "image/png": "[encoded data removed]",
      "text/plain": [
       "<Figure size 360x360 with 2 Axes>"
      ]
     },
     "metadata": {},
     "output_type": "display_data"
    },
    {
     "data": {
      "text/html": [
       "<div>\n",
       "<style scoped>\n",
       "    .dataframe tbody tr th:only-of-type {\n",
       "        vertical-align: middle;\n",
       "    }\n",
       "\n",
       "    .dataframe tbody tr th {\n",
       "        vertical-align: top;\n",
       "    }\n",
       "\n",
       "    .dataframe thead th {\n",
       "        text-align: right;\n",
       "    }\n",
       "</style>\n",
       "<table border=\"1\" class=\"dataframe\">\n",
       "  <thead>\n",
       "    <tr style=\"text-align: right;\">\n",
       "      <th></th>\n",
       "      <th>Predict[0]</th>\n",
       "      <th>Predict[1]</th>\n",
       "    </tr>\n",
       "  </thead>\n",
       "  <tbody>\n",
       "    <tr>\n",
       "      <th>True[0]</th>\n",
       "      <td>0</td>\n",
       "      <td>24407</td>\n",
       "    </tr>\n",
       "    <tr>\n",
       "      <th>True[1]</th>\n",
       "      <td>0</td>\n",
       "      <td>3593</td>\n",
       "    </tr>\n",
       "  </tbody>\n",
       "</table>\n",
       "</div>"
      ],
      "text/plain": [
       "         Predict[0]  Predict[1]\n",
       "True[0]           0       24407\n",
       "True[1]           0        3593"
      ]
     },
     "execution_count": 73,
     "metadata": {},
     "output_type": "execute_result"
    }
   ],
   "source": [
    "from sklearn.metrics import confusion_matrix\n",
    "import matplotlib.pyplot as plt\n",
    "import seaborn as sns\n",
    "\n",
    "confmat=pd.DataFrame(confusion_matrix(y_test, y_pred_s_NN),\n",
    "                    index=['True[0]', 'True[1]'],\n",
    "                    columns=['Predict[0]', 'Predict[1]'])\n",
    "\n",
    "plt.rcParams['figure.figsize'] = (5, 5)\n",
    "sns.set(style = 'dark', font_scale = 1.4)\n",
    "ax = sns.heatmap(confmat, annot=True)\n",
    "plt.xlabel('Prediction')\n",
    "plt.ylabel('Real Data')\n",
    "plt.show()\n",
    "confmat"
   ]
  },
  {
   "cell_type": "code",
   "execution_count": 75,
   "id": "51340f04-de54-45ac-bcb1-c17d90e4dcd1",
   "metadata": {},
   "outputs": [
    {
     "name": "stdout",
     "output_type": "stream",
     "text": [
      "--------SMOTE + Neural Network--------\n",
      "정확도 accuracy: 0.128\n",
      "정밀도 precision: 0.128\n",
      "재현율 recall: 1.000\n",
      "F1-score: 0.227\n",
      "AUC: 0.500\n"
     ]
    }
   ],
   "source": [
    "from sklearn.metrics import roc_curve\n",
    "from sklearn.metrics import accuracy_score, precision_score, recall_score, f1_score, roc_auc_score\n",
    "\n",
    "print(\"--------SMOTE + Neural Network--------\")\n",
    "print('정확도 accuracy: %.3f' % accuracy_score(y_test, y_pred_s_NN))\n",
    "print('정밀도 precision: %.3f' % precision_score(y_true=y_test, y_pred=y_pred_s_NN))\n",
    "print('재현율 recall: %.3f' % recall_score(y_true=y_test, y_pred=y_pred_s_NN))\n",
    "print('F1-score: %.3f' % f1_score(y_true=y_test, y_pred=y_pred_s_NN))\n",
    "print('AUC: %.3f' % roc_auc_score(y_test, y_pred_s_NN))"
   ]
  },
  {
   "cell_type": "markdown",
   "id": "e89085aa-f32e-4f96-9419-84c536aba06a",
   "metadata": {},
   "source": [
    "## 3. ADASYN"
   ]
  },
  {
   "cell_type": "code",
   "execution_count": 71,
   "id": "2739e8b3-85aa-470b-b4ed-af4bf4d4d607",
   "metadata": {},
   "outputs": [],
   "source": [
    "X_train_a = pd.read_csv(\"X_over_ada.csv\")\n",
    "y_train_a = pd.read_csv(\"y_over_ada.csv\")"
   ]
  },
  {
   "cell_type": "code",
   "execution_count": 72,
   "id": "b324eb34-7909-46f5-a32d-dadb2c430017",
   "metadata": {},
   "outputs": [
    {
     "data": {
      "text/html": [
       "<div>\n",
       "<style scoped>\n",
       "    .dataframe tbody tr th:only-of-type {\n",
       "        vertical-align: middle;\n",
       "    }\n",
       "\n",
       "    .dataframe tbody tr th {\n",
       "        vertical-align: top;\n",
       "    }\n",
       "\n",
       "    .dataframe thead th {\n",
       "        text-align: right;\n",
       "    }\n",
       "</style>\n",
       "<table border=\"1\" class=\"dataframe\">\n",
       "  <thead>\n",
       "    <tr style=\"text-align: right;\">\n",
       "      <th></th>\n",
       "      <th>Unnamed: 0</th>\n",
       "      <th>0</th>\n",
       "      <th>1</th>\n",
       "      <th>2</th>\n",
       "      <th>3</th>\n",
       "      <th>4</th>\n",
       "    </tr>\n",
       "  </thead>\n",
       "  <tbody>\n",
       "    <tr>\n",
       "      <th>0</th>\n",
       "      <td>0</td>\n",
       "      <td>-1.283145</td>\n",
       "      <td>-1.579604</td>\n",
       "      <td>-1.180232</td>\n",
       "      <td>-0.914131</td>\n",
       "      <td>0.716356</td>\n",
       "    </tr>\n",
       "    <tr>\n",
       "      <th>1</th>\n",
       "      <td>1</td>\n",
       "      <td>0.895457</td>\n",
       "      <td>-0.583344</td>\n",
       "      <td>-0.014067</td>\n",
       "      <td>0.731036</td>\n",
       "      <td>0.716356</td>\n",
       "    </tr>\n",
       "    <tr>\n",
       "      <th>2</th>\n",
       "      <td>2</td>\n",
       "      <td>-0.349269</td>\n",
       "      <td>0.940348</td>\n",
       "      <td>-1.013637</td>\n",
       "      <td>-0.639936</td>\n",
       "      <td>-1.427981</td>\n",
       "    </tr>\n",
       "    <tr>\n",
       "      <th>3</th>\n",
       "      <td>3</td>\n",
       "      <td>0.437526</td>\n",
       "      <td>-0.524740</td>\n",
       "      <td>-1.346827</td>\n",
       "      <td>-1.188325</td>\n",
       "      <td>0.001577</td>\n",
       "    </tr>\n",
       "    <tr>\n",
       "      <th>4</th>\n",
       "      <td>4</td>\n",
       "      <td>0.268128</td>\n",
       "      <td>-0.173119</td>\n",
       "      <td>0.152528</td>\n",
       "      <td>-0.914131</td>\n",
       "      <td>1.431135</td>\n",
       "    </tr>\n",
       "    <tr>\n",
       "      <th>...</th>\n",
       "      <td>...</td>\n",
       "      <td>...</td>\n",
       "      <td>...</td>\n",
       "      <td>...</td>\n",
       "      <td>...</td>\n",
       "      <td>...</td>\n",
       "    </tr>\n",
       "    <tr>\n",
       "      <th>442208</th>\n",
       "      <td>442208</td>\n",
       "      <td>0.947530</td>\n",
       "      <td>0.511872</td>\n",
       "      <td>-0.086893</td>\n",
       "      <td>0.731036</td>\n",
       "      <td>0.716356</td>\n",
       "    </tr>\n",
       "    <tr>\n",
       "      <th>442209</th>\n",
       "      <td>442209</td>\n",
       "      <td>0.784896</td>\n",
       "      <td>0.425520</td>\n",
       "      <td>-0.168718</td>\n",
       "      <td>0.731036</td>\n",
       "      <td>0.716356</td>\n",
       "    </tr>\n",
       "    <tr>\n",
       "      <th>442210</th>\n",
       "      <td>442210</td>\n",
       "      <td>1.109147</td>\n",
       "      <td>0.588727</td>\n",
       "      <td>-0.159123</td>\n",
       "      <td>0.611664</td>\n",
       "      <td>0.716356</td>\n",
       "    </tr>\n",
       "    <tr>\n",
       "      <th>442211</th>\n",
       "      <td>442211</td>\n",
       "      <td>1.266664</td>\n",
       "      <td>0.860626</td>\n",
       "      <td>0.114757</td>\n",
       "      <td>0.731036</td>\n",
       "      <td>0.716356</td>\n",
       "    </tr>\n",
       "    <tr>\n",
       "      <th>442212</th>\n",
       "      <td>442212</td>\n",
       "      <td>1.301471</td>\n",
       "      <td>0.914897</td>\n",
       "      <td>0.140470</td>\n",
       "      <td>0.731036</td>\n",
       "      <td>0.716356</td>\n",
       "    </tr>\n",
       "  </tbody>\n",
       "</table>\n",
       "<p>442213 rows × 6 columns</p>\n",
       "</div>"
      ],
      "text/plain": [
       "        Unnamed: 0         0         1         2         3         4\n",
       "0                0 -1.283145 -1.579604 -1.180232 -0.914131  0.716356\n",
       "1                1  0.895457 -0.583344 -0.014067  0.731036  0.716356\n",
       "2                2 -0.349269  0.940348 -1.013637 -0.639936 -1.427981\n",
       "3                3  0.437526 -0.524740 -1.346827 -1.188325  0.001577\n",
       "4                4  0.268128 -0.173119  0.152528 -0.914131  1.431135\n",
       "...            ...       ...       ...       ...       ...       ...\n",
       "442208      442208  0.947530  0.511872 -0.086893  0.731036  0.716356\n",
       "442209      442209  0.784896  0.425520 -0.168718  0.731036  0.716356\n",
       "442210      442210  1.109147  0.588727 -0.159123  0.611664  0.716356\n",
       "442211      442211  1.266664  0.860626  0.114757  0.731036  0.716356\n",
       "442212      442212  1.301471  0.914897  0.140470  0.731036  0.716356\n",
       "\n",
       "[442213 rows x 6 columns]"
      ]
     },
     "execution_count": 72,
     "metadata": {},
     "output_type": "execute_result"
    }
   ],
   "source": [
    "X_train_a"
   ]
  },
  {
   "cell_type": "code",
   "execution_count": 73,
   "id": "83580ddb-b254-4ea8-bdbd-bba491ab1495",
   "metadata": {},
   "outputs": [
    {
     "data": {
      "text/html": [
       "<div>\n",
       "<style scoped>\n",
       "    .dataframe tbody tr th:only-of-type {\n",
       "        vertical-align: middle;\n",
       "    }\n",
       "\n",
       "    .dataframe tbody tr th {\n",
       "        vertical-align: top;\n",
       "    }\n",
       "\n",
       "    .dataframe thead th {\n",
       "        text-align: right;\n",
       "    }\n",
       "</style>\n",
       "<table border=\"1\" class=\"dataframe\">\n",
       "  <thead>\n",
       "    <tr style=\"text-align: right;\">\n",
       "      <th></th>\n",
       "      <th>0</th>\n",
       "      <th>1</th>\n",
       "      <th>2</th>\n",
       "      <th>3</th>\n",
       "      <th>4</th>\n",
       "    </tr>\n",
       "  </thead>\n",
       "  <tbody>\n",
       "    <tr>\n",
       "      <th>0</th>\n",
       "      <td>-1.283145</td>\n",
       "      <td>-1.579604</td>\n",
       "      <td>-1.180232</td>\n",
       "      <td>-0.914131</td>\n",
       "      <td>0.716356</td>\n",
       "    </tr>\n",
       "    <tr>\n",
       "      <th>1</th>\n",
       "      <td>0.895457</td>\n",
       "      <td>-0.583344</td>\n",
       "      <td>-0.014067</td>\n",
       "      <td>0.731036</td>\n",
       "      <td>0.716356</td>\n",
       "    </tr>\n",
       "    <tr>\n",
       "      <th>2</th>\n",
       "      <td>-0.349269</td>\n",
       "      <td>0.940348</td>\n",
       "      <td>-1.013637</td>\n",
       "      <td>-0.639936</td>\n",
       "      <td>-1.427981</td>\n",
       "    </tr>\n",
       "    <tr>\n",
       "      <th>3</th>\n",
       "      <td>0.437526</td>\n",
       "      <td>-0.524740</td>\n",
       "      <td>-1.346827</td>\n",
       "      <td>-1.188325</td>\n",
       "      <td>0.001577</td>\n",
       "    </tr>\n",
       "    <tr>\n",
       "      <th>4</th>\n",
       "      <td>0.268128</td>\n",
       "      <td>-0.173119</td>\n",
       "      <td>0.152528</td>\n",
       "      <td>-0.914131</td>\n",
       "      <td>1.431135</td>\n",
       "    </tr>\n",
       "    <tr>\n",
       "      <th>...</th>\n",
       "      <td>...</td>\n",
       "      <td>...</td>\n",
       "      <td>...</td>\n",
       "      <td>...</td>\n",
       "      <td>...</td>\n",
       "    </tr>\n",
       "    <tr>\n",
       "      <th>442208</th>\n",
       "      <td>0.947530</td>\n",
       "      <td>0.511872</td>\n",
       "      <td>-0.086893</td>\n",
       "      <td>0.731036</td>\n",
       "      <td>0.716356</td>\n",
       "    </tr>\n",
       "    <tr>\n",
       "      <th>442209</th>\n",
       "      <td>0.784896</td>\n",
       "      <td>0.425520</td>\n",
       "      <td>-0.168718</td>\n",
       "      <td>0.731036</td>\n",
       "      <td>0.716356</td>\n",
       "    </tr>\n",
       "    <tr>\n",
       "      <th>442210</th>\n",
       "      <td>1.109147</td>\n",
       "      <td>0.588727</td>\n",
       "      <td>-0.159123</td>\n",
       "      <td>0.611664</td>\n",
       "      <td>0.716356</td>\n",
       "    </tr>\n",
       "    <tr>\n",
       "      <th>442211</th>\n",
       "      <td>1.266664</td>\n",
       "      <td>0.860626</td>\n",
       "      <td>0.114757</td>\n",
       "      <td>0.731036</td>\n",
       "      <td>0.716356</td>\n",
       "    </tr>\n",
       "    <tr>\n",
       "      <th>442212</th>\n",
       "      <td>1.301471</td>\n",
       "      <td>0.914897</td>\n",
       "      <td>0.140470</td>\n",
       "      <td>0.731036</td>\n",
       "      <td>0.716356</td>\n",
       "    </tr>\n",
       "  </tbody>\n",
       "</table>\n",
       "<p>442213 rows × 5 columns</p>\n",
       "</div>"
      ],
      "text/plain": [
       "               0         1         2         3         4\n",
       "0      -1.283145 -1.579604 -1.180232 -0.914131  0.716356\n",
       "1       0.895457 -0.583344 -0.014067  0.731036  0.716356\n",
       "2      -0.349269  0.940348 -1.013637 -0.639936 -1.427981\n",
       "3       0.437526 -0.524740 -1.346827 -1.188325  0.001577\n",
       "4       0.268128 -0.173119  0.152528 -0.914131  1.431135\n",
       "...          ...       ...       ...       ...       ...\n",
       "442208  0.947530  0.511872 -0.086893  0.731036  0.716356\n",
       "442209  0.784896  0.425520 -0.168718  0.731036  0.716356\n",
       "442210  1.109147  0.588727 -0.159123  0.611664  0.716356\n",
       "442211  1.266664  0.860626  0.114757  0.731036  0.716356\n",
       "442212  1.301471  0.914897  0.140470  0.731036  0.716356\n",
       "\n",
       "[442213 rows x 5 columns]"
      ]
     },
     "execution_count": 73,
     "metadata": {},
     "output_type": "execute_result"
    }
   ],
   "source": [
    "X_train_a.drop(['Unnamed: 0'], axis=1, inplace=True)\n",
    "X_train_a"
   ]
  },
  {
   "cell_type": "code",
   "execution_count": 74,
   "id": "28693067-f48c-4cd3-9c07-ad57a41a39b5",
   "metadata": {},
   "outputs": [
    {
     "data": {
      "text/plain": [
       "0         0\n",
       "1         0\n",
       "2         0\n",
       "3         1\n",
       "4         1\n",
       "         ..\n",
       "442208    1\n",
       "442209    1\n",
       "442210    1\n",
       "442211    1\n",
       "442212    1\n",
       "Name: 0, Length: 442213, dtype: int64"
      ]
     },
     "execution_count": 74,
     "metadata": {},
     "output_type": "execute_result"
    }
   ],
   "source": [
    "y_train_a = y_train_a['0']\n",
    "y_train_a"
   ]
  },
  {
   "cell_type": "markdown",
   "id": "8e399cf8-4262-428f-b720-bc3bb1427e86",
   "metadata": {},
   "source": [
    "### 3-1. LDA"
   ]
  },
  {
   "cell_type": "code",
   "execution_count": 236,
   "id": "fb0c64ee-697f-422d-8227-732a54f62342",
   "metadata": {},
   "outputs": [
    {
     "name": "stdout",
     "output_type": "stream",
     "text": [
      "time : 0.8716676235198975\n"
     ]
    }
   ],
   "source": [
    "from sklearn.discriminant_analysis import LinearDiscriminantAnalysis\n",
    "import time\n",
    "\n",
    "start = time.time()\n",
    "\n",
    "clf_a_LDA = LinearDiscriminantAnalysis()\n",
    "clf_a_LDA.fit(X_train_a, y_train_a)\n",
    "\n",
    "print(\"time :\", time.time() - start) "
   ]
  },
  {
   "cell_type": "code",
   "execution_count": 237,
   "id": "055ae7a4-fd1c-4350-b635-3397681f25ac",
   "metadata": {},
   "outputs": [],
   "source": [
    "y_pred_a_LDA = clf_a_LDA.predict(X_test_sc)"
   ]
  },
  {
   "cell_type": "code",
   "execution_count": 297,
   "id": "484ab6b4-f402-46ec-8609-02997872f1b2",
   "metadata": {},
   "outputs": [
    {
     "name": "stdout",
     "output_type": "stream",
     "text": [
      "ADASYN + LDA - train_score : 0.5140, test score : 0.4090\n"
     ]
    }
   ],
   "source": [
    "print(\"ADASYN + LDA - train_score : %.4f, test score : %.4f\" % (clf_a_LDA.score(X_train_a, y_train_a), clf_a_LDA.score(X_test_sc, y_test)))"
   ]
  },
  {
   "cell_type": "code",
   "execution_count": 239,
   "id": "e6548c5a-ef9d-4637-9204-280515ca2fe0",
   "metadata": {},
   "outputs": [
    {
     "data": {
      "image/png": "[encoded data removed]",
      "text/plain": [
       "<Figure size 360x360 with 2 Axes>"
      ]
     },
     "metadata": {},
     "output_type": "display_data"
    },
    {
     "data": {
      "text/html": [
       "<div>\n",
       "<style scoped>\n",
       "    .dataframe tbody tr th:only-of-type {\n",
       "        vertical-align: middle;\n",
       "    }\n",
       "\n",
       "    .dataframe tbody tr th {\n",
       "        vertical-align: top;\n",
       "    }\n",
       "\n",
       "    .dataframe thead th {\n",
       "        text-align: right;\n",
       "    }\n",
       "</style>\n",
       "<table border=\"1\" class=\"dataframe\">\n",
       "  <thead>\n",
       "    <tr style=\"text-align: right;\">\n",
       "      <th></th>\n",
       "      <th>Predict[0]</th>\n",
       "      <th>Predict[1]</th>\n",
       "    </tr>\n",
       "  </thead>\n",
       "  <tbody>\n",
       "    <tr>\n",
       "      <th>True[0]</th>\n",
       "      <td>9221</td>\n",
       "      <td>15186</td>\n",
       "    </tr>\n",
       "    <tr>\n",
       "      <th>True[1]</th>\n",
       "      <td>1361</td>\n",
       "      <td>2232</td>\n",
       "    </tr>\n",
       "  </tbody>\n",
       "</table>\n",
       "</div>"
      ],
      "text/plain": [
       "         Predict[0]  Predict[1]\n",
       "True[0]        9221       15186\n",
       "True[1]        1361        2232"
      ]
     },
     "execution_count": 239,
     "metadata": {},
     "output_type": "execute_result"
    }
   ],
   "source": [
    "from sklearn.metrics import confusion_matrix\n",
    "import matplotlib.pyplot as plt\n",
    "import seaborn as sns\n",
    "\n",
    "confmat=pd.DataFrame(confusion_matrix(y_test, y_pred_a_LDA),\n",
    "                    index=['True[0]', 'True[1]'],\n",
    "                    columns=['Predict[0]', 'Predict[1]'])\n",
    "\n",
    "plt.rcParams['figure.figsize'] = (5, 5)\n",
    "sns.set(style = 'dark', font_scale = 1.4)\n",
    "ax = sns.heatmap(confmat, annot=True)\n",
    "plt.xlabel('Prediction')\n",
    "plt.ylabel('Real Data')\n",
    "plt.show()\n",
    "confmat"
   ]
  },
  {
   "cell_type": "code",
   "execution_count": 248,
   "id": "55cdc49f-1588-4530-ab7f-a1287dbf4094",
   "metadata": {},
   "outputs": [
    {
     "name": "stdout",
     "output_type": "stream",
     "text": [
      "--------ADASYN + LDA--------\n",
      "정확도 accuracy: 0.409\n",
      "정밀도 precision: 0.128\n",
      "재현율 recall: 0.621\n",
      "F1-score: 0.212\n",
      "AUC: 0.500\n"
     ]
    }
   ],
   "source": [
    "from sklearn.metrics import roc_curve\n",
    "from sklearn.metrics import accuracy_score, precision_score, recall_score, f1_score, roc_auc_score\n",
    "\n",
    "print(\"--------ADASYN + LDA--------\")\n",
    "print('정확도 accuracy: %.3f' % accuracy_score(y_test, y_pred_a_LDA))\n",
    "print('정밀도 precision: %.3f' % precision_score(y_true=y_test, y_pred=y_pred_a_LDA))\n",
    "print('재현율 recall: %.3f' % recall_score(y_true=y_test, y_pred=y_pred_a_LDA))\n",
    "print('F1-score: %.3f' % f1_score(y_true=y_test, y_pred=y_pred_a_LDA))\n",
    "print('AUC: %.3f' % roc_auc_score(y_test, y_pred_a_LDA))"
   ]
  },
  {
   "cell_type": "markdown",
   "id": "109de826-dee7-4e17-a287-028ba11bdf2e",
   "metadata": {},
   "source": [
    "### 3-2. QDA"
   ]
  },
  {
   "cell_type": "code",
   "execution_count": 251,
   "id": "5a014f0e-78b0-4ab0-9b77-508df3fe72d0",
   "metadata": {},
   "outputs": [
    {
     "name": "stdout",
     "output_type": "stream",
     "text": [
      "time : 0.27223753929138184\n"
     ]
    }
   ],
   "source": [
    "from sklearn.discriminant_analysis import QuadraticDiscriminantAnalysis\n",
    "\n",
    "start = time.time()\n",
    "\n",
    "clf_a_QDA = QuadraticDiscriminantAnalysis()\n",
    "clf_a_QDA.fit(X_train_a, y_train_a)\n",
    "\n",
    "print(\"time :\", time.time() - start) "
   ]
  },
  {
   "cell_type": "code",
   "execution_count": 252,
   "id": "3ac1111e-39e6-4e03-8b7a-0a7c93d64259",
   "metadata": {},
   "outputs": [],
   "source": [
    "y_pred_a_QDA = clf_a_QDA.predict(X_test_sc)"
   ]
  },
  {
   "cell_type": "code",
   "execution_count": 298,
   "id": "fc5a7d64-2e42-499d-8bb6-2e18564f2413",
   "metadata": {},
   "outputs": [
    {
     "name": "stdout",
     "output_type": "stream",
     "text": [
      "ADASYN + QDA - train_score : 0.5176, test score : 0.3792\n"
     ]
    }
   ],
   "source": [
    "print(\"ADASYN + QDA - train_score : %.4f, test score : %.4f\" % (clf_a_QDA.score(X_train_a, y_train_a), clf_a_QDA.score(X_test_sc, y_test)))"
   ]
  },
  {
   "cell_type": "code",
   "execution_count": 254,
   "id": "f498a3b5-941b-4fac-9cbb-90c195b7abc8",
   "metadata": {},
   "outputs": [
    {
     "data": {
      "image/png": "[encoded data removed]",
      "text/plain": [
       "<Figure size 360x360 with 2 Axes>"
      ]
     },
     "metadata": {},
     "output_type": "display_data"
    },
    {
     "data": {
      "text/html": [
       "<div>\n",
       "<style scoped>\n",
       "    .dataframe tbody tr th:only-of-type {\n",
       "        vertical-align: middle;\n",
       "    }\n",
       "\n",
       "    .dataframe tbody tr th {\n",
       "        vertical-align: top;\n",
       "    }\n",
       "\n",
       "    .dataframe thead th {\n",
       "        text-align: right;\n",
       "    }\n",
       "</style>\n",
       "<table border=\"1\" class=\"dataframe\">\n",
       "  <thead>\n",
       "    <tr style=\"text-align: right;\">\n",
       "      <th></th>\n",
       "      <th>Predict[0]</th>\n",
       "      <th>Predict[1]</th>\n",
       "    </tr>\n",
       "  </thead>\n",
       "  <tbody>\n",
       "    <tr>\n",
       "      <th>True[0]</th>\n",
       "      <td>8244</td>\n",
       "      <td>16163</td>\n",
       "    </tr>\n",
       "    <tr>\n",
       "      <th>True[1]</th>\n",
       "      <td>1219</td>\n",
       "      <td>2374</td>\n",
       "    </tr>\n",
       "  </tbody>\n",
       "</table>\n",
       "</div>"
      ],
      "text/plain": [
       "         Predict[0]  Predict[1]\n",
       "True[0]        8244       16163\n",
       "True[1]        1219        2374"
      ]
     },
     "execution_count": 254,
     "metadata": {},
     "output_type": "execute_result"
    }
   ],
   "source": [
    "from sklearn.metrics import confusion_matrix\n",
    "import matplotlib.pyplot as plt\n",
    "import seaborn as sns\n",
    "\n",
    "confmat=pd.DataFrame(confusion_matrix(y_test, y_pred_a_QDA),\n",
    "                    index=['True[0]', 'True[1]'],\n",
    "                    columns=['Predict[0]', 'Predict[1]'])\n",
    "\n",
    "plt.rcParams['figure.figsize'] = (5, 5)\n",
    "sns.set(style = 'dark', font_scale = 1.4)\n",
    "ax = sns.heatmap(confmat, annot=True)\n",
    "plt.xlabel('Prediction')\n",
    "plt.ylabel('Real Data')\n",
    "plt.show()\n",
    "confmat"
   ]
  },
  {
   "cell_type": "code",
   "execution_count": 255,
   "id": "213f1451-e82a-4a6f-8820-31685e973192",
   "metadata": {},
   "outputs": [
    {
     "name": "stdout",
     "output_type": "stream",
     "text": [
      "--------ADASYN + QDA--------\n",
      "정확도 accuracy: 0.379\n",
      "정밀도 precision: 0.128\n",
      "재현율 recall: 0.661\n",
      "F1-score: 0.215\n",
      "AUC: 0.499\n"
     ]
    }
   ],
   "source": [
    "from sklearn.metrics import roc_curve\n",
    "from sklearn.metrics import accuracy_score, precision_score, recall_score, f1_score, roc_auc_score\n",
    "\n",
    "print(\"--------ADASYN + QDA--------\")\n",
    "print('정확도 accuracy: %.3f' % accuracy_score(y_test, y_pred_a_QDA))\n",
    "print('정밀도 precision: %.3f' % precision_score(y_true=y_test, y_pred=y_pred_a_QDA))\n",
    "print('재현율 recall: %.3f' % recall_score(y_true=y_test, y_pred=y_pred_a_QDA))\n",
    "print('F1-score: %.3f' % f1_score(y_true=y_test, y_pred=y_pred_a_QDA))\n",
    "print('AUC: %.3f' % roc_auc_score(y_test, y_pred_a_QDA))"
   ]
  },
  {
   "cell_type": "markdown",
   "id": "5ba16c53-4e7b-46c2-aafc-bafc1fc98a2f",
   "metadata": {},
   "source": [
    "### 3-3. Logistic Regression"
   ]
  },
  {
   "cell_type": "code",
   "execution_count": 256,
   "id": "c3d2413b-d16b-475b-bdf9-0ee671d64268",
   "metadata": {},
   "outputs": [
    {
     "name": "stdout",
     "output_type": "stream",
     "text": [
      "time : 0.5884244441986084\n"
     ]
    }
   ],
   "source": [
    "from sklearn.linear_model import LogisticRegression\n",
    "\n",
    "start = time.time()\n",
    "\n",
    "clf_a_lr = LogisticRegression()\n",
    "clf_a_lr.fit(X_train_a, y_train_a)\n",
    "\n",
    "print(\"time :\", time.time() - start) "
   ]
  },
  {
   "cell_type": "code",
   "execution_count": 257,
   "id": "d99d9085-7d26-4fd3-b9bb-80feea42a09a",
   "metadata": {},
   "outputs": [],
   "source": [
    "y_pred_a_lr = clf_a_lr.predict(X_test_sc)"
   ]
  },
  {
   "cell_type": "code",
   "execution_count": 299,
   "id": "6df4b9f1-c1a1-4be4-95ab-d5a847ef3693",
   "metadata": {},
   "outputs": [
    {
     "name": "stdout",
     "output_type": "stream",
     "text": [
      "ADASYN + Logistic Regression - train_score : 0.5140, test score : 0.4090\n"
     ]
    }
   ],
   "source": [
    "print(\"ADASYN + Logistic Regression - train_score : %.4f, test score : %.4f\" % (clf_a_lr.score(X_train_a, y_train_a), clf_a_lr.score(X_test_sc, y_test)))"
   ]
  },
  {
   "cell_type": "code",
   "execution_count": 261,
   "id": "5c08b3d6-de2b-45e6-a7f2-65ce0acceeee",
   "metadata": {},
   "outputs": [
    {
     "data": {
      "image/png": "[encoded data removed]",
      "text/plain": [
       "<Figure size 360x360 with 2 Axes>"
      ]
     },
     "metadata": {},
     "output_type": "display_data"
    },
    {
     "data": {
      "text/html": [
       "<div>\n",
       "<style scoped>\n",
       "    .dataframe tbody tr th:only-of-type {\n",
       "        vertical-align: middle;\n",
       "    }\n",
       "\n",
       "    .dataframe tbody tr th {\n",
       "        vertical-align: top;\n",
       "    }\n",
       "\n",
       "    .dataframe thead th {\n",
       "        text-align: right;\n",
       "    }\n",
       "</style>\n",
       "<table border=\"1\" class=\"dataframe\">\n",
       "  <thead>\n",
       "    <tr style=\"text-align: right;\">\n",
       "      <th></th>\n",
       "      <th>Predict[0]</th>\n",
       "      <th>Predict[1]</th>\n",
       "    </tr>\n",
       "  </thead>\n",
       "  <tbody>\n",
       "    <tr>\n",
       "      <th>True[0]</th>\n",
       "      <td>9221</td>\n",
       "      <td>15186</td>\n",
       "    </tr>\n",
       "    <tr>\n",
       "      <th>True[1]</th>\n",
       "      <td>1361</td>\n",
       "      <td>2232</td>\n",
       "    </tr>\n",
       "  </tbody>\n",
       "</table>\n",
       "</div>"
      ],
      "text/plain": [
       "         Predict[0]  Predict[1]\n",
       "True[0]        9221       15186\n",
       "True[1]        1361        2232"
      ]
     },
     "execution_count": 261,
     "metadata": {},
     "output_type": "execute_result"
    }
   ],
   "source": [
    "from sklearn.metrics import confusion_matrix\n",
    "import matplotlib.pyplot as plt\n",
    "import seaborn as sns\n",
    "\n",
    "confmat=pd.DataFrame(confusion_matrix(y_test, y_pred_a_lr),\n",
    "                    index=['True[0]', 'True[1]'],\n",
    "                    columns=['Predict[0]', 'Predict[1]'])\n",
    "\n",
    "plt.rcParams['figure.figsize'] = (5, 5)\n",
    "sns.set(style = 'dark', font_scale = 1.4)\n",
    "ax = sns.heatmap(confmat, annot=True)\n",
    "plt.xlabel('Prediction')\n",
    "plt.ylabel('Real Data')\n",
    "plt.show()\n",
    "confmat"
   ]
  },
  {
   "cell_type": "code",
   "execution_count": 262,
   "id": "210c4e22-cb9c-446b-865e-31b89ba1dc56",
   "metadata": {},
   "outputs": [
    {
     "name": "stdout",
     "output_type": "stream",
     "text": [
      "--------ADASYN + Logistic Regression--------\n",
      "정확도 accuracy: 0.409\n",
      "정밀도 precision: 0.128\n",
      "재현율 recall: 0.621\n",
      "F1-score: 0.212\n",
      "AUC: 0.500\n"
     ]
    }
   ],
   "source": [
    "from sklearn.metrics import roc_curve\n",
    "from sklearn.metrics import accuracy_score, precision_score, recall_score, f1_score, roc_auc_score\n",
    "\n",
    "print(\"--------ADASYN + Logistic Regression--------\")\n",
    "print('정확도 accuracy: %.3f' % accuracy_score(y_test, y_pred_a_lr))\n",
    "print('정밀도 precision: %.3f' % precision_score(y_true=y_test, y_pred=y_pred_a_lr))\n",
    "print('재현율 recall: %.3f' % recall_score(y_true=y_test, y_pred=y_pred_a_lr))\n",
    "print('F1-score: %.3f' % f1_score(y_true=y_test, y_pred=y_pred_a_lr))\n",
    "print('AUC: %.3f' % roc_auc_score(y_test, y_pred_a_lr))"
   ]
  },
  {
   "cell_type": "markdown",
   "id": "95b6ecaa-3566-4be8-a167-33cccb96dedb",
   "metadata": {},
   "source": [
    "### 3-4. Neural Network"
   ]
  },
  {
   "cell_type": "code",
   "execution_count": 51,
   "id": "d5b633c4-424e-4301-9f22-0985a3197724",
   "metadata": {},
   "outputs": [
    {
     "name": "stdout",
     "output_type": "stream",
     "text": [
      "time : 339.7795033454895\n"
     ]
    }
   ],
   "source": [
    "from sklearn.neural_network import MLPClassifier\n",
    "\n",
    "start = time.time()\n",
    "\n",
    "clf_a_NN = MLPClassifier()\n",
    "clf_a_NN.fit(X_train_a, y_train_a)\n",
    "\n",
    "print(\"time :\", time.time() - start) "
   ]
  },
  {
   "cell_type": "code",
   "execution_count": 76,
   "id": "d4f8ff97-2e4c-4267-9949-f2cb488595d7",
   "metadata": {},
   "outputs": [],
   "source": [
    "y_pred_a_NN = clf_a_NN.predict(X_test_sc)"
   ]
  },
  {
   "cell_type": "code",
   "execution_count": 90,
   "id": "75a93d1b-991a-4218-be89-65728aa30c6a",
   "metadata": {
    "tags": []
   },
   "outputs": [
    {
     "name": "stdout",
     "output_type": "stream",
     "text": [
      "ADASYN + Neural Network - train_score : 0.6236, test score : 0.8717\n"
     ]
    }
   ],
   "source": [
    "print(\"ADASYN + Neural Network - train_score : %.4f, test score : %.4f\" % (clf_a_NN.score(X_train_a, y_train_a), clf_a_NN.score(X_test_sc, y_test)))"
   ]
  },
  {
   "cell_type": "code",
   "execution_count": 78,
   "id": "4c64950c-3618-4a82-ad92-c5ea68371d47",
   "metadata": {},
   "outputs": [
    {
     "data": {
      "image/png": "[encoded data removed]",
      "text/plain": [
       "<Figure size 360x360 with 2 Axes>"
      ]
     },
     "metadata": {},
     "output_type": "display_data"
    },
    {
     "data": {
      "text/html": [
       "<div>\n",
       "<style scoped>\n",
       "    .dataframe tbody tr th:only-of-type {\n",
       "        vertical-align: middle;\n",
       "    }\n",
       "\n",
       "    .dataframe tbody tr th {\n",
       "        vertical-align: top;\n",
       "    }\n",
       "\n",
       "    .dataframe thead th {\n",
       "        text-align: right;\n",
       "    }\n",
       "</style>\n",
       "<table border=\"1\" class=\"dataframe\">\n",
       "  <thead>\n",
       "    <tr style=\"text-align: right;\">\n",
       "      <th></th>\n",
       "      <th>Predict[0]</th>\n",
       "      <th>Predict[1]</th>\n",
       "    </tr>\n",
       "  </thead>\n",
       "  <tbody>\n",
       "    <tr>\n",
       "      <th>True[0]</th>\n",
       "      <td>24407</td>\n",
       "      <td>0</td>\n",
       "    </tr>\n",
       "    <tr>\n",
       "      <th>True[1]</th>\n",
       "      <td>3593</td>\n",
       "      <td>0</td>\n",
       "    </tr>\n",
       "  </tbody>\n",
       "</table>\n",
       "</div>"
      ],
      "text/plain": [
       "         Predict[0]  Predict[1]\n",
       "True[0]       24407           0\n",
       "True[1]        3593           0"
      ]
     },
     "execution_count": 78,
     "metadata": {},
     "output_type": "execute_result"
    }
   ],
   "source": [
    "from sklearn.metrics import confusion_matrix\n",
    "import matplotlib.pyplot as plt\n",
    "import seaborn as sns\n",
    "\n",
    "confmat=pd.DataFrame(confusion_matrix(y_test, y_pred_a_NN),\n",
    "                    index=['True[0]', 'True[1]'],\n",
    "                    columns=['Predict[0]', 'Predict[1]'])\n",
    "\n",
    "plt.rcParams['figure.figsize'] = (5, 5)\n",
    "sns.set(style = 'dark', font_scale = 1.4)\n",
    "ax = sns.heatmap(confmat, annot=True)\n",
    "plt.xlabel('Prediction')\n",
    "plt.ylabel('Real Data')\n",
    "plt.show()\n",
    "confmat"
   ]
  },
  {
   "cell_type": "code",
   "execution_count": 79,
   "id": "13377066-88e7-40f0-973e-eac6a6938b02",
   "metadata": {},
   "outputs": [
    {
     "name": "stdout",
     "output_type": "stream",
     "text": [
      "--------ADASYN + Neural Network--------\n",
      "정확도 accuracy: 0.872\n",
      "정밀도 precision: 0.000\n",
      "재현율 recall: 0.000\n",
      "F1-score: 0.000\n",
      "AUC: 0.500\n"
     ]
    },
    {
     "name": "stderr",
     "output_type": "stream",
     "text": [
      "C:\\Users\\gwak\\anaconda3\\envs\\kooc\\lib\\site-packages\\sklearn\\metrics\\_classification.py:1248: UndefinedMetricWarning: Precision is ill-defined and being set to 0.0 due to no predicted samples. Use `zero_division` parameter to control this behavior.\n",
      "  _warn_prf(average, modifier, msg_start, len(result))\n"
     ]
    }
   ],
   "source": [
    "from sklearn.metrics import roc_curve\n",
    "from sklearn.metrics import accuracy_score, precision_score, recall_score, f1_score, roc_auc_score\n",
    "\n",
    "print(\"--------ADASYN + Neural Network--------\")\n",
    "print('정확도 accuracy: %.3f' % accuracy_score(y_test, y_pred_a_NN))\n",
    "print('정밀도 precision: %.3f' % precision_score(y_true=y_test, y_pred=y_pred_a_NN))\n",
    "print('재현율 recall: %.3f' % recall_score(y_true=y_test, y_pred=y_pred_a_NN))\n",
    "print('F1-score: %.3f' % f1_score(y_true=y_test, y_pred=y_pred_a_NN))\n",
    "print('AUC: %.3f' % roc_auc_score(y_test, y_pred_a_NN))"
   ]
  },
  {
   "cell_type": "markdown",
   "id": "663e32a3-7991-405b-ae00-fbb9d8fde762",
   "metadata": {},
   "source": [
    "# 4. Borderline-SMOTE"
   ]
  },
  {
   "cell_type": "code",
   "execution_count": 84,
   "id": "761a0389-1483-4b6c-a981-177cbc2f4ef4",
   "metadata": {},
   "outputs": [],
   "source": [
    "X_train_b = pd.read_csv(\"X_oversample_borderline.csv\")\n",
    "y_train_b = pd.read_csv(\"y_oversample_borderline.csv\")"
   ]
  },
  {
   "cell_type": "code",
   "execution_count": 85,
   "id": "8c9e6d62-394f-445c-9995-094cf0939a98",
   "metadata": {},
   "outputs": [
    {
     "data": {
      "text/html": [
       "<div>\n",
       "<style scoped>\n",
       "    .dataframe tbody tr th:only-of-type {\n",
       "        vertical-align: middle;\n",
       "    }\n",
       "\n",
       "    .dataframe tbody tr th {\n",
       "        vertical-align: top;\n",
       "    }\n",
       "\n",
       "    .dataframe thead th {\n",
       "        text-align: right;\n",
       "    }\n",
       "</style>\n",
       "<table border=\"1\" class=\"dataframe\">\n",
       "  <thead>\n",
       "    <tr style=\"text-align: right;\">\n",
       "      <th></th>\n",
       "      <th>Unnamed: 0</th>\n",
       "      <th>0</th>\n",
       "      <th>1</th>\n",
       "      <th>2</th>\n",
       "      <th>3</th>\n",
       "      <th>4</th>\n",
       "    </tr>\n",
       "  </thead>\n",
       "  <tbody>\n",
       "    <tr>\n",
       "      <th>0</th>\n",
       "      <td>0</td>\n",
       "      <td>-1.283145</td>\n",
       "      <td>-1.579604</td>\n",
       "      <td>-1.180232</td>\n",
       "      <td>-0.914131</td>\n",
       "      <td>0.716356</td>\n",
       "    </tr>\n",
       "    <tr>\n",
       "      <th>1</th>\n",
       "      <td>1</td>\n",
       "      <td>0.895457</td>\n",
       "      <td>-0.583344</td>\n",
       "      <td>-0.014067</td>\n",
       "      <td>0.731036</td>\n",
       "      <td>0.716356</td>\n",
       "    </tr>\n",
       "    <tr>\n",
       "      <th>2</th>\n",
       "      <td>2</td>\n",
       "      <td>-0.349269</td>\n",
       "      <td>0.940348</td>\n",
       "      <td>-1.013637</td>\n",
       "      <td>-0.639936</td>\n",
       "      <td>-1.427981</td>\n",
       "    </tr>\n",
       "    <tr>\n",
       "      <th>3</th>\n",
       "      <td>3</td>\n",
       "      <td>0.437526</td>\n",
       "      <td>-0.524740</td>\n",
       "      <td>-1.346827</td>\n",
       "      <td>-1.188325</td>\n",
       "      <td>0.001577</td>\n",
       "    </tr>\n",
       "    <tr>\n",
       "      <th>4</th>\n",
       "      <td>4</td>\n",
       "      <td>0.268128</td>\n",
       "      <td>-0.173119</td>\n",
       "      <td>0.152528</td>\n",
       "      <td>-0.914131</td>\n",
       "      <td>1.431135</td>\n",
       "    </tr>\n",
       "    <tr>\n",
       "      <th>...</th>\n",
       "      <td>...</td>\n",
       "      <td>...</td>\n",
       "      <td>...</td>\n",
       "      <td>...</td>\n",
       "      <td>...</td>\n",
       "      <td>...</td>\n",
       "    </tr>\n",
       "    <tr>\n",
       "      <th>442003</th>\n",
       "      <td>442003</td>\n",
       "      <td>-0.295148</td>\n",
       "      <td>0.726162</td>\n",
       "      <td>-0.565437</td>\n",
       "      <td>-0.091547</td>\n",
       "      <td>0.716356</td>\n",
       "    </tr>\n",
       "    <tr>\n",
       "      <th>442004</th>\n",
       "      <td>442004</td>\n",
       "      <td>-0.646561</td>\n",
       "      <td>0.546732</td>\n",
       "      <td>-1.513422</td>\n",
       "      <td>-1.462520</td>\n",
       "      <td>-0.713202</td>\n",
       "    </tr>\n",
       "    <tr>\n",
       "      <th>442005</th>\n",
       "      <td>442005</td>\n",
       "      <td>-0.932097</td>\n",
       "      <td>-0.493935</td>\n",
       "      <td>-0.680447</td>\n",
       "      <td>-0.091547</td>\n",
       "      <td>1.431135</td>\n",
       "    </tr>\n",
       "    <tr>\n",
       "      <th>442006</th>\n",
       "      <td>442006</td>\n",
       "      <td>0.970591</td>\n",
       "      <td>-0.583344</td>\n",
       "      <td>-0.014067</td>\n",
       "      <td>0.731036</td>\n",
       "      <td>0.001577</td>\n",
       "    </tr>\n",
       "    <tr>\n",
       "      <th>442007</th>\n",
       "      <td>442007</td>\n",
       "      <td>0.223929</td>\n",
       "      <td>0.764537</td>\n",
       "      <td>1.485289</td>\n",
       "      <td>-0.505203</td>\n",
       "      <td>0.716356</td>\n",
       "    </tr>\n",
       "  </tbody>\n",
       "</table>\n",
       "<p>442008 rows × 6 columns</p>\n",
       "</div>"
      ],
      "text/plain": [
       "        Unnamed: 0         0         1         2         3         4\n",
       "0                0 -1.283145 -1.579604 -1.180232 -0.914131  0.716356\n",
       "1                1  0.895457 -0.583344 -0.014067  0.731036  0.716356\n",
       "2                2 -0.349269  0.940348 -1.013637 -0.639936 -1.427981\n",
       "3                3  0.437526 -0.524740 -1.346827 -1.188325  0.001577\n",
       "4                4  0.268128 -0.173119  0.152528 -0.914131  1.431135\n",
       "...            ...       ...       ...       ...       ...       ...\n",
       "442003      442003 -0.295148  0.726162 -0.565437 -0.091547  0.716356\n",
       "442004      442004 -0.646561  0.546732 -1.513422 -1.462520 -0.713202\n",
       "442005      442005 -0.932097 -0.493935 -0.680447 -0.091547  1.431135\n",
       "442006      442006  0.970591 -0.583344 -0.014067  0.731036  0.001577\n",
       "442007      442007  0.223929  0.764537  1.485289 -0.505203  0.716356\n",
       "\n",
       "[442008 rows x 6 columns]"
      ]
     },
     "execution_count": 85,
     "metadata": {},
     "output_type": "execute_result"
    }
   ],
   "source": [
    "X_train_b"
   ]
  },
  {
   "cell_type": "code",
   "execution_count": 86,
   "id": "da90b4c5-d6d5-4c52-ae68-044b4bdf15d7",
   "metadata": {},
   "outputs": [
    {
     "data": {
      "text/html": [
       "<div>\n",
       "<style scoped>\n",
       "    .dataframe tbody tr th:only-of-type {\n",
       "        vertical-align: middle;\n",
       "    }\n",
       "\n",
       "    .dataframe tbody tr th {\n",
       "        vertical-align: top;\n",
       "    }\n",
       "\n",
       "    .dataframe thead th {\n",
       "        text-align: right;\n",
       "    }\n",
       "</style>\n",
       "<table border=\"1\" class=\"dataframe\">\n",
       "  <thead>\n",
       "    <tr style=\"text-align: right;\">\n",
       "      <th></th>\n",
       "      <th>0</th>\n",
       "      <th>1</th>\n",
       "      <th>2</th>\n",
       "      <th>3</th>\n",
       "      <th>4</th>\n",
       "    </tr>\n",
       "  </thead>\n",
       "  <tbody>\n",
       "    <tr>\n",
       "      <th>0</th>\n",
       "      <td>-1.283145</td>\n",
       "      <td>-1.579604</td>\n",
       "      <td>-1.180232</td>\n",
       "      <td>-0.914131</td>\n",
       "      <td>0.716356</td>\n",
       "    </tr>\n",
       "    <tr>\n",
       "      <th>1</th>\n",
       "      <td>0.895457</td>\n",
       "      <td>-0.583344</td>\n",
       "      <td>-0.014067</td>\n",
       "      <td>0.731036</td>\n",
       "      <td>0.716356</td>\n",
       "    </tr>\n",
       "    <tr>\n",
       "      <th>2</th>\n",
       "      <td>-0.349269</td>\n",
       "      <td>0.940348</td>\n",
       "      <td>-1.013637</td>\n",
       "      <td>-0.639936</td>\n",
       "      <td>-1.427981</td>\n",
       "    </tr>\n",
       "    <tr>\n",
       "      <th>3</th>\n",
       "      <td>0.437526</td>\n",
       "      <td>-0.524740</td>\n",
       "      <td>-1.346827</td>\n",
       "      <td>-1.188325</td>\n",
       "      <td>0.001577</td>\n",
       "    </tr>\n",
       "    <tr>\n",
       "      <th>4</th>\n",
       "      <td>0.268128</td>\n",
       "      <td>-0.173119</td>\n",
       "      <td>0.152528</td>\n",
       "      <td>-0.914131</td>\n",
       "      <td>1.431135</td>\n",
       "    </tr>\n",
       "    <tr>\n",
       "      <th>...</th>\n",
       "      <td>...</td>\n",
       "      <td>...</td>\n",
       "      <td>...</td>\n",
       "      <td>...</td>\n",
       "      <td>...</td>\n",
       "    </tr>\n",
       "    <tr>\n",
       "      <th>442003</th>\n",
       "      <td>-0.295148</td>\n",
       "      <td>0.726162</td>\n",
       "      <td>-0.565437</td>\n",
       "      <td>-0.091547</td>\n",
       "      <td>0.716356</td>\n",
       "    </tr>\n",
       "    <tr>\n",
       "      <th>442004</th>\n",
       "      <td>-0.646561</td>\n",
       "      <td>0.546732</td>\n",
       "      <td>-1.513422</td>\n",
       "      <td>-1.462520</td>\n",
       "      <td>-0.713202</td>\n",
       "    </tr>\n",
       "    <tr>\n",
       "      <th>442005</th>\n",
       "      <td>-0.932097</td>\n",
       "      <td>-0.493935</td>\n",
       "      <td>-0.680447</td>\n",
       "      <td>-0.091547</td>\n",
       "      <td>1.431135</td>\n",
       "    </tr>\n",
       "    <tr>\n",
       "      <th>442006</th>\n",
       "      <td>0.970591</td>\n",
       "      <td>-0.583344</td>\n",
       "      <td>-0.014067</td>\n",
       "      <td>0.731036</td>\n",
       "      <td>0.001577</td>\n",
       "    </tr>\n",
       "    <tr>\n",
       "      <th>442007</th>\n",
       "      <td>0.223929</td>\n",
       "      <td>0.764537</td>\n",
       "      <td>1.485289</td>\n",
       "      <td>-0.505203</td>\n",
       "      <td>0.716356</td>\n",
       "    </tr>\n",
       "  </tbody>\n",
       "</table>\n",
       "<p>442008 rows × 5 columns</p>\n",
       "</div>"
      ],
      "text/plain": [
       "               0         1         2         3         4\n",
       "0      -1.283145 -1.579604 -1.180232 -0.914131  0.716356\n",
       "1       0.895457 -0.583344 -0.014067  0.731036  0.716356\n",
       "2      -0.349269  0.940348 -1.013637 -0.639936 -1.427981\n",
       "3       0.437526 -0.524740 -1.346827 -1.188325  0.001577\n",
       "4       0.268128 -0.173119  0.152528 -0.914131  1.431135\n",
       "...          ...       ...       ...       ...       ...\n",
       "442003 -0.295148  0.726162 -0.565437 -0.091547  0.716356\n",
       "442004 -0.646561  0.546732 -1.513422 -1.462520 -0.713202\n",
       "442005 -0.932097 -0.493935 -0.680447 -0.091547  1.431135\n",
       "442006  0.970591 -0.583344 -0.014067  0.731036  0.001577\n",
       "442007  0.223929  0.764537  1.485289 -0.505203  0.716356\n",
       "\n",
       "[442008 rows x 5 columns]"
      ]
     },
     "execution_count": 86,
     "metadata": {},
     "output_type": "execute_result"
    }
   ],
   "source": [
    "X_train_b.drop(['Unnamed: 0'], axis=1, inplace=True)\n",
    "X_train_b"
   ]
  },
  {
   "cell_type": "code",
   "execution_count": 87,
   "id": "c29f82cd-a68e-40ca-b835-8834d09a9580",
   "metadata": {},
   "outputs": [
    {
     "data": {
      "text/plain": [
       "0         0\n",
       "1         0\n",
       "2         0\n",
       "3         1\n",
       "4         1\n",
       "         ..\n",
       "442003    1\n",
       "442004    1\n",
       "442005    1\n",
       "442006    1\n",
       "442007    1\n",
       "Name: 0, Length: 442008, dtype: int64"
      ]
     },
     "execution_count": 87,
     "metadata": {},
     "output_type": "execute_result"
    }
   ],
   "source": [
    "y_train_b = y_train_b['0']\n",
    "y_train_b"
   ]
  },
  {
   "cell_type": "markdown",
   "id": "f542f3f7-a399-4081-a69f-366342583932",
   "metadata": {},
   "source": [
    "### 4-1. LDA"
   ]
  },
  {
   "cell_type": "code",
   "execution_count": 242,
   "id": "eba3d174-efd9-4442-8dde-701bb0e51af7",
   "metadata": {},
   "outputs": [
    {
     "name": "stdout",
     "output_type": "stream",
     "text": [
      "time : 0.7395205497741699\n"
     ]
    }
   ],
   "source": [
    "from sklearn.discriminant_analysis import LinearDiscriminantAnalysis\n",
    "import time\n",
    "\n",
    "start = time.time()\n",
    "\n",
    "clf_b_LDA = LinearDiscriminantAnalysis()\n",
    "clf_b_LDA.fit(X_train_b, y_train_b)\n",
    "\n",
    "print(\"time :\", time.time() - start) "
   ]
  },
  {
   "cell_type": "code",
   "execution_count": 243,
   "id": "0b40f310-d6f8-48e5-a039-e9508b26e0f2",
   "metadata": {},
   "outputs": [],
   "source": [
    "y_pred_b_LDA = clf_b_LDA.predict(X_test_sc)"
   ]
  },
  {
   "cell_type": "code",
   "execution_count": 300,
   "id": "810903bd-7dc9-46ec-8d2b-e7db17530f6c",
   "metadata": {},
   "outputs": [
    {
     "name": "stdout",
     "output_type": "stream",
     "text": [
      "Borderlind-SMOTE + LDA - train_score : 0.5290, test score : 0.5298\n"
     ]
    }
   ],
   "source": [
    "print(\"Borderlind-SMOTE + LDA - train_score : %.4f, test score : %.4f\" % (clf_b_LDA.score(X_train_b, y_train_b), clf_b_LDA.score(X_test_sc, y_test)))"
   ]
  },
  {
   "cell_type": "code",
   "execution_count": 245,
   "id": "a2133ab5-d973-4618-a88a-2d1d3e7a10ce",
   "metadata": {},
   "outputs": [
    {
     "data": {
      "image/png": "[encoded data removed]",
      "text/plain": [
       "<Figure size 360x360 with 2 Axes>"
      ]
     },
     "metadata": {},
     "output_type": "display_data"
    },
    {
     "data": {
      "text/html": [
       "<div>\n",
       "<style scoped>\n",
       "    .dataframe tbody tr th:only-of-type {\n",
       "        vertical-align: middle;\n",
       "    }\n",
       "\n",
       "    .dataframe tbody tr th {\n",
       "        vertical-align: top;\n",
       "    }\n",
       "\n",
       "    .dataframe thead th {\n",
       "        text-align: right;\n",
       "    }\n",
       "</style>\n",
       "<table border=\"1\" class=\"dataframe\">\n",
       "  <thead>\n",
       "    <tr style=\"text-align: right;\">\n",
       "      <th></th>\n",
       "      <th>Predict[0]</th>\n",
       "      <th>Predict[1]</th>\n",
       "    </tr>\n",
       "  </thead>\n",
       "  <tbody>\n",
       "    <tr>\n",
       "      <th>True[0]</th>\n",
       "      <td>13128</td>\n",
       "      <td>11279</td>\n",
       "    </tr>\n",
       "    <tr>\n",
       "      <th>True[1]</th>\n",
       "      <td>1888</td>\n",
       "      <td>1705</td>\n",
       "    </tr>\n",
       "  </tbody>\n",
       "</table>\n",
       "</div>"
      ],
      "text/plain": [
       "         Predict[0]  Predict[1]\n",
       "True[0]       13128       11279\n",
       "True[1]        1888        1705"
      ]
     },
     "execution_count": 245,
     "metadata": {},
     "output_type": "execute_result"
    }
   ],
   "source": [
    "from sklearn.metrics import confusion_matrix\n",
    "import matplotlib.pyplot as plt\n",
    "import seaborn as sns\n",
    "\n",
    "confmat=pd.DataFrame(confusion_matrix(y_test, y_pred_b_LDA),\n",
    "                    index=['True[0]', 'True[1]'],\n",
    "                    columns=['Predict[0]', 'Predict[1]'])\n",
    "\n",
    "plt.rcParams['figure.figsize'] = (5, 5)\n",
    "sns.set(style = 'dark', font_scale = 1.4)\n",
    "ax = sns.heatmap(confmat, annot=True)\n",
    "plt.xlabel('Prediction')\n",
    "plt.ylabel('Real Data')\n",
    "plt.show()\n",
    "confmat"
   ]
  },
  {
   "cell_type": "code",
   "execution_count": 247,
   "id": "78a8b516-d85f-4f0f-ac02-63f501a9c938",
   "metadata": {},
   "outputs": [
    {
     "name": "stdout",
     "output_type": "stream",
     "text": [
      "--------Borderlind-SMOTE + LDA--------\n",
      "정확도 accuracy: 0.530\n",
      "정밀도 precision: 0.131\n",
      "재현율 recall: 0.475\n",
      "F1-score: 0.206\n",
      "AUC: 0.506\n"
     ]
    }
   ],
   "source": [
    "from sklearn.metrics import roc_curve\n",
    "from sklearn.metrics import accuracy_score, precision_score, recall_score, f1_score, roc_auc_score\n",
    "\n",
    "print(\"--------Borderlind-SMOTE + LDA--------\")\n",
    "print('정확도 accuracy: %.3f' % accuracy_score(y_test, y_pred_b_LDA))\n",
    "print('정밀도 precision: %.3f' % precision_score(y_true=y_test, y_pred=y_pred_b_LDA))\n",
    "print('재현율 recall: %.3f' % recall_score(y_true=y_test, y_pred=y_pred_b_LDA))\n",
    "print('F1-score: %.3f' % f1_score(y_true=y_test, y_pred=y_pred_b_LDA))\n",
    "print('AUC: %.3f' % roc_auc_score(y_test, y_pred_b_LDA))"
   ]
  },
  {
   "cell_type": "markdown",
   "id": "e1bb2b0e-a517-40a0-a3a0-46bccaa12a67",
   "metadata": {},
   "source": [
    "### 4-2. QDA"
   ]
  },
  {
   "cell_type": "code",
   "execution_count": 263,
   "id": "6e9840b7-3705-495f-a9a4-e35623075537",
   "metadata": {},
   "outputs": [
    {
     "name": "stdout",
     "output_type": "stream",
     "text": [
      "time : 0.33609914779663086\n"
     ]
    }
   ],
   "source": [
    "from sklearn.discriminant_analysis import QuadraticDiscriminantAnalysis\n",
    "\n",
    "start = time.time()\n",
    "\n",
    "clf_b_QDA = QuadraticDiscriminantAnalysis()\n",
    "clf_b_QDA.fit(X_train_b, y_train_b)\n",
    "\n",
    "print(\"time :\", time.time() - start) "
   ]
  },
  {
   "cell_type": "code",
   "execution_count": 264,
   "id": "a440fa76-4a3d-40fe-9a36-d17635307c2a",
   "metadata": {},
   "outputs": [],
   "source": [
    "y_pred_b_QDA = clf_b_QDA.predict(X_test_sc)"
   ]
  },
  {
   "cell_type": "code",
   "execution_count": 301,
   "id": "78c694ef-796e-468b-b1fa-2875b6a0e8d4",
   "metadata": {},
   "outputs": [
    {
     "name": "stdout",
     "output_type": "stream",
     "text": [
      "Borderlind-SMOTE + QDA - train_score : 0.5283, test score : 0.5150\n"
     ]
    }
   ],
   "source": [
    "print(\"Borderlind-SMOTE + QDA - train_score : %.4f, test score : %.4f\" % (clf_b_QDA.score(X_train_b, y_train_b), clf_b_QDA.score(X_test_sc, y_test)))"
   ]
  },
  {
   "cell_type": "code",
   "execution_count": 267,
   "id": "3cc806d4-e57f-41a2-952b-2ce83f1f71c0",
   "metadata": {},
   "outputs": [
    {
     "data": {
      "image/png": "[encoded data removed]",
      "text/plain": [
       "<Figure size 360x360 with 2 Axes>"
      ]
     },
     "metadata": {},
     "output_type": "display_data"
    },
    {
     "data": {
      "text/html": [
       "<div>\n",
       "<style scoped>\n",
       "    .dataframe tbody tr th:only-of-type {\n",
       "        vertical-align: middle;\n",
       "    }\n",
       "\n",
       "    .dataframe tbody tr th {\n",
       "        vertical-align: top;\n",
       "    }\n",
       "\n",
       "    .dataframe thead th {\n",
       "        text-align: right;\n",
       "    }\n",
       "</style>\n",
       "<table border=\"1\" class=\"dataframe\">\n",
       "  <thead>\n",
       "    <tr style=\"text-align: right;\">\n",
       "      <th></th>\n",
       "      <th>Predict[0]</th>\n",
       "      <th>Predict[1]</th>\n",
       "    </tr>\n",
       "  </thead>\n",
       "  <tbody>\n",
       "    <tr>\n",
       "      <th>True[0]</th>\n",
       "      <td>12661</td>\n",
       "      <td>11746</td>\n",
       "    </tr>\n",
       "    <tr>\n",
       "      <th>True[1]</th>\n",
       "      <td>1834</td>\n",
       "      <td>1759</td>\n",
       "    </tr>\n",
       "  </tbody>\n",
       "</table>\n",
       "</div>"
      ],
      "text/plain": [
       "         Predict[0]  Predict[1]\n",
       "True[0]       12661       11746\n",
       "True[1]        1834        1759"
      ]
     },
     "execution_count": 267,
     "metadata": {},
     "output_type": "execute_result"
    }
   ],
   "source": [
    "from sklearn.metrics import confusion_matrix\n",
    "import matplotlib.pyplot as plt\n",
    "import seaborn as sns\n",
    "\n",
    "confmat=pd.DataFrame(confusion_matrix(y_test, y_pred_b_QDA),\n",
    "                    index=['True[0]', 'True[1]'],\n",
    "                    columns=['Predict[0]', 'Predict[1]'])\n",
    "\n",
    "plt.rcParams['figure.figsize'] = (5, 5)\n",
    "sns.set(style = 'dark', font_scale = 1.4)\n",
    "ax = sns.heatmap(confmat, annot=True)\n",
    "plt.xlabel('Prediction')\n",
    "plt.ylabel('Real Data')\n",
    "plt.show()\n",
    "confmat"
   ]
  },
  {
   "cell_type": "code",
   "execution_count": 268,
   "id": "89fad004-4962-4fdd-908f-97452e7a3040",
   "metadata": {},
   "outputs": [
    {
     "name": "stdout",
     "output_type": "stream",
     "text": [
      "--------Borderline-SMOTE + QDA--------\n",
      "정확도 accuracy: 0.515\n",
      "정밀도 precision: 0.130\n",
      "재현율 recall: 0.490\n",
      "F1-score: 0.206\n",
      "AUC: 0.504\n"
     ]
    }
   ],
   "source": [
    "from sklearn.metrics import roc_curve\n",
    "from sklearn.metrics import accuracy_score, precision_score, recall_score, f1_score, roc_auc_score\n",
    "\n",
    "print(\"--------Borderline-SMOTE + QDA--------\")\n",
    "print('정확도 accuracy: %.3f' % accuracy_score(y_test, y_pred_b_QDA))\n",
    "print('정밀도 precision: %.3f' % precision_score(y_true=y_test, y_pred=y_pred_b_QDA))\n",
    "print('재현율 recall: %.3f' % recall_score(y_true=y_test, y_pred=y_pred_b_QDA))\n",
    "print('F1-score: %.3f' % f1_score(y_true=y_test, y_pred=y_pred_b_QDA))\n",
    "print('AUC: %.3f' % roc_auc_score(y_test, y_pred_b_QDA))"
   ]
  },
  {
   "cell_type": "markdown",
   "id": "3ce6771d-84af-47f2-ae30-5aea479377bd",
   "metadata": {},
   "source": [
    "### 4-3. Logistic Regression"
   ]
  },
  {
   "cell_type": "code",
   "execution_count": 276,
   "id": "4b5a2a9d-40ed-477b-b6a9-8692e6df23b4",
   "metadata": {},
   "outputs": [
    {
     "name": "stdout",
     "output_type": "stream",
     "text": [
      "time : 0.6442739963531494\n"
     ]
    }
   ],
   "source": [
    "from sklearn.linear_model import LogisticRegression\n",
    "\n",
    "start = time.time()\n",
    "\n",
    "clf_b_lr = LogisticRegression()\n",
    "clf_b_lr.fit(X_train_b, y_train_b)\n",
    "\n",
    "print(\"time :\", time.time() - start) "
   ]
  },
  {
   "cell_type": "code",
   "execution_count": 95,
   "id": "cc4fed6d-3f24-4154-a69e-a0dd09dc8fe2",
   "metadata": {},
   "outputs": [],
   "source": [
    "y_pred_b_lr = clf_lr.predict(X_test_sc)"
   ]
  },
  {
   "cell_type": "code",
   "execution_count": 277,
   "id": "f678bce5-adc9-4f9c-9db2-c8e2fe56ff9d",
   "metadata": {},
   "outputs": [
    {
     "name": "stdout",
     "output_type": "stream",
     "text": [
      "0.5290469855749217\n"
     ]
    }
   ],
   "source": [
    "print(clf_b_lr.score(X_train_b, y_train_b))"
   ]
  },
  {
   "cell_type": "code",
   "execution_count": 281,
   "id": "3d7dc84a-e72d-4adc-b4a9-839ddf176421",
   "metadata": {},
   "outputs": [
    {
     "name": "stdout",
     "output_type": "stream",
     "text": [
      "Borderline-SMOTE + Logistic Regression - train_score : 0.5290, test score : 0.5297\n"
     ]
    }
   ],
   "source": [
    "print(\"Borderline-SMOTE + Logistic Regression - train_score : %.4f, test score : %.4f\" % (clf_b_lr.score(X_train_b, y_train_b), clf_b_lr.score(X_test_sc, y_test)))"
   ]
  },
  {
   "cell_type": "code",
   "execution_count": 279,
   "id": "2bf04b74-aa15-49db-a5dd-9d56ae831678",
   "metadata": {},
   "outputs": [
    {
     "data": {
      "image/png": "[encoded data removed]",
      "text/plain": [
       "<Figure size 360x360 with 2 Axes>"
      ]
     },
     "metadata": {},
     "output_type": "display_data"
    },
    {
     "data": {
      "text/html": [
       "<div>\n",
       "<style scoped>\n",
       "    .dataframe tbody tr th:only-of-type {\n",
       "        vertical-align: middle;\n",
       "    }\n",
       "\n",
       "    .dataframe tbody tr th {\n",
       "        vertical-align: top;\n",
       "    }\n",
       "\n",
       "    .dataframe thead th {\n",
       "        text-align: right;\n",
       "    }\n",
       "</style>\n",
       "<table border=\"1\" class=\"dataframe\">\n",
       "  <thead>\n",
       "    <tr style=\"text-align: right;\">\n",
       "      <th></th>\n",
       "      <th>Predict[0]</th>\n",
       "      <th>Predict[1]</th>\n",
       "    </tr>\n",
       "  </thead>\n",
       "  <tbody>\n",
       "    <tr>\n",
       "      <th>True[0]</th>\n",
       "      <td>24407</td>\n",
       "      <td>0</td>\n",
       "    </tr>\n",
       "    <tr>\n",
       "      <th>True[1]</th>\n",
       "      <td>3593</td>\n",
       "      <td>0</td>\n",
       "    </tr>\n",
       "  </tbody>\n",
       "</table>\n",
       "</div>"
      ],
      "text/plain": [
       "         Predict[0]  Predict[1]\n",
       "True[0]       24407           0\n",
       "True[1]        3593           0"
      ]
     },
     "execution_count": 279,
     "metadata": {},
     "output_type": "execute_result"
    }
   ],
   "source": [
    "from sklearn.metrics import confusion_matrix\n",
    "import matplotlib.pyplot as plt\n",
    "import seaborn as sns\n",
    "\n",
    "confmat=pd.DataFrame(confusion_matrix(y_test, y_pred_b_lr),\n",
    "                    index=['True[0]', 'True[1]'],\n",
    "                    columns=['Predict[0]', 'Predict[1]'])\n",
    "\n",
    "plt.rcParams['figure.figsize'] = (5, 5)\n",
    "sns.set(style = 'dark', font_scale = 1.4)\n",
    "ax = sns.heatmap(confmat, annot=True)\n",
    "plt.xlabel('Prediction')\n",
    "plt.ylabel('Real Data')\n",
    "plt.show()\n",
    "confmat"
   ]
  },
  {
   "cell_type": "code",
   "execution_count": 280,
   "id": "8078edf5-df28-44f6-87c9-5a6389688e6a",
   "metadata": {},
   "outputs": [
    {
     "name": "stdout",
     "output_type": "stream",
     "text": [
      "--------Borderline-SMOTE + Logistic Regression--------\n",
      "정확도 accuracy: 0.872\n",
      "정밀도 precision: 0.000\n",
      "재현율 recall: 0.000\n",
      "F1-score: 0.000\n",
      "AUC: 0.500\n"
     ]
    },
    {
     "name": "stderr",
     "output_type": "stream",
     "text": [
      "C:\\Users\\gwak\\anaconda3\\envs\\kooc\\lib\\site-packages\\sklearn\\metrics\\_classification.py:1248: UndefinedMetricWarning: Precision is ill-defined and being set to 0.0 due to no predicted samples. Use `zero_division` parameter to control this behavior.\n",
      "  _warn_prf(average, modifier, msg_start, len(result))\n"
     ]
    }
   ],
   "source": [
    "from sklearn.metrics import roc_curve\n",
    "from sklearn.metrics import accuracy_score, precision_score, recall_score, f1_score, roc_auc_score\n",
    "\n",
    "print(\"--------Borderline-SMOTE + Logistic Regression--------\")\n",
    "print('정확도 accuracy: %.3f' % accuracy_score(y_test, y_pred_b_lr))\n",
    "print('정밀도 precision: %.3f' % precision_score(y_true=y_test, y_pred=y_pred_b_lr))\n",
    "print('재현율 recall: %.3f' % recall_score(y_true=y_test, y_pred=y_pred_b_lr))\n",
    "print('F1-score: %.3f' % f1_score(y_true=y_test, y_pred=y_pred_b_lr))\n",
    "print('AUC: %.3f' % roc_auc_score(y_test, y_pred_b_lr))"
   ]
  },
  {
   "cell_type": "markdown",
   "id": "414e4769-5407-4883-a567-1d03c9f60fd4",
   "metadata": {},
   "source": [
    "### 4-4. Neural Network"
   ]
  },
  {
   "cell_type": "code",
   "execution_count": 59,
   "id": "71a806d6-5e83-4763-a805-f662c8a27b50",
   "metadata": {},
   "outputs": [
    {
     "name": "stdout",
     "output_type": "stream",
     "text": [
      "time : 621.0679948329926\n"
     ]
    }
   ],
   "source": [
    "from sklearn.neural_network import MLPClassifier\n",
    "\n",
    "start = time.time()\n",
    "\n",
    "clf_b_NN = MLPClassifier()\n",
    "clf_b_NN.fit(X_train_b, y_train_b)\n",
    "\n",
    "print(\"time :\", time.time() - start) "
   ]
  },
  {
   "cell_type": "code",
   "execution_count": 80,
   "id": "4ab1dfdf-1c4f-4262-87c1-526535033b00",
   "metadata": {},
   "outputs": [],
   "source": [
    "y_pred_b_NN = clf_b_NN.predict(X_test_sc)"
   ]
  },
  {
   "cell_type": "code",
   "execution_count": 89,
   "id": "305c904a-a4aa-47d7-8917-39a29ede1d79",
   "metadata": {
    "tags": []
   },
   "outputs": [
    {
     "name": "stdout",
     "output_type": "stream",
     "text": [
      "Borderling-SMOTE + Neural Network - train_score : 0.6791, test score : 0.1283\n"
     ]
    }
   ],
   "source": [
    "print(\"Borderling-SMOTE + Neural Network - train_score : %.4f, test score : %.4f\" % (clf_b_NN.score(X_train_b, y_train_b), clf_b_NN.score(X_test_sc, y_test)))"
   ]
  },
  {
   "cell_type": "code",
   "execution_count": 82,
   "id": "549c27e0-14c4-4180-8277-ff3868002e8a",
   "metadata": {},
   "outputs": [
    {
     "data": {
      "image/png": "[encoded data removed]",
      "text/plain": [
       "<Figure size 360x360 with 2 Axes>"
      ]
     },
     "metadata": {},
     "output_type": "display_data"
    },
    {
     "data": {
      "text/html": [
       "<div>\n",
       "<style scoped>\n",
       "    .dataframe tbody tr th:only-of-type {\n",
       "        vertical-align: middle;\n",
       "    }\n",
       "\n",
       "    .dataframe tbody tr th {\n",
       "        vertical-align: top;\n",
       "    }\n",
       "\n",
       "    .dataframe thead th {\n",
       "        text-align: right;\n",
       "    }\n",
       "</style>\n",
       "<table border=\"1\" class=\"dataframe\">\n",
       "  <thead>\n",
       "    <tr style=\"text-align: right;\">\n",
       "      <th></th>\n",
       "      <th>Predict[0]</th>\n",
       "      <th>Predict[1]</th>\n",
       "    </tr>\n",
       "  </thead>\n",
       "  <tbody>\n",
       "    <tr>\n",
       "      <th>True[0]</th>\n",
       "      <td>0</td>\n",
       "      <td>24407</td>\n",
       "    </tr>\n",
       "    <tr>\n",
       "      <th>True[1]</th>\n",
       "      <td>0</td>\n",
       "      <td>3593</td>\n",
       "    </tr>\n",
       "  </tbody>\n",
       "</table>\n",
       "</div>"
      ],
      "text/plain": [
       "         Predict[0]  Predict[1]\n",
       "True[0]           0       24407\n",
       "True[1]           0        3593"
      ]
     },
     "execution_count": 82,
     "metadata": {},
     "output_type": "execute_result"
    }
   ],
   "source": [
    "from sklearn.metrics import confusion_matrix\n",
    "import matplotlib.pyplot as plt\n",
    "import seaborn as sns\n",
    "\n",
    "confmat=pd.DataFrame(confusion_matrix(y_test, y_pred_b_NN),\n",
    "                    index=['True[0]', 'True[1]'],\n",
    "                    columns=['Predict[0]', 'Predict[1]'])\n",
    "\n",
    "plt.rcParams['figure.figsize'] = (5, 5)\n",
    "sns.set(style = 'dark', font_scale = 1.4)\n",
    "ax = sns.heatmap(confmat, annot=True)\n",
    "plt.xlabel('Prediction')\n",
    "plt.ylabel('Real Data')\n",
    "plt.show()\n",
    "confmat"
   ]
  },
  {
   "cell_type": "code",
   "execution_count": 83,
   "id": "223d2587-69fd-44a2-8fb1-004c36bfd796",
   "metadata": {},
   "outputs": [
    {
     "name": "stdout",
     "output_type": "stream",
     "text": [
      "--------ADASYN + Neural Network--------\n",
      "정확도 accuracy: 0.128\n",
      "정밀도 precision: 0.128\n",
      "재현율 recall: 1.000\n",
      "F1-score: 0.227\n",
      "AUC: 0.500\n"
     ]
    }
   ],
   "source": [
    "from sklearn.metrics import roc_curve\n",
    "from sklearn.metrics import accuracy_score, precision_score, recall_score, f1_score, roc_auc_score\n",
    "\n",
    "print(\"--------Borderline-SMOTE + Neural Network--------\")\n",
    "print('정확도 accuracy: %.3f' % accuracy_score(y_test, y_pred_b_NN))\n",
    "print('정밀도 precision: %.3f' % precision_score(y_true=y_test, y_pred=y_pred_b_NN))\n",
    "print('재현율 recall: %.3f' % recall_score(y_true=y_test, y_pred=y_pred_b_NN))\n",
    "print('F1-score: %.3f' % f1_score(y_true=y_test, y_pred=y_pred_b_NN))\n",
    "print('AUC: %.3f' % roc_auc_score(y_test, y_pred_b_NN))"
   ]
  },
  {
   "cell_type": "markdown",
   "id": "c93ae162-fd7d-446d-9ea1-821b5cb534ee",
   "metadata": {},
   "source": [
    "## 5. Distribution-SMOTE"
   ]
  },
  {
   "cell_type": "code",
   "execution_count": 185,
   "id": "23302b01-17e0-41a7-830b-85ea0dd33643",
   "metadata": {},
   "outputs": [],
   "source": [
    "X_train_d = pd.read_csv(\"X_over_var.csv\")\n",
    "y_train_d = pd.read_csv(\"y_over_var.csv\")"
   ]
  },
  {
   "cell_type": "code",
   "execution_count": 186,
   "id": "6348bbde-692f-4ce3-9583-28fdb24dc8e0",
   "metadata": {},
   "outputs": [
    {
     "data": {
      "text/html": [
       "<div>\n",
       "<style scoped>\n",
       "    .dataframe tbody tr th:only-of-type {\n",
       "        vertical-align: middle;\n",
       "    }\n",
       "\n",
       "    .dataframe tbody tr th {\n",
       "        vertical-align: top;\n",
       "    }\n",
       "\n",
       "    .dataframe thead th {\n",
       "        text-align: right;\n",
       "    }\n",
       "</style>\n",
       "<table border=\"1\" class=\"dataframe\">\n",
       "  <thead>\n",
       "    <tr style=\"text-align: right;\">\n",
       "      <th></th>\n",
       "      <th>Unnamed: 0</th>\n",
       "      <th>0</th>\n",
       "      <th>1</th>\n",
       "      <th>2</th>\n",
       "      <th>3</th>\n",
       "      <th>4</th>\n",
       "    </tr>\n",
       "  </thead>\n",
       "  <tbody>\n",
       "    <tr>\n",
       "      <th>0</th>\n",
       "      <td>0</td>\n",
       "      <td>-1.283145</td>\n",
       "      <td>-1.579604</td>\n",
       "      <td>-1.180232</td>\n",
       "      <td>-0.914131</td>\n",
       "      <td>0.716356</td>\n",
       "    </tr>\n",
       "    <tr>\n",
       "      <th>1</th>\n",
       "      <td>1</td>\n",
       "      <td>0.895457</td>\n",
       "      <td>-0.583344</td>\n",
       "      <td>-0.014067</td>\n",
       "      <td>0.731036</td>\n",
       "      <td>0.716356</td>\n",
       "    </tr>\n",
       "    <tr>\n",
       "      <th>2</th>\n",
       "      <td>2</td>\n",
       "      <td>-0.349269</td>\n",
       "      <td>0.940348</td>\n",
       "      <td>-1.013637</td>\n",
       "      <td>-0.639936</td>\n",
       "      <td>-1.427981</td>\n",
       "    </tr>\n",
       "    <tr>\n",
       "      <th>3</th>\n",
       "      <td>3</td>\n",
       "      <td>0.437526</td>\n",
       "      <td>-0.524740</td>\n",
       "      <td>-1.346827</td>\n",
       "      <td>-1.188325</td>\n",
       "      <td>0.001577</td>\n",
       "    </tr>\n",
       "    <tr>\n",
       "      <th>4</th>\n",
       "      <td>4</td>\n",
       "      <td>0.268128</td>\n",
       "      <td>-0.173119</td>\n",
       "      <td>0.152528</td>\n",
       "      <td>-0.914131</td>\n",
       "      <td>1.431135</td>\n",
       "    </tr>\n",
       "    <tr>\n",
       "      <th>...</th>\n",
       "      <td>...</td>\n",
       "      <td>...</td>\n",
       "      <td>...</td>\n",
       "      <td>...</td>\n",
       "      <td>...</td>\n",
       "      <td>...</td>\n",
       "    </tr>\n",
       "    <tr>\n",
       "      <th>442003</th>\n",
       "      <td>442003</td>\n",
       "      <td>0.492554</td>\n",
       "      <td>-0.583344</td>\n",
       "      <td>-1.180232</td>\n",
       "      <td>-0.914131</td>\n",
       "      <td>1.431135</td>\n",
       "    </tr>\n",
       "    <tr>\n",
       "      <th>442004</th>\n",
       "      <td>442004</td>\n",
       "      <td>0.844739</td>\n",
       "      <td>0.530123</td>\n",
       "      <td>-1.513422</td>\n",
       "      <td>-1.462520</td>\n",
       "      <td>0.001577</td>\n",
       "    </tr>\n",
       "    <tr>\n",
       "      <th>442005</th>\n",
       "      <td>442005</td>\n",
       "      <td>-1.344268</td>\n",
       "      <td>1.409176</td>\n",
       "      <td>0.818909</td>\n",
       "      <td>-0.914131</td>\n",
       "      <td>0.001577</td>\n",
       "    </tr>\n",
       "    <tr>\n",
       "      <th>442006</th>\n",
       "      <td>442006</td>\n",
       "      <td>-1.732423</td>\n",
       "      <td>-1.579604</td>\n",
       "      <td>-1.513422</td>\n",
       "      <td>-1.462520</td>\n",
       "      <td>1.431135</td>\n",
       "    </tr>\n",
       "    <tr>\n",
       "      <th>442007</th>\n",
       "      <td>442007</td>\n",
       "      <td>0.224076</td>\n",
       "      <td>0.178502</td>\n",
       "      <td>-0.347257</td>\n",
       "      <td>0.456842</td>\n",
       "      <td>1.431135</td>\n",
       "    </tr>\n",
       "  </tbody>\n",
       "</table>\n",
       "<p>442008 rows × 6 columns</p>\n",
       "</div>"
      ],
      "text/plain": [
       "        Unnamed: 0         0         1         2         3         4\n",
       "0                0 -1.283145 -1.579604 -1.180232 -0.914131  0.716356\n",
       "1                1  0.895457 -0.583344 -0.014067  0.731036  0.716356\n",
       "2                2 -0.349269  0.940348 -1.013637 -0.639936 -1.427981\n",
       "3                3  0.437526 -0.524740 -1.346827 -1.188325  0.001577\n",
       "4                4  0.268128 -0.173119  0.152528 -0.914131  1.431135\n",
       "...            ...       ...       ...       ...       ...       ...\n",
       "442003      442003  0.492554 -0.583344 -1.180232 -0.914131  1.431135\n",
       "442004      442004  0.844739  0.530123 -1.513422 -1.462520  0.001577\n",
       "442005      442005 -1.344268  1.409176  0.818909 -0.914131  0.001577\n",
       "442006      442006 -1.732423 -1.579604 -1.513422 -1.462520  1.431135\n",
       "442007      442007  0.224076  0.178502 -0.347257  0.456842  1.431135\n",
       "\n",
       "[442008 rows x 6 columns]"
      ]
     },
     "execution_count": 186,
     "metadata": {},
     "output_type": "execute_result"
    }
   ],
   "source": [
    "X_train_d"
   ]
  },
  {
   "cell_type": "code",
   "execution_count": 187,
   "id": "1175807e-f4ef-4ded-9ce5-08a7d027c9c6",
   "metadata": {},
   "outputs": [
    {
     "data": {
      "text/html": [
       "<div>\n",
       "<style scoped>\n",
       "    .dataframe tbody tr th:only-of-type {\n",
       "        vertical-align: middle;\n",
       "    }\n",
       "\n",
       "    .dataframe tbody tr th {\n",
       "        vertical-align: top;\n",
       "    }\n",
       "\n",
       "    .dataframe thead th {\n",
       "        text-align: right;\n",
       "    }\n",
       "</style>\n",
       "<table border=\"1\" class=\"dataframe\">\n",
       "  <thead>\n",
       "    <tr style=\"text-align: right;\">\n",
       "      <th></th>\n",
       "      <th>0</th>\n",
       "      <th>1</th>\n",
       "      <th>2</th>\n",
       "      <th>3</th>\n",
       "      <th>4</th>\n",
       "    </tr>\n",
       "  </thead>\n",
       "  <tbody>\n",
       "    <tr>\n",
       "      <th>0</th>\n",
       "      <td>-1.283145</td>\n",
       "      <td>-1.579604</td>\n",
       "      <td>-1.180232</td>\n",
       "      <td>-0.914131</td>\n",
       "      <td>0.716356</td>\n",
       "    </tr>\n",
       "    <tr>\n",
       "      <th>1</th>\n",
       "      <td>0.895457</td>\n",
       "      <td>-0.583344</td>\n",
       "      <td>-0.014067</td>\n",
       "      <td>0.731036</td>\n",
       "      <td>0.716356</td>\n",
       "    </tr>\n",
       "    <tr>\n",
       "      <th>2</th>\n",
       "      <td>-0.349269</td>\n",
       "      <td>0.940348</td>\n",
       "      <td>-1.013637</td>\n",
       "      <td>-0.639936</td>\n",
       "      <td>-1.427981</td>\n",
       "    </tr>\n",
       "    <tr>\n",
       "      <th>3</th>\n",
       "      <td>0.437526</td>\n",
       "      <td>-0.524740</td>\n",
       "      <td>-1.346827</td>\n",
       "      <td>-1.188325</td>\n",
       "      <td>0.001577</td>\n",
       "    </tr>\n",
       "    <tr>\n",
       "      <th>4</th>\n",
       "      <td>0.268128</td>\n",
       "      <td>-0.173119</td>\n",
       "      <td>0.152528</td>\n",
       "      <td>-0.914131</td>\n",
       "      <td>1.431135</td>\n",
       "    </tr>\n",
       "    <tr>\n",
       "      <th>...</th>\n",
       "      <td>...</td>\n",
       "      <td>...</td>\n",
       "      <td>...</td>\n",
       "      <td>...</td>\n",
       "      <td>...</td>\n",
       "    </tr>\n",
       "    <tr>\n",
       "      <th>442003</th>\n",
       "      <td>0.492554</td>\n",
       "      <td>-0.583344</td>\n",
       "      <td>-1.180232</td>\n",
       "      <td>-0.914131</td>\n",
       "      <td>1.431135</td>\n",
       "    </tr>\n",
       "    <tr>\n",
       "      <th>442004</th>\n",
       "      <td>0.844739</td>\n",
       "      <td>0.530123</td>\n",
       "      <td>-1.513422</td>\n",
       "      <td>-1.462520</td>\n",
       "      <td>0.001577</td>\n",
       "    </tr>\n",
       "    <tr>\n",
       "      <th>442005</th>\n",
       "      <td>-1.344268</td>\n",
       "      <td>1.409176</td>\n",
       "      <td>0.818909</td>\n",
       "      <td>-0.914131</td>\n",
       "      <td>0.001577</td>\n",
       "    </tr>\n",
       "    <tr>\n",
       "      <th>442006</th>\n",
       "      <td>-1.732423</td>\n",
       "      <td>-1.579604</td>\n",
       "      <td>-1.513422</td>\n",
       "      <td>-1.462520</td>\n",
       "      <td>1.431135</td>\n",
       "    </tr>\n",
       "    <tr>\n",
       "      <th>442007</th>\n",
       "      <td>0.224076</td>\n",
       "      <td>0.178502</td>\n",
       "      <td>-0.347257</td>\n",
       "      <td>0.456842</td>\n",
       "      <td>1.431135</td>\n",
       "    </tr>\n",
       "  </tbody>\n",
       "</table>\n",
       "<p>442008 rows × 5 columns</p>\n",
       "</div>"
      ],
      "text/plain": [
       "               0         1         2         3         4\n",
       "0      -1.283145 -1.579604 -1.180232 -0.914131  0.716356\n",
       "1       0.895457 -0.583344 -0.014067  0.731036  0.716356\n",
       "2      -0.349269  0.940348 -1.013637 -0.639936 -1.427981\n",
       "3       0.437526 -0.524740 -1.346827 -1.188325  0.001577\n",
       "4       0.268128 -0.173119  0.152528 -0.914131  1.431135\n",
       "...          ...       ...       ...       ...       ...\n",
       "442003  0.492554 -0.583344 -1.180232 -0.914131  1.431135\n",
       "442004  0.844739  0.530123 -1.513422 -1.462520  0.001577\n",
       "442005 -1.344268  1.409176  0.818909 -0.914131  0.001577\n",
       "442006 -1.732423 -1.579604 -1.513422 -1.462520  1.431135\n",
       "442007  0.224076  0.178502 -0.347257  0.456842  1.431135\n",
       "\n",
       "[442008 rows x 5 columns]"
      ]
     },
     "execution_count": 187,
     "metadata": {},
     "output_type": "execute_result"
    }
   ],
   "source": [
    "X_train_d.drop(['Unnamed: 0'], axis=1, inplace=True)\n",
    "X_train_d"
   ]
  },
  {
   "cell_type": "code",
   "execution_count": 188,
   "id": "9850bb5a-fe31-4e59-a9f2-414f47dc9e90",
   "metadata": {},
   "outputs": [
    {
     "data": {
      "text/plain": [
       "0         0\n",
       "1         0\n",
       "2         0\n",
       "3         1\n",
       "4         1\n",
       "         ..\n",
       "442003    1\n",
       "442004    1\n",
       "442005    1\n",
       "442006    1\n",
       "442007    1\n",
       "Name: 0, Length: 442008, dtype: int64"
      ]
     },
     "execution_count": 188,
     "metadata": {},
     "output_type": "execute_result"
    }
   ],
   "source": [
    "y_train_d = y_train_d['0']\n",
    "y_train_d"
   ]
  },
  {
   "cell_type": "markdown",
   "id": "6bb43e2b-dd93-4fb0-a952-90f78fc9bbef",
   "metadata": {},
   "source": [
    "### 5-1. LDA"
   ]
  },
  {
   "cell_type": "code",
   "execution_count": 192,
   "id": "df422041-32e0-47bc-a264-65e2c3a5f04f",
   "metadata": {},
   "outputs": [
    {
     "name": "stdout",
     "output_type": "stream",
     "text": [
      "time : 0.7489955425262451\n"
     ]
    }
   ],
   "source": [
    "from sklearn.discriminant_analysis import LinearDiscriminantAnalysis\n",
    "import time\n",
    "\n",
    "start = time.time()\n",
    "\n",
    "clf_d_LDA = LinearDiscriminantAnalysis()\n",
    "clf_d_LDA.fit(X_train_d, y_train_d)\n",
    "\n",
    "print(\"time :\", time.time() - start) "
   ]
  },
  {
   "cell_type": "code",
   "execution_count": 193,
   "id": "7e7d90ae-5d5e-4763-be82-c4ec606ec0c8",
   "metadata": {},
   "outputs": [],
   "source": [
    "y_pred_d_LDA = clf_d_LDA.predict(X_test_sc)"
   ]
  },
  {
   "cell_type": "code",
   "execution_count": 302,
   "id": "1679afe3-cfdc-41b6-96ab-b03225842de7",
   "metadata": {},
   "outputs": [
    {
     "name": "stdout",
     "output_type": "stream",
     "text": [
      "Distribution-SMOTE + LDA - train_score : 0.5225, test score : 0.4930\n"
     ]
    }
   ],
   "source": [
    "print(\"Distribution-SMOTE + LDA - train_score : %.4f, test score : %.4f\" % (clf_d_LDA.score(X_train_d, y_train_d), clf_d_LDA.score(X_test_sc, y_test)))"
   ]
  },
  {
   "cell_type": "code",
   "execution_count": 249,
   "id": "965b2ae1-8881-42e7-bd08-aa5012a84b42",
   "metadata": {},
   "outputs": [
    {
     "data": {
      "image/png": "[encoded data removed]",
      "text/plain": [
       "<Figure size 360x360 with 2 Axes>"
      ]
     },
     "metadata": {},
     "output_type": "display_data"
    },
    {
     "data": {
      "text/html": [
       "<div>\n",
       "<style scoped>\n",
       "    .dataframe tbody tr th:only-of-type {\n",
       "        vertical-align: middle;\n",
       "    }\n",
       "\n",
       "    .dataframe tbody tr th {\n",
       "        vertical-align: top;\n",
       "    }\n",
       "\n",
       "    .dataframe thead th {\n",
       "        text-align: right;\n",
       "    }\n",
       "</style>\n",
       "<table border=\"1\" class=\"dataframe\">\n",
       "  <thead>\n",
       "    <tr style=\"text-align: right;\">\n",
       "      <th></th>\n",
       "      <th>Predict[0]</th>\n",
       "      <th>Predict[1]</th>\n",
       "    </tr>\n",
       "  </thead>\n",
       "  <tbody>\n",
       "    <tr>\n",
       "      <th>True[0]</th>\n",
       "      <td>24407</td>\n",
       "      <td>0</td>\n",
       "    </tr>\n",
       "    <tr>\n",
       "      <th>True[1]</th>\n",
       "      <td>3593</td>\n",
       "      <td>0</td>\n",
       "    </tr>\n",
       "  </tbody>\n",
       "</table>\n",
       "</div>"
      ],
      "text/plain": [
       "         Predict[0]  Predict[1]\n",
       "True[0]       24407           0\n",
       "True[1]        3593           0"
      ]
     },
     "execution_count": 249,
     "metadata": {},
     "output_type": "execute_result"
    }
   ],
   "source": [
    "from sklearn.metrics import confusion_matrix\n",
    "import matplotlib.pyplot as plt\n",
    "import seaborn as sns\n",
    "\n",
    "confmat=pd.DataFrame(confusion_matrix(y_test, y_pred_d_LDA),\n",
    "                    index=['True[0]', 'True[1]'],\n",
    "                    columns=['Predict[0]', 'Predict[1]'])\n",
    "\n",
    "plt.rcParams['figure.figsize'] = (5, 5)\n",
    "sns.set(style = 'dark', font_scale = 1.4)\n",
    "ax = sns.heatmap(confmat, annot=True)\n",
    "plt.xlabel('Prediction')\n",
    "plt.ylabel('Real Data')\n",
    "plt.show()\n",
    "confmat"
   ]
  },
  {
   "cell_type": "code",
   "execution_count": 250,
   "id": "346e635a-b358-48ee-97b8-08aec8faad92",
   "metadata": {},
   "outputs": [
    {
     "name": "stdout",
     "output_type": "stream",
     "text": [
      "--------Distribution-SMOTE + LDA--------\n",
      "정확도 accuracy: 0.872\n",
      "정밀도 precision: 0.000\n",
      "재현율 recall: 0.000\n",
      "F1-score: 0.000\n",
      "AUC: 0.500\n"
     ]
    },
    {
     "name": "stderr",
     "output_type": "stream",
     "text": [
      "C:\\Users\\gwak\\anaconda3\\envs\\kooc\\lib\\site-packages\\sklearn\\metrics\\_classification.py:1248: UndefinedMetricWarning: Precision is ill-defined and being set to 0.0 due to no predicted samples. Use `zero_division` parameter to control this behavior.\n",
      "  _warn_prf(average, modifier, msg_start, len(result))\n"
     ]
    }
   ],
   "source": [
    "from sklearn.metrics import roc_curve\n",
    "from sklearn.metrics import accuracy_score, precision_score, recall_score, f1_score, roc_auc_score\n",
    "\n",
    "print(\"--------Distribution-SMOTE + LDA--------\")\n",
    "print('정확도 accuracy: %.3f' % accuracy_score(y_test, y_pred_d_LDA))\n",
    "print('정밀도 precision: %.3f' % precision_score(y_true=y_test, y_pred=y_pred_d_LDA))\n",
    "print('재현율 recall: %.3f' % recall_score(y_true=y_test, y_pred=y_pred_d_LDA))\n",
    "print('F1-score: %.3f' % f1_score(y_true=y_test, y_pred=y_pred_d_LDA))\n",
    "print('AUC: %.3f' % roc_auc_score(y_test, y_pred_d_LDA))"
   ]
  },
  {
   "cell_type": "markdown",
   "id": "ba6948c0-03ae-45ea-b10e-d7475b1b4533",
   "metadata": {},
   "source": [
    "### 5-2. QDA"
   ]
  },
  {
   "cell_type": "code",
   "execution_count": 270,
   "id": "d75a716a-955b-4d3a-8014-597cbc163b0b",
   "metadata": {},
   "outputs": [
    {
     "name": "stdout",
     "output_type": "stream",
     "text": [
      "time : 0.22041010856628418\n"
     ]
    }
   ],
   "source": [
    "from sklearn.discriminant_analysis import QuadraticDiscriminantAnalysis\n",
    "\n",
    "start = time.time()\n",
    "\n",
    "clf_d_QDA = QuadraticDiscriminantAnalysis()\n",
    "clf_d_QDA.fit(X_train_d, y_train_d)\n",
    "\n",
    "print(\"time :\", time.time() - start) "
   ]
  },
  {
   "cell_type": "code",
   "execution_count": 271,
   "id": "f02031b1-6634-41a5-a050-1cda29df11ad",
   "metadata": {},
   "outputs": [],
   "source": [
    "y_pred_d_QDA = clf_d_QDA.predict(X_test_sc)"
   ]
  },
  {
   "cell_type": "code",
   "execution_count": 272,
   "id": "037c6b0d-b9ca-4db0-b302-3eb65ea11fa7",
   "metadata": {},
   "outputs": [
    {
     "name": "stdout",
     "output_type": "stream",
     "text": [
      "0.5312188919657562\n"
     ]
    }
   ],
   "source": [
    "print(clf_d_QDA.score(X_train_d, y_train_d))"
   ]
  },
  {
   "cell_type": "code",
   "execution_count": 303,
   "id": "a3ea655b-48cb-4efb-96f1-e1dba275dbc4",
   "metadata": {},
   "outputs": [
    {
     "name": "stdout",
     "output_type": "stream",
     "text": [
      "Distribution-SMOTE + QDA - train_score : 0.5312, test score : 0.4279\n"
     ]
    }
   ],
   "source": [
    "print(\"Distribution-SMOTE + QDA - train_score : %.4f, test score : %.4f\" % (clf_d_QDA.score(X_train_d, y_train_d), clf_d_QDA.score(X_test_sc, y_test)))"
   ]
  },
  {
   "cell_type": "code",
   "execution_count": 274,
   "id": "b17de8ed-6acd-4e9a-b862-914e0082dacc",
   "metadata": {},
   "outputs": [
    {
     "data": {
      "image/png": "[encoded data removed]",
      "text/plain": [
       "<Figure size 360x360 with 2 Axes>"
      ]
     },
     "metadata": {},
     "output_type": "display_data"
    },
    {
     "data": {
      "text/html": [
       "<div>\n",
       "<style scoped>\n",
       "    .dataframe tbody tr th:only-of-type {\n",
       "        vertical-align: middle;\n",
       "    }\n",
       "\n",
       "    .dataframe tbody tr th {\n",
       "        vertical-align: top;\n",
       "    }\n",
       "\n",
       "    .dataframe thead th {\n",
       "        text-align: right;\n",
       "    }\n",
       "</style>\n",
       "<table border=\"1\" class=\"dataframe\">\n",
       "  <thead>\n",
       "    <tr style=\"text-align: right;\">\n",
       "      <th></th>\n",
       "      <th>Predict[0]</th>\n",
       "      <th>Predict[1]</th>\n",
       "    </tr>\n",
       "  </thead>\n",
       "  <tbody>\n",
       "    <tr>\n",
       "      <th>True[0]</th>\n",
       "      <td>9869</td>\n",
       "      <td>14538</td>\n",
       "    </tr>\n",
       "    <tr>\n",
       "      <th>True[1]</th>\n",
       "      <td>1482</td>\n",
       "      <td>2111</td>\n",
       "    </tr>\n",
       "  </tbody>\n",
       "</table>\n",
       "</div>"
      ],
      "text/plain": [
       "         Predict[0]  Predict[1]\n",
       "True[0]        9869       14538\n",
       "True[1]        1482        2111"
      ]
     },
     "execution_count": 274,
     "metadata": {},
     "output_type": "execute_result"
    }
   ],
   "source": [
    "from sklearn.metrics import confusion_matrix\n",
    "import matplotlib.pyplot as plt\n",
    "import seaborn as sns\n",
    "\n",
    "confmat=pd.DataFrame(confusion_matrix(y_test, y_pred_d_QDA),\n",
    "                    index=['True[0]', 'True[1]'],\n",
    "                    columns=['Predict[0]', 'Predict[1]'])\n",
    "\n",
    "plt.rcParams['figure.figsize'] = (5, 5)\n",
    "sns.set(style = 'dark', font_scale = 1.4)\n",
    "ax = sns.heatmap(confmat, annot=True)\n",
    "plt.xlabel('Prediction')\n",
    "plt.ylabel('Real Data')\n",
    "plt.show()\n",
    "confmat"
   ]
  },
  {
   "cell_type": "code",
   "execution_count": 275,
   "id": "3fbeb073-0320-419b-82a2-36b53e20ddd3",
   "metadata": {},
   "outputs": [
    {
     "name": "stdout",
     "output_type": "stream",
     "text": [
      "--------Distribution-SMOTE + QDA--------\n",
      "정확도 accuracy: 0.428\n",
      "정밀도 precision: 0.127\n",
      "재현율 recall: 0.588\n",
      "F1-score: 0.209\n",
      "AUC: 0.496\n"
     ]
    }
   ],
   "source": [
    "from sklearn.metrics import roc_curve\n",
    "from sklearn.metrics import accuracy_score, precision_score, recall_score, f1_score, roc_auc_score\n",
    "\n",
    "print(\"--------Distribution-SMOTE + QDA--------\")\n",
    "print('정확도 accuracy: %.3f' % accuracy_score(y_test, y_pred_d_QDA))\n",
    "print('정밀도 precision: %.3f' % precision_score(y_true=y_test, y_pred=y_pred_d_QDA))\n",
    "print('재현율 recall: %.3f' % recall_score(y_true=y_test, y_pred=y_pred_d_QDA))\n",
    "print('F1-score: %.3f' % f1_score(y_true=y_test, y_pred=y_pred_d_QDA))\n",
    "print('AUC: %.3f' % roc_auc_score(y_test, y_pred_d_QDA))"
   ]
  },
  {
   "cell_type": "markdown",
   "id": "76e9d657-2f55-44d9-8196-78667301d7b2",
   "metadata": {},
   "source": [
    "### 5-3. Logistic Regression"
   ]
  },
  {
   "cell_type": "code",
   "execution_count": 286,
   "id": "5f1e5771-d6fe-4e3e-898b-5436f36c20f3",
   "metadata": {},
   "outputs": [
    {
     "name": "stdout",
     "output_type": "stream",
     "text": [
      "time : 0.5006871223449707\n"
     ]
    }
   ],
   "source": [
    "from sklearn.linear_model import LogisticRegression\n",
    "\n",
    "start = time.time()\n",
    "\n",
    "clf_d_lr = LogisticRegression()\n",
    "clf_d_lr.fit(X_train_d, y_train_d)\n",
    "\n",
    "print(\"time :\", time.time() - start) "
   ]
  },
  {
   "cell_type": "code",
   "execution_count": 287,
   "id": "91171b7d-5f24-4f4d-8f82-06532c1b5729",
   "metadata": {},
   "outputs": [],
   "source": [
    "y_pred_d_lr = clf_d_lr.predict(X_test_sc)"
   ]
  },
  {
   "cell_type": "code",
   "execution_count": 304,
   "id": "1f04c8c6-bda7-4cbd-a5b4-e424f682334d",
   "metadata": {},
   "outputs": [
    {
     "name": "stdout",
     "output_type": "stream",
     "text": [
      "Distribution-SMOTE + Logistic Regression - train_score : 0.5227, test score : 0.4934\n"
     ]
    }
   ],
   "source": [
    "print(\"Distribution-SMOTE + Logistic Regression - train_score : %.4f, test score : %.4f\" % (clf_d_lr.score(X_train_d, y_train_d), clf_d_lr.score(X_test_sc, y_test)))"
   ]
  },
  {
   "cell_type": "code",
   "execution_count": 289,
   "id": "9f819fa2-fa2a-4840-ba5c-c036c3c56983",
   "metadata": {},
   "outputs": [
    {
     "data": {
      "image/png": "[encoded data removed]",
      "text/plain": [
       "<Figure size 360x360 with 2 Axes>"
      ]
     },
     "metadata": {},
     "output_type": "display_data"
    },
    {
     "data": {
      "text/html": [
       "<div>\n",
       "<style scoped>\n",
       "    .dataframe tbody tr th:only-of-type {\n",
       "        vertical-align: middle;\n",
       "    }\n",
       "\n",
       "    .dataframe tbody tr th {\n",
       "        vertical-align: top;\n",
       "    }\n",
       "\n",
       "    .dataframe thead th {\n",
       "        text-align: right;\n",
       "    }\n",
       "</style>\n",
       "<table border=\"1\" class=\"dataframe\">\n",
       "  <thead>\n",
       "    <tr style=\"text-align: right;\">\n",
       "      <th></th>\n",
       "      <th>Predict[0]</th>\n",
       "      <th>Predict[1]</th>\n",
       "    </tr>\n",
       "  </thead>\n",
       "  <tbody>\n",
       "    <tr>\n",
       "      <th>True[0]</th>\n",
       "      <td>12019</td>\n",
       "      <td>12388</td>\n",
       "    </tr>\n",
       "    <tr>\n",
       "      <th>True[1]</th>\n",
       "      <td>1797</td>\n",
       "      <td>1796</td>\n",
       "    </tr>\n",
       "  </tbody>\n",
       "</table>\n",
       "</div>"
      ],
      "text/plain": [
       "         Predict[0]  Predict[1]\n",
       "True[0]       12019       12388\n",
       "True[1]        1797        1796"
      ]
     },
     "execution_count": 289,
     "metadata": {},
     "output_type": "execute_result"
    }
   ],
   "source": [
    "from sklearn.metrics import confusion_matrix\n",
    "import matplotlib.pyplot as plt\n",
    "import seaborn as sns\n",
    "\n",
    "confmat=pd.DataFrame(confusion_matrix(y_test, y_pred_d_lr),\n",
    "                    index=['True[0]', 'True[1]'],\n",
    "                    columns=['Predict[0]', 'Predict[1]'])\n",
    "\n",
    "plt.rcParams['figure.figsize'] = (5, 5)\n",
    "sns.set(style = 'dark', font_scale = 1.4)\n",
    "ax = sns.heatmap(confmat, annot=True)\n",
    "plt.xlabel('Prediction')\n",
    "plt.ylabel('Real Data')\n",
    "plt.show()\n",
    "confmat"
   ]
  },
  {
   "cell_type": "code",
   "execution_count": 290,
   "id": "fa0928d4-e5ab-4503-b732-afebd3b8d1fc",
   "metadata": {},
   "outputs": [
    {
     "name": "stdout",
     "output_type": "stream",
     "text": [
      "--------Distribution-SMOTE + Logistic Regression--------\n",
      "정확도 accuracy: 0.493\n",
      "정밀도 precision: 0.127\n",
      "재현율 recall: 0.500\n",
      "F1-score: 0.202\n",
      "AUC: 0.496\n"
     ]
    }
   ],
   "source": [
    "from sklearn.metrics import roc_curve\n",
    "from sklearn.metrics import accuracy_score, precision_score, recall_score, f1_score, roc_auc_score\n",
    "\n",
    "print(\"--------Distribution-SMOTE + Logistic Regression--------\")\n",
    "print('정확도 accuracy: %.3f' % accuracy_score(y_test, y_pred_d_lr))\n",
    "print('정밀도 precision: %.3f' % precision_score(y_true=y_test, y_pred=y_pred_d_lr))\n",
    "print('재현율 recall: %.3f' % recall_score(y_true=y_test, y_pred=y_pred_d_lr))\n",
    "print('F1-score: %.3f' % f1_score(y_true=y_test, y_pred=y_pred_d_lr))\n",
    "print('AUC: %.3f' % roc_auc_score(y_test, y_pred_d_lr))"
   ]
  },
  {
   "cell_type": "markdown",
   "id": "8bf27f6c-5e21-47d5-a79b-f5eb77135da9",
   "metadata": {},
   "source": [
    "### 5-4. Neural Network"
   ]
  },
  {
   "cell_type": "code",
   "execution_count": 64,
   "id": "87db9c77-34f8-4813-80ce-32d3847942ca",
   "metadata": {},
   "outputs": [
    {
     "name": "stdout",
     "output_type": "stream",
     "text": [
      "time : 393.6328055858612\n"
     ]
    }
   ],
   "source": [
    "from sklearn.neural_network import MLPClassifier\n",
    "\n",
    "start = time.time()\n",
    "\n",
    "clf_d_NN = MLPClassifier()\n",
    "clf_d_NN.fit(X_train_d, y_train_d)\n",
    "\n",
    "print(\"time :\", time.time() - start) "
   ]
  },
  {
   "cell_type": "code",
   "execution_count": 85,
   "id": "63b421f5-e750-4f74-81ba-430d36ada301",
   "metadata": {},
   "outputs": [],
   "source": [
    "y_pred_d_NN = clf_d_NN.predict(X_test_sc)"
   ]
  },
  {
   "cell_type": "code",
   "execution_count": 88,
   "id": "4e70bd03-a4f4-4a30-a759-7a71b21740fe",
   "metadata": {},
   "outputs": [
    {
     "name": "stdout",
     "output_type": "stream",
     "text": [
      "Distribution-SMOTE + Neural Network - train_score : 0.6375, test score : 0.1283\n"
     ]
    }
   ],
   "source": [
    "print(\"Distribution-SMOTE + Neural Network - train_score : %.4f, test score : %.4f\" % (clf_d_NN.score(X_train_d, y_train_d), clf_d_NN.score(X_test_sc, y_test)))"
   ]
  },
  {
   "cell_type": "code",
   "execution_count": 86,
   "id": "37624c8c-119b-4af6-ac71-007ab9626ad9",
   "metadata": {},
   "outputs": [
    {
     "data": {
      "image/png": "[encoded data removed]",
      "text/plain": [
       "<Figure size 360x360 with 2 Axes>"
      ]
     },
     "metadata": {},
     "output_type": "display_data"
    },
    {
     "data": {
      "text/html": [
       "<div>\n",
       "<style scoped>\n",
       "    .dataframe tbody tr th:only-of-type {\n",
       "        vertical-align: middle;\n",
       "    }\n",
       "\n",
       "    .dataframe tbody tr th {\n",
       "        vertical-align: top;\n",
       "    }\n",
       "\n",
       "    .dataframe thead th {\n",
       "        text-align: right;\n",
       "    }\n",
       "</style>\n",
       "<table border=\"1\" class=\"dataframe\">\n",
       "  <thead>\n",
       "    <tr style=\"text-align: right;\">\n",
       "      <th></th>\n",
       "      <th>Predict[0]</th>\n",
       "      <th>Predict[1]</th>\n",
       "    </tr>\n",
       "  </thead>\n",
       "  <tbody>\n",
       "    <tr>\n",
       "      <th>True[0]</th>\n",
       "      <td>0</td>\n",
       "      <td>24407</td>\n",
       "    </tr>\n",
       "    <tr>\n",
       "      <th>True[1]</th>\n",
       "      <td>0</td>\n",
       "      <td>3593</td>\n",
       "    </tr>\n",
       "  </tbody>\n",
       "</table>\n",
       "</div>"
      ],
      "text/plain": [
       "         Predict[0]  Predict[1]\n",
       "True[0]           0       24407\n",
       "True[1]           0        3593"
      ]
     },
     "execution_count": 86,
     "metadata": {},
     "output_type": "execute_result"
    }
   ],
   "source": [
    "from sklearn.metrics import confusion_matrix\n",
    "import matplotlib.pyplot as plt\n",
    "import seaborn as sns\n",
    "\n",
    "confmat=pd.DataFrame(confusion_matrix(y_test, y_pred_d_NN),\n",
    "                    index=['True[0]', 'True[1]'],\n",
    "                    columns=['Predict[0]', 'Predict[1]'])\n",
    "\n",
    "plt.rcParams['figure.figsize'] = (5, 5)\n",
    "sns.set(style = 'dark', font_scale = 1.4)\n",
    "ax = sns.heatmap(confmat, annot=True)\n",
    "plt.xlabel('Prediction')\n",
    "plt.ylabel('Real Data')\n",
    "plt.show()\n",
    "confmat"
   ]
  },
  {
   "cell_type": "code",
   "execution_count": 87,
   "id": "d9d9946e-765a-429f-8190-ba158447475f",
   "metadata": {},
   "outputs": [
    {
     "name": "stdout",
     "output_type": "stream",
     "text": [
      "--------ADASYN + Neural Network--------\n",
      "정확도 accuracy: 0.128\n",
      "정밀도 precision: 0.128\n",
      "재현율 recall: 1.000\n",
      "F1-score: 0.227\n",
      "AUC: 0.500\n"
     ]
    }
   ],
   "source": [
    "from sklearn.metrics import roc_curve\n",
    "from sklearn.metrics import accuracy_score, precision_score, recall_score, f1_score, roc_auc_score\n",
    "\n",
    "print(\"--------ADASYN + Neural Network--------\")\n",
    "print('정확도 accuracy: %.3f' % accuracy_score(y_test, y_pred_d_NN))\n",
    "print('정밀도 precision: %.3f' % precision_score(y_true=y_test, y_pred=y_pred_d_NN))\n",
    "print('재현율 recall: %.3f' % recall_score(y_true=y_test, y_pred=y_pred_d_NN))\n",
    "print('F1-score: %.3f' % f1_score(y_true=y_test, y_pred=y_pred_d_NN))\n",
    "print('AUC: %.3f' % roc_auc_score(y_test, y_pred_d_NN))"
   ]
  }
 ],
 "metadata": {
  "kernelspec": {
   "display_name": "Python 3",
   "language": "python",
   "name": "python3"
  },
  "language_info": {
   "codemirror_mode": {
    "name": "ipython",
    "version": 3
   },
   "file_extension": ".py",
   "mimetype": "text/x-python",
   "name": "python",
   "nbconvert_exporter": "python",
   "pygments_lexer": "ipython3",
   "version": "3.7.10"
  }
 },
 "nbformat": 4,
 "nbformat_minor": 5
}
